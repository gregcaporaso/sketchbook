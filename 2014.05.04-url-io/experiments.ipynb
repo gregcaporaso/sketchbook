{
 "metadata": {
  "name": "",
  "signature": "sha256:d0fead44b967df2e76fbfc113b22cbebb2b18ad72d67802bf025774f0ee1123e"
 },
 "nbformat": 3,
 "nbformat_minor": 0,
 "worksheets": [
  {
   "cells": [
    {
     "cell_type": "code",
     "collapsed": false,
     "input": [
      "from skbio import read, SequenceCollection, local_pairwise_align_ssw\n"
     ],
     "language": "python",
     "metadata": {},
     "outputs": [],
     "prompt_number": 23
    },
    {
     "cell_type": "code",
     "collapsed": false,
     "input": [
      "seqs = read(\"https://dl.dropboxusercontent.com/u/2868868/61_otus.fasta\", into=SequenceCollection)"
     ],
     "language": "python",
     "metadata": {},
     "outputs": [
      {
       "output_type": "stream",
       "stream": "stderr",
       "text": [
        "/Users/caporaso/.virtualenvs/skbio/lib/python2.7/site-packages/requests/packages/urllib3/util/ssl_.py:90: InsecurePlatformWarning: A true SSLContext object is not available. This prevents urllib3 from configuring SSL appropriately and may cause certain SSL connections to fail. For more information, see https://urllib3.readthedocs.org/en/latest/security.html#insecureplatformwarning.\n",
        "  InsecurePlatformWarning\n",
        "/Users/caporaso/.virtualenvs/skbio/lib/python2.7/site-packages/requests/packages/urllib3/util/ssl_.py:90: InsecurePlatformWarning: A true SSLContext object is not available. This prevents urllib3 from configuring SSL appropriately and may cause certain SSL connections to fail. For more information, see https://urllib3.readthedocs.org/en/latest/security.html#insecureplatformwarning.\n",
        "  InsecurePlatformWarning\n"
       ]
      },
      {
       "output_type": "stream",
       "stream": "stderr",
       "text": [
        "/Users/caporaso/.virtualenvs/skbio/lib/python2.7/site-packages/requests/packages/urllib3/util/ssl_.py:90: InsecurePlatformWarning: A true SSLContext object is not available. This prevents urllib3 from configuring SSL appropriately and may cause certain SSL connections to fail. For more information, see https://urllib3.readthedocs.org/en/latest/security.html#insecureplatformwarning.\n",
        "  InsecurePlatformWarning\n",
        "/Users/caporaso/.virtualenvs/skbio/lib/python2.7/site-packages/requests/packages/urllib3/util/ssl_.py:90: InsecurePlatformWarning: A true SSLContext object is not available. This prevents urllib3 from configuring SSL appropriately and may cause certain SSL connections to fail. For more information, see https://urllib3.readthedocs.org/en/latest/security.html#insecureplatformwarning.\n",
        "  InsecurePlatformWarning\n"
       ]
      },
      {
       "output_type": "stream",
       "stream": "stderr",
       "text": [
        "/Users/caporaso/.virtualenvs/skbio/lib/python2.7/site-packages/requests/packages/urllib3/util/ssl_.py:90: InsecurePlatformWarning: A true SSLContext object is not available. This prevents urllib3 from configuring SSL appropriately and may cause certain SSL connections to fail. For more information, see https://urllib3.readthedocs.org/en/latest/security.html#insecureplatformwarning.\n",
        "  InsecurePlatformWarning\n"
       ]
      }
     ],
     "prompt_number": 18
    },
    {
     "cell_type": "code",
     "collapsed": false,
     "input": [
      "def aligned_distance(seq1, seq2):\n",
      "    a = local_pairwise_align_ssw(seq1, seq2)\n",
      "    return a[0].distance(a[1])"
     ],
     "language": "python",
     "metadata": {},
     "outputs": [],
     "prompt_number": 29
    },
    {
     "cell_type": "code",
     "collapsed": false,
     "input": [
      "seqs_distances = seqs.distances(aligned_distance)"
     ],
     "language": "python",
     "metadata": {},
     "outputs": [
      {
       "ename": "BiologicalSequenceError",
       "evalue": "Sequences do not have equal length. Distance can only be computed between BiologicalSequences of equal length.",
       "output_type": "pyerr",
       "traceback": [
        "\u001b[0;31m---------------------------------------------------------------------------\u001b[0m\n\u001b[0;31mBiologicalSequenceError\u001b[0m                   Traceback (most recent call last)",
        "\u001b[0;32m<ipython-input-32-e794c3fde44c>\u001b[0m in \u001b[0;36m<module>\u001b[0;34m()\u001b[0m\n\u001b[0;32m----> 1\u001b[0;31m \u001b[0mseqs_distances\u001b[0m \u001b[0;34m=\u001b[0m \u001b[0mseqs\u001b[0m\u001b[0;34m.\u001b[0m\u001b[0mdistances\u001b[0m\u001b[0;34m(\u001b[0m\u001b[0maligned_distance\u001b[0m\u001b[0;34m)\u001b[0m\u001b[0;34m\u001b[0m\u001b[0m\n\u001b[0m",
        "\u001b[0;32m/Users/caporaso/Dropbox/code/scikit-bio/skbio/alignment/_alignment.pyc\u001b[0m in \u001b[0;36mdistances\u001b[0;34m(self, distance_fn)\u001b[0m\n\u001b[1;32m    335\u001b[0m             \u001b[0mids\u001b[0m\u001b[0;34m.\u001b[0m\u001b[0mappend\u001b[0m\u001b[0;34m(\u001b[0m\u001b[0mself_i\u001b[0m\u001b[0;34m.\u001b[0m\u001b[0mid\u001b[0m\u001b[0;34m)\u001b[0m\u001b[0;34m\u001b[0m\u001b[0m\n\u001b[1;32m    336\u001b[0m             \u001b[0;32mfor\u001b[0m \u001b[0mj\u001b[0m \u001b[0;32min\u001b[0m \u001b[0mrange\u001b[0m\u001b[0;34m(\u001b[0m\u001b[0mi\u001b[0m\u001b[0;34m)\u001b[0m\u001b[0;34m:\u001b[0m\u001b[0;34m\u001b[0m\u001b[0m\n\u001b[0;32m--> 337\u001b[0;31m                 \u001b[0mdm\u001b[0m\u001b[0;34m[\u001b[0m\u001b[0mi\u001b[0m\u001b[0;34m,\u001b[0m \u001b[0mj\u001b[0m\u001b[0;34m]\u001b[0m \u001b[0;34m=\u001b[0m \u001b[0mdm\u001b[0m\u001b[0;34m[\u001b[0m\u001b[0mj\u001b[0m\u001b[0;34m,\u001b[0m \u001b[0mi\u001b[0m\u001b[0;34m]\u001b[0m \u001b[0;34m=\u001b[0m \u001b[0mself_i\u001b[0m\u001b[0;34m.\u001b[0m\u001b[0mdistance\u001b[0m\u001b[0;34m(\u001b[0m\u001b[0mself\u001b[0m\u001b[0;34m[\u001b[0m\u001b[0mj\u001b[0m\u001b[0;34m]\u001b[0m\u001b[0;34m,\u001b[0m \u001b[0mdistance_fn\u001b[0m\u001b[0;34m)\u001b[0m\u001b[0;34m\u001b[0m\u001b[0m\n\u001b[0m\u001b[1;32m    338\u001b[0m         \u001b[0;32mreturn\u001b[0m \u001b[0mDistanceMatrix\u001b[0m\u001b[0;34m(\u001b[0m\u001b[0mdm\u001b[0m\u001b[0;34m,\u001b[0m \u001b[0mids\u001b[0m\u001b[0;34m)\u001b[0m\u001b[0;34m\u001b[0m\u001b[0m\n\u001b[1;32m    339\u001b[0m \u001b[0;34m\u001b[0m\u001b[0m\n",
        "\u001b[0;32m/Users/caporaso/Dropbox/code/scikit-bio/skbio/sequence/_sequence.pyc\u001b[0m in \u001b[0;36mdistance\u001b[0;34m(self, other, distance_fn)\u001b[0m\n\u001b[1;32m    888\u001b[0m         \u001b[0;32mif\u001b[0m \u001b[0mlen\u001b[0m\u001b[0;34m(\u001b[0m\u001b[0mself\u001b[0m\u001b[0;34m)\u001b[0m \u001b[0;34m!=\u001b[0m \u001b[0mlen\u001b[0m\u001b[0;34m(\u001b[0m\u001b[0mother\u001b[0m\u001b[0;34m)\u001b[0m\u001b[0;34m:\u001b[0m\u001b[0;34m\u001b[0m\u001b[0m\n\u001b[1;32m    889\u001b[0m             raise BiologicalSequenceError(\n\u001b[0;32m--> 890\u001b[0;31m                 \u001b[0;34m\"Sequences do not have equal length. \"\u001b[0m\u001b[0;34m\u001b[0m\u001b[0m\n\u001b[0m\u001b[1;32m    891\u001b[0m                 \u001b[0;34m\"Distance can only be computed between \"\u001b[0m\u001b[0;34m\u001b[0m\u001b[0m\n\u001b[1;32m    892\u001b[0m                 \"BiologicalSequences of equal length.\")\n",
        "\u001b[0;31mBiologicalSequenceError\u001b[0m: Sequences do not have equal length. Distance can only be computed between BiologicalSequences of equal length."
       ]
      }
     ],
     "prompt_number": 32
    },
    {
     "cell_type": "code",
     "collapsed": false,
     "input": [
      "for i in range(seqs.sequence_count()):\n",
      "    for j in range(i):\n",
      "        print i, j, aligned_distance(seqs[i], seqs[j])"
     ],
     "language": "python",
     "metadata": {},
     "outputs": [
      {
       "output_type": "stream",
       "stream": "stdout",
       "text": [
        "1 0 0.634299138606\n",
        "2 0 0.578715365239\n",
        "2 1 0.571875\n",
        "3 0 0.593582887701\n",
        "3 1 0.604963112005\n",
        "3 2 "
       ]
      },
      {
       "output_type": "stream",
       "stream": "stdout",
       "text": [
        "0.634089132134\n",
        "4 0 0.473903966597\n",
        "4 1 0.487316421896\n",
        "4 2 0.453781512605\n",
        "4 3 0.563598759049\n",
        "5 0 0.667346938776\n",
        "5 1 0.507853403141\n",
        "5 2 0.351321585903\n",
        "5 3 0.528\n",
        "5 4 0.58904109589\n",
        "6 0 "
       ]
      },
      {
       "output_type": "stream",
       "stream": "stdout",
       "text": [
        "0.410714285714\n",
        "6 1 0.448732083793\n",
        "6 2 0.377212389381\n",
        "6 3 0.501831501832\n",
        "6 4 0.354632587859\n",
        "6 5 0.353556485356\n",
        "7 0 0.550847457627\n",
        "7 1 0.532403609516\n",
        "7 2 0.540558510638\n",
        "7 3 0.647754137116\n",
        "7 4 0.457330415755\n",
        "7 5 0.484460694698\n",
        "7 6 0.308287292818\n",
        "8 0 "
       ]
      },
      {
       "output_type": "stream",
       "stream": "stdout",
       "text": [
        "0.446991404011\n",
        "8 1 0.529538131042\n",
        "8 2 0.393852065322\n",
        "8 3 0.515560165975\n",
        "8 4 0.381679389313\n",
        "8 5 0.233128834356\n",
        "8 6 0.353870458136\n",
        "8 7 0.414161008729\n",
        "9 0 0.620253164557\n",
        "9 1 0.61244813278\n",
        "9 2 0.55737704918\n",
        "9 3 "
       ]
      },
      {
       "output_type": "stream",
       "stream": "stdout",
       "text": [
        "0.63112164297\n",
        "9 4 0.539705882353\n",
        "9 5 0.519713261649\n",
        "9 6 0.472160356347\n",
        "9 7 0.545530492899\n",
        "9 8 0.530655391121\n",
        "10 0 0.630357142857\n",
        "10 1 0.373949579832\n",
        "10 2 0.680547293278\n",
        "10 3 0.261538461538\n",
        "10 4 0.223140495868\n",
        "10 5 "
       ]
      },
      {
       "output_type": "stream",
       "stream": "stdout",
       "text": [
        "0.605769230769\n",
        "10 6 0.163701067616\n",
        "10 7 0.619551681196\n",
        "10 8 0.572802197802\n",
        "10 9 0.264957264957\n",
        "11 0 0.642172523962\n",
        "11 1 0.181818181818\n",
        "11 2 0.578360655738\n",
        "11 3 0.507067137809\n",
        "11 4 0.291139240506\n",
        "11 5 0.416370106762\n",
        "11 6 0.449346405229\n",
        "11 7 "
       ]
      },
      {
       "output_type": "stream",
       "stream": "stdout",
       "text": [
        "0.65496286293\n",
        "11 8 0.563184079602\n",
        "11 9 0.472375690608\n",
        "11 10 0.283333333333\n",
        "12 0 0.66507557677\n",
        "12 1 0.406593406593\n",
        "12 2 0.5825446898\n",
        "12 3 0.470782800441\n",
        "12 4 0.208633093525\n",
        "12 5 0.318777292576\n",
        "12 6 "
       ]
      },
      {
       "output_type": "stream",
       "stream": "stdout",
       "text": [
        "0.515864892528\n",
        "12 7 0.570937231298\n",
        "12 8 0.206572769953\n",
        "12 9 0.35652173913\n",
        "12 10 0.525876460768\n",
        "12 11 0.477855477855\n",
        "13 0 0.534134007585\n",
        "13 1 0.520231213873\n",
        "13 2 0.664131812421\n",
        "13 3 0.409168081494\n",
        "13 4 "
       ]
      },
      {
       "output_type": "stream",
       "stream": "stdout",
       "text": [
        "0.469539375929\n",
        "13 5 0.354758961681\n",
        "13 6 0.559957173448\n",
        "13 7 0.5665374677\n",
        "13 8 0.37\n",
        "13 9 0.635390946502\n",
        "13 10 0.590692124105\n",
        "13 11 0.419237749546\n",
        "13 12 0.561093247588\n",
        "14 0 0.434343434343\n",
        "14 1 0.402555910543\n",
        "14 2 0.516539440204\n",
        "14 3 0.301587301587\n",
        "14 4 "
       ]
      },
      {
       "output_type": "stream",
       "stream": "stdout",
       "text": [
        "0.482456140351\n",
        "14 5 0.475625823452\n",
        "14 6 0.328185328185\n",
        "14 7 0.593406593407\n",
        "14 8 0.508474576271\n",
        "14 9 0.348360655738\n",
        "14 10 0.316062176166\n",
        "14 11 0.515463917526\n",
        "14 12 0.240310077519\n",
        "14 13 0.475073313783\n",
        "15 0 0.50259965338\n",
        "15 1 0.338308457711\n",
        "15 2 0.479048697622\n",
        "15 3 0.503703703704\n",
        "15 4 0.443243243243\n",
        "15 5 0.489100817439\n",
        "15 6 0.394321766562\n",
        "15 7 0.462435233161\n",
        "15 8 0.474537037037\n",
        "15 9 0.354838709677\n",
        "15 10 0.427536231884\n",
        "15 11 0.528971962617\n",
        "15 12 0.228070175439\n",
        "15 13 0.494453248811\n",
        "15 14 0.450754214729\n",
        "16 0 "
       ]
      },
      {
       "output_type": "stream",
       "stream": "stdout",
       "text": [
        "0.471218206158\n",
        "16 1 0.223529411765\n",
        "16 2 0.544268406337\n",
        "16 3 0.265060240964\n",
        "16 4 0.509052183174\n",
        "16 5 0.471172962227\n",
        "16 6 0.308695652174\n",
        "16 7 0.60147601476\n",
        "16 8 0.505649717514\n",
        "16 9 0.269662921348\n",
        "16 10 0.34693877551\n",
        "16 11 0.449050086356\n",
        "16 12 0.2\n",
        "16 13 0.448625180897\n",
        "16 14 0.375771604938\n",
        "16 15 0.39417989418\n",
        "17 0 0.550354609929\n",
        "17 1 0.394190871369\n",
        "17 2 0.549751243781\n",
        "17 3 0.189655172414\n",
        "17 4 0.293269230769\n",
        "17 5 0.509544787078\n",
        "17 6 0.478827361564\n",
        "17 7 0.378205128205\n",
        "17 8 0.578488372093\n",
        "17 9 "
       ]
      },
      {
       "output_type": "stream",
       "stream": "stdout",
       "text": [
        "0.388571428571\n",
        "17 10 0.338541666667\n",
        "17 11 0.252336448598\n",
        "17 12 0.221153846154\n",
        "17 13 0.302083333333\n",
        "17 14 0.515756302521\n",
        "17 15 0.558490566038\n",
        "17 16 0.471191791634\n",
        "18 0 0.527972027972\n",
        "18 1 0.325301204819\n",
        "18 2 0.392\n",
        "18 3 0.410358565737\n",
        "18 4 0.376425855513\n",
        "18 5 0.422764227642\n",
        "18 6 0.326923076923\n",
        "18 7 0.677655677656\n",
        "18 8 0.383064516129\n",
        "18 9 0.309278350515\n",
        "18 10 0.442748091603\n",
        "18 11 0.454183266932\n",
        "18 12 0.411290322581\n",
        "18 13 0.349090909091\n",
        "18 14 0.646201074444\n",
        "18 15 "
       ]
      },
      {
       "output_type": "stream",
       "stream": "stdout",
       "text": [
        "0.592095977417\n",
        "18 16 0.608507570296\n",
        "18 17 0.467532467532\n",
        "19 0 0.567635903919\n",
        "19 1 0.231481481481\n",
        "19 2 0.57200538358\n",
        "19 3 0.282258064516\n",
        "19 4 0.625937834941\n",
        "19 5 0.55684754522\n",
        "19 6 0.297520661157\n",
        "19 7 0.373702422145\n",
        "19 8 0.600493218249\n",
        "19 9 0.340425531915\n",
        "19 10 0.412162162162\n",
        "19 11 0.233333333333\n",
        "19 12 0.313636363636\n",
        "19 13 0.55792276964\n",
        "19 14 0.480690221857\n",
        "19 15 0.510897994769\n",
        "19 16 "
       ]
      },
      {
       "output_type": "stream",
       "stream": "stdout",
       "text": [
        "0.470454545455\n",
        "19 17 0.568410462777\n",
        "19 18 0.598024316109\n",
        "20 0 0.416955017301\n",
        "20 1 0.273504273504\n",
        "20 2 0.372294372294\n",
        "20 3 0.269230769231\n",
        "20 4 0.491349480969\n",
        "20 5 0.439236111111\n",
        "20 6 0.325396825397\n",
        "20 7 0.382749326146\n",
        "20 8 0.44578313253\n",
        "20 9 0.280373831776\n",
        "20 10 0.368421052632\n",
        "20 11 0.478873239437\n",
        "20 12 0.351485148515\n",
        "20 13 0.426804123711\n",
        "20 14 0.518376722818\n",
        "20 15 0.588591184097\n",
        "20 16 "
       ]
      },
      {
       "output_type": "stream",
       "stream": "stdout",
       "text": [
        "0.423380726698\n",
        "20 17 0.5712219812\n",
        "20 18 0.390625\n",
        "20 19 0.585197934596\n",
        "21 0 0.452\n",
        "21 1 0.238636363636\n",
        "21 2 0.50099009901\n",
        "21 3 0.364754098361\n",
        "21 4 0.550387596899\n",
        "21 5 0.472316384181\n",
        "21 6 0.293375394322\n",
        "21 7 0.575719649562\n",
        "21 8 0.452488687783\n",
        "21 9 0.39762611276\n",
        "21 10 0.303317535545\n",
        "21 11 0.477663230241\n",
        "21 12 0.330578512397\n",
        "21 13 0.554334554335\n",
        "21 14 0.34219269103\n",
        "21 15 "
       ]
      },
      {
       "output_type": "stream",
       "stream": "stdout",
       "text": [
        "0.389975550122\n",
        "21 16 0.437365783822\n",
        "21 17 0.469933184855\n",
        "21 18 0.597376387487\n",
        "21 19 0.438735177866\n",
        "21 20 0.567660550459\n"
       ]
      }
     ],
     "prompt_number": 30
    },
    {
     "cell_type": "code",
     "collapsed": false,
     "input": [
      " seqs.distances?"
     ],
     "language": "python",
     "metadata": {},
     "outputs": [],
     "prompt_number": 33
    },
    {
     "cell_type": "code",
     "collapsed": false,
     "input": [],
     "language": "python",
     "metadata": {},
     "outputs": []
    }
   ],
   "metadata": {}
  }
 ]
}