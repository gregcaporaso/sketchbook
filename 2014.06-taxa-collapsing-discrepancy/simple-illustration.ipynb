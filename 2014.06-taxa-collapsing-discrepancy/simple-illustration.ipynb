{
 "metadata": {
  "name": ""
 },
 "nbformat": 3,
 "nbformat_minor": 0,
 "worksheets": [
  {
   "cells": [
    {
     "cell_type": "code",
     "collapsed": false,
     "input": [
      "f = open('test.biom','w')\n",
      "f.write(\"\"\"{\n",
      "    \"columns\": [\n",
      "        {\n",
      "            \"id\": \"Sample1\",\n",
      "            \"metadata\": {\n",
      "                \"BarcodeSequence\": \"AGCACGAGCCTA\",\n",
      "                \"DOB\": 20060805\n",
      "            }\n",
      "        },\n",
      "        {\n",
      "            \"id\": \"Sample2\",\n",
      "            \"metadata\": {\n",
      "                \"BarcodeSequence\": \"AACTCGTCGATG\",\n",
      "                \"DOB\": 20060216\n",
      "            }\n",
      "        },\n",
      "        {\n",
      "            \"id\": \"Sample3\",\n",
      "            \"metadata\": {\n",
      "                \"BarcodeSequence\": \"ACAGACCACTCA\",\n",
      "                \"DOB\": 20060109\n",
      "            }\n",
      "        },\n",
      "        {\n",
      "            \"id\": \"Sample4\",\n",
      "            \"metadata\": {\n",
      "                \"BarcodeSequence\": \"ACCAGCGACTAG\",\n",
      "                \"DOB\": 20070530\n",
      "            }\n",
      "        },\n",
      "        {\n",
      "            \"id\": \"Sample5\",\n",
      "            \"metadata\": {\n",
      "                \"BarcodeSequence\": \"AGCAGCACTTGT\",\n",
      "                \"DOB\": 20070101\n",
      "            }\n",
      "        },\n",
      "        {\n",
      "            \"id\": \"Sample6\",\n",
      "            \"metadata\": {\n",
      "                \"BarcodeSequence\": \"AGCAGCACAACT\",\n",
      "                \"DOB\": 20070716\n",
      "            }\n",
      "        }\n",
      "    ],\n",
      "    \"data\": [\n",
      "        [0, 2, 1.0],\n",
      "        [1, 0, 5.0],\n",
      "        [1, 1, 1.0],\n",
      "        [1, 3, 2.0],\n",
      "        [1, 4, 3.0],\n",
      "        [1, 5, 1.0],\n",
      "        [2, 2, 1.0],\n",
      "        [2, 3, 4.0],\n",
      "        [2, 5, 2.0],\n",
      "        [3, 0, 2.0],\n",
      "        [3, 1, 1.0],\n",
      "        [3, 2, 1.0],\n",
      "        [3, 5, 1.0],\n",
      "        [4, 1, 1.0],\n",
      "        [4, 2, 1.0]\n",
      "    ],\n",
      "    \"date\": \"2012-12-11T07:30:29.870689\",\n",
      "    \"format\": \"Biological Observation Matrix 1.0.0\",\n",
      "    \"format_url\": \"http://biom-format.org\",\n",
      "    \"generated_by\": \"some software package\",\n",
      "    \"id\": null,\n",
      "    \"matrix_element_type\": \"float\",\n",
      "    \"matrix_type\": \"sparse\",\n",
      "    \"rows\": [\n",
      "        {\n",
      "            \"id\": \"GG_OTU_1\",\n",
      "            \"metadata\": {\n",
      "                \"confidence\": 0.665,\n",
      "                \"taxonomy\": [\"Root\", \"k__Bacteria\", \"p__Firmicutes\", \"c__Clostridia\", \"o__Clostridiales\", \"f__Lachnospiraceae\"]\n",
      "            }\n",
      "        },\n",
      "        {\n",
      "            \"id\": \"GG_OTU_2\",\n",
      "            \"metadata\": {\n",
      "                \"confidence\": 0.98,\n",
      "                \"taxonomy\": [\"Root\", \"k__Bacteria\", \"p__Firmicutes\", \"c__Clostridia\", \"o__Clostridiales\", \"f__OnlyOnce1\"]\n",
      "            }\n",
      "        },\n",
      "        {\n",
      "            \"id\": \"GG_OTU_3\",\n",
      "            \"metadata\": {\n",
      "                \"confidence\": 1.0,\n",
      "                \"taxonomy\": [\"Root\", \"k__Bacteria\", \"p__Firmicutes\", \"c__Clostridia\", \"o__Clostridiales\", \"f__Lachnospiraceae\"]\n",
      "            }\n",
      "        },\n",
      "        {\n",
      "            \"id\": \"GG_OTU_4\",\n",
      "            \"metadata\": {\n",
      "                \"confidence\": 0.842,\n",
      "                \"taxonomy\": [\"Root\", \"k__Bacteria\", \"p__Firmicutes\", \"c__Clostridia\", \"o__Clostridiales\", \"f__Lachnospiraceae\"]\n",
      "            }\n",
      "        },\n",
      "        {\n",
      "            \"id\": \"GG_OTU_5\",\n",
      "            \"metadata\": {\n",
      "                \"confidence\": 1.0,\n",
      "                \"taxonomy\": [\"Root\", \"k__Bacteria\", \"p__Firmicutes\", \"c__Clostridia\", \"o__Clostridiales\", \"f__OnlyOnce2\"]\n",
      "            }\n",
      "        }\n",
      "    ],\n",
      "    \"shape\": [5, 6],\n",
      "    \"type\": \"OTU table\"\n",
      "}\"\"\")\n",
      "f.close()"
     ],
     "language": "python",
     "metadata": {},
     "outputs": [],
     "prompt_number": 1
    },
    {
     "cell_type": "code",
     "collapsed": false,
     "input": [
      "from biom import load_table\n",
      "\n",
      "t = load_table('test.biom')\n",
      "for e in t.observation_metadata:\n",
      "    print e['taxonomy']"
     ],
     "language": "python",
     "metadata": {},
     "outputs": [
      {
       "output_type": "stream",
       "stream": "stdout",
       "text": [
        "[u'Root', u'k__Bacteria', u'p__Firmicutes', u'c__Clostridia', u'o__Clostridiales', u'f__Lachnospiraceae']\n",
        "[u'Root', u'k__Bacteria', u'p__Firmicutes', u'c__Clostridia', u'o__Clostridiales', u'f__OnlyOnce1']\n",
        "[u'Root', u'k__Bacteria', u'p__Firmicutes', u'c__Clostridia', u'o__Clostridiales', u'f__Lachnospiraceae']\n",
        "[u'Root', u'k__Bacteria', u'p__Firmicutes', u'c__Clostridia', u'o__Clostridiales', u'f__Lachnospiraceae']\n",
        "[u'Root', u'k__Bacteria', u'p__Firmicutes', u'c__Clostridia', u'o__Clostridiales', u'f__OnlyOnce2']\n"
       ]
      }
     ],
     "prompt_number": 2
    },
    {
     "cell_type": "markdown",
     "metadata": {},
     "source": [
      "When collapsing with ``Table.collapse``, there is only one resulting OTU. The two families that were associated with only one OTU each are dropped."
     ]
    },
    {
     "cell_type": "code",
     "collapsed": false,
     "input": [
      "def collapse_on_family(id_, md): \n",
      "    return ';'.join(md['taxonomy'][:6])\n",
      "t_biom_collapsed = t.collapse(collapse_on_family, axis='observation')\n",
      "\n",
      "print t_biom_collapsed"
     ],
     "language": "python",
     "metadata": {},
     "outputs": [
      {
       "output_type": "stream",
       "stream": "stdout",
       "text": [
        "# Constructed from biom file\n",
        "#OTU ID\tSample1\tSample2\tSample3\tSample4\tSample5\tSample6\n",
        "Root;k__Bacteria;p__Firmicutes;c__Clostridia;o__Clostridiales;f__Lachnospiraceae\t0.666666666667\t0.333333333333\t1.0\t1.33333333333\t0.0\t1.0\n"
       ]
      }
     ],
     "prompt_number": 3
    },
    {
     "cell_type": "markdown",
     "metadata": {},
     "source": [
      "However, when we collapse with QIIME those are retained, which is the expected behavior."
     ]
    },
    {
     "cell_type": "code",
     "collapsed": false,
     "input": [
      "!summarize_taxa.py -i test.biom -o summarize_taxa_out/\n",
      "t_qiime_collapsed = load_table('summarize_taxa_out/test_L6.biom')\n",
      "\n",
      "print t_qiime_collapsed"
     ],
     "language": "python",
     "metadata": {},
     "outputs": [
      {
       "output_type": "stream",
       "stream": "stdout",
       "text": [
        "# Constructed from biom file\n",
        "#OTU ID\tSample1\tSample2\tSample3\tSample4\tSample5\tSample6\n",
        "Root;k__Bacteria;p__Firmicutes;c__Clostridia;o__Clostridiales;f__Lachnospiraceae\t0.285714285714\t0.333333333333\t0.75\t0.666666666667\t0.0\t0.75\n",
        "Root;k__Bacteria;p__Firmicutes;c__Clostridia;o__Clostridiales;f__OnlyOnce1\t0.714285714286\t0.333333333333\t0.0\t0.333333333333\t1.0\t0.25\n",
        "Root;k__Bacteria;p__Firmicutes;c__Clostridia;o__Clostridiales;f__OnlyOnce2\t0.0\t0.333333333333\t0.25\t0.0\t0.0\t0.0\n"
       ]
      }
     ],
     "prompt_number": 4
    },
    {
     "cell_type": "markdown",
     "metadata": {},
     "source": [
      "Confirming that with an alternative collapsing function we observe the same incorrect result. Here I define ``collapse_f`` as in the [BIOM docs here](http://biom-format.org/documentation/table_objects.html#examples) though note that there are [some unrelated issues](https://github.com/biocore/biom-format/issues/479) with that approach. "
     ]
    },
    {
     "cell_type": "code",
     "collapsed": false,
     "input": [
      "collapse_f = lambda id_, md: md['taxonomy'][5]\n",
      "alt_t_biom_collapsed = t.collapse(collapse_f, axis='observation')\n",
      "print alt_t_biom_collapsed"
     ],
     "language": "python",
     "metadata": {},
     "outputs": [
      {
       "output_type": "stream",
       "stream": "stdout",
       "text": [
        "# Constructed from biom file\n",
        "#OTU ID\tSample1\tSample2\tSample3\tSample4\tSample5\tSample6\n",
        "f__Lachnospiraceae\t0.666666666667\t0.333333333333\t1.0\t1.33333333333\t0.0\t1.0\n"
       ]
      }
     ],
     "prompt_number": 5
    },
    {
     "cell_type": "heading",
     "level": 1,
     "metadata": {},
     "source": [
      "Solution"
     ]
    },
    {
     "cell_type": "markdown",
     "metadata": {},
     "source": [
      "The solution here is to pass ``min_group_size=1``. I think this should be the default (see [here](https://github.com/biocore/biom-format/issues/480) for further discussion). "
     ]
    },
    {
     "cell_type": "code",
     "collapsed": false,
     "input": [
      "collapse_f = lambda id_, md: md['taxonomy'][5]\n",
      "alt_t_biom_collapsed = t.collapse(collapse_f, axis='observation', min_group_size=1)\n",
      "print alt_t_biom_collapsed"
     ],
     "language": "python",
     "metadata": {},
     "outputs": [
      {
       "output_type": "stream",
       "stream": "stdout",
       "text": [
        "# Constructed from biom file\n",
        "#OTU ID\tSample1\tSample2\tSample3\tSample4\tSample5\tSample6\n",
        "f__OnlyOnce2\t0.0\t1.0\t1.0\t0.0\t0.0\t0.0\n",
        "f__Lachnospiraceae\t0.666666666667\t0.333333333333\t1.0\t1.33333333333\t0.0\t1.0\n",
        "f__OnlyOnce1\t5.0\t1.0\t0.0\t2.0\t3.0\t1.0\n"
       ]
      }
     ],
     "prompt_number": 6
    },
    {
     "cell_type": "markdown",
     "metadata": {},
     "source": [
      "For the records:"
     ]
    },
    {
     "cell_type": "code",
     "collapsed": false,
     "input": [
      "!print_qiime_config.py"
     ],
     "language": "python",
     "metadata": {},
     "outputs": [
      {
       "output_type": "stream",
       "stream": "stdout",
       "text": [
        "\r\n",
        "System information\r\n",
        "==================\r\n",
        "         Platform:\tdarwin\r\n",
        "   Python version:\t2.7.1 (r271:86832, Aug 30 2012, 10:07:33)  [GCC 4.2.1 (Based on Apple Inc. build 5658) (LLVM build 2336.11.00)]\r\n",
        "Python executable:\t/Users/caporaso/.virtualenvs/qiime/bin/python\r\n",
        "\r\n",
        "Dependency versions\r\n",
        "===================\r\n",
        "                        NumPy version:\t1.8.1\r\n",
        "                        SciPy version:\t0.14.0\r\n",
        "                   matplotlib version:\t1.3.1\r\n",
        "                  biom-format version:\t2.0.1\r\n",
        "                         qcli version:\t0.1.0\r\n",
        "                         pyqi version:\t0.3.2\r\n",
        "                   scikit-bio version:\t0.1.3\r\n",
        "                QIIME library version:\t1.8.0-dev, master@0668ba7\r\n",
        "                 QIIME script version:\t1.8.0-dev\r\n",
        "        PyNAST version (if installed):\t1.2.2\r\n",
        "                      Emperor version:\t0.9.3\r\n",
        "RDP Classifier version (if installed):\trdp_classifier-2.2.jar\r\n",
        "          Java version (if installed):\t1.6.0_65\r\n",
        "\r\n",
        "QIIME config values\r\n",
        "===================\r\n",
        "                     blastmat_dir:\t/Applications/blast-2.2.22/data/\r\n",
        "                         sc_queue:\tall.q\r\n",
        "   template_alignment_lanemask_fp:\t/Users/caporaso/data/greengenes_core_sets/lanemask_in_1s_and_0s.txt\r\n",
        "     pynast_template_alignment_fp:\t/Users/caporaso/data/greengenes_core_sets/core_set_aligned_imputed.fasta_11_8_07.no_dots\r\n",
        "                 seconds_to_sleep:\t1\r\n",
        "pynast_template_alignment_blastdb:\tNone\r\n",
        "assign_taxonomy_reference_seqs_fp:\t/Users/caporaso/data/gg_13_8_otus/rep_set/97_otus.fasta\r\n",
        "                     torque_queue:\tfriendlyq\r\n",
        "      topiaryexplorer_project_dir:\t/Users/caporaso/code/TopiaryExplorer-0.9.1/\r\n",
        "                    jobs_to_start:\t4\r\n",
        "            denoiser_min_per_core:\t50\r\n",
        "                  cluster_jobs_fp:\tstart_parallel_jobs.py\r\n",
        "assign_taxonomy_id_to_taxonomy_fp:\t/Users/caporaso/data/gg_13_8_otus/taxonomy/97_otu_taxonomy.txt\r\n",
        "                         temp_dir:\t/Users/caporaso/temp\r\n",
        "                      blastall_fp:\tblastall\r\n"
       ]
      }
     ],
     "prompt_number": 7
    },
    {
     "cell_type": "code",
     "collapsed": false,
     "input": [],
     "language": "python",
     "metadata": {},
     "outputs": [],
     "prompt_number": 7
    }
   ],
   "metadata": {}
  }
 ]
}