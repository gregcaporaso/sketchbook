{
 "metadata": {
  "name": "",
  "signature": "sha256:0d0d7fc1c682ba08753bcdb6031ab07f306eabdf222c873eb49f78e68e489356"
 },
 "nbformat": 3,
 "nbformat_minor": 0,
 "worksheets": [
  {
   "cells": [
    {
     "cell_type": "markdown",
     "metadata": {},
     "source": [
      "Using [this table](https://github.com/gregcaporaso/short-read-tax-assignment/blob/master/data/eval-subject-results/mock/S16S-2/gg_13_5_otus/blast/0.0001/table.biom) from the [short-read-tax-assignment repo](https://github.com/gregcaporaso/short-read-tax-assignment), Jenya noticed that ``summarize_taxa.py`` gives different results from BIOM 1.x.x's ``collapseObservationsByMetadata``. I previously confirmed that, but now also observe the issue with BIOM 2.0.1."
     ]
    },
    {
     "cell_type": "code",
     "collapsed": false,
     "input": [
      "from biom import load_table\n",
      "\n",
      "t1 = load_table('table.biom')"
     ],
     "language": "python",
     "metadata": {},
     "outputs": [],
     "prompt_number": 1
    },
    {
     "cell_type": "code",
     "collapsed": false,
     "input": [
      "level = 6\n",
      "def collapse_f(id_, md): \n",
      "    return ';'.join(md['taxonomy'][:level])\n",
      "collapsed_t1 = t1.collapse(collapse_f, axis='observation')\n",
      "\n",
      "len(collapsed_t1.observation_ids)"
     ],
     "language": "python",
     "metadata": {},
     "outputs": [
      {
       "metadata": {},
       "output_type": "pyout",
       "prompt_number": 2,
       "text": [
        "38"
       ]
      }
     ],
     "prompt_number": 2
    },
    {
     "cell_type": "code",
     "collapsed": false,
     "input": [
      "!summarize_taxa.py -i table.biom -o summarize_taxa_out/\n",
      "t2 = load_table('summarize_taxa_out/table_L6.biom')\n",
      "\n",
      "len(t2.observation_ids)"
     ],
     "language": "python",
     "metadata": {},
     "outputs": [
      {
       "metadata": {},
       "output_type": "pyout",
       "prompt_number": 3,
       "text": [
        "50"
       ]
      }
     ],
     "prompt_number": 3
    },
    {
     "cell_type": "markdown",
     "metadata": {},
     "source": [
      "It turns out that you need to pass ``min_group_size=1`` to get this to work as expected."
     ]
    },
    {
     "cell_type": "code",
     "collapsed": false,
     "input": [
      "level = 6\n",
      "def collapse_f(id_, md): \n",
      "    return ';'.join(md['taxonomy'][:level])\n",
      "collapsed_t1 = t1.collapse(collapse_f, axis='observation', min_group_size=1)\n",
      "\n",
      "len(collapsed_t1.observation_ids)"
     ],
     "language": "python",
     "metadata": {},
     "outputs": [
      {
       "metadata": {},
       "output_type": "pyout",
       "prompt_number": 4,
       "text": [
        "50"
       ]
      }
     ],
     "prompt_number": 4
    },
    {
     "cell_type": "markdown",
     "metadata": {},
     "source": [
      "Everything below here was experiments to try to figure this out..."
     ]
    },
    {
     "cell_type": "code",
     "collapsed": false,
     "input": [
      "from os.path import exists\n",
      "if not exists('table.from_biom_w_taxonomy.txt'):\n",
      "    !biom convert -i table.biom -o table.from_biom_w_taxonomy.txt --to-tsv --header-key taxonomy\n",
      "\n",
      "import pandas as pd\n",
      "\n",
      "t3 = pd.read_csv('table.from_biom_w_taxonomy.txt', sep='\\t', skiprows=2, index_col=\"otu-id\", names=['otu-id', 'count', 'taxonomy'])"
     ],
     "language": "python",
     "metadata": {},
     "outputs": [],
     "prompt_number": 5
    },
    {
     "cell_type": "code",
     "collapsed": false,
     "input": [
      "# All counts are greater than zero\n",
      "len(t3[t3[\"count\"] == 0])"
     ],
     "language": "python",
     "metadata": {},
     "outputs": [
      {
       "metadata": {},
       "output_type": "pyout",
       "prompt_number": 6,
       "text": [
        "0"
       ]
      }
     ],
     "prompt_number": 6
    },
    {
     "cell_type": "code",
     "collapsed": false,
     "input": [
      "t3_taxa = []\n",
      "for e in t3['taxonomy']:\n",
      "    t = [x.strip() for x in e.split(';')]\n",
      "    t3_taxa.append(';'.join(t[:level]))\n",
      "print len(set(t3_taxa))"
     ],
     "language": "python",
     "metadata": {},
     "outputs": [
      {
       "output_type": "stream",
       "stream": "stdout",
       "text": [
        "50\n"
       ]
      }
     ],
     "prompt_number": 7
    },
    {
     "cell_type": "code",
     "collapsed": false,
     "input": [
      "print set(t3_taxa) - set(t2.observation_ids)\n",
      "print set(t2.observation_ids) - set(t3_taxa)"
     ],
     "language": "python",
     "metadata": {},
     "outputs": [
      {
       "output_type": "stream",
       "stream": "stdout",
       "text": [
        "set(['No blast hit'])\n",
        "set(['No blast hit;Other;Other;Other;Other;Other'])\n"
       ]
      }
     ],
     "prompt_number": 8
    },
    {
     "cell_type": "code",
     "collapsed": false,
     "input": [
      "print set(collapsed_t1.observation_ids) - set(t2.observation_ids)\n",
      "print set(t2.observation_ids) - set(collapsed_t1.observation_ids)"
     ],
     "language": "python",
     "metadata": {},
     "outputs": [
      {
       "output_type": "stream",
       "stream": "stdout",
       "text": [
        "set([u'No blast hit'])\n",
        "set(['No blast hit;Other;Other;Other;Other;Other'])\n"
       ]
      }
     ],
     "prompt_number": 9
    },
    {
     "cell_type": "markdown",
     "metadata": {},
     "source": [
      "BIOM 2.0.1's ``collapseObservationsByMetadata`` is dropping some low abundance observations, while ``summarize_taxa.py`` keeps them. (Note: this behavior was the same in BIOM 1.x.x - data not shown, but ran this same analysis a couple of weeks ago with previous BIOM version.)"
     ]
    },
    {
     "cell_type": "code",
     "collapsed": false,
     "input": [
      "set(collapsed_t1.observation_ids) - set(t2.observation_ids)"
     ],
     "language": "python",
     "metadata": {},
     "outputs": [
      {
       "metadata": {},
       "output_type": "pyout",
       "prompt_number": 10,
       "text": [
        "{u'No blast hit'}"
       ]
      }
     ],
     "prompt_number": 10
    },
    {
     "cell_type": "code",
     "collapsed": false,
     "input": [
      "missing_ids = set(t2.observation_ids) - set(collapsed_t1.observation_ids)\n",
      "missing_ids"
     ],
     "language": "python",
     "metadata": {},
     "outputs": [
      {
       "metadata": {},
       "output_type": "pyout",
       "prompt_number": 11,
       "text": [
        "{'No blast hit;Other;Other;Other;Other;Other'}"
       ]
      }
     ],
     "prompt_number": 11
    },
    {
     "cell_type": "markdown",
     "metadata": {},
     "source": [
      "When taxa show up only one time, they are not collapsed correctly:"
     ]
    },
    {
     "cell_type": "code",
     "collapsed": false,
     "input": [
      "from collections import defaultdict\n",
      "tax_to_ids = defaultdict(list)\n",
      "\n",
      "for e in t3.index:\n",
      "    tax = t3['taxonomy'][e].replace(' ','')\n",
      "    try:\n",
      "        s_index = tax.index(';s__')\n",
      "    except ValueError:\n",
      "        continue\n",
      "    tax = tax[:s_index]\n",
      "    tax_to_ids[tax].append(e)\n",
      "\n",
      "singles = []        \n",
      "for tax, ids in tax_to_ids.items():\n",
      "    if len(ids) == 1:\n",
      "        singles.append(tax)\n",
      "\n",
      "print set(singles) - set(missing_ids)\n",
      "print len(singles)\n",
      "print tax_to_ids['k__Bacteria;p__Firmicutes;c__Clostridia;o__Clostridiales;f__Lachnospiraceae;g__Anaerostipes']\n",
      "print len(t3.index)\n",
      "print len(set(t3.index))"
     ],
     "language": "python",
     "metadata": {},
     "outputs": [
      {
       "output_type": "stream",
       "stream": "stdout",
       "text": [
        "set(['k__Bacteria;p__Firmicutes;c__Clostridia;o__Clostridiales;f__Lachnospiraceae;g__Anaerostipes', 'k__Bacteria;p__Proteobacteria;c__Gammaproteobacteria;o__Pseudomonadales;f__Moraxellaceae;g__', 'k__Bacteria;p__Bacteroidetes;c__Flavobacteriia;o__Flavobacteriales;f__[Weeksellaceae];g__Cloacibacterium', 'k__Bacteria;p__Proteobacteria;c__Betaproteobacteria;o__Burkholderiales;f__Comamonadaceae;g__', 'k__Bacteria;p__Proteobacteria;c__Betaproteobacteria;o__Burkholderiales;f__Comamonadaceae;g__Alicycliphilus', 'k__Bacteria;p__Proteobacteria;c__Gammaproteobacteria;o__Thiotrichales;f__Piscirickettsiaceae;g__', 'k__Bacteria;p__Actinobacteria;c__Actinobacteria;o__Actinomycetales;f__Actinomycetaceae;g__CandidatusAncillula', 'k__Bacteria;p__Proteobacteria;c__Deltaproteobacteria;o__Desulfovibrionales;f__Desulfovibrionaceae;g__Desulfovibrio', 'k__Bacteria;p__Proteobacteria;c__Gammaproteobacteria;o__;f__;g__', 'k__Bacteria;p__Firmicutes;c__Bacilli;o__Bacillales;f__Bacillaceae;g__Bacillus', 'k__Bacteria;p__Proteobacteria;c__Gammaproteobacteria;o__Chromatiales;f__;g__'])\n",
        "11\n",
        "['3537197']\n",
        "3398\n",
        "3398\n"
       ]
      }
     ],
     "prompt_number": 12
    },
    {
     "cell_type": "code",
     "collapsed": false,
     "input": [
      "print t2"
     ],
     "language": "python",
     "metadata": {},
     "outputs": [
      {
       "output_type": "stream",
       "stream": "stdout",
       "text": [
        "# Constructed from biom file\n",
        "#OTU ID\tMockMiSeq.even\n",
        "No blast hit;Other;Other;Other;Other;Other\t2.94801388093e-05\n",
        "k__Bacteria;p__Actinobacteria;c__Actinobacteria;o__Actinomycetales;f__Actinomycetaceae;g__Candidatus Ancillula\t8.42289680267e-06\n",
        "k__Bacteria;p__Actinobacteria;c__Actinobacteria;o__Bifidobacteriales;f__Bifidobacteriaceae;g__\t0.000412721943331\n",
        "k__Bacteria;p__Actinobacteria;c__Actinobacteria;o__Bifidobacteriales;f__Bifidobacteriaceae;g__Bifidobacterium\t0.0482505643341\n",
        "k__Bacteria;p__Actinobacteria;c__Coriobacteriia;o__Coriobacteriales;f__Coriobacteriaceae;g__Collinsella\t0.00266163538964\n",
        "k__Bacteria;p__Bacteroidetes;c__Bacteroidia;o__Bacteroidales;f__Bacteroidaceae;g__Bacteroides\t0.279273777838\n",
        "k__Bacteria;p__Bacteroidetes;c__Bacteroidia;o__Bacteroidales;f__Porphyromonadaceae;g__Parabacteroides\t0.0227123412284\n",
        "k__Bacteria;p__Bacteroidetes;c__Bacteroidia;o__Bacteroidales;f__Rikenellaceae;g__\t0.00701206158822\n",
        "k__Bacteria;p__Bacteroidetes;c__Flavobacteriia;o__Flavobacteriales;f__[Weeksellaceae];g__Cloacibacterium\t4.21144840133e-05\n",
        "k__Bacteria;p__Firmicutes;c__Bacilli;o__Bacillales;f__Bacillaceae;g__Bacillus\t1.2634345204e-05\n",
        "k__Bacteria;p__Firmicutes;c__Bacilli;o__Lactobacillales;f__Lactobacillaceae;g__Lactobacillus\t0.00548330581854\n",
        "k__Bacteria;p__Firmicutes;c__Bacilli;o__Lactobacillales;f__Streptococcaceae;g__Streptococcus\t0.0823296047977\n",
        "k__Bacteria;p__Firmicutes;c__Clostridia;o__Clostridiales;f__;g__\t0.0012634345204\n",
        "k__Bacteria;p__Firmicutes;c__Clostridia;o__Clostridiales;f__Clostridiaceae;g__Clostridium\t0.033443111755\n",
        "k__Bacteria;p__Firmicutes;c__Clostridia;o__Clostridiales;f__Lachnospiraceae;g__\t0.0415627842728\n",
        "k__Bacteria;p__Firmicutes;c__Clostridia;o__Clostridiales;f__Lachnospiraceae;g__Anaerostipes\t8.8440416428e-05\n",
        "k__Bacteria;p__Firmicutes;c__Clostridia;o__Clostridiales;f__Lachnospiraceae;g__Blautia\t0.0210740878003\n",
        "k__Bacteria;p__Firmicutes;c__Clostridia;o__Clostridiales;f__Lachnospiraceae;g__Coprococcus\t0.0343612075065\n",
        "k__Bacteria;p__Firmicutes;c__Clostridia;o__Clostridiales;f__Lachnospiraceae;g__Dorea\t0.0707818132812\n",
        "k__Bacteria;p__Firmicutes;c__Clostridia;o__Clostridiales;f__Lachnospiraceae;g__Lachnospira\t0.0266963714161\n",
        "k__Bacteria;p__Firmicutes;c__Clostridia;o__Clostridiales;f__Lachnospiraceae;g__Roseburia\t0.00368080590277\n",
        "k__Bacteria;p__Firmicutes;c__Clostridia;o__Clostridiales;f__Lachnospiraceae;g__[Ruminococcus]\t0.0559238233213\n",
        "k__Bacteria;p__Firmicutes;c__Clostridia;o__Clostridiales;f__Ruminococcaceae;g__\t0.045353087834\n",
        "k__Bacteria;p__Firmicutes;c__Clostridia;o__Clostridiales;f__Ruminococcaceae;g__Anaerotruncus\t0.00510427546242\n",
        "k__Bacteria;p__Firmicutes;c__Clostridia;o__Clostridiales;f__Ruminococcaceae;g__Faecalibacterium\t0.00918938041171\n",
        "k__Bacteria;p__Firmicutes;c__Clostridia;o__Clostridiales;f__Ruminococcaceae;g__Ruminococcus\t0.00645615039925\n",
        "k__Bacteria;p__Firmicutes;c__Clostridia;o__Clostridiales;f__[Tissierellaceae];g__Anaerococcus\t0.0261783632627\n",
        "k__Bacteria;p__Firmicutes;c__Erysipelotrichi;o__Erysipelotrichales;f__Erysipelotrichaceae;g__[Eubacterium]\t0.00578653010343\n",
        "k__Bacteria;p__Lentisphaerae;c__[Lentisphaeria];o__Victivallales;f__Victivallaceae;g__\t0.000400087598127\n",
        "k__Bacteria;p__Proteobacteria;c__Betaproteobacteria;o__;f__;g__\t4.21144840133e-05\n",
        "k__Bacteria;p__Proteobacteria;c__Betaproteobacteria;o__Burkholderiales;f__;g__\t0.0003158586301\n",
        "k__Bacteria;p__Proteobacteria;c__Betaproteobacteria;o__Burkholderiales;f__Comamonadaceae;g__\t8.42289680267e-06\n",
        "k__Bacteria;p__Proteobacteria;c__Betaproteobacteria;o__Burkholderiales;f__Comamonadaceae;g__Alicycliphilus\t3.36915872107e-05\n",
        "k__Bacteria;p__Proteobacteria;c__Deltaproteobacteria;o__Desulfovibrionales;f__Desulfovibrionaceae;g__Desulfovibrio\t5.89602776187e-05\n",
        "k__Bacteria;p__Proteobacteria;c__Gammaproteobacteria;o__;f__;g__\t8.42289680267e-06\n",
        "k__Bacteria;p__Proteobacteria;c__Gammaproteobacteria;o__Aeromonadales;f__Aeromonadaceae;g__\t0.0184250867558\n",
        "k__Bacteria;p__Proteobacteria;c__Gammaproteobacteria;o__Chromatiales;f__;g__\t8.42289680267e-06\n",
        "k__Bacteria;p__Proteobacteria;c__Gammaproteobacteria;o__Enterobacteriales;f__Enterobacteriaceae;g__\t0.100699942724\n",
        "k__Bacteria;p__Proteobacteria;c__Gammaproteobacteria;o__Enterobacteriales;f__Enterobacteriaceae;g__Edwardsiella\t5.0537380816e-05\n",
        "k__Bacteria;p__Proteobacteria;c__Gammaproteobacteria;o__Enterobacteriales;f__Enterobacteriaceae;g__Enterobacter\t4.21144840133e-05\n",
        "k__Bacteria;p__Proteobacteria;c__Gammaproteobacteria;o__Enterobacteriales;f__Enterobacteriaceae;g__Erwinia\t0.000181092281257\n",
        "k__Bacteria;p__Proteobacteria;c__Gammaproteobacteria;o__Enterobacteriales;f__Enterobacteriaceae;g__Klebsiella\t1.68457936053e-05\n",
        "k__Bacteria;p__Proteobacteria;c__Gammaproteobacteria;o__Enterobacteriales;f__Enterobacteriaceae;g__Proteus\t0.000534853946969\n",
        "k__Bacteria;p__Proteobacteria;c__Gammaproteobacteria;o__Enterobacteriales;f__Enterobacteriaceae;g__Providencia\t0.000113709106836\n",
        "k__Bacteria;p__Proteobacteria;c__Gammaproteobacteria;o__Enterobacteriales;f__Enterobacteriaceae;g__Salmonella\t0.000265321249284\n",
        "k__Bacteria;p__Proteobacteria;c__Gammaproteobacteria;o__Enterobacteriales;f__Enterobacteriaceae;g__Serratia\t0.00012634345204\n",
        "k__Bacteria;p__Proteobacteria;c__Gammaproteobacteria;o__Pseudomonadales;f__Moraxellaceae;g__\t8.42289680267e-06\n",
        "k__Bacteria;p__Proteobacteria;c__Gammaproteobacteria;o__Pseudomonadales;f__Moraxellaceae;g__Acinetobacter\t0.000644351605404\n",
        "k__Bacteria;p__Proteobacteria;c__Gammaproteobacteria;o__Thiotrichales;f__Piscirickettsiaceae;g__\t8.42289680267e-06\n",
        "k__Bacteria;p__Verrucomicrobia;c__Verrucomicrobiae;o__Verrucomicrobiales;f__Verrucomicrobiaceae;g__Akkermansia\t0.04283464169\n"
       ]
      }
     ],
     "prompt_number": 13
    },
    {
     "cell_type": "code",
     "collapsed": false,
     "input": [
      "r = []\n",
      "for m in missing_ids:\n",
      "    obs_idx = t2.index(m,axis='observation')\n",
      "    r.append((t2.get_value_by_ids(m,'MockMiSeq.even'), t2.observation_ids[obs_idx]))\n",
      "r.sort()\n",
      "for e in r:\n",
      "    print e"
     ],
     "language": "python",
     "metadata": {},
     "outputs": [
      {
       "output_type": "stream",
       "stream": "stdout",
       "text": [
        "(2.9480138809339307e-05, 'No blast hit;Other;Other;Other;Other;Other')\n"
       ]
      }
     ],
     "prompt_number": 14
    },
    {
     "cell_type": "code",
     "collapsed": false,
     "input": [
      "r = []\n",
      "for e in list(t2.iter(axis='observation')):\n",
      "    r.append((e[0][0], e[1]))\n",
      "r.sort()\n",
      "for e in r:\n",
      "    print e\n",
      "    "
     ],
     "language": "python",
     "metadata": {},
     "outputs": [
      {
       "output_type": "stream",
       "stream": "stdout",
       "text": [
        "(8.4228968026683745e-06, 'k__Bacteria;p__Actinobacteria;c__Actinobacteria;o__Actinomycetales;f__Actinomycetaceae;g__Candidatus Ancillula')\n",
        "(8.4228968026683745e-06, 'k__Bacteria;p__Proteobacteria;c__Betaproteobacteria;o__Burkholderiales;f__Comamonadaceae;g__')\n",
        "(8.4228968026683745e-06, 'k__Bacteria;p__Proteobacteria;c__Gammaproteobacteria;o__;f__;g__')\n",
        "(8.4228968026683745e-06, 'k__Bacteria;p__Proteobacteria;c__Gammaproteobacteria;o__Chromatiales;f__;g__')\n",
        "(8.4228968026683745e-06, 'k__Bacteria;p__Proteobacteria;c__Gammaproteobacteria;o__Pseudomonadales;f__Moraxellaceae;g__')\n",
        "(8.4228968026683745e-06, 'k__Bacteria;p__Proteobacteria;c__Gammaproteobacteria;o__Thiotrichales;f__Piscirickettsiaceae;g__')\n",
        "(1.2634345204002561e-05, 'k__Bacteria;p__Firmicutes;c__Bacilli;o__Bacillales;f__Bacillaceae;g__Bacillus')\n",
        "(1.6845793605336749e-05, 'k__Bacteria;p__Proteobacteria;c__Gammaproteobacteria;o__Enterobacteriales;f__Enterobacteriaceae;g__Klebsiella')\n",
        "(2.9480138809339307e-05, 'No blast hit;Other;Other;Other;Other;Other')\n",
        "(3.3691587210673498e-05, 'k__Bacteria;p__Proteobacteria;c__Betaproteobacteria;o__Burkholderiales;f__Comamonadaceae;g__Alicycliphilus')\n",
        "(4.2114484013341868e-05, 'k__Bacteria;p__Bacteroidetes;c__Flavobacteriia;o__Flavobacteriales;f__[Weeksellaceae];g__Cloacibacterium')\n",
        "(4.2114484013341868e-05, 'k__Bacteria;p__Proteobacteria;c__Betaproteobacteria;o__;f__;g__')\n",
        "(4.2114484013341868e-05, 'k__Bacteria;p__Proteobacteria;c__Gammaproteobacteria;o__Enterobacteriales;f__Enterobacteriaceae;g__Enterobacter')\n",
        "(5.0537380816010244e-05, 'k__Bacteria;p__Proteobacteria;c__Gammaproteobacteria;o__Enterobacteriales;f__Enterobacteriaceae;g__Edwardsiella')\n",
        "(5.8960277618678613e-05, 'k__Bacteria;p__Proteobacteria;c__Deltaproteobacteria;o__Desulfovibrionales;f__Desulfovibrionaceae;g__Desulfovibrio')\n",
        "(8.8440416428017923e-05, 'k__Bacteria;p__Firmicutes;c__Clostridia;o__Clostridiales;f__Lachnospiraceae;g__Anaerostipes')\n",
        "(0.00011370910683602305, 'k__Bacteria;p__Proteobacteria;c__Gammaproteobacteria;o__Enterobacteriales;f__Enterobacteriaceae;g__Providencia')\n",
        "(0.00012634345204002562, 'k__Bacteria;p__Proteobacteria;c__Gammaproteobacteria;o__Enterobacteriales;f__Enterobacteriaceae;g__Serratia')\n",
        "(0.00018109228125737006, 'k__Bacteria;p__Proteobacteria;c__Gammaproteobacteria;o__Enterobacteriales;f__Enterobacteriaceae;g__Erwinia')\n",
        "(0.0002653212492840538, 'k__Bacteria;p__Proteobacteria;c__Gammaproteobacteria;o__Enterobacteriales;f__Enterobacteriaceae;g__Salmonella')\n",
        "(0.00031585863010006405, 'k__Bacteria;p__Proteobacteria;c__Betaproteobacteria;o__Burkholderiales;f__;g__')\n",
        "(0.00040008759812674776, 'k__Bacteria;p__Lentisphaerae;c__[Lentisphaeria];o__Victivallales;f__Victivallaceae;g__')\n",
        "(0.00041272194333075033, 'k__Bacteria;p__Actinobacteria;c__Actinobacteria;o__Bifidobacteriales;f__Bifidobacteriaceae;g__')\n",
        "(0.00053485394696944173, 'k__Bacteria;p__Proteobacteria;c__Gammaproteobacteria;o__Enterobacteriales;f__Enterobacteriaceae;g__Proteus')\n",
        "(0.00064435160540413062, 'k__Bacteria;p__Proteobacteria;c__Gammaproteobacteria;o__Pseudomonadales;f__Moraxellaceae;g__Acinetobacter')\n",
        "(0.001263434520400256, 'k__Bacteria;p__Firmicutes;c__Clostridia;o__Clostridiales;f__;g__')\n",
        "(0.0026616353896432039, 'k__Bacteria;p__Actinobacteria;c__Coriobacteriia;o__Coriobacteriales;f__Coriobacteriaceae;g__Collinsella')\n",
        "(0.003680805902766079, 'k__Bacteria;p__Firmicutes;c__Clostridia;o__Clostridiales;f__Lachnospiraceae;g__Roseburia')\n",
        "(0.0051042754624170388, 'k__Bacteria;p__Firmicutes;c__Clostridia;o__Clostridiales;f__Ruminococcaceae;g__Anaerotruncus')\n",
        "(0.0054833058185371156, 'k__Bacteria;p__Firmicutes;c__Bacilli;o__Lactobacillales;f__Lactobacillaceae;g__Lactobacillus')\n",
        "(0.0057865301034331759, 'k__Bacteria;p__Firmicutes;c__Erysipelotrichi;o__Erysipelotrichales;f__Erysipelotrichaceae;g__[Eubacterium]')\n",
        "(0.0064561503992453121, 'k__Bacteria;p__Firmicutes;c__Clostridia;o__Clostridiales;f__Ruminococcaceae;g__Ruminococcus')\n",
        "(0.0070120615882214247, 'k__Bacteria;p__Bacteroidetes;c__Bacteroidia;o__Bacteroidales;f__Rikenellaceae;g__')\n",
        "(0.0091893804117111726, 'k__Bacteria;p__Firmicutes;c__Clostridia;o__Clostridiales;f__Ruminococcaceae;g__Faecalibacterium')\n",
        "(0.018425086755837046, 'k__Bacteria;p__Proteobacteria;c__Gammaproteobacteria;o__Aeromonadales;f__Aeromonadaceae;g__')\n",
        "(0.021074087800276236, 'k__Bacteria;p__Firmicutes;c__Clostridia;o__Clostridiales;f__Lachnospiraceae;g__Blautia')\n",
        "(0.022712341228395216, 'k__Bacteria;p__Bacteroidetes;c__Bacteroidia;o__Bacteroidales;f__Porphyromonadaceae;g__Parabacteroides')\n",
        "(0.026178363262693221, 'k__Bacteria;p__Firmicutes;c__Clostridia;o__Clostridiales;f__[Tissierellaceae];g__Anaerococcus')\n",
        "(0.026696371416057376, 'k__Bacteria;p__Firmicutes;c__Clostridia;o__Clostridiales;f__Lachnospiraceae;g__Lachnospira')\n",
        "(0.033443111754994759, 'k__Bacteria;p__Firmicutes;c__Clostridia;o__Clostridiales;f__Clostridiaceae;g__Clostridium')\n",
        "(0.034361207506485601, 'k__Bacteria;p__Firmicutes;c__Clostridia;o__Clostridiales;f__Lachnospiraceae;g__Coprococcus')\n",
        "(0.041562784272767002, 'k__Bacteria;p__Firmicutes;c__Clostridia;o__Clostridiales;f__Lachnospiraceae;g__')\n",
        "(0.042834641689969914, 'k__Bacteria;p__Verrucomicrobia;c__Verrucomicrobiae;o__Verrucomicrobiales;f__Verrucomicrobiaceae;g__Akkermansia')\n",
        "(0.045353087833967777, 'k__Bacteria;p__Firmicutes;c__Clostridia;o__Clostridiales;f__Ruminococcaceae;g__')\n",
        "(0.048250564334085679, 'k__Bacteria;p__Actinobacteria;c__Actinobacteria;o__Bifidobacteriales;f__Bifidobacteriaceae;g__Bifidobacterium')\n",
        "(0.055923823321316582, 'k__Bacteria;p__Firmicutes;c__Clostridia;o__Clostridiales;f__Lachnospiraceae;g__[Ruminococcus]')\n",
        "(0.070781813281223557, 'k__Bacteria;p__Firmicutes;c__Clostridia;o__Clostridiales;f__Lachnospiraceae;g__Dorea')\n",
        "(0.082329604797681713, 'k__Bacteria;p__Firmicutes;c__Bacilli;o__Lactobacillales;f__Streptococcaceae;g__Streptococcus')\n",
        "(0.10069994272430152, 'k__Bacteria;p__Proteobacteria;c__Gammaproteobacteria;o__Enterobacteriales;f__Enterobacteriaceae;g__')\n",
        "(0.27927377783768348, 'k__Bacteria;p__Bacteroidetes;c__Bacteroidia;o__Bacteroidales;f__Bacteroidaceae;g__Bacteroides')\n"
       ]
      }
     ],
     "prompt_number": 15
    },
    {
     "cell_type": "code",
     "collapsed": false,
     "input": [
      "!print_qiime_config.py"
     ],
     "language": "python",
     "metadata": {},
     "outputs": [
      {
       "output_type": "stream",
       "stream": "stdout",
       "text": [
        "\r\n",
        "System information\r\n",
        "==================\r\n",
        "         Platform:\tdarwin\r\n",
        "   Python version:\t2.7.1 (r271:86832, Aug 30 2012, 10:07:33)  [GCC 4.2.1 (Based on Apple Inc. build 5658) (LLVM build 2336.11.00)]\r\n",
        "Python executable:\t/Users/caporaso/.virtualenvs/qiime/bin/python\r\n",
        "\r\n",
        "Dependency versions\r\n",
        "===================\r\n",
        "                        NumPy version:\t1.8.1\r\n",
        "                        SciPy version:\t0.14.0\r\n",
        "                   matplotlib version:\t1.3.1\r\n",
        "                  biom-format version:\t2.0.1\r\n",
        "                         qcli version:\t0.1.0\r\n",
        "                         pyqi version:\t0.3.2\r\n",
        "                   scikit-bio version:\t0.1.3\r\n",
        "                QIIME library version:\t1.8.0-dev, master@0668ba7\r\n",
        "                 QIIME script version:\t1.8.0-dev\r\n",
        "        PyNAST version (if installed):\t1.2.2\r\n",
        "                      Emperor version:\t0.9.3\r\n",
        "RDP Classifier version (if installed):\trdp_classifier-2.2.jar\r\n",
        "          Java version (if installed):\t1.6.0_65\r\n",
        "\r\n",
        "QIIME config values\r\n",
        "===================\r\n",
        "                     blastmat_dir:\t/Applications/blast-2.2.22/data/\r\n",
        "                         sc_queue:\tall.q\r\n",
        "   template_alignment_lanemask_fp:\t/Users/caporaso/data/greengenes_core_sets/lanemask_in_1s_and_0s.txt\r\n",
        "     pynast_template_alignment_fp:\t/Users/caporaso/data/greengenes_core_sets/core_set_aligned_imputed.fasta_11_8_07.no_dots\r\n",
        "                 seconds_to_sleep:\t1\r\n",
        "pynast_template_alignment_blastdb:\tNone\r\n",
        "assign_taxonomy_reference_seqs_fp:\t/Users/caporaso/data/gg_13_8_otus/rep_set/97_otus.fasta\r\n",
        "                     torque_queue:\tfriendlyq\r\n",
        "      topiaryexplorer_project_dir:\t/Users/caporaso/code/TopiaryExplorer-0.9.1/\r\n",
        "                    jobs_to_start:\t4\r\n",
        "            denoiser_min_per_core:\t50\r\n",
        "                  cluster_jobs_fp:\tstart_parallel_jobs.py\r\n",
        "assign_taxonomy_id_to_taxonomy_fp:\t/Users/caporaso/data/gg_13_8_otus/taxonomy/97_otu_taxonomy.txt\r\n",
        "                         temp_dir:\t/Users/caporaso/temp\r\n",
        "                      blastall_fp:\tblastall\r\n"
       ]
      }
     ],
     "prompt_number": 16
    },
    {
     "cell_type": "code",
     "collapsed": false,
     "input": [],
     "language": "python",
     "metadata": {},
     "outputs": [],
     "prompt_number": 16
    },
    {
     "cell_type": "code",
     "collapsed": false,
     "input": [
      "f = open('test.biom','w')\n",
      "f.write(\"\"\"{\n",
      "    \"columns\": [\n",
      "        {\n",
      "            \"id\": \"Sample1\",\n",
      "            \"metadata\": {\n",
      "                \"BarcodeSequence\": \"AGCACGAGCCTA\",\n",
      "                \"DOB\": 20060805\n",
      "            }\n",
      "        },\n",
      "        {\n",
      "            \"id\": \"Sample2\",\n",
      "            \"metadata\": {\n",
      "                \"BarcodeSequence\": \"AACTCGTCGATG\",\n",
      "                \"DOB\": 20060216\n",
      "            }\n",
      "        },\n",
      "        {\n",
      "            \"id\": \"Sample3\",\n",
      "            \"metadata\": {\n",
      "                \"BarcodeSequence\": \"ACAGACCACTCA\",\n",
      "                \"DOB\": 20060109\n",
      "            }\n",
      "        },\n",
      "        {\n",
      "            \"id\": \"Sample4\",\n",
      "            \"metadata\": {\n",
      "                \"BarcodeSequence\": \"ACCAGCGACTAG\",\n",
      "                \"DOB\": 20070530\n",
      "            }\n",
      "        },\n",
      "        {\n",
      "            \"id\": \"Sample5\",\n",
      "            \"metadata\": {\n",
      "                \"BarcodeSequence\": \"AGCAGCACTTGT\",\n",
      "                \"DOB\": 20070101\n",
      "            }\n",
      "        },\n",
      "        {\n",
      "            \"id\": \"Sample6\",\n",
      "            \"metadata\": {\n",
      "                \"BarcodeSequence\": \"AGCAGCACAACT\",\n",
      "                \"DOB\": 20070716\n",
      "            }\n",
      "        }\n",
      "    ],\n",
      "    \"data\": [\n",
      "        [0, 2, 1.0],\n",
      "        [1, 0, 5.0],\n",
      "        [1, 1, 1.0],\n",
      "        [1, 3, 2.0],\n",
      "        [1, 4, 3.0],\n",
      "        [1, 5, 1.0],\n",
      "        [2, 2, 1.0],\n",
      "        [2, 3, 4.0],\n",
      "        [2, 5, 2.0],\n",
      "        [3, 0, 2.0],\n",
      "        [3, 1, 1.0],\n",
      "        [3, 2, 1.0],\n",
      "        [3, 5, 1.0],\n",
      "        [4, 1, 1.0],\n",
      "        [4, 2, 1.0]\n",
      "    ],\n",
      "    \"date\": \"2012-12-11T07:30:29.870689\",\n",
      "    \"format\": \"Biological Observation Matrix 1.0.0\",\n",
      "    \"format_url\": \"http://biom-format.org\",\n",
      "    \"generated_by\": \"some software package\",\n",
      "    \"id\": null,\n",
      "    \"matrix_element_type\": \"float\",\n",
      "    \"matrix_type\": \"sparse\",\n",
      "    \"rows\": [\n",
      "        {\n",
      "            \"id\": \"GG_OTU_1\",\n",
      "            \"metadata\": {\n",
      "                \"confidence\": 0.665,\n",
      "                \"taxonomy\": [\"Root\", \"k__Bacteria\", \"p__Firmicutes\", \"c__Clostridia\", \"o__Clostridiales\", \"f__Lachnospiraceae\"]\n",
      "            }\n",
      "        },\n",
      "        {\n",
      "            \"id\": \"GG_OTU_2\",\n",
      "            \"metadata\": {\n",
      "                \"confidence\": 0.98,\n",
      "                \"taxonomy\": [\"Root\", \"k__Bacteria\"]\n",
      "            }\n",
      "        },\n",
      "        {\n",
      "            \"id\": \"GG_OTU_3\",\n",
      "            \"metadata\": {\n",
      "                \"confidence\": 1.0,\n",
      "                \"taxonomy\": [\"Root\", \"k__Bacteria\", \"p__Firmicutes\", \"c__Clostridia\", \"o__Clostridiales\", \"f__Lachnospiraceae\"]\n",
      "            }\n",
      "        },\n",
      "        {\n",
      "            \"id\": \"GG_OTU_4\",\n",
      "            \"metadata\": {\n",
      "                \"confidence\": 0.842,\n",
      "                \"taxonomy\": [\"Root\", \"k__Bacteria\", \"p__Firmicutes\", \"c__Clostridia\", \"o__Clostridiales\", \"f__Lachnospiraceae\"]\n",
      "            }\n",
      "        },\n",
      "        {\n",
      "            \"id\": \"GG_OTU_5\",\n",
      "            \"metadata\": {\n",
      "                \"confidence\": 1.0,\n",
      "                \"taxonomy\": [\"Root\", \"k__Bacteria\", \"p__Firmicutes\", \"c__Clostridia\", \"o__Clostridiales\", \"f__OnlyOnce\"]\n",
      "            }\n",
      "        }\n",
      "    ],\n",
      "    \"shape\": [5, 6],\n",
      "    \"type\": \"OTU table\"\n",
      "}\"\"\")\n",
      "f.close()\n",
      "t4 = load_table('test.biom')\n",
      "for e in t4.observation_metadata:\n",
      "    print e['taxonomy']"
     ],
     "language": "python",
     "metadata": {},
     "outputs": [
      {
       "output_type": "stream",
       "stream": "stdout",
       "text": [
        "[u'Root', u'k__Bacteria', u'p__Firmicutes', u'c__Clostridia', u'o__Clostridiales', u'f__Lachnospiraceae']\n",
        "[u'Root', u'k__Bacteria']\n",
        "[u'Root', u'k__Bacteria', u'p__Firmicutes', u'c__Clostridia', u'o__Clostridiales', u'f__Lachnospiraceae']\n",
        "[u'Root', u'k__Bacteria', u'p__Firmicutes', u'c__Clostridia', u'o__Clostridiales', u'f__Lachnospiraceae']\n",
        "[u'Root', u'k__Bacteria', u'p__Firmicutes', u'c__Clostridia', u'o__Clostridiales', u'f__OnlyOnce']\n"
       ]
      }
     ],
     "prompt_number": 17
    },
    {
     "cell_type": "code",
     "collapsed": false,
     "input": [
      "def collapse_on_family(id_, md): \n",
      "    return ';'.join(md['taxonomy'][:5])\n",
      "collapsed_t4 = t4.collapse(collapse_f, axis='observation')\n",
      "\n",
      "print collapsed_t4"
     ],
     "language": "python",
     "metadata": {},
     "outputs": [
      {
       "output_type": "stream",
       "stream": "stdout",
       "text": [
        "# Constructed from biom file\n",
        "#OTU ID\tSample1\tSample2\tSample3\tSample4\tSample5\tSample6\n",
        "Root;k__Bacteria;p__Firmicutes;c__Clostridia;o__Clostridiales;f__Lachnospiraceae\t0.666666666667\t0.333333333333\t1.0\t1.33333333333\t0.0\t1.0\n"
       ]
      }
     ],
     "prompt_number": 18
    },
    {
     "cell_type": "code",
     "collapsed": false,
     "input": [],
     "language": "python",
     "metadata": {},
     "outputs": [],
     "prompt_number": 18
    }
   ],
   "metadata": {}
  }
 ]
}