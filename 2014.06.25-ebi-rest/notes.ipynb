{
 "metadata": {
  "name": "",
  "signature": "sha256:a770a64e2b877734ef2f35c512e58b77913be53f4c0a781d1c45a20aa1cf23b4"
 },
 "nbformat": 3,
 "nbformat_minor": 0,
 "worksheets": [
  {
   "cells": [
    {
     "cell_type": "markdown",
     "metadata": {},
     "source": [
      "Trying to generate a plot showing the distribution of metagenome sizes by year, and hoping to do this by pulling data with the [EBI restful API](http://www.ebi.ac.uk/ena/about/browser#display_options).\n",
      "\n",
      "Some links that work:\n",
      "\n",
      "* [the data I care about for one study](http://www.ebi.ac.uk/ena/data/warehouse/filereport?accession=PRJDA72133&result=read_run&fields=study_accession,sample_accession,run_accession,instrument_model,read_count,first_public)\n",
      "\n",
      "* [the data I care about for another study](http://www.ebi.ac.uk/ena/data/warehouse/filereport?accession=DRP000160&result=read_run&fields=study_accession,sample_accession,run_accession,instrument_model,read_count,first_public\n",
      ")\n",
      "\n",
      "* [the \"taxon\" I care about (metagenome)](http://www.ebi.ac.uk/ena/data/view/Taxon:408169)\n",
      "\n",
      "* [the studies I care about](http://www.ebi.ac.uk/ena/data/view/Taxon:12908&portal=read_study&subtree=true)\n"
     ]
    },
    {
     "cell_type": "code",
     "collapsed": false,
     "input": [
      "import numpy as np\n",
      "import matplotlib\n",
      "matplotlib.use('agg')\n",
      "import pandas as pd\n",
      "%pylab inline\n"
     ],
     "language": "python",
     "metadata": {},
     "outputs": [
      {
       "output_type": "stream",
       "stream": "stdout",
       "text": [
        "Populating the interactive namespace from numpy and matplotlib\n"
       ]
      }
     ],
     "prompt_number": 1
    },
    {
     "cell_type": "code",
     "collapsed": false,
     "input": [
      "!grep PRIMARY_ID ena.xml | wc -l "
     ],
     "language": "python",
     "metadata": {},
     "outputs": [
      {
       "output_type": "stream",
       "stream": "stdout",
       "text": [
        "    2448\r\n"
       ]
      }
     ],
     "prompt_number": 2
    },
    {
     "cell_type": "code",
     "collapsed": false,
     "input": [
      "!grep PRIMARY_ID ena.xml | head"
     ],
     "language": "python",
     "metadata": {},
     "outputs": [
      {
       "output_type": "stream",
       "stream": "stdout",
       "text": [
        "          <PRIMARY_ID>DRP000009</PRIMARY_ID>\r\n",
        "          <PRIMARY_ID>DRP000160</PRIMARY_ID>\r\n",
        "          <PRIMARY_ID>DRP000316</PRIMARY_ID>\r\n",
        "          <PRIMARY_ID>DRP000319</PRIMARY_ID>\r\n",
        "          <PRIMARY_ID>DRP000379</PRIMARY_ID>\r\n",
        "          <PRIMARY_ID>DRP000446</PRIMARY_ID>\r\n",
        "          <PRIMARY_ID>DRP000458</PRIMARY_ID>\r\n",
        "          <PRIMARY_ID>DRP000463</PRIMARY_ID>\r\n",
        "          <PRIMARY_ID>DRP000487</PRIMARY_ID>\r\n",
        "          <PRIMARY_ID>DRP000498</PRIMARY_ID>\r\n"
       ]
      }
     ],
     "prompt_number": 3
    },
    {
     "cell_type": "code",
     "collapsed": false,
     "input": [
      "study_ids = !grep PRIMARY_ID ena.xml\n",
      "print len(study_ids)\n",
      "print study_ids[:10]\n",
      "study_ids = [e.strip()[12:21] for e in study_ids]\n",
      "print len(study_ids)\n",
      "print study_ids[:10]"
     ],
     "language": "python",
     "metadata": {},
     "outputs": [
      {
       "output_type": "stream",
       "stream": "stdout",
       "text": [
        "2448\n",
        "['          <PRIMARY_ID>DRP000009</PRIMARY_ID>', '          <PRIMARY_ID>DRP000160</PRIMARY_ID>', '          <PRIMARY_ID>DRP000316</PRIMARY_ID>', '          <PRIMARY_ID>DRP000319</PRIMARY_ID>', '          <PRIMARY_ID>DRP000379</PRIMARY_ID>', '          <PRIMARY_ID>DRP000446</PRIMARY_ID>', '          <PRIMARY_ID>DRP000458</PRIMARY_ID>', '          <PRIMARY_ID>DRP000463</PRIMARY_ID>', '          <PRIMARY_ID>DRP000487</PRIMARY_ID>', '          <PRIMARY_ID>DRP000498</PRIMARY_ID>']\n",
        "2448\n",
        "['DRP000009', 'DRP000160', 'DRP000316', 'DRP000319', 'DRP000379', 'DRP000446', 'DRP000458', 'DRP000463', 'DRP000487', 'DRP000498']\n"
       ]
      }
     ],
     "prompt_number": 4
    },
    {
     "cell_type": "code",
     "collapsed": false,
     "input": [
      "data = []\n",
      "for e in study_ids:\n",
      "    url = \"\"\"'http://www.ebi.ac.uk/ena/data/warehouse/filereport?accession=\"%s\"&result=read_run&fields=study_accession,sample_accession,run_accession,instrument_model,read_count,first_public'\"\"\" % e\n",
      "    current_data = !curl $url\n",
      "    data += [l.strip().split('\\t') for l in current_data if l.startswith(e)]"
     ],
     "language": "python",
     "metadata": {},
     "outputs": []
    },
    {
     "cell_type": "code",
     "collapsed": false,
     "input": [
      "data"
     ],
     "language": "python",
     "metadata": {},
     "outputs": []
    },
    {
     "cell_type": "code",
     "collapsed": false,
     "input": [
      "columns = 'study_accession\\tsample_accession\\trun_accession\\tinstrument_model\\tread_count\\tfirst_public'.split('\\t')\n",
      "print columns"
     ],
     "language": "python",
     "metadata": {},
     "outputs": []
    },
    {
     "cell_type": "code",
     "collapsed": false,
     "input": [
      "df = pd.DataFrame(data, columns=columns)\n",
      "df"
     ],
     "language": "python",
     "metadata": {},
     "outputs": []
    },
    {
     "cell_type": "code",
     "collapsed": false,
     "input": [
      "years = []\n",
      "for d in df['first_public']:\n",
      "    if d:\n",
      "        years.append(int(d.split('-')[0]))\n",
      "    else:\n",
      "        years.append(None)\n",
      "\n",
      "read_counts = []\n",
      "for rc in df['read_count']:\n",
      "    if rc:\n",
      "        read_counts.append(int(rc))\n",
      "    else:\n",
      "        read_counts.append(None)\n",
      "        \n",
      "df['year-public'] = years\n",
      "df['read_count'] = read_counts\n",
      "df.dropna(subset=('year-public', 'read_count'), inplace=True)\n",
      "ax = df.boxplot(column=\"read_count\", by=\"year-public\")\n",
      "ax.set_ylim(0, 1000000)\n"
     ],
     "language": "python",
     "metadata": {},
     "outputs": []
    },
    {
     "cell_type": "code",
     "collapsed": false,
     "input": [
      "s = pd.DataFrame([df.groupby(by=\"study_accession\", as_index=True)['read_count'].sum(),\n",
      "                  df.groupby(by=\"study_accession\", as_index=True)['year-public'].max()])\n",
      "ax = s.T.boxplot(column=\"read_count\", by=\"year-public\")\n",
      "ax.set_ylim(0, 1000000)"
     ],
     "language": "python",
     "metadata": {},
     "outputs": []
    },
    {
     "cell_type": "code",
     "collapsed": false,
     "input": [],
     "language": "python",
     "metadata": {},
     "outputs": []
    }
   ],
   "metadata": {}
  }
 ]
}