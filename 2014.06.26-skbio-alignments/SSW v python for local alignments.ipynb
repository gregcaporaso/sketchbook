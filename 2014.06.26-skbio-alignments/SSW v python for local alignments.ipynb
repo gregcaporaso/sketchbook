{
 "metadata": {
  "name": "",
  "signature": "sha256:423d9d47af02e5e7613af462267c817f814a751145d0878d3f00fa12c8bf0526"
 },
 "nbformat": 3,
 "nbformat_minor": 0,
 "worksheets": [
  {
   "cells": [
    {
     "cell_type": "code",
     "collapsed": false,
     "input": [
      "from skbio.core.alignment import local_pairwise_align_ssw\n",
      "s1 = \"ACTAAGGCTCTCTACCCCTCTCAGAGA\"\n",
      "s2 = \"AAAAAACTCTCTAAACTCACTAAGGCTCTCTACCCCTCTTCAGAGAAGTCGA\"\n",
      "r = local_pairwise_align_ssw(s1, s2)\n",
      "print r"
     ],
     "language": "python",
     "metadata": {},
     "outputs": [
      {
       "output_type": "stream",
       "stream": "stdout",
       "text": [
        ">query\n",
        "ACTAAGGCTCTCTACCCCTC-TCAGAGA\n",
        ">target\n",
        "ACTAAGGCTCTCTACCCCTCTTCAGAGA\n",
        "\n"
       ]
      }
     ],
     "prompt_number": 3
    },
    {
     "cell_type": "code",
     "collapsed": false,
     "input": [
      "from skbio.core.alignment.pairwise import local_pairwise_align_nucleotide\n",
      "s1 = \"ACTAAGGCTCTCTACCCCTCTCAGAGA\"\n",
      "s2 = \"AAAAAACTCTCTAAACTCACTAAGGCTCTCTACCCCTCTTCAGAGAAGTCGA\"\n",
      "r = local_pairwise_align_nucleotide(s1, s2)\n",
      "print(r.to_fasta())"
     ],
     "language": "python",
     "metadata": {},
     "outputs": [
      {
       "output_type": "stream",
       "stream": "stdout",
       "text": [
        ">0\n",
        "ACTAAGGCTCTCTACCCCTC-TCAGAGA\n",
        ">1\n",
        "ACTAAGGCTCTCTACCCCTCTTCAGAGA\n",
        "\n"
       ]
      },
      {
       "output_type": "stream",
       "stream": "stderr",
       "text": [
        "/Users/caporaso/code/skbio/skbio/core/alignment/pairwise.py:300: EfficiencyWarning: You're using skbio's python implementation of Smith-Waterman alignment. This will be very slow (e.g., thousands of times slower) than skbio.core.alignment.local_pairwise_align_ssw.\n",
        "  EfficiencyWarning)\n"
       ]
      }
     ],
     "prompt_number": 1
    },
    {
     "cell_type": "code",
     "collapsed": false,
     "input": [
      "from skbio.parse.sequences import parse_fasta\n",
      "from skbio import SequenceCollection, DNA\n",
      "from random import choice\n",
      "gg_path = \"/Users/caporaso/data/gg_13_8_otus/rep_set/73_otus.fasta\"\n",
      "s = SequenceCollection.from_fasta_records([(i, s) for i, s in parse_fasta(gg_path) if 'N' not in s], DNA)"
     ],
     "language": "python",
     "metadata": {},
     "outputs": [],
     "prompt_number": 19
    },
    {
     "cell_type": "code",
     "collapsed": false,
     "input": [
      "%timeit local_pairwise_align_ssw(choice(s), choice(s), gap_open_penalty=5, gap_extend_penalty=2, match_score=2, mismatch_score=-3)"
     ],
     "language": "python",
     "metadata": {},
     "outputs": [
      {
       "output_type": "stream",
       "stream": "stdout",
       "text": [
        "100 loops, best of 3: 4.88 ms per loop\n"
       ]
      }
     ],
     "prompt_number": 21
    },
    {
     "cell_type": "code",
     "collapsed": false,
     "input": [
      "%timeit local_pairwise_align_nucleotide(choice(s), choice(s), gap_open_penalty=5, gap_extend_penalty=2, match_score=2, mismatch_score=-3)"
     ],
     "language": "python",
     "metadata": {},
     "outputs": [
      {
       "output_type": "stream",
       "stream": "stdout",
       "text": [
        "1 loops, best of 3: 19.7 s per loop\n"
       ]
      }
     ],
     "prompt_number": 22
    },
    {
     "cell_type": "code",
     "collapsed": false,
     "input": [
      "19.7 / 0.00488"
     ],
     "language": "python",
     "metadata": {},
     "outputs": [
      {
       "metadata": {},
       "output_type": "pyout",
       "prompt_number": 23,
       "text": [
        "4036.8852459016393"
       ]
      }
     ],
     "prompt_number": 23
    },
    {
     "cell_type": "markdown",
     "metadata": {},
     "source": [
      "So SSW is ~4000x faster than python for local alignment. Awesome!"
     ]
    }
   ],
   "metadata": {}
  }
 ]
}