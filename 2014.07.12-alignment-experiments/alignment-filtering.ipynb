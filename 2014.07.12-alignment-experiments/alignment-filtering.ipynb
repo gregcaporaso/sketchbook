{
 "metadata": {
  "name": "",
  "signature": "sha256:8f9a1853760cfd166b77ab533bd80278b06f77fb04e042e60dc8b43f1fe7c354"
 },
 "nbformat": 3,
 "nbformat_minor": 0,
 "worksheets": [
  {
   "cells": [
    {
     "cell_type": "markdown",
     "metadata": {},
     "source": [
      "This illustrates how to use global alignment to find a short sequence (e.g., a PCR primer) in a longer sequence (e.g., a 454 read) using Needleman-Wunsch alignment."
     ]
    },
    {
     "cell_type": "code",
     "collapsed": false,
     "input": [
      "from skbio.core.alignment.pairwise import global_pairwise_align_nucleotide"
     ],
     "language": "python",
     "metadata": {},
     "outputs": [],
     "prompt_number": 1
    },
    {
     "cell_type": "code",
     "collapsed": false,
     "input": [
      "s = \"ACCGTGGACCGTTAGGATTGGACCCAAGGTTG\"\n",
      "t = \"T\"*25 + \"ACCGTGGACCGTAGGATTGGACCAAGGTTA\" + \"A\"*25\n",
      "\n",
      "a = global_pairwise_align_nucleotide(s, t)"
     ],
     "language": "python",
     "metadata": {},
     "outputs": [
      {
       "output_type": "stream",
       "stream": "stderr",
       "text": [
        "/Users/caporaso/code/skbio/skbio/core/alignment/pairwise.py:506: EfficiencyWarning: You're using skbio's python implementation of Needleman-Wunsch alignment. This is known to be very slow (e.g., thousands of times slower than a native C implementation). We'll be adding a faster version soon (see https://github.com/biocore/scikit-bio/issues/254 to track progress on this).\n",
        "  \"to track progress on this).\", EfficiencyWarning)\n"
       ]
      }
     ],
     "prompt_number": 2
    },
    {
     "cell_type": "markdown",
     "metadata": {},
     "source": [
      "The alignment then looks like the following. Note that in scikit-bio 0.1.4 we do strict NW alignment, which means that the alignment always starts at the last position of both sequences. I need to fix this, as it's effectively useless for this problem due to the long artifical gap that it introduces."
     ]
    },
    {
     "cell_type": "code",
     "collapsed": false,
     "input": [
      "print a.to_fasta()"
     ],
     "language": "python",
     "metadata": {},
     "outputs": [
      {
       "output_type": "stream",
       "stream": "stdout",
       "text": [
        ">0\n",
        "-------------------------ACCGTGGACCGTTAGGATTGGACCCAAGGTT-------------------------G\n",
        ">1\n",
        "TTTTTTTTTTTTTTTTTTTTTTTTTACCGTGGACCGT-AGGATTGGACC-AAGGTTAAAAAAAAAAAAAAAAAAAAAAAAAA\n",
        "\n"
       ]
      }
     ],
     "prompt_number": 3
    },
    {
     "cell_type": "markdown",
     "metadata": {},
     "source": [
      "We can then slice just the targeted region as follows. "
     ]
    },
    {
     "cell_type": "code",
     "collapsed": false,
     "input": [
      "gap_vector = a[0].gap_vector()\n",
      "start_index = gap_vector.index(False)\n",
      "end_index = (a.sequence_length() - 1) - gap_vector[::-1].index(False)\n",
      "print a[0][start_index:end_index+1]\n",
      "print a[1][start_index:end_index+1]"
     ],
     "language": "python",
     "metadata": {},
     "outputs": [
      {
       "output_type": "stream",
       "stream": "stdout",
       "text": [
        "ACCGTGGACCGTTAGGATTGGACCCAAGGTT-------------------------G\n",
        "ACCGTGGACCGT-AGGATTGGACC-AAGGTTAAAAAAAAAAAAAAAAAAAAAAAAAA\n"
       ]
      }
     ],
     "prompt_number": 4
    },
    {
     "cell_type": "markdown",
     "metadata": {},
     "source": [
      "And count the mismatches and gaps."
     ]
    },
    {
     "cell_type": "code",
     "collapsed": false,
     "input": [
      "mismatch_count = 0\n",
      "for i in range(start_index, end_index+1):\n",
      "    if a[0][i] != a[1][i]:\n",
      "        mismatch_count += 1\n",
      "print mismatch_count"
     ],
     "language": "python",
     "metadata": {},
     "outputs": [
      {
       "output_type": "stream",
       "stream": "stdout",
       "text": [
        "28\n"
       ]
      }
     ],
     "prompt_number": 5
    },
    {
     "cell_type": "code",
     "collapsed": false,
     "input": [],
     "language": "python",
     "metadata": {},
     "outputs": []
    }
   ],
   "metadata": {}
  }
 ]
}