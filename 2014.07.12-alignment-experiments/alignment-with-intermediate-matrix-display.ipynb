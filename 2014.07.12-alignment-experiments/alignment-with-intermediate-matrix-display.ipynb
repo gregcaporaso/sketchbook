{
 "metadata": {
  "name": "",
  "signature": "sha256:88ae43e406ec370600e1af46174e3c3447d996e3a56507da5c10629abfe374be"
 },
 "nbformat": 3,
 "nbformat_minor": 0,
 "worksheets": [
  {
   "cells": [
    {
     "cell_type": "markdown",
     "metadata": {},
     "source": [
      "This illustrates how to use global alignment to find a short sequence (e.g., a PCR primer) in a longer sequence (e.g., a 454 read) using Needleman-Wunsch alignment."
     ]
    },
    {
     "cell_type": "code",
     "collapsed": false,
     "input": [
      "from skbio.core.alignment.pairwise import global_pairwise_align_nucleotide"
     ],
     "language": "python",
     "metadata": {},
     "outputs": [],
     "prompt_number": 1
    },
    {
     "cell_type": "code",
     "collapsed": false,
     "input": [
      "s = \"ACCGTGGACCGTTAGGATTGGACCCAAGGTTG\"\n",
      "t = \"T\"*25 + \"ACCGTGGACCGTAGGATTGGACCAAGGTTA\" + \"A\"*25\n",
      "\n",
      "a = global_pairwise_align_nucleotide(s, t)"
     ],
     "language": "python",
     "metadata": {},
     "outputs": [],
     "prompt_number": 15
    },
    {
     "cell_type": "code",
     "collapsed": false,
     "input": [
      "print s\n",
      "print t"
     ],
     "language": "python",
     "metadata": {},
     "outputs": [
      {
       "output_type": "stream",
       "stream": "stdout",
       "text": [
        "ACCGTGGACCGTTAGGATTGGACCCAAGGTTG\n",
        "TTTTTTTTTTTTTTTTTTTTTTTTTACCGTGGACCGTAGGATTGGACCAAGGTTAAAAAAAAAAAAAAAAAAAAAAAAAA\n"
       ]
      }
     ],
     "prompt_number": 16
    },
    {
     "cell_type": "markdown",
     "metadata": {},
     "source": [
      "The alignment then looks like the following. Note that in scikit-bio 0.1.4 we do strict NW alignment, which means that the alignment always starts at the last position of both sequences. I need to fix this, as it's effectively useless for this problem due to the long artifical gap that it introduces."
     ]
    },
    {
     "cell_type": "code",
     "collapsed": false,
     "input": [
      "print a.to_fasta()"
     ],
     "language": "python",
     "metadata": {},
     "outputs": [
      {
       "output_type": "stream",
       "stream": "stdout",
       "text": [
        ">0\n",
        "-------------------------ACCGTGGACCGTTAGGATTGGACCCAAGGTTG-------------------------\n",
        ">1\n",
        "TTTTTTTTTTTTTTTTTTTTTTTTTACCGTGGACCGT-AGGATTGGACC-AAGGTTAAAAAAAAAAAAAAAAAAAAAAAAAA\n",
        "\n"
       ]
      }
     ],
     "prompt_number": 3
    },
    {
     "cell_type": "markdown",
     "metadata": {},
     "source": [
      "We can then slice just the targeted region as follows. "
     ]
    },
    {
     "cell_type": "code",
     "collapsed": false,
     "input": [
      "gap_vector = a[0].gap_vector()\n",
      "start_index = gap_vector.index(False)\n",
      "end_index = (a.sequence_length() - 1) - gap_vector[::-1].index(False)\n",
      "print a[0][start_index:end_index+1]\n",
      "print a[1][start_index:end_index+1]"
     ],
     "language": "python",
     "metadata": {},
     "outputs": [
      {
       "output_type": "stream",
       "stream": "stdout",
       "text": [
        "ACCGTGGACCGTTAGGATTGGACCCAAGGTTG\n",
        "ACCGTGGACCGT-AGGATTGGACC-AAGGTTA\n"
       ]
      }
     ],
     "prompt_number": 4
    },
    {
     "cell_type": "markdown",
     "metadata": {},
     "source": [
      "And count the mismatches and gaps."
     ]
    },
    {
     "cell_type": "code",
     "collapsed": false,
     "input": [
      "mismatch_count = 0\n",
      "for i in range(start_index, end_index+1):\n",
      "    if a[0][i] != a[1][i]:\n",
      "        mismatch_count += 1\n",
      "print mismatch_count"
     ],
     "language": "python",
     "metadata": {},
     "outputs": [
      {
       "output_type": "stream",
       "stream": "stdout",
       "text": [
        "3\n"
       ]
      }
     ],
     "prompt_number": 5
    },
    {
     "cell_type": "markdown",
     "metadata": {},
     "source": [
      "Pulling some code from skbio and iab to explore this problem"
     ]
    },
    {
     "cell_type": "code",
     "collapsed": false,
     "input": [
      "import numpy as np\n",
      "from skbio import Alignment, BiologicalSequence \n",
      "from skbio.core.alignment.pairwise import (_compute_score_and_traceback_matrices, _make_nt_substitution_matrix,\n",
      "                                           _init_matrices_nw, _traceback, _get_seq_ids, blosum50, _init_matrices_nw_no_terminal_gap_penalty)\n",
      "\n",
      "nt_substitution_matrix = _make_nt_substitution_matrix(1,-2)\n",
      "traceback_decoding = {1: '\\\\', 2:'|', 3: '-', -1: 'E', 0: '*'}\n",
      "\n",
      "def format_dynamic_programming_matrix(seq1, seq2, matrix, cell_width=6):\n",
      "    \"\"\" define a function for formatting dynamic programming matrices\n",
      "    \"\"\"\n",
      "    lines = []\n",
      "\n",
      "    cell_format = \"%\" + str(cell_width) + \"s\"\n",
      "    line_format = cell_format * (len(seq1) + 2)\n",
      "    # print seq1 (start the line with two empty strings)\n",
      "    lines.append(line_format % tuple([' ',' '] + map(str,list(seq1))))\n",
      "\n",
      "    # iterate over the rows and print each (starting with the\n",
      "    # corresponding base in sequence2)\n",
      "    for row, base in zip(matrix,' ' + seq2):\n",
      "        lines.append(line_format % tuple([base] + map(str,row)))\n",
      "\n",
      "    return '\\n'.join(lines)\n",
      "\n",
      "def format_traceback_matrix(seq1, seq2, matrix, cell_width=3):\n",
      "    translated_m = np.chararray(matrix.shape)\n",
      "    for i in range(matrix.shape[0]):\n",
      "        for j in range(matrix.shape[1]):\n",
      "            translated_m[i, j] = traceback_decoding[matrix[i, j]]\n",
      "\n",
      "    return format_dynamic_programming_matrix(seq1, seq2, translated_m,\n",
      "                                             cell_width)\n",
      "\n",
      "\n",
      "def global_pairwise_align_(seq1, seq2, gap_open_penalty=10, gap_extend_penalty=5, \n",
      "                          substitution_matrix=blosum50):\n",
      "\n",
      "\n",
      "    init_matrices_f = _init_matrices_nw_no_terminal_gap_penalty\n",
      "\n",
      "    score_matrix, traceback_matrix = \\\n",
      "        _compute_score_and_traceback_matrices(\n",
      "            seq1, seq2, gap_open_penalty, gap_extend_penalty,\n",
      "            substitution_matrix, new_alignment_score=-np.inf,\n",
      "            init_matrices_f=init_matrices_f,\n",
      "            penalize_terminal_gaps=False)\n",
      "    print format_dynamic_programming_matrix(seq1, seq2, score_matrix, )\n",
      "    print format_traceback_matrix(seq1, seq2, traceback_matrix)\n",
      "\n",
      "    end_row_position = traceback_matrix.shape[0] - 1\n",
      "    end_col_position = traceback_matrix.shape[1] - 1\n",
      "\n",
      "    aligned1, aligned2, score, seq1_start_position, seq2_start_position = \\\n",
      "        _traceback(traceback_matrix, score_matrix, seq1, seq2,\n",
      "                   end_row_position, end_col_position)\n",
      "    start_end_positions = [(seq1_start_position, end_col_position-1),\n",
      "                           (seq2_start_position, end_row_position-1)]\n",
      "\n",
      "    # Get ids to assign to the output sequences in the result Alignment object\n",
      "    seq1_id, seq2_id = _get_seq_ids(seq1, seq2)\n",
      "\n",
      "    return Alignment(\n",
      "        [BiologicalSequence(aligned1, id=seq1_id),\n",
      "         BiologicalSequence(aligned2, id=seq2_id)],\n",
      "        score=score, start_end_positions=start_end_positions)\n"
     ],
     "language": "python",
     "metadata": {},
     "outputs": [],
     "prompt_number": 12
    },
    {
     "cell_type": "code",
     "collapsed": false,
     "input": [
      "s = \"HEAGAWGHEE\"\n",
      "t = \"PAWHEAE\"\n",
      "print global_pairwise_align_(s, t).to_fasta()"
     ],
     "language": "python",
     "metadata": {},
     "outputs": [
      {
       "output_type": "stream",
       "stream": "stdout",
       "text": [
        "                 H     E     A     G     A     W     G     H     E     E\n",
        "         0.0   0.0   0.0   0.0   0.0   0.0   0.0   0.0   0.0   0.0   0.0\n",
        "     P   0.0  -2.0  -1.0  -1.0  -2.0  -1.0  -4.0  -2.0  -2.0  -1.0   0.0\n",
        "     A   0.0  -2.0  -3.0   4.0  -1.0   3.0  -4.0  -4.0  -4.0  -3.0   0.0\n",
        "     W   0.0  -3.0  -5.0  -6.0   1.0  -4.0  18.0   8.0   3.0  -2.0   0.0\n",
        "     H   0.0  10.0   0.0  -5.0  -8.0  -1.0   8.0  16.0  18.0   8.0   3.0\n",
        "     E   0.0   0.0  16.0   6.0   1.0  -4.0   3.0   6.0  16.0  24.0  14.0\n",
        "     A   0.0  -2.0   6.0  21.0  11.0   6.0   1.0   3.0   6.0  15.0  23.0\n",
        "     E   0.0   0.0   4.0  11.0  18.0  18.0  18.0  18.0  18.0  18.0  23.0\n",
        "        H  E  A  G  A  W  G  H  E  E\n",
        "     *  -  -  -  -  -  -  -  -  -  -\n",
        "  P  |  \\  \\  \\  \\  \\  \\  \\  \\  \\  |\n",
        "  A  |  \\  \\  \\  \\  \\  \\  \\  \\  \\  |\n",
        "  W  |  \\  \\  \\  \\  \\  \\  -  -  -  |\n",
        "  H  |  \\  -  -  \\  \\  |  \\  \\  -  -\n",
        "  E  |  \\  \\  -  -  -  |  |  \\  \\  -\n",
        "  A  |  \\  |  \\  -  -  -  \\  |  \\  \\\n",
        "  E  |  -  \\  |  \\  -  -  -  -  -  |\n",
        ">0\n",
        "HEAGAWGHEE-\n",
        ">1\n",
        "---PAW-HEAE\n",
        "\n"
       ]
      }
     ],
     "prompt_number": 13
    },
    {
     "cell_type": "code",
     "collapsed": false,
     "input": [],
     "language": "python",
     "metadata": {},
     "outputs": [],
     "prompt_number": 7
    },
    {
     "cell_type": "code",
     "collapsed": false,
     "input": [],
     "language": "python",
     "metadata": {},
     "outputs": [],
     "prompt_number": 7
    },
    {
     "cell_type": "code",
     "collapsed": false,
     "input": [],
     "language": "python",
     "metadata": {},
     "outputs": [],
     "prompt_number": 7
    },
    {
     "cell_type": "code",
     "collapsed": false,
     "input": [],
     "language": "python",
     "metadata": {},
     "outputs": [],
     "prompt_number": 7
    }
   ],
   "metadata": {}
  }
 ]
}