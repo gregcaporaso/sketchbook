{
 "metadata": {
  "name": "",
  "signature": "sha256:bd44fa9215bc8c2cdea977678a1187fd302bc4d37e0553c03ad21eb4b01edeea"
 },
 "nbformat": 3,
 "nbformat_minor": 0,
 "worksheets": []
}