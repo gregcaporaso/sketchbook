{
 "metadata": {
  "name": "",
  "signature": "sha256:0d6a66931f6cce654e67b38bb0e7b419aa95d789d50a59d66e71fe471ea77f3a"
 },
 "nbformat": 3,
 "nbformat_minor": 0,
 "worksheets": [
  {
   "cells": [
    {
     "cell_type": "markdown",
     "metadata": {},
     "source": [
      "test..."
     ]
    },
    {
     "cell_type": "code",
     "collapsed": false,
     "input": [],
     "language": "python",
     "metadata": {},
     "outputs": []
    }
   ],
   "metadata": {}
  }
 ]
}