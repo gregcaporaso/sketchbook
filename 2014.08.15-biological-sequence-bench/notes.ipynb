{
 "metadata": {
  "name": "",
  "signature": "sha256:1e4f7b75bf15d4a5c1758677734308994af7c935cb515945723963c509282bb6"
 },
 "nbformat": 3,
 "nbformat_minor": 0,
 "worksheets": [
  {
   "cells": [
    {
     "cell_type": "code",
     "collapsed": false,
     "input": [
      "import numpy as np\n",
      "from skbio import BiologicalSequence\n",
      "seq = [np.random.choice(list('ACGT')) for i in range (250000)]\n",
      "seq_id = \"42\""
     ],
     "language": "python",
     "metadata": {},
     "outputs": [],
     "prompt_number": 25
    },
    {
     "cell_type": "code",
     "collapsed": false,
     "input": [
      "for i in (500, 5000, 50000):\n",
      "    subseq = seq[:i]\n",
      "    print i\n",
      "    %timeit (subseq, seq_id)"
     ],
     "language": "python",
     "metadata": {},
     "outputs": [
      {
       "output_type": "stream",
       "stream": "stdout",
       "text": [
        "500\n",
        "10000000 loops, best of 3: 59.4 ns per loop"
       ]
      },
      {
       "output_type": "stream",
       "stream": "stdout",
       "text": [
        "\n",
        "5000\n",
        "10000000 loops, best of 3: 59.6 ns per loop"
       ]
      },
      {
       "output_type": "stream",
       "stream": "stdout",
       "text": [
        "\n",
        "50000\n",
        "10000000 loops, best of 3: 58.9 ns per loop"
       ]
      },
      {
       "output_type": "stream",
       "stream": "stdout",
       "text": [
        "\n"
       ]
      }
     ],
     "prompt_number": 26
    },
    {
     "cell_type": "code",
     "collapsed": false,
     "input": [
      "for i in (500, 5000, 50000):\n",
      "    subseq = seq[:i]\n",
      "    print i\n",
      "    %timeit (''.join(subseq), seq_id)"
     ],
     "language": "python",
     "metadata": {},
     "outputs": [
      {
       "output_type": "stream",
       "stream": "stdout",
       "text": [
        "500\n",
        "100000 loops, best of 3: 5.35 \u00b5s per loop"
       ]
      },
      {
       "output_type": "stream",
       "stream": "stdout",
       "text": [
        "\n",
        "5000\n",
        "10000 loops, best of 3: 51.7 \u00b5s per loop"
       ]
      },
      {
       "output_type": "stream",
       "stream": "stdout",
       "text": [
        "\n",
        "50000\n",
        "1000 loops, best of 3: 478 \u00b5s per loop"
       ]
      },
      {
       "output_type": "stream",
       "stream": "stdout",
       "text": [
        "\n"
       ]
      }
     ],
     "prompt_number": 27
    },
    {
     "cell_type": "code",
     "collapsed": false,
     "input": [
      "for i in (500, 5000, 50000):\n",
      "    subseq = seq[:i]\n",
      "    print i\n",
      "    %timeit BiologicalSequence(subseq, seq_id)"
     ],
     "language": "python",
     "metadata": {},
     "outputs": [
      {
       "output_type": "stream",
       "stream": "stdout",
       "text": [
        "500\n",
        "100000 loops, best of 3: 6.01 \u00b5s per loop"
       ]
      },
      {
       "output_type": "stream",
       "stream": "stdout",
       "text": [
        "\n",
        "5000\n",
        "10000 loops, best of 3: 54 \u00b5s per loop"
       ]
      },
      {
       "output_type": "stream",
       "stream": "stdout",
       "text": [
        "\n",
        "50000\n",
        "1000 loops, best of 3: 475 \u00b5s per loop"
       ]
      },
      {
       "output_type": "stream",
       "stream": "stdout",
       "text": [
        "\n"
       ]
      }
     ],
     "prompt_number": 28
    },
    {
     "cell_type": "code",
     "collapsed": false,
     "input": [],
     "language": "python",
     "metadata": {},
     "outputs": []
    }
   ],
   "metadata": {}
  }
 ]
}