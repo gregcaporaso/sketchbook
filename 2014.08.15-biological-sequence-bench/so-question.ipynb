{
 "metadata": {
  "name": "",
  "signature": "sha256:ddd75bcc566858eaeb9a42edc84923b69ef3006079ea41d268d7be6e723822ac"
 },
 "nbformat": 3,
 "nbformat_minor": 0,
 "worksheets": [
  {
   "cells": [
    {
     "cell_type": "markdown",
     "metadata": {},
     "source": [
      "Experiments in response to [SO question](http://stackoverflow.com/q/25332841/3424666)."
     ]
    },
    {
     "cell_type": "code",
     "collapsed": false,
     "input": [
      "from skbio.alignment import global_pairwise_align_nucleotide\n",
      "\n",
      "seq_1 = 'ATCGATCGATCG'\n",
      "seq_2 = 'ATCGATATCGATCG'\n",
      "\n",
      "print \"Sequences: \"\n",
      "print \"     %s\" % seq_1\n",
      "print \"     %s\" % seq_2"
     ],
     "language": "python",
     "metadata": {},
     "outputs": [
      {
       "output_type": "stream",
       "stream": "stdout",
       "text": [
        "Sequences: \n",
        "     ATCGATCGATCG\n",
        "     ATCGATATCGATCG\n"
       ]
      }
     ],
     "prompt_number": 1
    },
    {
     "cell_type": "code",
     "collapsed": false,
     "input": [
      "alignment = global_pairwise_align_nucleotide(seq_1, seq_2)\n",
      "al_1, al_2 = [alignment.get_seq(_id).__str__() for _id in alignment.ids()]\n",
      "\n",
      "print \"    nw alignment using scikit:\"\n",
      "print \"        %s\" % al_1\n",
      "print \"        %s\" % al_2\n",
      "print"
     ],
     "language": "python",
     "metadata": {},
     "outputs": [
      {
       "output_type": "stream",
       "stream": "stdout",
       "text": [
        "    nw alignment using scikit:\n",
        "        ------ATCGATCGATCG\n",
        "        ATCGATATCGATCG----\n",
        "\n"
       ]
      },
      {
       "output_type": "stream",
       "stream": "stderr",
       "text": [
        "/Users/caporaso/Dropbox/code/scikit-bio/skbio/alignment/_pairwise.py:594: UserWarning: make_identity_substitution_matrix is deprecated and will soon be replaced, though at the time of this writing the new name has not been finalized. Updates will be posted to issue #161: https://github.com/biocore/scikit-bio/issues/161\n",
        "  warn(\"make_identity_substitution_matrix is deprecated and will soon be \"\n",
        "/Users/caporaso/Dropbox/code/scikit-bio/skbio/alignment/_pairwise.py:540: EfficiencyWarning: You're using skbio's python implementation of Needleman-Wunsch alignment. This is known to be very slow (e.g., thousands of times slower than a native C implementation). We'll be adding a faster version soon (see https://github.com/biocore/scikit-bio/issues/254 to track progress on this).\n",
        "  \"to track progress on this).\", EfficiencyWarning)\n"
       ]
      }
     ],
     "prompt_number": 2
    },
    {
     "cell_type": "code",
     "collapsed": false,
     "input": [
      "alignment = global_pairwise_align_nucleotide(seq_1, seq_2, penalize_terminal_gaps=True)\n",
      "al_1, al_2 = [alignment.get_seq(_id).__str__() for _id in alignment.ids()]\n",
      "\n",
      "print \"    nw alignment using scikit:\"\n",
      "print \"        %s\" % al_1\n",
      "print \"        %s\" % al_2\n",
      "print"
     ],
     "language": "python",
     "metadata": {},
     "outputs": [
      {
       "output_type": "stream",
       "stream": "stdout",
       "text": [
        "    nw alignment using scikit:\n",
        "        ATCG--ATCGATCG\n",
        "        ATCGATATCGATCG\n",
        "\n"
       ]
      }
     ],
     "prompt_number": 3
    },
    {
     "cell_type": "code",
     "collapsed": false,
     "input": [],
     "language": "python",
     "metadata": {},
     "outputs": []
    }
   ],
   "metadata": {}
  }
 ]
}