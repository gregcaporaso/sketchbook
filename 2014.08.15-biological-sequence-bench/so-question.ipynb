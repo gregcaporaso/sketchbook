{
 "metadata": {
  "name": "",
  "signature": "sha256:daef5863754ff1fe2dae6a4bc10b2326a058c88b355fc8b5972754d9be2ac102"
 },
 "nbformat": 3,
 "nbformat_minor": 0,
 "worksheets": [
  {
   "cells": [
    {
     "cell_type": "markdown",
     "metadata": {},
     "source": [
      "Experiments in response to [SO question](http://stackoverflow.com/q/25332841/3424666)."
     ]
    },
    {
     "cell_type": "code",
     "collapsed": false,
     "input": [
      "from skbio.alignment import global_pairwise_align_nucleotide as nw\n",
      "\n",
      "seq_1 = 'ATCGATCGATCG'\n",
      "seq_2 = 'ATCGATATCGATCG'\n",
      "\n",
      "print \"Sequences: \"\n",
      "print \"     %s\" % seq_1\n",
      "print \"     %s\" % seq_2"
     ],
     "language": "python",
     "metadata": {},
     "outputs": [
      {
       "output_type": "stream",
       "stream": "stdout",
       "text": [
        "Sequences: \n",
        "     ATCGATCGATCG\n",
        "     ATCGATATCGATCG\n"
       ]
      }
     ],
     "prompt_number": 3
    },
    {
     "cell_type": "code",
     "collapsed": false,
     "input": [
      "alignment = nw(seq_1, seq_2)\n",
      "al_1, al_2 = [alignment.get_seq(_id).__str__() for _id in alignment.ids()]\n",
      "\n",
      "print \"    nw alignment using scikit:\"\n",
      "print \"        %s\" % al_1\n",
      "print \"        %s\" % al_2\n",
      "print"
     ],
     "language": "python",
     "metadata": {},
     "outputs": [
      {
       "output_type": "stream",
       "stream": "stdout",
       "text": [
        "    nw alignment using scikit:\n",
        "        ------ATCGATCGATCG\n",
        "        ATCGATATCGATCG----\n",
        "\n"
       ]
      }
     ],
     "prompt_number": 4
    },
    {
     "cell_type": "code",
     "collapsed": false,
     "input": [
      "alignment = nw(seq_1, seq_2, penalize_terminal_gaps=True)\n",
      "al_1, al_2 = [alignment.get_seq(_id).__str__() for _id in alignment.ids()]\n",
      "\n",
      "print \"    nw alignment using scikit:\"\n",
      "print \"        %s\" % al_1\n",
      "print \"        %s\" % al_2\n",
      "print"
     ],
     "language": "python",
     "metadata": {},
     "outputs": [
      {
       "output_type": "stream",
       "stream": "stdout",
       "text": [
        "    nw alignment using scikit:\n",
        "        ATCG--ATCGATCG\n",
        "        ATCGATATCGATCG\n",
        "\n"
       ]
      }
     ],
     "prompt_number": 5
    },
    {
     "cell_type": "code",
     "collapsed": false,
     "input": [],
     "language": "python",
     "metadata": {},
     "outputs": []
    }
   ],
   "metadata": {}
  }
 ]
}