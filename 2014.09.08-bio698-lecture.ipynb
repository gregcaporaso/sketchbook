{
 "metadata": {
  "name": "",
  "signature": "sha256:a3fe7a9b54d3bd18e3e9255fdfed177b9a7feb27f87949783a6b8bfb6b114aef"
 },
 "nbformat": 3,
 "nbformat_minor": 0,
 "worksheets": [
  {
   "cells": [
    {
     "cell_type": "heading",
     "level": 1,
     "metadata": {},
     "source": [
      "BIO 698: Bioinformatics Code Review, 8 Sept 2014"
     ]
    },
    {
     "cell_type": "heading",
     "level": 2,
     "metadata": {},
     "source": [
      "Outline"
     ]
    },
    {
     "cell_type": "markdown",
     "metadata": {},
     "source": [
      "1. Course introduction (see [syllabus](https://drive.google.com/file/d/0B_glGXLayhG7M1BRZ2t6cDZJY3M/edit?usp=sharing), [website](http://caporasolab.us/teaching/courses/bio698_fall_2014/index.html) and [schedule](https://www.google.com/calendar/embed?src=0d93db41l8iapv82vi7vnbqeag%40group.calendar.google.com&ctz=America/Phoenix)).\n",
      "2. Introduce resources at [SoftwareCarpentry](http://software-carpentry.org/).\n",
      "3. Student introductions: everyone will give 1-2 minute intro including:\n",
      "    1. name\n",
      "    2. degree program\n",
      "    3. current or planned research project\n",
      "    4. how is computing important in your research project? \n",
      "4. Greg's code review\n",
      "    1. Intro to scikit-bio (through slide 13 [here](http://scikit-bio.org/presentations/scipy/2014.07.09/index.html#/))\n",
      "    2. ``BiologicalSequence`` object ([code](https://github.com/biocore/scikit-bio/blob/master/skbio/sequence/_sequence.py#L21) and [docs](http://scikit-bio.org/docs/0.2.0/sequence.html))\n",
      "    3. k-words: length ``k`` subsequences of adjacent characters in a biological sequence\n",
      "    4. [test_k_words](https://github.com/biocore/scikit-bio/blob/master/skbio/sequence/tests/test_sequence.py#L163)\n",
      "    5. BiologicalSequence.k_words ([code](https://github.com/biocore/scikit-bio/blob/0.2.0/skbio/sequence/_sequence.py#L893) | [docs](http://scikit-bio.org/docs/0.2.0/generated/skbio.sequence.BiologicalSequence.k_words.html#skbio.sequence.BiologicalSequence.k_words))"
     ]
    },
    {
     "cell_type": "heading",
     "level": 2,
     "metadata": {},
     "source": [
      "Code review"
     ]
    },
    {
     "cell_type": "code",
     "collapsed": false,
     "input": [
      "import skbio # import the scikit-bio package\n",
      "\n",
      "# do some notebook configuration\n",
      "from __future__ import print_function\n",
      "from IPython.core import page\n",
      "page.page = print"
     ],
     "language": "python",
     "metadata": {},
     "outputs": [],
     "prompt_number": 1
    },
    {
     "cell_type": "heading",
     "level": 3,
     "metadata": {},
     "source": [
      "Intro to scikit-bio (through slide 13 [here](http://scikit-bio.org/presentations/scipy/2014.07.09/index.html#/))"
     ]
    },
    {
     "cell_type": "heading",
     "level": 3,
     "metadata": {},
     "source": [
      "Using the [``BiologicalSequence``](http://scikit-bio.org/docs/0.2.0/sequence.html) object"
     ]
    },
    {
     "cell_type": "heading",
     "level": 3,
     "metadata": {},
     "source": [
      "Review of ``k_words`` and ``test_k_words``"
     ]
    },
    {
     "cell_type": "markdown",
     "metadata": {},
     "source": [
      "First we'll review the [test code](https://github.com/biocore/scikit-bio/blob/master/skbio/sequence/tests/test_sequence.py#L163) so we can get an idea of the expected funcitonality of ``BiologicalSequence.k_words``. "
     ]
    },
    {
     "cell_type": "markdown",
     "metadata": {},
     "source": [
      "Next we'll look at the actual ``k_words`` code, which we can do with ``psource``."
     ]
    },
    {
     "cell_type": "code",
     "collapsed": false,
     "input": [
      "%psource skbio.sequence.BiologicalSequence.k_words"
     ],
     "language": "python",
     "metadata": {},
     "outputs": [
      {
       "output_type": "stream",
       "stream": "stdout",
       "text": [
        "    \u001b[0;32mdef\u001b[0m \u001b[0mk_words\u001b[0m\u001b[0;34m(\u001b[0m\u001b[0mself\u001b[0m\u001b[0;34m,\u001b[0m \u001b[0mk\u001b[0m\u001b[0;34m,\u001b[0m \u001b[0moverlapping\u001b[0m\u001b[0;34m=\u001b[0m\u001b[0mTrue\u001b[0m\u001b[0;34m,\u001b[0m \u001b[0mconstructor\u001b[0m\u001b[0;34m=\u001b[0m\u001b[0mstr\u001b[0m\u001b[0;34m)\u001b[0m\u001b[0;34m:\u001b[0m\u001b[0;34m\u001b[0m\n",
        "\u001b[0;34m\u001b[0m        \u001b[0;34m\"\"\"Get the list of words of length k\u001b[0m\n",
        "\u001b[0;34m\u001b[0m\n",
        "\u001b[0;34m        Parameters\u001b[0m\n",
        "\u001b[0;34m        ----------\u001b[0m\n",
        "\u001b[0;34m        k : int\u001b[0m\n",
        "\u001b[0;34m            The word length.\u001b[0m\n",
        "\u001b[0;34m        overlapping : bool, optional\u001b[0m\n",
        "\u001b[0;34m            Defines whether the k-words should be overlapping or not\u001b[0m\n",
        "\u001b[0;34m            overlapping.\u001b[0m\n",
        "\u001b[0;34m        constructor : type, optional\u001b[0m\n",
        "\u001b[0;34m            The constructor for the returned k-words.\u001b[0m\n",
        "\u001b[0;34m\u001b[0m\n",
        "\u001b[0;34m        Returns\u001b[0m\n",
        "\u001b[0;34m        -------\u001b[0m\n",
        "\u001b[0;34m        iterator\u001b[0m\n",
        "\u001b[0;34m            Iterator of words of length `k` contained in the\u001b[0m\n",
        "\u001b[0;34m            BiologicalSequence.\u001b[0m\n",
        "\u001b[0;34m\u001b[0m\n",
        "\u001b[0;34m        Raises\u001b[0m\n",
        "\u001b[0;34m        ------\u001b[0m\n",
        "\u001b[0;34m        ValueError\u001b[0m\n",
        "\u001b[0;34m            If k < 1.\u001b[0m\n",
        "\u001b[0;34m\u001b[0m\n",
        "\u001b[0;34m        Examples\u001b[0m\n",
        "\u001b[0;34m        --------\u001b[0m\n",
        "\u001b[0;34m        >>> from skbio.sequence import BiologicalSequence\u001b[0m\n",
        "\u001b[0;34m        >>> s = BiologicalSequence('ACACGACGTT')\u001b[0m\n",
        "\u001b[0;34m        >>> list(s.k_words(4, overlapping=False))\u001b[0m\n",
        "\u001b[0;34m        ['ACAC', 'GACG']\u001b[0m\n",
        "\u001b[0;34m        >>> list(s.k_words(3, overlapping=True))\u001b[0m\n",
        "\u001b[0;34m        ['ACA', 'CAC', 'ACG', 'CGA', 'GAC', 'ACG', 'CGT', 'GTT']\u001b[0m\n",
        "\u001b[0;34m\u001b[0m\n",
        "\u001b[0;34m        \"\"\"\u001b[0m\u001b[0;34m\u001b[0m\n",
        "\u001b[0;34m\u001b[0m        \u001b[0;32mif\u001b[0m \u001b[0mk\u001b[0m \u001b[0;34m<\u001b[0m \u001b[0;36m1\u001b[0m\u001b[0;34m:\u001b[0m\u001b[0;34m\u001b[0m\n",
        "\u001b[0;34m\u001b[0m            \u001b[0;32mraise\u001b[0m \u001b[0mValueError\u001b[0m\u001b[0;34m(\u001b[0m\u001b[0;34m\"k must be greater than 0.\"\u001b[0m\u001b[0;34m)\u001b[0m\u001b[0;34m\u001b[0m\n",
        "\u001b[0;34m\u001b[0m\u001b[0;34m\u001b[0m\n",
        "\u001b[0;34m\u001b[0m        \u001b[0msequence_length\u001b[0m \u001b[0;34m=\u001b[0m \u001b[0mlen\u001b[0m\u001b[0;34m(\u001b[0m\u001b[0mself\u001b[0m\u001b[0;34m)\u001b[0m\u001b[0;34m\u001b[0m\n",
        "\u001b[0;34m\u001b[0m\u001b[0;34m\u001b[0m\n",
        "\u001b[0;34m\u001b[0m        \u001b[0;32mif\u001b[0m \u001b[0moverlapping\u001b[0m\u001b[0;34m:\u001b[0m\u001b[0;34m\u001b[0m\n",
        "\u001b[0;34m\u001b[0m            \u001b[0mstep\u001b[0m \u001b[0;34m=\u001b[0m \u001b[0;36m1\u001b[0m\u001b[0;34m\u001b[0m\n",
        "\u001b[0;34m\u001b[0m        \u001b[0;32melse\u001b[0m\u001b[0;34m:\u001b[0m\u001b[0;34m\u001b[0m\n",
        "\u001b[0;34m\u001b[0m            \u001b[0mstep\u001b[0m \u001b[0;34m=\u001b[0m \u001b[0mk\u001b[0m\u001b[0;34m\u001b[0m\n",
        "\u001b[0;34m\u001b[0m\u001b[0;34m\u001b[0m\n",
        "\u001b[0;34m\u001b[0m        \u001b[0;32mfor\u001b[0m \u001b[0mi\u001b[0m \u001b[0;32min\u001b[0m \u001b[0mrange\u001b[0m\u001b[0;34m(\u001b[0m\u001b[0;36m0\u001b[0m\u001b[0;34m,\u001b[0m \u001b[0msequence_length\u001b[0m \u001b[0;34m-\u001b[0m \u001b[0mk\u001b[0m \u001b[0;34m+\u001b[0m \u001b[0;36m1\u001b[0m\u001b[0;34m,\u001b[0m \u001b[0mstep\u001b[0m\u001b[0;34m)\u001b[0m\u001b[0;34m:\u001b[0m\u001b[0;34m\u001b[0m\n",
        "\u001b[0;34m\u001b[0m            \u001b[0;32myield\u001b[0m \u001b[0mself\u001b[0m\u001b[0;34m.\u001b[0m\u001b[0m_sequence\u001b[0m\u001b[0;34m[\u001b[0m\u001b[0mi\u001b[0m\u001b[0;34m:\u001b[0m\u001b[0mi\u001b[0m\u001b[0;34m+\u001b[0m\u001b[0mk\u001b[0m\u001b[0;34m]\u001b[0m\u001b[0;34m\u001b[0m\u001b[0m\n",
        "\n"
       ]
      }
     ],
     "prompt_number": 4
    },
    {
     "cell_type": "code",
     "collapsed": false,
     "input": [],
     "language": "python",
     "metadata": {},
     "outputs": []
    },
    {
     "cell_type": "code",
     "collapsed": false,
     "input": [],
     "language": "python",
     "metadata": {},
     "outputs": []
    }
   ],
   "metadata": {}
  }
 ]
}