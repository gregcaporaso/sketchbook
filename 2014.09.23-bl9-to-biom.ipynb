{
 "metadata": {
  "name": "",
  "signature": "sha256:3ecf03a6a1eefc6bfc00a4b9de2ae582045e641b28526ffa9f22070a239df9a1"
 },
 "nbformat": 3,
 "nbformat_minor": 0,
 "worksheets": [
  {
   "cells": [
    {
     "cell_type": "markdown",
     "metadata": {},
     "source": [
      "This is some really ugly code illustrating how you could generate a biom table from a blast9 file. We're doing this for an experiment with RapSearch2 for read mapping, and are using this for testing purposes only. We'll need to get better support for this before using for real."
     ]
    },
    {
     "cell_type": "code",
     "collapsed": false,
     "input": [
      "# This cell is not necessary when running the steps below on an existing file\n",
      "\n",
      "s = \"\"\"# Fields: Query Subject identity        aln-len mismatch        gap-openings    q.start q.end   s.start s.end   log(e-value)    bit-score\n",
      "4472165.3.31762_6165\t11846454\t50\t24\t12\t0\t12\t83\t967\t990\t0.405978\t27.72\n",
      "4472165.3.31762_6165\t11846454\t90.9091\t11\t1\t0\t54\t86\t197\t207\t0.405978\t28.11\n",
      "4472165.3.31762_6165\t11815348\t57.6923\t26\t11\t0\t12\t89\t55\t80\t0.86\t35.42\n",
      "4472165.3.31762_6165\t12307352\t57.6923\t26\t11\t0\t12\t89\t1005\t1030\t0.86\t35.42\n",
      "4472165.3.31762_6165\t12304087\t57.6923\t26\t11\t0\t12\t89\t999\t1024\t0.86\t35.42\n",
      "4472165.3.31762_6165\t12022820\t57.6923\t26\t11\t0\t12\t89\t1721\t1746\t0.97\t35.04\n",
      "4472165.3.31762_6165\t3545817\t57.6923\t26\t11\t0\t12\t89\t418\t443\t0.97\t35.04\n",
      "4472165.3.31762_6165\t11801263\t57.6923\t26\t11\t0\t12\t89\t54\t79\t0.97\t35.04\n",
      "4472165.3.31762_10621\t6133288\t45.8333\t24\t13\t0\t75\t4\t35\t58\t0.86\t35.42\n",
      "4472165.3.31762_10621\t12247112\t45.8333\t24\t13\t0\t75\t4\t1318\t1341\t0.86\t35.42\n",
      "4472165.3.31762_10621\t4381619\t45.8333\t24\t13\t0\t75\t4\t423\t446\t0.98\t35.04\n",
      "4472165.4.31762_6165\t11846454\t50\t24\t12\t0\t12\t83\t967\t990\t0.405978\t27.72\n",
      "4472165.4.31762_6165\t11846454\t90.9091\t11\t1\t0\t54\t86\t197\t207\t0.405978\t28.11\n",
      "4472165.4.31762_6165\t11815348\t57.6923\t26\t11\t0\t12\t89\t55\t80\t0.86\t35.42\n",
      "4472165.4.31762_6165\t12307352\t57.6923\t26\t11\t0\t12\t89\t1005\t1030\t0.86\t35.42\n",
      "4472165.4.31762_6165\t12304087\t57.6923\t26\t11\t0\t12\t89\t999\t1024\t0.86\t35.42\n",
      "4472165.4.31762_6165\t12022820\t57.6923\t26\t11\t0\t12\t89\t1721\t1746\t0.97\t35.04\n",
      "4472165.4.31762_6165\t3545817\t57.6923\t26\t11\t0\t12\t89\t418\t443\t0.97\t35.04\n",
      "4472165.4.31762_6165\t11801263\t57.6923\t26\t11\t0\t12\t89\t54\t79\t0.97\t35.04\n",
      "4472165.4.31762_10621\t6133288\t45.8333\t24\t13\t0\t75\t4\t35\t58\t0.86\t35.42\n",
      "4472165.4.31762_10621\t12247112\t45.8333\t24\t13\t0\t75\t4\t1318\t1341\t0.86\t35.42\n",
      "4472165.4.31762_10621\t4381619\t45.8333\t24\t13\t0\t75\t4\t423\t446\t0.98\t35.04\"\"\"\n",
      "\n",
      "import tempfile\n",
      "\n",
      "tf = tempfile.NamedTemporaryFile(delete=False)\n",
      "tf.write(s)\n",
      "tf.close()"
     ],
     "language": "python",
     "metadata": {},
     "outputs": [],
     "prompt_number": 1
    },
    {
     "cell_type": "code",
     "collapsed": false,
     "input": [
      "# Update the minimum percent id and the MaxEvalue here - note that RapSearch2 is outputting \n",
      "# log(e-value). The MaxEvalue used here should be the log(e-value).\n",
      "\n",
      "from brokit.blat import MinimalBlatParser9\n",
      "\n",
      "max_log_evalue = 1.0\n",
      "minimum_pct_id = 0.55\n",
      "\n",
      "def bl9_to_observation_map(raw_output_fp, output_observation_map_fp, max_log_evalue, minimum_pct_id):\n",
      "    \"\"\" Generate observation map from .bl9 file\n",
      "    \"\"\"\n",
      "    result = {}\n",
      "    pct_id_field = 2\n",
      "    evalue_field = 10\n",
      "    output_observation_map_f = open(output_observation_map_fp, 'w')\n",
      "    last_observed_query_id = None\n",
      "    for summary, blat_results in MinimalBlatParser9(open(raw_output_fp, 'U'), include_column_names=False):\n",
      "        for e in blat_results:\n",
      "            if (float(e[evalue_field]) <= max_log_evalue and\n",
      "                float(e[pct_id_field]) / 100. >= minimum_pct_id):\n",
      "                query_id = e[0]\n",
      "                subject_id = e[1]\n",
      "                if query_id == last_observed_query_id:\n",
      "                    # we've observed a duplicate hit, ignore this one\n",
      "                    continue\n",
      "                else:\n",
      "                    last_observed_query_id = query_id\n",
      "                    try:\n",
      "                        result[subject_id].append(query_id)\n",
      "                    except KeyError:\n",
      "                        result[subject_id] = [query_id]\n",
      "    for e in result.items():\n",
      "        output_observation_map_f.write(\n",
      "            '%s\\t%s\\n' %\n",
      "            (e[0], '\\t'.join(e[1])))\n",
      "    output_observation_map_f.close()\n",
      "    return result"
     ],
     "language": "python",
     "metadata": {},
     "outputs": [],
     "prompt_number": 2
    },
    {
     "cell_type": "code",
     "collapsed": false,
     "input": [
      "result = bl9_to_observation_map(tf.name, 'observation-map.txt', max_log_evalue, minimum_pct_id)"
     ],
     "language": "python",
     "metadata": {},
     "outputs": [],
     "prompt_number": 3
    },
    {
     "cell_type": "code",
     "collapsed": false,
     "input": [
      "!cat observation-map.txt"
     ],
     "language": "python",
     "metadata": {},
     "outputs": [
      {
       "output_type": "stream",
       "stream": "stdout",
       "text": [
        "11846454\t4472165.3.31762_6165\t4472165.4.31762_6165\r\n"
       ]
      }
     ],
     "prompt_number": 4
    },
    {
     "cell_type": "code",
     "collapsed": false,
     "input": [
      "!make_otu_table.py -i observation-map.txt -o table.biom"
     ],
     "language": "python",
     "metadata": {},
     "outputs": [],
     "prompt_number": 5
    },
    {
     "cell_type": "code",
     "collapsed": false,
     "input": [
      "!biom summarize-table -i table.biom"
     ],
     "language": "python",
     "metadata": {},
     "outputs": [
      {
       "output_type": "stream",
       "stream": "stdout",
       "text": [
        "Num samples: 2\r\n",
        "Num observations: 1\r\n",
        "Total count: 2\r\n",
        "Table density (fraction of non-zero values): 1.000\r\n",
        "\r\n",
        "Counts/sample summary:\r\n",
        " Min: 1.0\r\n",
        " Max: 1.0\r\n",
        " Median: 1.000\r\n",
        " Mean: 1.000\r\n",
        " Std. dev.: 0.000\r\n",
        " Sample Metadata Categories: \r\n",
        " Observation Metadata Categories: \r\n",
        "\r\n",
        "Counts/sample detail:\r\n",
        " 4472165.3.31762: 1.0\r\n",
        " 4472165.4.31762: 1.0\r\n"
       ]
      }
     ],
     "prompt_number": 6
    },
    {
     "cell_type": "code",
     "collapsed": false,
     "input": [],
     "language": "python",
     "metadata": {},
     "outputs": [],
     "prompt_number": 6
    }
   ],
   "metadata": {}
  }
 ]
}