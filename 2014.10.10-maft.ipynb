{
 "metadata": {
  "name": "",
  "signature": "sha256:371d5975b0847e6fea90bd6d84c0d78887d1332df6bcac7c81c6dbf00195b1d7"
 },
 "nbformat": 3,
 "nbformat_minor": 0,
 "worksheets": [
  {
   "cells": [
    {
     "cell_type": "code",
     "collapsed": false,
     "input": [
      "!mafft -h"
     ],
     "language": "python",
     "metadata": {},
     "outputs": [
      {
       "output_type": "stream",
       "stream": "stdout",
       "text": [
        "\r\n",
        "/usr/local/bin/mafft: Cannot open -h.\r\n",
        "\r\n"
       ]
      },
      {
       "output_type": "stream",
       "stream": "stdout",
       "text": [
        "------------------------------------------------------------------------------\r\n",
        "  MAFFT v7.187 (2014/10/02)\r\n",
        "  http://mafft.cbrc.jp/alignment/software/\r\n",
        "  MBE 30:772-780 (2013), NAR 30:3059-3066 (2002)\r\n",
        "------------------------------------------------------------------------------\r\n",
        "High speed:\r\n",
        "  % mafft in > out\r\n",
        "  % mafft --retree 1 in > out (fast)\r\n",
        "\r\n",
        "High accuracy (for <~200 sequences x <~2,000 aa/nt):\r\n",
        "  % mafft --maxiterate 1000 --localpair  in > out (% linsi in > out is also ok)\r\n",
        "  % mafft --maxiterate 1000 --genafpair  in > out (% einsi in > out)\r\n",
        "  % mafft --maxiterate 1000 --globalpair in > out (% ginsi in > out)\r\n",
        "\r\n",
        "If unsure which option to use:\r\n",
        "  % mafft --auto in > out\r\n",
        "\r\n",
        "--op # :         Gap opening penalty, default: 1.53\r\n",
        "--ep # :         Offset (works like gap extension penalty), default: 0.0\r\n",
        "--maxiterate # : Maximum number of iterative refinement, default: 0\r\n",
        "--clustalout :   Output: clustal format, default: fasta\r\n",
        "--reorder :      Outorder: aligned, default: input order\r\n",
        "--quiet :        Do not report progress\r\n",
        "--thread # :     Number of threads (if unsure, --thread -1)\r\n"
       ]
      }
     ],
     "prompt_number": 1
    },
    {
     "cell_type": "code",
     "collapsed": false,
     "input": [
      "%%timeit\n",
      "\n",
      "!mafft /Users/caporaso/data/gg_13_8_otus/rep_set/73_otus.fasta > out.fasta"
     ],
     "language": "python",
     "metadata": {},
     "outputs": [
      {
       "output_type": "stream",
       "stream": "stdout",
       "text": [
        "\r\n"
       ]
      },
      {
       "output_type": "stream",
       "stream": "stdout",
       "text": [
        "nseq =  267\r\n",
        "distance =  ktuples\r\n",
        "iterate =  0\r\n",
        "cycle =  2\r\n",
        "nguidetree = 2\r\n",
        "nthread = 0\r\n",
        "sueff_global = 0.100000\r\n"
       ]
      },
      {
       "output_type": "stream",
       "stream": "stdout",
       "text": [
        "generating a scoring matrix for nucleotide (dist=200) ... done\r\n",
        "done\r\n",
        "done\r\n",
        "scoremtx = -1\r\n",
        "Gap Penalty = -1.53, +0.00, +0.00\r\n",
        "\r\n",
        "tuplesize = 6, dorp = d\r\n",
        "\r\n",
        "\r\n",
        "Making a distance matrix ..\r\n",
        "\r\n",
        "There are 871 ambiguous characters.\r\n",
        "\r",
        "    1 / 267"
       ]
      },
      {
       "output_type": "stream",
       "stream": "stdout",
       "text": [
        "\r",
        "  101 / 267"
       ]
      },
      {
       "output_type": "stream",
       "stream": "stdout",
       "text": [
        "\r",
        "  201 / 267\r\n",
        "done.\r\n",
        "\r\n",
        "Constructing a UPGMA tree ... \r\n",
        "\r",
        "    0 / 267\r",
        "   10 / 267\r",
        "   20 / 267\r",
        "   30 / 267\r",
        "   40 / 267\r",
        "   50 / 267\r",
        "   60 / 267\r",
        "   70 / 267\r",
        "   80 / 267\r",
        "   90 / 267\r",
        "  100 / 267\r",
        "  110 / 267\r",
        "  120 / 267\r",
        "  130 / 267\r",
        "  140 / 267\r",
        "  150 / 267\r",
        "  160 / 267\r",
        "  170 / 267\r",
        "  180 / 267\r",
        "  190 / 267\r",
        "  200 / 267\r",
        "  210 / 267\r",
        "  220 / 267\r",
        "  230 / 267\r",
        "  240 / 267\r",
        "  250 / 267\r",
        "  260 / 267\r\n",
        "done.\r\n",
        "\r\n",
        "Progressive alignment 1/2... \r\n",
        "\r",
        "STEP     1 / 266 f"
       ]
      },
      {
       "output_type": "stream",
       "stream": "stdout",
       "text": [
        "\r",
        "STEP     2 / 266 f\r",
        "STEP     3 / 266 f\r",
        "STEP     4 / 266 f\r",
        "STEP     5 / 266 f\r",
        "STEP     6 / 266 f\r",
        "STEP     7 / 266 f\r",
        "STEP     8 / 266 f\r",
        "STEP     9 / 266 f"
       ]
      },
      {
       "output_type": "stream",
       "stream": "stdout",
       "text": [
        "\r",
        "STEP    10 / 266 f\r",
        "STEP    11 / 266 f\r",
        "STEP    12 / 266 f\r",
        "STEP    13 / 266 f\r",
        "STEP    14 / 266 f"
       ]
      },
      {
       "output_type": "stream",
       "stream": "stdout",
       "text": [
        "\r",
        "STEP    15 / 266 f\r",
        "STEP    16 / 266 f\r",
        "STEP    17 / 266 f\r",
        "STEP    18 / 266 f"
       ]
      },
      {
       "output_type": "stream",
       "stream": "stdout",
       "text": [
        "\r",
        "STEP    19 / 266 f\r",
        "STEP    20 / 266 f\r",
        "STEP    21 / 266 f\r",
        "STEP    22 / 266 f"
       ]
      },
      {
       "output_type": "stream",
       "stream": "stdout",
       "text": [
        "\r",
        "STEP    23 / 266 f"
       ]
      },
      {
       "output_type": "stream",
       "stream": "stdout",
       "text": [
        "\r",
        "STEP    24 / 266 f\r",
        "STEP    25 / 266 f\r",
        "STEP    26 / 266 f\r",
        "STEP    27 / 266 f\r",
        "STEP    28 / 266 d"
       ]
      },
      {
       "output_type": "stream",
       "stream": "stdout",
       "text": [
        "\r",
        "STEP    29 / 266 f\r",
        "STEP    30 / 266 f\r",
        "STEP    31 / 266 f"
       ]
      },
      {
       "output_type": "stream",
       "stream": "stdout",
       "text": [
        "\r",
        "STEP    32 / 266 f\r",
        "STEP    33 / 266 f"
       ]
      },
      {
       "output_type": "stream",
       "stream": "stdout",
       "text": [
        "\r",
        "STEP    34 / 266 f\r",
        "STEP    35 / 266 f\r",
        "STEP    36 / 266 f"
       ]
      },
      {
       "output_type": "stream",
       "stream": "stdout",
       "text": [
        "\r",
        "STEP    37 / 266 f\r",
        "STEP    38 / 266 f"
       ]
      },
      {
       "output_type": "stream",
       "stream": "stdout",
       "text": [
        "\r",
        "STEP    39 / 266 f\r",
        "STEP    40 / 266 f\r",
        "STEP    41 / 266 f"
       ]
      },
      {
       "output_type": "stream",
       "stream": "stdout",
       "text": [
        "\r",
        "STEP    42 / 266 f\r",
        "STEP    43 / 266 d"
       ]
      },
      {
       "output_type": "stream",
       "stream": "stdout",
       "text": [
        "\r",
        "STEP    44 / 266 f"
       ]
      },
      {
       "output_type": "stream",
       "stream": "stdout",
       "text": [
        "\r",
        "STEP    45 / 266 f\r",
        "STEP    46 / 266 d"
       ]
      },
      {
       "output_type": "stream",
       "stream": "stdout",
       "text": [
        "\r",
        "STEP    47 / 266 f\r",
        "STEP    48 / 266 f"
       ]
      },
      {
       "output_type": "stream",
       "stream": "stdout",
       "text": [
        "\r",
        "STEP    49 / 266 f"
       ]
      },
      {
       "output_type": "stream",
       "stream": "stdout",
       "text": [
        "\r",
        "STEP    50 / 266 f\r",
        "STEP    51 / 266 d"
       ]
      },
      {
       "output_type": "stream",
       "stream": "stdout",
       "text": [
        "\r",
        "STEP    52 / 266 f\r",
        "STEP    53 / 266 d"
       ]
      },
      {
       "output_type": "stream",
       "stream": "stdout",
       "text": [
        "\r",
        "STEP    54 / 266 d"
       ]
      },
      {
       "output_type": "stream",
       "stream": "stdout",
       "text": [
        "\r",
        "STEP    55 / 266 d"
       ]
      },
      {
       "output_type": "stream",
       "stream": "stdout",
       "text": [
        "\r",
        "STEP    56 / 266 f\r",
        "STEP    57 / 266 d"
       ]
      },
      {
       "output_type": "stream",
       "stream": "stdout",
       "text": [
        "\r",
        "STEP    58 / 266 d"
       ]
      },
      {
       "output_type": "stream",
       "stream": "stdout",
       "text": [
        "\r",
        "STEP    59 / 266 d\r",
        "STEP    60 / 266 d"
       ]
      },
      {
       "output_type": "stream",
       "stream": "stdout",
       "text": [
        "\r",
        "STEP    61 / 266 f\r",
        "STEP    62 / 266 f"
       ]
      },
      {
       "output_type": "stream",
       "stream": "stdout",
       "text": [
        "\r",
        "STEP    63 / 266 f\r",
        "STEP    64 / 266 f"
       ]
      },
      {
       "output_type": "stream",
       "stream": "stdout",
       "text": [
        "\r",
        "STEP    65 / 266 d"
       ]
      },
      {
       "output_type": "stream",
       "stream": "stdout",
       "text": [
        "\r",
        "STEP    66 / 266 f\r",
        "STEP    67 / 266 d"
       ]
      },
      {
       "output_type": "stream",
       "stream": "stdout",
       "text": [
        "\r",
        "STEP    68 / 266 d"
       ]
      },
      {
       "output_type": "stream",
       "stream": "stdout",
       "text": [
        "\r",
        "STEP    69 / 266 f\r",
        "STEP    70 / 266 d"
       ]
      },
      {
       "output_type": "stream",
       "stream": "stdout",
       "text": [
        "\r",
        "STEP    71 / 266 f\r",
        "STEP    72 / 266 d"
       ]
      },
      {
       "output_type": "stream",
       "stream": "stdout",
       "text": [
        "\r",
        "STEP    73 / 266 f\r",
        "STEP    74 / 266 f"
       ]
      },
      {
       "output_type": "stream",
       "stream": "stdout",
       "text": [
        "\r",
        "STEP    75 / 266 f\r",
        "STEP    76 / 266 f"
       ]
      },
      {
       "output_type": "stream",
       "stream": "stdout",
       "text": [
        "\r",
        "STEP    77 / 266 f\r",
        "STEP    78 / 266 d"
       ]
      },
      {
       "output_type": "stream",
       "stream": "stdout",
       "text": [
        "\r",
        "STEP    79 / 266 f\r",
        "STEP    80 / 266 d"
       ]
      },
      {
       "output_type": "stream",
       "stream": "stdout",
       "text": [
        "\r",
        "STEP    81 / 266 f\r",
        "STEP    82 / 266 f"
       ]
      },
      {
       "output_type": "stream",
       "stream": "stdout",
       "text": [
        "\r",
        "STEP    83 / 266 f"
       ]
      },
      {
       "output_type": "stream",
       "stream": "stdout",
       "text": [
        "\r",
        "STEP    84 / 266 d\r",
        "STEP    85 / 266 d"
       ]
      },
      {
       "output_type": "stream",
       "stream": "stdout",
       "text": [
        "\r",
        "STEP    86 / 266 f"
       ]
      },
      {
       "output_type": "stream",
       "stream": "stdout",
       "text": [
        "\r",
        "STEP    87 / 266 d\r",
        "STEP    88 / 266 d"
       ]
      },
      {
       "output_type": "stream",
       "stream": "stdout",
       "text": [
        "\r",
        "STEP    89 / 266 f\r",
        "STEP    90 / 266 f"
       ]
      },
      {
       "output_type": "stream",
       "stream": "stdout",
       "text": [
        "\r",
        "STEP    91 / 266 d"
       ]
      },
      {
       "output_type": "stream",
       "stream": "stdout",
       "text": [
        "\r",
        "STEP    92 / 266 f\r",
        "STEP    93 / 266 d"
       ]
      },
      {
       "output_type": "stream",
       "stream": "stdout",
       "text": [
        "\r",
        "STEP    94 / 266 d"
       ]
      },
      {
       "output_type": "stream",
       "stream": "stdout",
       "text": [
        "\r",
        "STEP    95 / 266 f\r",
        "STEP    96 / 266 d"
       ]
      },
      {
       "output_type": "stream",
       "stream": "stdout",
       "text": [
        "\r",
        "STEP    97 / 266 d"
       ]
      },
      {
       "output_type": "stream",
       "stream": "stdout",
       "text": [
        "\r",
        "STEP    98 / 266 f\r",
        "STEP    99 / 266 d"
       ]
      },
      {
       "output_type": "stream",
       "stream": "stdout",
       "text": [
        "\r",
        "STEP   100 / 266 f\r",
        "STEP   101 / 266 f"
       ]
      },
      {
       "output_type": "stream",
       "stream": "stdout",
       "text": [
        "\r",
        "STEP   102 / 266 d"
       ]
      },
      {
       "output_type": "stream",
       "stream": "stdout",
       "text": [
        "\r",
        "STEP   103 / 266 f\r",
        "STEP   104 / 266 d"
       ]
      },
      {
       "output_type": "stream",
       "stream": "stdout",
       "text": [
        "\r",
        "STEP   105 / 266 d"
       ]
      },
      {
       "output_type": "stream",
       "stream": "stdout",
       "text": [
        "\r",
        "STEP   106 / 266 d"
       ]
      },
      {
       "output_type": "stream",
       "stream": "stdout",
       "text": [
        "\r",
        "STEP   107 / 266 d"
       ]
      },
      {
       "output_type": "stream",
       "stream": "stdout",
       "text": [
        "\r",
        "STEP   108 / 266 f\r",
        "STEP   109 / 266 f"
       ]
      },
      {
       "output_type": "stream",
       "stream": "stdout",
       "text": [
        "\r",
        "STEP   110 / 266 f\r",
        "STEP   111 / 266 f\r",
        "STEP   112 / 266 d"
       ]
      },
      {
       "output_type": "stream",
       "stream": "stdout",
       "text": [
        "\r",
        "STEP   113 / 266 d"
       ]
      },
      {
       "output_type": "stream",
       "stream": "stdout",
       "text": [
        "\r",
        "STEP   114 / 266 f\r",
        "STEP   115 / 266 d"
       ]
      },
      {
       "output_type": "stream",
       "stream": "stdout",
       "text": [
        "\r",
        "STEP   116 / 266 d"
       ]
      },
      {
       "output_type": "stream",
       "stream": "stdout",
       "text": [
        "\r",
        "STEP   117 / 266 f\r",
        "STEP   118 / 266 d"
       ]
      },
      {
       "output_type": "stream",
       "stream": "stdout",
       "text": [
        "\r",
        "STEP   119 / 266 d\r",
        "STEP   120 / 266 d"
       ]
      },
      {
       "output_type": "stream",
       "stream": "stdout",
       "text": [
        "\r",
        "STEP   121 / 266 d"
       ]
      },
      {
       "output_type": "stream",
       "stream": "stdout",
       "text": [
        "\r\n",
        "Reallocating..done. *alloclen = 5644\r\n",
        "\r",
        "STEP   122 / 266 d"
       ]
      },
      {
       "output_type": "stream",
       "stream": "stdout",
       "text": [
        "\r",
        "STEP   123 / 266 d"
       ]
      },
      {
       "output_type": "stream",
       "stream": "stdout",
       "text": [
        "\r",
        "STEP   124 / 266 d\r",
        "STEP   125 / 266 d"
       ]
      },
      {
       "output_type": "stream",
       "stream": "stdout",
       "text": [
        "\r",
        "STEP   126 / 266 d"
       ]
      },
      {
       "output_type": "stream",
       "stream": "stdout",
       "text": [
        "\r",
        "STEP   127 / 266 f\r",
        "STEP   128 / 266 d"
       ]
      },
      {
       "output_type": "stream",
       "stream": "stdout",
       "text": [
        "\r",
        "STEP   129 / 266 d"
       ]
      },
      {
       "output_type": "stream",
       "stream": "stdout",
       "text": [
        "\r",
        "STEP   130 / 266 d"
       ]
      },
      {
       "output_type": "stream",
       "stream": "stdout",
       "text": [
        "\r",
        "STEP   131 / 266 d"
       ]
      },
      {
       "output_type": "stream",
       "stream": "stdout",
       "text": [
        "\r",
        "STEP   132 / 266 d"
       ]
      },
      {
       "output_type": "stream",
       "stream": "stdout",
       "text": [
        "\r",
        "STEP   133 / 266 d"
       ]
      },
      {
       "output_type": "stream",
       "stream": "stdout",
       "text": [
        "\r",
        "STEP   134 / 266 d"
       ]
      },
      {
       "output_type": "stream",
       "stream": "stdout",
       "text": [
        "\r",
        "STEP   135 / 266 d"
       ]
      },
      {
       "output_type": "stream",
       "stream": "stdout",
       "text": [
        "\r",
        "STEP   136 / 266 d"
       ]
      },
      {
       "output_type": "stream",
       "stream": "stdout",
       "text": [
        "\r",
        "STEP   137 / 266 d"
       ]
      },
      {
       "output_type": "stream",
       "stream": "stdout",
       "text": [
        "\r",
        "STEP   138 / 266 d"
       ]
      },
      {
       "output_type": "stream",
       "stream": "stdout",
       "text": [
        "\r",
        "STEP   139 / 266 d\r",
        "STEP   140 / 266 f"
       ]
      },
      {
       "output_type": "stream",
       "stream": "stdout",
       "text": [
        "\r",
        "STEP   141 / 266 d"
       ]
      },
      {
       "output_type": "stream",
       "stream": "stdout",
       "text": [
        "\r",
        "STEP   142 / 266 f\r",
        "STEP   143 / 266 d"
       ]
      },
      {
       "output_type": "stream",
       "stream": "stdout",
       "text": [
        "\r",
        "STEP   144 / 266 d"
       ]
      },
      {
       "output_type": "stream",
       "stream": "stdout",
       "text": [
        "\r",
        "STEP   145 / 266 d"
       ]
      },
      {
       "output_type": "stream",
       "stream": "stdout",
       "text": [
        "\r",
        "STEP   146 / 266 d"
       ]
      },
      {
       "output_type": "stream",
       "stream": "stdout",
       "text": [
        "\r",
        "STEP   147 / 266 d"
       ]
      },
      {
       "output_type": "stream",
       "stream": "stdout",
       "text": [
        "\r",
        "STEP   148 / 266 f"
       ]
      },
      {
       "output_type": "stream",
       "stream": "stdout",
       "text": [
        "\r",
        "STEP   149 / 266 d"
       ]
      },
      {
       "output_type": "stream",
       "stream": "stdout",
       "text": [
        "\r",
        "STEP   150 / 266 d"
       ]
      },
      {
       "output_type": "stream",
       "stream": "stdout",
       "text": [
        "\r",
        "STEP   151 / 266 d"
       ]
      },
      {
       "output_type": "stream",
       "stream": "stdout",
       "text": [
        "\r",
        "STEP   152 / 266 f\r",
        "STEP   153 / 266 d"
       ]
      },
      {
       "output_type": "stream",
       "stream": "stdout",
       "text": [
        "\r",
        "STEP   154 / 266 d"
       ]
      },
      {
       "output_type": "stream",
       "stream": "stdout",
       "text": [
        "\r",
        "STEP   155 / 266 f\r",
        "STEP   156 / 266 d"
       ]
      },
      {
       "output_type": "stream",
       "stream": "stdout",
       "text": [
        "\r",
        "STEP   157 / 266 d"
       ]
      },
      {
       "output_type": "stream",
       "stream": "stdout",
       "text": [
        "\r",
        "STEP   158 / 266 d\r",
        "STEP   159 / 266 d"
       ]
      },
      {
       "output_type": "stream",
       "stream": "stdout",
       "text": [
        "\r",
        "STEP   160 / 266 d"
       ]
      },
      {
       "output_type": "stream",
       "stream": "stdout",
       "text": [
        "\r",
        "STEP   161 / 266 d\r",
        "STEP   162 / 266 f"
       ]
      },
      {
       "output_type": "stream",
       "stream": "stdout",
       "text": [
        "\r",
        "STEP   163 / 266 d"
       ]
      },
      {
       "output_type": "stream",
       "stream": "stdout",
       "text": [
        "\r",
        "STEP   164 / 266 d"
       ]
      },
      {
       "output_type": "stream",
       "stream": "stdout",
       "text": [
        "\r",
        "STEP   165 / 266 d"
       ]
      },
      {
       "output_type": "stream",
       "stream": "stdout",
       "text": [
        "\r",
        "STEP   166 / 266 f\r",
        "STEP   167 / 266 f\r",
        "STEP   168 / 266 d"
       ]
      },
      {
       "output_type": "stream",
       "stream": "stdout",
       "text": [
        "\r",
        "STEP   169 / 266 d"
       ]
      },
      {
       "output_type": "stream",
       "stream": "stdout",
       "text": [
        "\r",
        "STEP   170 / 266 d"
       ]
      },
      {
       "output_type": "stream",
       "stream": "stdout",
       "text": [
        "\r",
        "STEP   171 / 266 d"
       ]
      },
      {
       "output_type": "stream",
       "stream": "stdout",
       "text": [
        "\r",
        "STEP   172 / 266 d"
       ]
      },
      {
       "output_type": "stream",
       "stream": "stdout",
       "text": [
        "\r",
        "STEP   173 / 266 f\r",
        "STEP   174 / 266 d"
       ]
      },
      {
       "output_type": "stream",
       "stream": "stdout",
       "text": [
        "\r",
        "STEP   175 / 266 d"
       ]
      },
      {
       "output_type": "stream",
       "stream": "stdout",
       "text": [
        "\r",
        "STEP   176 / 266 d\r",
        "STEP   177 / 266 d"
       ]
      },
      {
       "output_type": "stream",
       "stream": "stdout",
       "text": [
        "\r",
        "STEP   178 / 266 f"
       ]
      },
      {
       "output_type": "stream",
       "stream": "stdout",
       "text": [
        "\r",
        "STEP   179 / 266 d"
       ]
      },
      {
       "output_type": "stream",
       "stream": "stdout",
       "text": [
        "\r",
        "STEP   180 / 266 d"
       ]
      },
      {
       "output_type": "stream",
       "stream": "stdout",
       "text": [
        "\r",
        "STEP   181 / 266 d"
       ]
      },
      {
       "output_type": "stream",
       "stream": "stdout",
       "text": [
        "\r",
        "STEP   182 / 266 d"
       ]
      },
      {
       "output_type": "stream",
       "stream": "stdout",
       "text": [
        "\r",
        "STEP   183 / 266 d"
       ]
      },
      {
       "output_type": "stream",
       "stream": "stdout",
       "text": [
        "\r",
        "STEP   184 / 266 d"
       ]
      },
      {
       "output_type": "stream",
       "stream": "stdout",
       "text": [
        "\r",
        "STEP   185 / 266 f"
       ]
      },
      {
       "output_type": "stream",
       "stream": "stdout",
       "text": [
        "\r",
        "STEP   186 / 266 f\r\n",
        "Reallocating..done. *alloclen = 6953\r\n",
        "\r",
        "STEP   187 / 266 d"
       ]
      },
      {
       "output_type": "stream",
       "stream": "stdout",
       "text": [
        "\r",
        "STEP   188 / 266 d"
       ]
      },
      {
       "output_type": "stream",
       "stream": "stdout",
       "text": [
        "\r",
        "STEP   189 / 266 d"
       ]
      },
      {
       "output_type": "stream",
       "stream": "stdout",
       "text": [
        "\r",
        "STEP   190 / 266 f\r",
        "STEP   191 / 266 d"
       ]
      },
      {
       "output_type": "stream",
       "stream": "stdout",
       "text": [
        "\r",
        "STEP   192 / 266 d"
       ]
      },
      {
       "output_type": "stream",
       "stream": "stdout",
       "text": [
        "\r",
        "STEP   193 / 266 d"
       ]
      },
      {
       "output_type": "stream",
       "stream": "stdout",
       "text": [
        "\r",
        "STEP   194 / 266 d\r",
        "STEP   195 / 266 d"
       ]
      },
      {
       "output_type": "stream",
       "stream": "stdout",
       "text": [
        "\r",
        "STEP   196 / 266 d"
       ]
      },
      {
       "output_type": "stream",
       "stream": "stdout",
       "text": [
        "\r",
        "STEP   197 / 266 d"
       ]
      },
      {
       "output_type": "stream",
       "stream": "stdout",
       "text": [
        "\r",
        "STEP   198 / 266 d"
       ]
      },
      {
       "output_type": "stream",
       "stream": "stdout",
       "text": [
        "\r",
        "STEP   199 / 266 d"
       ]
      },
      {
       "output_type": "stream",
       "stream": "stdout",
       "text": [
        "\r",
        "STEP   200 / 266 d"
       ]
      },
      {
       "output_type": "stream",
       "stream": "stdout",
       "text": [
        "\r",
        "STEP   201 / 266 f\r",
        "STEP   202 / 266 d"
       ]
      },
      {
       "output_type": "stream",
       "stream": "stdout",
       "text": [
        "\r",
        "STEP   203 / 266 d"
       ]
      },
      {
       "output_type": "stream",
       "stream": "stdout",
       "text": [
        "\r",
        "STEP   204 / 266 d"
       ]
      },
      {
       "output_type": "stream",
       "stream": "stdout",
       "text": [
        "\r",
        "STEP   205 / 266 f"
       ]
      },
      {
       "output_type": "stream",
       "stream": "stdout",
       "text": [
        "\r",
        "STEP   206 / 266 f\r",
        "STEP   207 / 266 f\r",
        "STEP   208 / 266 d"
       ]
      },
      {
       "output_type": "stream",
       "stream": "stdout",
       "text": [
        "\r",
        "STEP   209 / 266 d"
       ]
      },
      {
       "output_type": "stream",
       "stream": "stdout",
       "text": [
        "\r",
        "STEP   210 / 266 d\r",
        "STEP   211 / 266 f"
       ]
      },
      {
       "output_type": "stream",
       "stream": "stdout",
       "text": [
        "\r",
        "STEP   212 / 266 d"
       ]
      },
      {
       "output_type": "stream",
       "stream": "stdout",
       "text": [
        "\r",
        "STEP   213 / 266 d"
       ]
      },
      {
       "output_type": "stream",
       "stream": "stdout",
       "text": [
        "\r",
        "STEP   214 / 266 d"
       ]
      },
      {
       "output_type": "stream",
       "stream": "stdout",
       "text": [
        "\r",
        "STEP   215 / 266 f"
       ]
      },
      {
       "output_type": "stream",
       "stream": "stdout",
       "text": [
        "\r",
        "STEP   216 / 266 d"
       ]
      },
      {
       "output_type": "stream",
       "stream": "stdout",
       "text": [
        "\r",
        "STEP   217 / 266 d"
       ]
      },
      {
       "output_type": "stream",
       "stream": "stdout",
       "text": [
        "\r",
        "STEP   218 / 266 f"
       ]
      },
      {
       "output_type": "stream",
       "stream": "stdout",
       "text": [
        "\r",
        "STEP   219 / 266 d"
       ]
      },
      {
       "output_type": "stream",
       "stream": "stdout",
       "text": [
        "\r",
        "STEP   220 / 266 d"
       ]
      },
      {
       "output_type": "stream",
       "stream": "stdout",
       "text": [
        "\r",
        "STEP   221 / 266 d"
       ]
      },
      {
       "output_type": "stream",
       "stream": "stdout",
       "text": [
        "\r",
        "STEP   222 / 266 d"
       ]
      },
      {
       "output_type": "stream",
       "stream": "stdout",
       "text": [
        "\r\n",
        "Reallocating..done. *alloclen = 9470\r\n",
        "\r",
        "STEP   223 / 266 d"
       ]
      },
      {
       "output_type": "stream",
       "stream": "stdout",
       "text": [
        "\r",
        "STEP   224 / 266 d"
       ]
      },
      {
       "output_type": "stream",
       "stream": "stdout",
       "text": [
        "\r",
        "STEP   225 / 266 d"
       ]
      },
      {
       "output_type": "stream",
       "stream": "stdout",
       "text": [
        "\r",
        "STEP   226 / 266 f"
       ]
      },
      {
       "output_type": "stream",
       "stream": "stdout",
       "text": [
        "\r",
        "STEP   227 / 266 d"
       ]
      },
      {
       "output_type": "stream",
       "stream": "stdout",
       "text": [
        "\r",
        "STEP   228 / 266 d"
       ]
      },
      {
       "output_type": "stream",
       "stream": "stdout",
       "text": [
        "\r",
        "STEP   229 / 266 d"
       ]
      },
      {
       "output_type": "stream",
       "stream": "stdout",
       "text": [
        "\r",
        "STEP   230 / 266 d"
       ]
      },
      {
       "output_type": "stream",
       "stream": "stdout",
       "text": [
        "\r",
        "STEP   231 / 266 d"
       ]
      },
      {
       "output_type": "stream",
       "stream": "stdout",
       "text": [
        "\r",
        "STEP   232 / 266 d"
       ]
      },
      {
       "output_type": "stream",
       "stream": "stdout",
       "text": [
        "\r",
        "STEP   233 / 266 d"
       ]
      },
      {
       "output_type": "stream",
       "stream": "stdout",
       "text": [
        "\r",
        "STEP   234 / 266 d"
       ]
      },
      {
       "output_type": "stream",
       "stream": "stdout",
       "text": [
        "\r",
        "STEP   235 / 266 f"
       ]
      },
      {
       "output_type": "stream",
       "stream": "stdout",
       "text": [
        "\r",
        "STEP   236 / 266 d"
       ]
      },
      {
       "output_type": "stream",
       "stream": "stdout",
       "text": [
        "\r",
        "STEP   237 / 266 d"
       ]
      },
      {
       "output_type": "stream",
       "stream": "stdout",
       "text": [
        "\r",
        "STEP   238 / 266 d"
       ]
      },
      {
       "output_type": "stream",
       "stream": "stdout",
       "text": [
        "\r",
        "STEP   239 / 266 d"
       ]
      },
      {
       "output_type": "stream",
       "stream": "stdout",
       "text": [
        "\r",
        "STEP   240 / 266 d"
       ]
      },
      {
       "output_type": "stream",
       "stream": "stdout",
       "text": [
        "\r",
        "STEP   241 / 266 d"
       ]
      },
      {
       "output_type": "stream",
       "stream": "stdout",
       "text": [
        "\r",
        "STEP   242 / 266 d"
       ]
      },
      {
       "output_type": "stream",
       "stream": "stdout",
       "text": [
        "\r",
        "STEP   243 / 266 d"
       ]
      },
      {
       "output_type": "stream",
       "stream": "stdout",
       "text": [
        "\r",
        "STEP   244 / 266 d"
       ]
      },
      {
       "output_type": "stream",
       "stream": "stdout",
       "text": [
        "\r",
        "STEP   245 / 266 f\r",
        "STEP   246 / 266 d"
       ]
      },
      {
       "output_type": "stream",
       "stream": "stdout",
       "text": [
        "\r",
        "STEP   247 / 266 f"
       ]
      },
      {
       "output_type": "stream",
       "stream": "stdout",
       "text": [
        "\r",
        "STEP   248 / 266 f\r",
        "STEP   249 / 266 d"
       ]
      },
      {
       "output_type": "stream",
       "stream": "stdout",
       "text": [
        "\r",
        "STEP   250 / 266 f"
       ]
      },
      {
       "output_type": "stream",
       "stream": "stdout",
       "text": [
        "\r",
        "STEP   251 / 266 d\r",
        "STEP   252 / 266 d"
       ]
      },
      {
       "output_type": "stream",
       "stream": "stdout",
       "text": [
        "\r",
        "STEP   253 / 266 d"
       ]
      },
      {
       "output_type": "stream",
       "stream": "stdout",
       "text": [
        "\r",
        "STEP   254 / 266 d"
       ]
      },
      {
       "output_type": "stream",
       "stream": "stdout",
       "text": [
        "\r",
        "STEP   255 / 266 f"
       ]
      },
      {
       "output_type": "stream",
       "stream": "stdout",
       "text": [
        "\r",
        "STEP   256 / 266 d"
       ]
      },
      {
       "output_type": "stream",
       "stream": "stdout",
       "text": [
        "\r",
        "STEP   257 / 266 d"
       ]
      },
      {
       "output_type": "stream",
       "stream": "stdout",
       "text": [
        "\r",
        "STEP   258 / 266 d"
       ]
      },
      {
       "output_type": "stream",
       "stream": "stdout",
       "text": [
        "\r",
        "STEP   259 / 266 d"
       ]
      },
      {
       "output_type": "stream",
       "stream": "stdout",
       "text": [
        "\r",
        "STEP   260 / 266 d"
       ]
      },
      {
       "output_type": "stream",
       "stream": "stdout",
       "text": [
        "\r",
        "STEP   261 / 266 d"
       ]
      },
      {
       "output_type": "stream",
       "stream": "stdout",
       "text": [
        "\r",
        "STEP   262 / 266 d\r\n",
        "Reallocating..done. *alloclen = 10797\r\n",
        "\r",
        "STEP   263 / 266 d"
       ]
      },
      {
       "output_type": "stream",
       "stream": "stdout",
       "text": [
        "\r",
        "STEP   264 / 266 d"
       ]
      },
      {
       "output_type": "stream",
       "stream": "stdout",
       "text": [
        "\r",
        "STEP   265 / 266 d"
       ]
      },
      {
       "output_type": "stream",
       "stream": "stdout",
       "text": [
        "\r",
        "STEP   266 / 266 d"
       ]
      },
      {
       "output_type": "stream",
       "stream": "stdout",
       "text": [
        "\r\n",
        "done.\r\n",
        "\r\n",
        "Constructing a UPGMA tree ... \r\n",
        "\r",
        "    0 / 267\r",
        "   10 / 267\r",
        "   20 / 267\r",
        "   30 / 267\r",
        "   40 / 267\r",
        "   50 / 267\r",
        "   60 / 267\r",
        "   70 / 267\r",
        "   80 / 267\r",
        "   90 / 267\r",
        "  100 / 267\r",
        "  110 / 267\r",
        "  120 / 267\r",
        "  130 / 267\r",
        "  140 / 267\r",
        "  150 / 267\r",
        "  160 / 267\r",
        "  170 / 267\r",
        "  180 / 267\r",
        "  190 / 267\r",
        "  200 / 267\r",
        "  210 / 267\r",
        "  220 / 267\r",
        "  230 / 267\r",
        "  240 / 267\r",
        "  250 / 267\r",
        "  260 / 267\r\n",
        "done.\r\n",
        "\r\n",
        "Progressive alignment 2/2... \r\n",
        "\r",
        "STEP     1 / 266 f\r",
        "STEP     2 / 266 f\r",
        "STEP     3 / 266 f\r",
        "STEP     4 / 266 f\r",
        "STEP     5 / 266 f\r",
        "STEP     6 / 266 f\r",
        "STEP     7 / 266 f\r",
        "STEP     8 / 266 f\r",
        "STEP     9 / 266 f"
       ]
      },
      {
       "output_type": "stream",
       "stream": "stdout",
       "text": [
        "\r",
        "STEP    10 / 266 f\r",
        "STEP    11 / 266 f\r",
        "STEP    12 / 266 f"
       ]
      },
      {
       "output_type": "stream",
       "stream": "stdout",
       "text": [
        "\r",
        "STEP    13 / 266 f\r",
        "STEP    14 / 266 f\r",
        "STEP    15 / 266 f\r",
        "STEP    16 / 266 f\r",
        "STEP    17 / 266 f"
       ]
      },
      {
       "output_type": "stream",
       "stream": "stdout",
       "text": [
        "\r",
        "STEP    18 / 266 f\r",
        "STEP    19 / 266 f\r",
        "STEP    20 / 266 f\r",
        "STEP    21 / 266 f\r",
        "STEP    22 / 266 f\r",
        "STEP    23 / 266 f"
       ]
      },
      {
       "output_type": "stream",
       "stream": "stdout",
       "text": [
        "\r",
        "STEP    24 / 266 f\r",
        "STEP    25 / 266 f\r",
        "STEP    26 / 266 f\r",
        "STEP    27 / 266 f"
       ]
      },
      {
       "output_type": "stream",
       "stream": "stdout",
       "text": [
        "\r",
        "STEP    28 / 266 f\r",
        "STEP    29 / 266 f\r",
        "STEP    30 / 266 f"
       ]
      },
      {
       "output_type": "stream",
       "stream": "stdout",
       "text": [
        "\r",
        "STEP    31 / 266 f\r",
        "STEP    32 / 266 f\r",
        "STEP    33 / 266 f\r",
        "STEP    34 / 266 f"
       ]
      },
      {
       "output_type": "stream",
       "stream": "stdout",
       "text": [
        "\r",
        "STEP    35 / 266 f\r",
        "STEP    36 / 266 f"
       ]
      },
      {
       "output_type": "stream",
       "stream": "stdout",
       "text": [
        "\r",
        "STEP    37 / 266 f\r",
        "STEP    38 / 266 f\r",
        "STEP    39 / 266 f"
       ]
      },
      {
       "output_type": "stream",
       "stream": "stdout",
       "text": [
        "\r",
        "STEP    40 / 266 f\r",
        "STEP    41 / 266 f"
       ]
      },
      {
       "output_type": "stream",
       "stream": "stdout",
       "text": [
        "\r",
        "STEP    42 / 266 f\r",
        "STEP    43 / 266 f"
       ]
      },
      {
       "output_type": "stream",
       "stream": "stdout",
       "text": [
        "\r",
        "STEP    44 / 266 f\r",
        "STEP    45 / 266 f\r",
        "STEP    46 / 266 d"
       ]
      },
      {
       "output_type": "stream",
       "stream": "stdout",
       "text": [
        "\r",
        "STEP    47 / 266 f\r",
        "STEP    48 / 266 d"
       ]
      },
      {
       "output_type": "stream",
       "stream": "stdout",
       "text": [
        "\r",
        "STEP    49 / 266 f"
       ]
      },
      {
       "output_type": "stream",
       "stream": "stdout",
       "text": [
        "\r",
        "STEP    50 / 266 d\r",
        "STEP    51 / 266 f"
       ]
      },
      {
       "output_type": "stream",
       "stream": "stdout",
       "text": [
        "\r",
        "STEP    52 / 266 f\r",
        "STEP    53 / 266 f"
       ]
      },
      {
       "output_type": "stream",
       "stream": "stdout",
       "text": [
        "\r",
        "STEP    54 / 266 d"
       ]
      },
      {
       "output_type": "stream",
       "stream": "stdout",
       "text": [
        "\r",
        "STEP    55 / 266 f\r",
        "STEP    56 / 266 d"
       ]
      },
      {
       "output_type": "stream",
       "stream": "stdout",
       "text": [
        "\r",
        "STEP    57 / 266 f\r",
        "STEP    58 / 266 f"
       ]
      },
      {
       "output_type": "stream",
       "stream": "stdout",
       "text": [
        "\r",
        "STEP    59 / 266 d\r",
        "STEP    60 / 266 f"
       ]
      },
      {
       "output_type": "stream",
       "stream": "stdout",
       "text": [
        "\r",
        "STEP    61 / 266 d\r",
        "STEP    62 / 266 d"
       ]
      },
      {
       "output_type": "stream",
       "stream": "stdout",
       "text": [
        "\r",
        "STEP    63 / 266 d"
       ]
      },
      {
       "output_type": "stream",
       "stream": "stdout",
       "text": [
        "\r",
        "STEP    64 / 266 d\r",
        "STEP    65 / 266 f"
       ]
      },
      {
       "output_type": "stream",
       "stream": "stdout",
       "text": [
        "\r",
        "STEP    66 / 266 f\r",
        "STEP    67 / 266 d\r",
        "STEP    68 / 266 d"
       ]
      },
      {
       "output_type": "stream",
       "stream": "stdout",
       "text": [
        "\r",
        "STEP    69 / 266 d"
       ]
      },
      {
       "output_type": "stream",
       "stream": "stdout",
       "text": [
        "\r",
        "STEP    70 / 266 d"
       ]
      },
      {
       "output_type": "stream",
       "stream": "stdout",
       "text": [
        "\r",
        "STEP    71 / 266 d"
       ]
      },
      {
       "output_type": "stream",
       "stream": "stdout",
       "text": [
        "\r",
        "STEP    72 / 266 d\r",
        "STEP    73 / 266 f"
       ]
      },
      {
       "output_type": "stream",
       "stream": "stdout",
       "text": [
        "\r",
        "STEP    74 / 266 d\r",
        "STEP    75 / 266 f"
       ]
      },
      {
       "output_type": "stream",
       "stream": "stdout",
       "text": [
        "\r",
        "STEP    76 / 266 d"
       ]
      },
      {
       "output_type": "stream",
       "stream": "stdout",
       "text": [
        "\r",
        "STEP    77 / 266 f\r",
        "STEP    78 / 266 f"
       ]
      },
      {
       "output_type": "stream",
       "stream": "stdout",
       "text": [
        "\r",
        "STEP    79 / 266 f\r",
        "STEP    80 / 266 f\r",
        "STEP    81 / 266 f"
       ]
      },
      {
       "output_type": "stream",
       "stream": "stdout",
       "text": [
        "\r",
        "STEP    82 / 266 d\r",
        "STEP    83 / 266 f"
       ]
      },
      {
       "output_type": "stream",
       "stream": "stdout",
       "text": [
        "\r",
        "STEP    84 / 266 d"
       ]
      },
      {
       "output_type": "stream",
       "stream": "stdout",
       "text": [
        "\r",
        "STEP    85 / 266 f\r",
        "STEP    86 / 266 d"
       ]
      },
      {
       "output_type": "stream",
       "stream": "stdout",
       "text": [
        "\r",
        "STEP    87 / 266 f\r",
        "STEP    88 / 266 d"
       ]
      },
      {
       "output_type": "stream",
       "stream": "stdout",
       "text": [
        "\r",
        "STEP    89 / 266 f\r",
        "STEP    90 / 266 f"
       ]
      },
      {
       "output_type": "stream",
       "stream": "stdout",
       "text": [
        "\r",
        "STEP    91 / 266 f\r",
        "STEP    92 / 266 d"
       ]
      },
      {
       "output_type": "stream",
       "stream": "stdout",
       "text": [
        "\r",
        "STEP    93 / 266 f\r",
        "STEP    94 / 266 d"
       ]
      },
      {
       "output_type": "stream",
       "stream": "stdout",
       "text": [
        "\r",
        "STEP    95 / 266 d"
       ]
      },
      {
       "output_type": "stream",
       "stream": "stdout",
       "text": [
        "\r",
        "STEP    96 / 266 d\r",
        "STEP    97 / 266 d"
       ]
      },
      {
       "output_type": "stream",
       "stream": "stdout",
       "text": [
        "\r",
        "STEP    98 / 266 f\r",
        "STEP    99 / 266 f"
       ]
      },
      {
       "output_type": "stream",
       "stream": "stdout",
       "text": [
        "\r",
        "STEP   100 / 266 d\r",
        "STEP   101 / 266 d"
       ]
      },
      {
       "output_type": "stream",
       "stream": "stdout",
       "text": [
        "\r",
        "STEP   102 / 266 d"
       ]
      },
      {
       "output_type": "stream",
       "stream": "stdout",
       "text": [
        "\r",
        "STEP   103 / 266 f\r",
        "STEP   104 / 266 f\r",
        "STEP   105 / 266 d"
       ]
      },
      {
       "output_type": "stream",
       "stream": "stdout",
       "text": [
        "\r",
        "STEP   106 / 266 d"
       ]
      },
      {
       "output_type": "stream",
       "stream": "stdout",
       "text": [
        "\r",
        "STEP   107 / 266 d"
       ]
      },
      {
       "output_type": "stream",
       "stream": "stdout",
       "text": [
        "\r",
        "STEP   108 / 266 f"
       ]
      },
      {
       "output_type": "stream",
       "stream": "stdout",
       "text": [
        "\r",
        "STEP   109 / 266 f\r",
        "STEP   110 / 266 d"
       ]
      },
      {
       "output_type": "stream",
       "stream": "stdout",
       "text": [
        "\r",
        "STEP   111 / 266 f\r",
        "STEP   112 / 266 d"
       ]
      },
      {
       "output_type": "stream",
       "stream": "stdout",
       "text": [
        "\r",
        "STEP   113 / 266 d"
       ]
      },
      {
       "output_type": "stream",
       "stream": "stdout",
       "text": [
        "\r",
        "STEP   114 / 266 f"
       ]
      },
      {
       "output_type": "stream",
       "stream": "stdout",
       "text": [
        "\r",
        "STEP   115 / 266 f\r",
        "STEP   116 / 266 f"
       ]
      },
      {
       "output_type": "stream",
       "stream": "stdout",
       "text": [
        "\r",
        "STEP   117 / 266 f\r",
        "STEP   118 / 266 d"
       ]
      },
      {
       "output_type": "stream",
       "stream": "stdout",
       "text": [
        "\r",
        "STEP   119 / 266 d"
       ]
      },
      {
       "output_type": "stream",
       "stream": "stdout",
       "text": [
        "\r",
        "STEP   120 / 266 d\r",
        "STEP   121 / 266 d"
       ]
      },
      {
       "output_type": "stream",
       "stream": "stdout",
       "text": [
        "\r",
        "STEP   122 / 266 d"
       ]
      },
      {
       "output_type": "stream",
       "stream": "stdout",
       "text": [
        "\r",
        "STEP   123 / 266 f\r",
        "STEP   124 / 266 f"
       ]
      },
      {
       "output_type": "stream",
       "stream": "stdout",
       "text": [
        "\r",
        "STEP   125 / 266 d\r",
        "STEP   126 / 266 f"
       ]
      },
      {
       "output_type": "stream",
       "stream": "stdout",
       "text": [
        "\r",
        "STEP   127 / 266 f\r",
        "STEP   128 / 266 d"
       ]
      },
      {
       "output_type": "stream",
       "stream": "stdout",
       "text": [
        "\r",
        "STEP   129 / 266 d"
       ]
      },
      {
       "output_type": "stream",
       "stream": "stdout",
       "text": [
        "\r",
        "STEP   130 / 266 d"
       ]
      },
      {
       "output_type": "stream",
       "stream": "stdout",
       "text": [
        "\r",
        "STEP   131 / 266 d"
       ]
      },
      {
       "output_type": "stream",
       "stream": "stdout",
       "text": [
        "\r",
        "STEP   132 / 266 f\r",
        "STEP   133 / 266 d"
       ]
      },
      {
       "output_type": "stream",
       "stream": "stdout",
       "text": [
        "\r",
        "STEP   134 / 266 d\r",
        "STEP   135 / 266 d"
       ]
      },
      {
       "output_type": "stream",
       "stream": "stdout",
       "text": [
        "\r",
        "STEP   136 / 266 f\r",
        "STEP   137 / 266 d"
       ]
      },
      {
       "output_type": "stream",
       "stream": "stdout",
       "text": [
        "\r",
        "STEP   138 / 266 f\r",
        "STEP   139 / 266 f"
       ]
      },
      {
       "output_type": "stream",
       "stream": "stdout",
       "text": [
        "\r",
        "STEP   140 / 266 d"
       ]
      },
      {
       "output_type": "stream",
       "stream": "stdout",
       "text": [
        "\r",
        "STEP   141 / 266 d\r",
        "STEP   142 / 266 d"
       ]
      },
      {
       "output_type": "stream",
       "stream": "stdout",
       "text": [
        "\r",
        "STEP   143 / 266 d"
       ]
      },
      {
       "output_type": "stream",
       "stream": "stdout",
       "text": [
        "\r",
        "STEP   144 / 266 d\r",
        "STEP   145 / 266 d"
       ]
      },
      {
       "output_type": "stream",
       "stream": "stdout",
       "text": [
        "\r",
        "STEP   146 / 266 f\r",
        "STEP   147 / 266 d"
       ]
      },
      {
       "output_type": "stream",
       "stream": "stdout",
       "text": [
        "\r",
        "STEP   148 / 266 d"
       ]
      },
      {
       "output_type": "stream",
       "stream": "stdout",
       "text": [
        "\r",
        "STEP   149 / 266 d"
       ]
      },
      {
       "output_type": "stream",
       "stream": "stdout",
       "text": [
        "\r",
        "STEP   150 / 266 d"
       ]
      },
      {
       "output_type": "stream",
       "stream": "stdout",
       "text": [
        "\r",
        "STEP   151 / 266 d"
       ]
      },
      {
       "output_type": "stream",
       "stream": "stdout",
       "text": [
        "\r",
        "STEP   152 / 266 d"
       ]
      },
      {
       "output_type": "stream",
       "stream": "stdout",
       "text": [
        "\r",
        "STEP   153 / 266 d\r",
        "STEP   154 / 266 d"
       ]
      },
      {
       "output_type": "stream",
       "stream": "stdout",
       "text": [
        "\r",
        "STEP   155 / 266 d"
       ]
      },
      {
       "output_type": "stream",
       "stream": "stdout",
       "text": [
        "\r",
        "STEP   156 / 266 d"
       ]
      },
      {
       "output_type": "stream",
       "stream": "stdout",
       "text": [
        "\r",
        "STEP   157 / 266 f"
       ]
      },
      {
       "output_type": "stream",
       "stream": "stdout",
       "text": [
        "\r",
        "STEP   158 / 266 d"
       ]
      },
      {
       "output_type": "stream",
       "stream": "stdout",
       "text": [
        "\r",
        "STEP   159 / 266 d\r",
        "STEP   160 / 266 d"
       ]
      },
      {
       "output_type": "stream",
       "stream": "stdout",
       "text": [
        "\r",
        "STEP   161 / 266 d"
       ]
      },
      {
       "output_type": "stream",
       "stream": "stdout",
       "text": [
        "\r",
        "STEP   162 / 266 f"
       ]
      },
      {
       "output_type": "stream",
       "stream": "stdout",
       "text": [
        "\r",
        "STEP   163 / 266 d\r",
        "STEP   164 / 266 d"
       ]
      },
      {
       "output_type": "stream",
       "stream": "stdout",
       "text": [
        "\r",
        "STEP   165 / 266 d\r",
        "STEP   166 / 266 d"
       ]
      },
      {
       "output_type": "stream",
       "stream": "stdout",
       "text": [
        "\r",
        "STEP   167 / 266 d"
       ]
      },
      {
       "output_type": "stream",
       "stream": "stdout",
       "text": [
        "\r",
        "STEP   168 / 266 d"
       ]
      },
      {
       "output_type": "stream",
       "stream": "stdout",
       "text": [
        "\r",
        "STEP   169 / 266 d"
       ]
      },
      {
       "output_type": "stream",
       "stream": "stdout",
       "text": [
        "\r",
        "STEP   170 / 266 d"
       ]
      },
      {
       "output_type": "stream",
       "stream": "stdout",
       "text": [
        "\r",
        "STEP   171 / 266 d"
       ]
      },
      {
       "output_type": "stream",
       "stream": "stdout",
       "text": [
        "\r",
        "STEP   172 / 266 d"
       ]
      },
      {
       "output_type": "stream",
       "stream": "stdout",
       "text": [
        "\r",
        "STEP   173 / 266 d"
       ]
      },
      {
       "output_type": "stream",
       "stream": "stdout",
       "text": [
        "\r",
        "STEP   174 / 266 d"
       ]
      },
      {
       "output_type": "stream",
       "stream": "stdout",
       "text": [
        "\r",
        "STEP   175 / 266 f\r",
        "STEP   176 / 266 d"
       ]
      },
      {
       "output_type": "stream",
       "stream": "stdout",
       "text": [
        "\r",
        "STEP   177 / 266 f"
       ]
      },
      {
       "output_type": "stream",
       "stream": "stdout",
       "text": [
        "\r",
        "STEP   178 / 266 f\r",
        "STEP   179 / 266 d"
       ]
      },
      {
       "output_type": "stream",
       "stream": "stdout",
       "text": [
        "\r",
        "STEP   180 / 266 f\r",
        "STEP   181 / 266 d"
       ]
      },
      {
       "output_type": "stream",
       "stream": "stdout",
       "text": [
        "\r\n",
        "Reallocating..done. *alloclen = 5680\r\n",
        "\r",
        "STEP   182 / 266 d"
       ]
      },
      {
       "output_type": "stream",
       "stream": "stdout",
       "text": [
        "\r",
        "STEP   183 / 266 d"
       ]
      },
      {
       "output_type": "stream",
       "stream": "stdout",
       "text": [
        "\r",
        "STEP   184 / 266 d"
       ]
      },
      {
       "output_type": "stream",
       "stream": "stdout",
       "text": [
        "\r",
        "STEP   185 / 266 d"
       ]
      },
      {
       "output_type": "stream",
       "stream": "stdout",
       "text": [
        "\r",
        "STEP   186 / 266 d"
       ]
      },
      {
       "output_type": "stream",
       "stream": "stdout",
       "text": [
        "\r",
        "STEP   187 / 266 d"
       ]
      },
      {
       "output_type": "stream",
       "stream": "stdout",
       "text": [
        "\r",
        "STEP   188 / 266 d"
       ]
      },
      {
       "output_type": "stream",
       "stream": "stdout",
       "text": [
        "\r",
        "STEP   189 / 266 f\r",
        "STEP   190 / 266 d"
       ]
      },
      {
       "output_type": "stream",
       "stream": "stdout",
       "text": [
        "\r",
        "STEP   191 / 266 f\r",
        "STEP   192 / 266 d"
       ]
      },
      {
       "output_type": "stream",
       "stream": "stdout",
       "text": [
        "\r",
        "STEP   193 / 266 d"
       ]
      },
      {
       "output_type": "stream",
       "stream": "stdout",
       "text": [
        "\r",
        "STEP   194 / 266 f\r",
        "STEP   195 / 266 d"
       ]
      },
      {
       "output_type": "stream",
       "stream": "stdout",
       "text": [
        "\r",
        "STEP   196 / 266 d"
       ]
      },
      {
       "output_type": "stream",
       "stream": "stdout",
       "text": [
        "\r",
        "STEP   197 / 266 d"
       ]
      },
      {
       "output_type": "stream",
       "stream": "stdout",
       "text": [
        "\r",
        "STEP   198 / 266 d"
       ]
      },
      {
       "output_type": "stream",
       "stream": "stdout",
       "text": [
        "\r",
        "STEP   199 / 266 d"
       ]
      },
      {
       "output_type": "stream",
       "stream": "stdout",
       "text": [
        "\r",
        "STEP   200 / 266 f\r",
        "STEP   201 / 266 d"
       ]
      },
      {
       "output_type": "stream",
       "stream": "stdout",
       "text": [
        "\r",
        "STEP   202 / 266 d"
       ]
      },
      {
       "output_type": "stream",
       "stream": "stdout",
       "text": [
        "\r\n",
        "Reallocating..done. *alloclen = 6703\r\n",
        "\r",
        "STEP   203 / 266 d"
       ]
      },
      {
       "output_type": "stream",
       "stream": "stdout",
       "text": [
        "\r",
        "STEP   204 / 266 d"
       ]
      },
      {
       "output_type": "stream",
       "stream": "stdout",
       "text": [
        "\r",
        "STEP   205 / 266 f\r",
        "STEP   206 / 266 d"
       ]
      },
      {
       "output_type": "stream",
       "stream": "stdout",
       "text": [
        "\r",
        "STEP   207 / 266 f\r",
        "STEP   208 / 266 f"
       ]
      },
      {
       "output_type": "stream",
       "stream": "stdout",
       "text": [
        "\r",
        "STEP   209 / 266 f\r",
        "STEP   210 / 266 d"
       ]
      },
      {
       "output_type": "stream",
       "stream": "stdout",
       "text": [
        "\r",
        "STEP   211 / 266 f\r",
        "STEP   212 / 266 d"
       ]
      },
      {
       "output_type": "stream",
       "stream": "stdout",
       "text": [
        "\r",
        "STEP   213 / 266 f\r",
        "STEP   214 / 266 d"
       ]
      },
      {
       "output_type": "stream",
       "stream": "stdout",
       "text": [
        "\r",
        "STEP   215 / 266 d\r",
        "STEP   216 / 266 d"
       ]
      },
      {
       "output_type": "stream",
       "stream": "stdout",
       "text": [
        "\r",
        "STEP   217 / 266 d"
       ]
      },
      {
       "output_type": "stream",
       "stream": "stdout",
       "text": [
        "\r",
        "STEP   218 / 266 d"
       ]
      },
      {
       "output_type": "stream",
       "stream": "stdout",
       "text": [
        "\r",
        "STEP   219 / 266 d"
       ]
      },
      {
       "output_type": "stream",
       "stream": "stdout",
       "text": [
        "\r",
        "STEP   220 / 266 d"
       ]
      },
      {
       "output_type": "stream",
       "stream": "stdout",
       "text": [
        "\r",
        "STEP   221 / 266 d"
       ]
      },
      {
       "output_type": "stream",
       "stream": "stdout",
       "text": [
        "\r",
        "STEP   222 / 266 d"
       ]
      },
      {
       "output_type": "stream",
       "stream": "stdout",
       "text": [
        "\r",
        "STEP   223 / 266 d"
       ]
      },
      {
       "output_type": "stream",
       "stream": "stdout",
       "text": [
        "\r",
        "STEP   224 / 266 d"
       ]
      },
      {
       "output_type": "stream",
       "stream": "stdout",
       "text": [
        "\r",
        "STEP   225 / 266 d"
       ]
      },
      {
       "output_type": "stream",
       "stream": "stdout",
       "text": [
        "\r",
        "STEP   226 / 266 d"
       ]
      },
      {
       "output_type": "stream",
       "stream": "stdout",
       "text": [
        "\r",
        "STEP   227 / 266 d"
       ]
      },
      {
       "output_type": "stream",
       "stream": "stdout",
       "text": [
        "\r",
        "STEP   228 / 266 d"
       ]
      },
      {
       "output_type": "stream",
       "stream": "stdout",
       "text": [
        "\r",
        "STEP   229 / 266 d"
       ]
      },
      {
       "output_type": "stream",
       "stream": "stdout",
       "text": [
        "\r",
        "STEP   230 / 266 d"
       ]
      },
      {
       "output_type": "stream",
       "stream": "stdout",
       "text": [
        "\r",
        "STEP   231 / 266 d"
       ]
      },
      {
       "output_type": "stream",
       "stream": "stdout",
       "text": [
        "\r\n",
        "Reallocating..done. *alloclen = 9258\r\n",
        "\r",
        "STEP   232 / 266 d"
       ]
      },
      {
       "output_type": "stream",
       "stream": "stdout",
       "text": [
        "\r",
        "STEP   233 / 266 d"
       ]
      },
      {
       "output_type": "stream",
       "stream": "stdout",
       "text": [
        "\r",
        "STEP   234 / 266 d"
       ]
      },
      {
       "output_type": "stream",
       "stream": "stdout",
       "text": [
        "\r",
        "STEP   235 / 266 d"
       ]
      },
      {
       "output_type": "stream",
       "stream": "stdout",
       "text": [
        "\r",
        "STEP   236 / 266 d"
       ]
      },
      {
       "output_type": "stream",
       "stream": "stdout",
       "text": [
        "\r",
        "STEP   237 / 266 d"
       ]
      },
      {
       "output_type": "stream",
       "stream": "stdout",
       "text": [
        "\r",
        "STEP   238 / 266 d"
       ]
      },
      {
       "output_type": "stream",
       "stream": "stdout",
       "text": [
        "\r",
        "STEP   239 / 266 d"
       ]
      },
      {
       "output_type": "stream",
       "stream": "stdout",
       "text": [
        "\r",
        "STEP   240 / 266 d"
       ]
      },
      {
       "output_type": "stream",
       "stream": "stdout",
       "text": [
        "\r",
        "STEP   241 / 266 d"
       ]
      },
      {
       "output_type": "stream",
       "stream": "stdout",
       "text": [
        "\r",
        "STEP   242 / 266 d"
       ]
      },
      {
       "output_type": "stream",
       "stream": "stdout",
       "text": [
        "\r",
        "STEP   243 / 266 d"
       ]
      },
      {
       "output_type": "stream",
       "stream": "stdout",
       "text": [
        "\r",
        "STEP   244 / 266 d"
       ]
      },
      {
       "output_type": "stream",
       "stream": "stdout",
       "text": [
        "\r",
        "STEP   245 / 266 d"
       ]
      },
      {
       "output_type": "stream",
       "stream": "stdout",
       "text": [
        "\r",
        "STEP   246 / 266 f\r",
        "STEP   247 / 266 d"
       ]
      },
      {
       "output_type": "stream",
       "stream": "stdout",
       "text": [
        "\r",
        "STEP   248 / 266 d"
       ]
      },
      {
       "output_type": "stream",
       "stream": "stdout",
       "text": [
        "\r",
        "STEP   249 / 266 d"
       ]
      },
      {
       "output_type": "stream",
       "stream": "stdout",
       "text": [
        "\r",
        "STEP   250 / 266 d"
       ]
      },
      {
       "output_type": "stream",
       "stream": "stdout",
       "text": [
        "\r",
        "STEP   251 / 266 d"
       ]
      },
      {
       "output_type": "stream",
       "stream": "stdout",
       "text": [
        "\r",
        "STEP   252 / 266 d"
       ]
      },
      {
       "output_type": "stream",
       "stream": "stdout",
       "text": [
        "\r",
        "STEP   253 / 266 d"
       ]
      },
      {
       "output_type": "stream",
       "stream": "stdout",
       "text": [
        "\r",
        "STEP   254 / 266 d"
       ]
      },
      {
       "output_type": "stream",
       "stream": "stdout",
       "text": [
        "\r",
        "STEP   255 / 266 d"
       ]
      },
      {
       "output_type": "stream",
       "stream": "stdout",
       "text": [
        "\r",
        "STEP   256 / 266 d"
       ]
      },
      {
       "output_type": "stream",
       "stream": "stdout",
       "text": [
        "\r",
        "STEP   257 / 266 d"
       ]
      },
      {
       "output_type": "stream",
       "stream": "stdout",
       "text": [
        "\r",
        "STEP   258 / 266 d"
       ]
      },
      {
       "output_type": "stream",
       "stream": "stdout",
       "text": [
        "\r",
        "STEP   259 / 266 d"
       ]
      },
      {
       "output_type": "stream",
       "stream": "stdout",
       "text": [
        "\r",
        "STEP   260 / 266 d"
       ]
      },
      {
       "output_type": "stream",
       "stream": "stdout",
       "text": [
        "\r",
        "STEP   261 / 266 d"
       ]
      },
      {
       "output_type": "stream",
       "stream": "stdout",
       "text": [
        "\r",
        "STEP   262 / 266 d"
       ]
      },
      {
       "output_type": "stream",
       "stream": "stdout",
       "text": [
        "\r",
        "STEP   263 / 266 d"
       ]
      },
      {
       "output_type": "stream",
       "stream": "stdout",
       "text": [
        "\r",
        "STEP   264 / 266 d"
       ]
      },
      {
       "output_type": "stream",
       "stream": "stdout",
       "text": [
        "\r",
        "STEP   265 / 266 d"
       ]
      },
      {
       "output_type": "stream",
       "stream": "stdout",
       "text": [
        "\r\n",
        "Reallocating.."
       ]
      },
      {
       "output_type": "stream",
       "stream": "stdout",
       "text": [
        "done. *alloclen = 11212\r\n",
        "\r",
        "STEP   266 / 266 d"
       ]
      },
      {
       "output_type": "stream",
       "stream": "stdout",
       "text": [
        "\r\n",
        "done.\r\n",
        "\r\n"
       ]
      },
      {
       "output_type": "stream",
       "stream": "stdout",
       "text": [
        "disttbfast (nuc) Version 7.187 alg=A, model=DNA200 (2), 1.53 (4.59), -0.00 (-0.00), noshift, amax=0.0\r\n",
        "0 thread(s)\r\n"
       ]
      },
      {
       "output_type": "stream",
       "stream": "stdout",
       "text": [
        "\r\n",
        "\r\n",
        "Strategy:\r\n",
        " FFT-NS-2 (Fast but rough)\r\n",
        " Progressive method (guide trees were built 2 times.)\r\n",
        "\r\n",
        "If unsure which option to use, try 'mafft --auto input > output'.\r\n",
        "For more information, see 'mafft --help', 'mafft --man' and the mafft page.\r\n",
        "\r\n",
        "The default gap scoring scheme has been changed in version 7.110 (2013 Oct).\r\n",
        "It tends to insert more gaps into gap-rich regions than previous versions.\r\n",
        "To disable this change, add the --legacygappenalty option.\r\n",
        "\r\n"
       ]
      },
      {
       "output_type": "stream",
       "stream": "stdout",
       "text": [
        "\r\n"
       ]
      },
      {
       "output_type": "stream",
       "stream": "stdout",
       "text": [
        "nseq =  267\r\n",
        "distance =  ktuples\r\n",
        "iterate =  0\r\n",
        "cycle =  2\r\n",
        "nguidetree = 2\r\n",
        "nthread = 0\r\n",
        "sueff_global = 0.100000\r\n"
       ]
      },
      {
       "output_type": "stream",
       "stream": "stdout",
       "text": [
        "generating a scoring matrix for nucleotide (dist=200) ... done\r\n",
        "done\r\n",
        "done\r\n",
        "scoremtx = -1\r\n",
        "Gap Penalty = -1.53, +0.00, +0.00\r\n",
        "\r\n",
        "tuplesize = 6, dorp = d\r\n",
        "\r\n",
        "\r\n",
        "Making a distance matrix ..\r\n",
        "\r\n",
        "There are 871 ambiguous characters.\r\n",
        "\r",
        "    1 / 267"
       ]
      },
      {
       "output_type": "stream",
       "stream": "stdout",
       "text": [
        "\r",
        "  101 / 267"
       ]
      },
      {
       "output_type": "stream",
       "stream": "stdout",
       "text": [
        "\r",
        "  201 / 267\r\n",
        "done.\r\n",
        "\r\n",
        "Constructing a UPGMA tree ... \r\n",
        "\r",
        "    0 / 267\r",
        "   10 / 267\r",
        "   20 / 267\r",
        "   30 / 267\r",
        "   40 / 267\r",
        "   50 / 267\r",
        "   60 / 267\r",
        "   70 / 267\r",
        "   80 / 267\r",
        "   90 / 267\r",
        "  100 / 267\r",
        "  110 / 267\r",
        "  120 / 267\r",
        "  130 / 267\r",
        "  140 / 267\r",
        "  150 / 267\r",
        "  160 / 267\r",
        "  170 / 267\r",
        "  180 / 267\r",
        "  190 / 267\r",
        "  200 / 267\r",
        "  210 / 267\r",
        "  220 / 267\r",
        "  230 / 267\r",
        "  240 / 267\r",
        "  250 / 267\r",
        "  260 / 267\r\n",
        "done.\r\n",
        "\r\n",
        "Progressive alignment 1/2... \r\n",
        "\r",
        "STEP     1 / 266 f\r",
        "STEP     2 / 266 f"
       ]
      },
      {
       "output_type": "stream",
       "stream": "stdout",
       "text": [
        "\r",
        "STEP     3 / 266 f\r",
        "STEP     4 / 266 f\r",
        "STEP     5 / 266 f\r",
        "STEP     6 / 266 f\r",
        "STEP     7 / 266 f\r",
        "STEP     8 / 266 f\r",
        "STEP     9 / 266 f"
       ]
      },
      {
       "output_type": "stream",
       "stream": "stdout",
       "text": [
        "\r",
        "STEP    10 / 266 f\r",
        "STEP    11 / 266 f\r",
        "STEP    12 / 266 f\r",
        "STEP    13 / 266 f\r",
        "STEP    14 / 266 f\r",
        "STEP    15 / 266 f"
       ]
      },
      {
       "output_type": "stream",
       "stream": "stdout",
       "text": [
        "\r",
        "STEP    16 / 266 f\r",
        "STEP    17 / 266 f\r",
        "STEP    18 / 266 f"
       ]
      },
      {
       "output_type": "stream",
       "stream": "stdout",
       "text": [
        "\r",
        "STEP    19 / 266 f\r",
        "STEP    20 / 266 f\r",
        "STEP    21 / 266 f\r",
        "STEP    22 / 266 f"
       ]
      },
      {
       "output_type": "stream",
       "stream": "stdout",
       "text": [
        "\r",
        "STEP    23 / 266 f"
       ]
      },
      {
       "output_type": "stream",
       "stream": "stdout",
       "text": [
        "\r",
        "STEP    24 / 266 f\r",
        "STEP    25 / 266 f\r",
        "STEP    26 / 266 f\r",
        "STEP    27 / 266 f\r",
        "STEP    28 / 266 d"
       ]
      },
      {
       "output_type": "stream",
       "stream": "stdout",
       "text": [
        "\r",
        "STEP    29 / 266 f\r",
        "STEP    30 / 266 f\r",
        "STEP    31 / 266 f"
       ]
      },
      {
       "output_type": "stream",
       "stream": "stdout",
       "text": [
        "\r",
        "STEP    32 / 266 f\r",
        "STEP    33 / 266 f"
       ]
      },
      {
       "output_type": "stream",
       "stream": "stdout",
       "text": [
        "\r",
        "STEP    34 / 266 f\r",
        "STEP    35 / 266 f\r",
        "STEP    36 / 266 f"
       ]
      },
      {
       "output_type": "stream",
       "stream": "stdout",
       "text": [
        "\r",
        "STEP    37 / 266 f\r",
        "STEP    38 / 266 f"
       ]
      },
      {
       "output_type": "stream",
       "stream": "stdout",
       "text": [
        "\r",
        "STEP    39 / 266 f\r",
        "STEP    40 / 266 f"
       ]
      },
      {
       "output_type": "stream",
       "stream": "stdout",
       "text": [
        "\r",
        "STEP    41 / 266 f\r",
        "STEP    42 / 266 f"
       ]
      },
      {
       "output_type": "stream",
       "stream": "stdout",
       "text": [
        "\r",
        "STEP    43 / 266 d\r",
        "STEP    44 / 266 f"
       ]
      },
      {
       "output_type": "stream",
       "stream": "stdout",
       "text": [
        "\r",
        "STEP    45 / 266 f\r",
        "STEP    46 / 266 d"
       ]
      },
      {
       "output_type": "stream",
       "stream": "stdout",
       "text": [
        "\r",
        "STEP    47 / 266 f\r",
        "STEP    48 / 266 f"
       ]
      },
      {
       "output_type": "stream",
       "stream": "stdout",
       "text": [
        "\r",
        "STEP    49 / 266 f"
       ]
      },
      {
       "output_type": "stream",
       "stream": "stdout",
       "text": [
        "\r",
        "STEP    50 / 266 f\r",
        "STEP    51 / 266 d"
       ]
      },
      {
       "output_type": "stream",
       "stream": "stdout",
       "text": [
        "\r",
        "STEP    52 / 266 f\r",
        "STEP    53 / 266 d"
       ]
      },
      {
       "output_type": "stream",
       "stream": "stdout",
       "text": [
        "\r",
        "STEP    54 / 266 d"
       ]
      },
      {
       "output_type": "stream",
       "stream": "stdout",
       "text": [
        "\r",
        "STEP    55 / 266 d"
       ]
      },
      {
       "output_type": "stream",
       "stream": "stdout",
       "text": [
        "\r",
        "STEP    56 / 266 f\r",
        "STEP    57 / 266 d"
       ]
      },
      {
       "output_type": "stream",
       "stream": "stdout",
       "text": [
        "\r",
        "STEP    58 / 266 d"
       ]
      },
      {
       "output_type": "stream",
       "stream": "stdout",
       "text": [
        "\r",
        "STEP    59 / 266 d"
       ]
      },
      {
       "output_type": "stream",
       "stream": "stdout",
       "text": [
        "\r",
        "STEP    60 / 266 d\r",
        "STEP    61 / 266 f"
       ]
      },
      {
       "output_type": "stream",
       "stream": "stdout",
       "text": [
        "\r",
        "STEP    62 / 266 f"
       ]
      },
      {
       "output_type": "stream",
       "stream": "stdout",
       "text": [
        "\r",
        "STEP    63 / 266 f\r",
        "STEP    64 / 266 f\r",
        "STEP    65 / 266 d"
       ]
      },
      {
       "output_type": "stream",
       "stream": "stdout",
       "text": [
        "\r",
        "STEP    66 / 266 f"
       ]
      },
      {
       "output_type": "stream",
       "stream": "stdout",
       "text": [
        "\r",
        "STEP    67 / 266 d\r",
        "STEP    68 / 266 d"
       ]
      },
      {
       "output_type": "stream",
       "stream": "stdout",
       "text": [
        "\r",
        "STEP    69 / 266 f"
       ]
      },
      {
       "output_type": "stream",
       "stream": "stdout",
       "text": [
        "\r",
        "STEP    70 / 266 d\r",
        "STEP    71 / 266 f"
       ]
      },
      {
       "output_type": "stream",
       "stream": "stdout",
       "text": [
        "\r",
        "STEP    72 / 266 d"
       ]
      },
      {
       "output_type": "stream",
       "stream": "stdout",
       "text": [
        "\r",
        "STEP    73 / 266 f\r",
        "STEP    74 / 266 f\r",
        "STEP    75 / 266 f"
       ]
      },
      {
       "output_type": "stream",
       "stream": "stdout",
       "text": [
        "\r",
        "STEP    76 / 266 f\r",
        "STEP    77 / 266 f\r",
        "STEP    78 / 266 d"
       ]
      },
      {
       "output_type": "stream",
       "stream": "stdout",
       "text": [
        "\r",
        "STEP    79 / 266 f"
       ]
      },
      {
       "output_type": "stream",
       "stream": "stdout",
       "text": [
        "\r",
        "STEP    80 / 266 d"
       ]
      },
      {
       "output_type": "stream",
       "stream": "stdout",
       "text": [
        "\r",
        "STEP    81 / 266 f\r",
        "STEP    82 / 266 f"
       ]
      },
      {
       "output_type": "stream",
       "stream": "stdout",
       "text": [
        "\r",
        "STEP    83 / 266 f\r",
        "STEP    84 / 266 d"
       ]
      },
      {
       "output_type": "stream",
       "stream": "stdout",
       "text": [
        "\r",
        "STEP    85 / 266 d"
       ]
      },
      {
       "output_type": "stream",
       "stream": "stdout",
       "text": [
        "\r",
        "STEP    86 / 266 f\r",
        "STEP    87 / 266 d"
       ]
      },
      {
       "output_type": "stream",
       "stream": "stdout",
       "text": [
        "\r",
        "STEP    88 / 266 d"
       ]
      },
      {
       "output_type": "stream",
       "stream": "stdout",
       "text": [
        "\r",
        "STEP    89 / 266 f\r",
        "STEP    90 / 266 f"
       ]
      },
      {
       "output_type": "stream",
       "stream": "stdout",
       "text": [
        "\r",
        "STEP    91 / 266 d"
       ]
      },
      {
       "output_type": "stream",
       "stream": "stdout",
       "text": [
        "\r",
        "STEP    92 / 266 f\r",
        "STEP    93 / 266 d"
       ]
      },
      {
       "output_type": "stream",
       "stream": "stdout",
       "text": [
        "\r",
        "STEP    94 / 266 d\r",
        "STEP    95 / 266 f"
       ]
      },
      {
       "output_type": "stream",
       "stream": "stdout",
       "text": [
        "\r",
        "STEP    96 / 266 d\r",
        "STEP    97 / 266 d"
       ]
      },
      {
       "output_type": "stream",
       "stream": "stdout",
       "text": [
        "\r",
        "STEP    98 / 266 f"
       ]
      },
      {
       "output_type": "stream",
       "stream": "stdout",
       "text": [
        "\r",
        "STEP    99 / 266 d"
       ]
      },
      {
       "output_type": "stream",
       "stream": "stdout",
       "text": [
        "\r",
        "STEP   100 / 266 f\r",
        "STEP   101 / 266 f"
       ]
      },
      {
       "output_type": "stream",
       "stream": "stdout",
       "text": [
        "\r",
        "STEP   102 / 266 d"
       ]
      },
      {
       "output_type": "stream",
       "stream": "stdout",
       "text": [
        "\r",
        "STEP   103 / 266 f\r",
        "STEP   104 / 266 d"
       ]
      },
      {
       "output_type": "stream",
       "stream": "stdout",
       "text": [
        "\r",
        "STEP   105 / 266 d"
       ]
      },
      {
       "output_type": "stream",
       "stream": "stdout",
       "text": [
        "\r",
        "STEP   106 / 266 d"
       ]
      },
      {
       "output_type": "stream",
       "stream": "stdout",
       "text": [
        "\r",
        "STEP   107 / 266 d"
       ]
      },
      {
       "output_type": "stream",
       "stream": "stdout",
       "text": [
        "\r",
        "STEP   108 / 266 f\r",
        "STEP   109 / 266 f"
       ]
      },
      {
       "output_type": "stream",
       "stream": "stdout",
       "text": [
        "\r",
        "STEP   110 / 266 f\r",
        "STEP   111 / 266 f\r",
        "STEP   112 / 266 d"
       ]
      },
      {
       "output_type": "stream",
       "stream": "stdout",
       "text": [
        "\r",
        "STEP   113 / 266 d"
       ]
      },
      {
       "output_type": "stream",
       "stream": "stdout",
       "text": [
        "\r",
        "STEP   114 / 266 f\r",
        "STEP   115 / 266 d"
       ]
      },
      {
       "output_type": "stream",
       "stream": "stdout",
       "text": [
        "\r",
        "STEP   116 / 266 d"
       ]
      },
      {
       "output_type": "stream",
       "stream": "stdout",
       "text": [
        "\r",
        "STEP   117 / 266 f\r",
        "STEP   118 / 266 d"
       ]
      },
      {
       "output_type": "stream",
       "stream": "stdout",
       "text": [
        "\r",
        "STEP   119 / 266 d\r",
        "STEP   120 / 266 d"
       ]
      },
      {
       "output_type": "stream",
       "stream": "stdout",
       "text": [
        "\r",
        "STEP   121 / 266 d"
       ]
      },
      {
       "output_type": "stream",
       "stream": "stdout",
       "text": [
        "\r\n",
        "Reallocating..done. *alloclen = 5644\r\n",
        "\r",
        "STEP   122 / 266 d"
       ]
      },
      {
       "output_type": "stream",
       "stream": "stdout",
       "text": [
        "\r",
        "STEP   123 / 266 d"
       ]
      },
      {
       "output_type": "stream",
       "stream": "stdout",
       "text": [
        "\r",
        "STEP   124 / 266 d\r",
        "STEP   125 / 266 d"
       ]
      },
      {
       "output_type": "stream",
       "stream": "stdout",
       "text": [
        "\r",
        "STEP   126 / 266 d"
       ]
      },
      {
       "output_type": "stream",
       "stream": "stdout",
       "text": [
        "\r",
        "STEP   127 / 266 f"
       ]
      },
      {
       "output_type": "stream",
       "stream": "stdout",
       "text": [
        "\r",
        "STEP   128 / 266 d\r",
        "STEP   129 / 266 d"
       ]
      },
      {
       "output_type": "stream",
       "stream": "stdout",
       "text": [
        "\r",
        "STEP   130 / 266 d"
       ]
      },
      {
       "output_type": "stream",
       "stream": "stdout",
       "text": [
        "\r",
        "STEP   131 / 266 d"
       ]
      },
      {
       "output_type": "stream",
       "stream": "stdout",
       "text": [
        "\r",
        "STEP   132 / 266 d\r",
        "STEP   133 / 266 d"
       ]
      },
      {
       "output_type": "stream",
       "stream": "stdout",
       "text": [
        "\r",
        "STEP   134 / 266 d"
       ]
      },
      {
       "output_type": "stream",
       "stream": "stdout",
       "text": [
        "\r",
        "STEP   135 / 266 d\r",
        "STEP   136 / 266 d"
       ]
      },
      {
       "output_type": "stream",
       "stream": "stdout",
       "text": [
        "\r",
        "STEP   137 / 266 d"
       ]
      },
      {
       "output_type": "stream",
       "stream": "stdout",
       "text": [
        "\r",
        "STEP   138 / 266 d"
       ]
      },
      {
       "output_type": "stream",
       "stream": "stdout",
       "text": [
        "\r",
        "STEP   139 / 266 d"
       ]
      },
      {
       "output_type": "stream",
       "stream": "stdout",
       "text": [
        "\r",
        "STEP   140 / 266 f\r",
        "STEP   141 / 266 d"
       ]
      },
      {
       "output_type": "stream",
       "stream": "stdout",
       "text": [
        "\r",
        "STEP   142 / 266 f"
       ]
      },
      {
       "output_type": "stream",
       "stream": "stdout",
       "text": [
        "\r",
        "STEP   143 / 266 d"
       ]
      },
      {
       "output_type": "stream",
       "stream": "stdout",
       "text": [
        "\r",
        "STEP   144 / 266 d"
       ]
      },
      {
       "output_type": "stream",
       "stream": "stdout",
       "text": [
        "\r",
        "STEP   145 / 266 d\r",
        "STEP   146 / 266 d"
       ]
      },
      {
       "output_type": "stream",
       "stream": "stdout",
       "text": [
        "\r",
        "STEP   147 / 266 d"
       ]
      },
      {
       "output_type": "stream",
       "stream": "stdout",
       "text": [
        "\r",
        "STEP   148 / 266 f"
       ]
      },
      {
       "output_type": "stream",
       "stream": "stdout",
       "text": [
        "\r",
        "STEP   149 / 266 d"
       ]
      },
      {
       "output_type": "stream",
       "stream": "stdout",
       "text": [
        "\r",
        "STEP   150 / 266 d"
       ]
      },
      {
       "output_type": "stream",
       "stream": "stdout",
       "text": [
        "\r",
        "STEP   151 / 266 d"
       ]
      },
      {
       "output_type": "stream",
       "stream": "stdout",
       "text": [
        "\r",
        "STEP   152 / 266 f\r",
        "STEP   153 / 266 d"
       ]
      },
      {
       "output_type": "stream",
       "stream": "stdout",
       "text": [
        "\r",
        "STEP   154 / 266 d"
       ]
      },
      {
       "output_type": "stream",
       "stream": "stdout",
       "text": [
        "\r",
        "STEP   155 / 266 f"
       ]
      },
      {
       "output_type": "stream",
       "stream": "stdout",
       "text": [
        "\r",
        "STEP   156 / 266 d\r",
        "STEP   157 / 266 d"
       ]
      },
      {
       "output_type": "stream",
       "stream": "stdout",
       "text": [
        "\r",
        "STEP   158 / 266 d"
       ]
      },
      {
       "output_type": "stream",
       "stream": "stdout",
       "text": [
        "\r",
        "STEP   159 / 266 d"
       ]
      },
      {
       "output_type": "stream",
       "stream": "stdout",
       "text": [
        "\r",
        "STEP   160 / 266 d\r",
        "STEP   161 / 266 d"
       ]
      },
      {
       "output_type": "stream",
       "stream": "stdout",
       "text": [
        "\r",
        "STEP   162 / 266 f\r",
        "STEP   163 / 266 d"
       ]
      },
      {
       "output_type": "stream",
       "stream": "stdout",
       "text": [
        "\r",
        "STEP   164 / 266 d"
       ]
      },
      {
       "output_type": "stream",
       "stream": "stdout",
       "text": [
        "\r",
        "STEP   165 / 266 d"
       ]
      },
      {
       "output_type": "stream",
       "stream": "stdout",
       "text": [
        "\r",
        "STEP   166 / 266 f"
       ]
      },
      {
       "output_type": "stream",
       "stream": "stdout",
       "text": [
        "\r",
        "STEP   167 / 266 f\r",
        "STEP   168 / 266 d"
       ]
      },
      {
       "output_type": "stream",
       "stream": "stdout",
       "text": [
        "\r",
        "STEP   169 / 266 d"
       ]
      },
      {
       "output_type": "stream",
       "stream": "stdout",
       "text": [
        "\r",
        "STEP   170 / 266 d"
       ]
      },
      {
       "output_type": "stream",
       "stream": "stdout",
       "text": [
        "\r",
        "STEP   171 / 266 d"
       ]
      },
      {
       "output_type": "stream",
       "stream": "stdout",
       "text": [
        "\r",
        "STEP   172 / 266 d"
       ]
      },
      {
       "output_type": "stream",
       "stream": "stdout",
       "text": [
        "\r",
        "STEP   173 / 266 f"
       ]
      },
      {
       "output_type": "stream",
       "stream": "stdout",
       "text": [
        "\r",
        "STEP   174 / 266 d\r",
        "STEP   175 / 266 d"
       ]
      },
      {
       "output_type": "stream",
       "stream": "stdout",
       "text": [
        "\r",
        "STEP   176 / 266 d"
       ]
      },
      {
       "output_type": "stream",
       "stream": "stdout",
       "text": [
        "\r",
        "STEP   177 / 266 d"
       ]
      },
      {
       "output_type": "stream",
       "stream": "stdout",
       "text": [
        "\r",
        "STEP   178 / 266 f\r",
        "STEP   179 / 266 d"
       ]
      },
      {
       "output_type": "stream",
       "stream": "stdout",
       "text": [
        "\r",
        "STEP   180 / 266 d"
       ]
      },
      {
       "output_type": "stream",
       "stream": "stdout",
       "text": [
        "\r",
        "STEP   181 / 266 d"
       ]
      },
      {
       "output_type": "stream",
       "stream": "stdout",
       "text": [
        "\r",
        "STEP   182 / 266 d"
       ]
      },
      {
       "output_type": "stream",
       "stream": "stdout",
       "text": [
        "\r",
        "STEP   183 / 266 d"
       ]
      },
      {
       "output_type": "stream",
       "stream": "stdout",
       "text": [
        "\r",
        "STEP   184 / 266 d"
       ]
      },
      {
       "output_type": "stream",
       "stream": "stdout",
       "text": [
        "\r",
        "STEP   185 / 266 f\r",
        "STEP   186 / 266 f\r\n",
        "Reallocating..done. *alloclen = 6953\r\n",
        "\r",
        "STEP   187 / 266 d"
       ]
      },
      {
       "output_type": "stream",
       "stream": "stdout",
       "text": [
        "\r",
        "STEP   188 / 266 d"
       ]
      },
      {
       "output_type": "stream",
       "stream": "stdout",
       "text": [
        "\r",
        "STEP   189 / 266 d"
       ]
      },
      {
       "output_type": "stream",
       "stream": "stdout",
       "text": [
        "\r",
        "STEP   190 / 266 f\r",
        "STEP   191 / 266 d"
       ]
      },
      {
       "output_type": "stream",
       "stream": "stdout",
       "text": [
        "\r",
        "STEP   192 / 266 d"
       ]
      },
      {
       "output_type": "stream",
       "stream": "stdout",
       "text": [
        "\r",
        "STEP   193 / 266 d"
       ]
      },
      {
       "output_type": "stream",
       "stream": "stdout",
       "text": [
        "\r",
        "STEP   194 / 266 d"
       ]
      },
      {
       "output_type": "stream",
       "stream": "stdout",
       "text": [
        "\r",
        "STEP   195 / 266 d\r",
        "STEP   196 / 266 d"
       ]
      },
      {
       "output_type": "stream",
       "stream": "stdout",
       "text": [
        "\r",
        "STEP   197 / 266 d"
       ]
      },
      {
       "output_type": "stream",
       "stream": "stdout",
       "text": [
        "\r",
        "STEP   198 / 266 d"
       ]
      },
      {
       "output_type": "stream",
       "stream": "stdout",
       "text": [
        "\r",
        "STEP   199 / 266 d\r",
        "STEP   200 / 266 d"
       ]
      },
      {
       "output_type": "stream",
       "stream": "stdout",
       "text": [
        "\r",
        "STEP   201 / 266 f\r",
        "STEP   202 / 266 d"
       ]
      },
      {
       "output_type": "stream",
       "stream": "stdout",
       "text": [
        "\r",
        "STEP   203 / 266 d"
       ]
      },
      {
       "output_type": "stream",
       "stream": "stdout",
       "text": [
        "\r",
        "STEP   204 / 266 d"
       ]
      },
      {
       "output_type": "stream",
       "stream": "stdout",
       "text": [
        "\r",
        "STEP   205 / 266 f\r",
        "STEP   206 / 266 f\r",
        "STEP   207 / 266 f"
       ]
      },
      {
       "output_type": "stream",
       "stream": "stdout",
       "text": [
        "\r",
        "STEP   208 / 266 d"
       ]
      },
      {
       "output_type": "stream",
       "stream": "stdout",
       "text": [
        "\r",
        "STEP   209 / 266 d"
       ]
      },
      {
       "output_type": "stream",
       "stream": "stdout",
       "text": [
        "\r",
        "STEP   210 / 266 d"
       ]
      },
      {
       "output_type": "stream",
       "stream": "stdout",
       "text": [
        "\r",
        "STEP   211 / 266 f\r",
        "STEP   212 / 266 d"
       ]
      },
      {
       "output_type": "stream",
       "stream": "stdout",
       "text": [
        "\r",
        "STEP   213 / 266 d"
       ]
      },
      {
       "output_type": "stream",
       "stream": "stdout",
       "text": [
        "\r",
        "STEP   214 / 266 d"
       ]
      },
      {
       "output_type": "stream",
       "stream": "stdout",
       "text": [
        "\r",
        "STEP   215 / 266 f"
       ]
      },
      {
       "output_type": "stream",
       "stream": "stdout",
       "text": [
        "\r",
        "STEP   216 / 266 d"
       ]
      },
      {
       "output_type": "stream",
       "stream": "stdout",
       "text": [
        "\r",
        "STEP   217 / 266 d"
       ]
      },
      {
       "output_type": "stream",
       "stream": "stdout",
       "text": [
        "\r",
        "STEP   218 / 266 f"
       ]
      },
      {
       "output_type": "stream",
       "stream": "stdout",
       "text": [
        "\r",
        "STEP   219 / 266 d"
       ]
      },
      {
       "output_type": "stream",
       "stream": "stdout",
       "text": [
        "\r",
        "STEP   220 / 266 d"
       ]
      },
      {
       "output_type": "stream",
       "stream": "stdout",
       "text": [
        "\r",
        "STEP   221 / 266 d"
       ]
      },
      {
       "output_type": "stream",
       "stream": "stdout",
       "text": [
        "\r",
        "STEP   222 / 266 d\r\n",
        "Reallocating..done. *alloclen = 9470\r\n",
        "\r",
        "STEP   223 / 266 d"
       ]
      },
      {
       "output_type": "stream",
       "stream": "stdout",
       "text": [
        "\r",
        "STEP   224 / 266 d"
       ]
      },
      {
       "output_type": "stream",
       "stream": "stdout",
       "text": [
        "\r",
        "STEP   225 / 266 d"
       ]
      },
      {
       "output_type": "stream",
       "stream": "stdout",
       "text": [
        "\r",
        "STEP   226 / 266 f\r",
        "STEP   227 / 266 d"
       ]
      },
      {
       "output_type": "stream",
       "stream": "stdout",
       "text": [
        "\r",
        "STEP   228 / 266 d"
       ]
      },
      {
       "output_type": "stream",
       "stream": "stdout",
       "text": [
        "\r",
        "STEP   229 / 266 d"
       ]
      },
      {
       "output_type": "stream",
       "stream": "stdout",
       "text": [
        "\r",
        "STEP   230 / 266 d\r",
        "STEP   231 / 266 d"
       ]
      },
      {
       "output_type": "stream",
       "stream": "stdout",
       "text": [
        "\r",
        "STEP   232 / 266 d"
       ]
      },
      {
       "output_type": "stream",
       "stream": "stdout",
       "text": [
        "\r",
        "STEP   233 / 266 d"
       ]
      },
      {
       "output_type": "stream",
       "stream": "stdout",
       "text": [
        "\r",
        "STEP   234 / 266 d"
       ]
      },
      {
       "output_type": "stream",
       "stream": "stdout",
       "text": [
        "\r",
        "STEP   235 / 266 f\r",
        "STEP   236 / 266 d"
       ]
      },
      {
       "output_type": "stream",
       "stream": "stdout",
       "text": [
        "\r",
        "STEP   237 / 266 d"
       ]
      },
      {
       "output_type": "stream",
       "stream": "stdout",
       "text": [
        "\r",
        "STEP   238 / 266 d"
       ]
      },
      {
       "output_type": "stream",
       "stream": "stdout",
       "text": [
        "\r",
        "STEP   239 / 266 d"
       ]
      },
      {
       "output_type": "stream",
       "stream": "stdout",
       "text": [
        "\r",
        "STEP   240 / 266 d"
       ]
      },
      {
       "output_type": "stream",
       "stream": "stdout",
       "text": [
        "\r",
        "STEP   241 / 266 d"
       ]
      },
      {
       "output_type": "stream",
       "stream": "stdout",
       "text": [
        "\r",
        "STEP   242 / 266 d"
       ]
      },
      {
       "output_type": "stream",
       "stream": "stdout",
       "text": [
        "\r",
        "STEP   243 / 266 d"
       ]
      },
      {
       "output_type": "stream",
       "stream": "stdout",
       "text": [
        "\r",
        "STEP   244 / 266 d"
       ]
      },
      {
       "output_type": "stream",
       "stream": "stdout",
       "text": [
        "\r",
        "STEP   245 / 266 f\r",
        "STEP   246 / 266 d"
       ]
      },
      {
       "output_type": "stream",
       "stream": "stdout",
       "text": [
        "\r",
        "STEP   247 / 266 f\r",
        "STEP   248 / 266 f"
       ]
      },
      {
       "output_type": "stream",
       "stream": "stdout",
       "text": [
        "\r",
        "STEP   249 / 266 d"
       ]
      },
      {
       "output_type": "stream",
       "stream": "stdout",
       "text": [
        "\r",
        "STEP   250 / 266 f\r",
        "STEP   251 / 266 d"
       ]
      },
      {
       "output_type": "stream",
       "stream": "stdout",
       "text": [
        "\r",
        "STEP   252 / 266 d"
       ]
      },
      {
       "output_type": "stream",
       "stream": "stdout",
       "text": [
        "\r",
        "STEP   253 / 266 d"
       ]
      },
      {
       "output_type": "stream",
       "stream": "stdout",
       "text": [
        "\r",
        "STEP   254 / 266 d"
       ]
      },
      {
       "output_type": "stream",
       "stream": "stdout",
       "text": [
        "\r",
        "STEP   255 / 266 f\r",
        "STEP   256 / 266 d"
       ]
      },
      {
       "output_type": "stream",
       "stream": "stdout",
       "text": [
        "\r",
        "STEP   257 / 266 d"
       ]
      },
      {
       "output_type": "stream",
       "stream": "stdout",
       "text": [
        "\r",
        "STEP   258 / 266 d"
       ]
      },
      {
       "output_type": "stream",
       "stream": "stdout",
       "text": [
        "\r",
        "STEP   259 / 266 d"
       ]
      },
      {
       "output_type": "stream",
       "stream": "stdout",
       "text": [
        "\r",
        "STEP   260 / 266 d"
       ]
      },
      {
       "output_type": "stream",
       "stream": "stdout",
       "text": [
        "\r",
        "STEP   261 / 266 d"
       ]
      },
      {
       "output_type": "stream",
       "stream": "stdout",
       "text": [
        "\r",
        "STEP   262 / 266 d\r\n",
        "Reallocating..done. *alloclen = 10797\r\n",
        "\r",
        "STEP   263 / 266 d"
       ]
      },
      {
       "output_type": "stream",
       "stream": "stdout",
       "text": [
        "\r",
        "STEP   264 / 266 d"
       ]
      },
      {
       "output_type": "stream",
       "stream": "stdout",
       "text": [
        "\r",
        "STEP   265 / 266 d"
       ]
      },
      {
       "output_type": "stream",
       "stream": "stdout",
       "text": [
        "\r",
        "STEP   266 / 266 d"
       ]
      },
      {
       "output_type": "stream",
       "stream": "stdout",
       "text": [
        "\r\n",
        "done.\r\n",
        "\r\n",
        "Constructing a UPGMA tree ... \r\n",
        "\r",
        "    0 / 267\r",
        "   10 / 267\r",
        "   20 / 267\r",
        "   30 / 267\r",
        "   40 / 267\r",
        "   50 / 267\r",
        "   60 / 267\r",
        "   70 / 267\r",
        "   80 / 267\r",
        "   90 / 267\r",
        "  100 / 267\r",
        "  110 / 267\r",
        "  120 / 267\r",
        "  130 / 267\r",
        "  140 / 267\r",
        "  150 / 267\r",
        "  160 / 267\r",
        "  170 / 267\r",
        "  180 / 267\r",
        "  190 / 267\r",
        "  200 / 267\r",
        "  210 / 267\r",
        "  220 / 267\r",
        "  230 / 267\r",
        "  240 / 267\r",
        "  250 / 267\r",
        "  260 / 267\r\n",
        "done.\r\n",
        "\r\n",
        "Progressive alignment 2/2... \r\n",
        "\r",
        "STEP     1 / 266 f\r",
        "STEP     2 / 266 f\r",
        "STEP     3 / 266 f\r",
        "STEP     4 / 266 f\r",
        "STEP     5 / 266 f\r",
        "STEP     6 / 266 f\r",
        "STEP     7 / 266 f\r",
        "STEP     8 / 266 f\r",
        "STEP     9 / 266 f"
       ]
      },
      {
       "output_type": "stream",
       "stream": "stdout",
       "text": [
        "\r",
        "STEP    10 / 266 f\r",
        "STEP    11 / 266 f\r",
        "STEP    12 / 266 f\r",
        "STEP    13 / 266 f"
       ]
      },
      {
       "output_type": "stream",
       "stream": "stdout",
       "text": [
        "\r",
        "STEP    14 / 266 f\r",
        "STEP    15 / 266 f\r",
        "STEP    16 / 266 f\r",
        "STEP    17 / 266 f"
       ]
      },
      {
       "output_type": "stream",
       "stream": "stdout",
       "text": [
        "\r",
        "STEP    18 / 266 f\r",
        "STEP    19 / 266 f\r",
        "STEP    20 / 266 f\r",
        "STEP    21 / 266 f\r",
        "STEP    22 / 266 f\r",
        "STEP    23 / 266 f"
       ]
      },
      {
       "output_type": "stream",
       "stream": "stdout",
       "text": [
        "\r",
        "STEP    24 / 266 f\r",
        "STEP    25 / 266 f\r",
        "STEP    26 / 266 f\r",
        "STEP    27 / 266 f\r",
        "STEP    28 / 266 f"
       ]
      },
      {
       "output_type": "stream",
       "stream": "stdout",
       "text": [
        "\r",
        "STEP    29 / 266 f\r",
        "STEP    30 / 266 f\r",
        "STEP    31 / 266 f"
       ]
      },
      {
       "output_type": "stream",
       "stream": "stdout",
       "text": [
        "\r",
        "STEP    32 / 266 f\r",
        "STEP    33 / 266 f\r",
        "STEP    34 / 266 f"
       ]
      },
      {
       "output_type": "stream",
       "stream": "stdout",
       "text": [
        "\r",
        "STEP    35 / 266 f\r",
        "STEP    36 / 266 f"
       ]
      },
      {
       "output_type": "stream",
       "stream": "stdout",
       "text": [
        "\r",
        "STEP    37 / 266 f\r",
        "STEP    38 / 266 f\r",
        "STEP    39 / 266 f"
       ]
      },
      {
       "output_type": "stream",
       "stream": "stdout",
       "text": [
        "\r",
        "STEP    40 / 266 f\r",
        "STEP    41 / 266 f"
       ]
      },
      {
       "output_type": "stream",
       "stream": "stdout",
       "text": [
        "\r",
        "STEP    42 / 266 f\r",
        "STEP    43 / 266 f"
       ]
      },
      {
       "output_type": "stream",
       "stream": "stdout",
       "text": [
        "\r",
        "STEP    44 / 266 f\r",
        "STEP    45 / 266 f\r",
        "STEP    46 / 266 d"
       ]
      },
      {
       "output_type": "stream",
       "stream": "stdout",
       "text": [
        "\r",
        "STEP    47 / 266 f"
       ]
      },
      {
       "output_type": "stream",
       "stream": "stdout",
       "text": [
        "\r",
        "STEP    48 / 266 d"
       ]
      },
      {
       "output_type": "stream",
       "stream": "stdout",
       "text": [
        "\r",
        "STEP    49 / 266 f\r",
        "STEP    50 / 266 d"
       ]
      },
      {
       "output_type": "stream",
       "stream": "stdout",
       "text": [
        "\r",
        "STEP    51 / 266 f\r",
        "STEP    52 / 266 f"
       ]
      },
      {
       "output_type": "stream",
       "stream": "stdout",
       "text": [
        "\r",
        "STEP    53 / 266 f\r",
        "STEP    54 / 266 d"
       ]
      },
      {
       "output_type": "stream",
       "stream": "stdout",
       "text": [
        "\r",
        "STEP    55 / 266 f\r",
        "STEP    56 / 266 d"
       ]
      },
      {
       "output_type": "stream",
       "stream": "stdout",
       "text": [
        "\r",
        "STEP    57 / 266 f\r",
        "STEP    58 / 266 f"
       ]
      },
      {
       "output_type": "stream",
       "stream": "stdout",
       "text": [
        "\r",
        "STEP    59 / 266 d"
       ]
      },
      {
       "output_type": "stream",
       "stream": "stdout",
       "text": [
        "\r",
        "STEP    60 / 266 f\r",
        "STEP    61 / 266 d"
       ]
      },
      {
       "output_type": "stream",
       "stream": "stdout",
       "text": [
        "\r",
        "STEP    62 / 266 d\r",
        "STEP    63 / 266 d"
       ]
      },
      {
       "output_type": "stream",
       "stream": "stdout",
       "text": [
        "\r",
        "STEP    64 / 266 d"
       ]
      },
      {
       "output_type": "stream",
       "stream": "stdout",
       "text": [
        "\r",
        "STEP    65 / 266 f\r",
        "STEP    66 / 266 f\r",
        "STEP    67 / 266 d"
       ]
      },
      {
       "output_type": "stream",
       "stream": "stdout",
       "text": [
        "\r",
        "STEP    68 / 266 d"
       ]
      },
      {
       "output_type": "stream",
       "stream": "stdout",
       "text": [
        "\r",
        "STEP    69 / 266 d\r",
        "STEP    70 / 266 d"
       ]
      },
      {
       "output_type": "stream",
       "stream": "stdout",
       "text": [
        "\r",
        "STEP    71 / 266 d"
       ]
      },
      {
       "output_type": "stream",
       "stream": "stdout",
       "text": [
        "\r",
        "STEP    72 / 266 d\r",
        "STEP    73 / 266 f"
       ]
      },
      {
       "output_type": "stream",
       "stream": "stdout",
       "text": [
        "\r",
        "STEP    74 / 266 d"
       ]
      },
      {
       "output_type": "stream",
       "stream": "stdout",
       "text": [
        "\r",
        "STEP    75 / 266 f\r",
        "STEP    76 / 266 d"
       ]
      },
      {
       "output_type": "stream",
       "stream": "stdout",
       "text": [
        "\r",
        "STEP    77 / 266 f\r",
        "STEP    78 / 266 f"
       ]
      },
      {
       "output_type": "stream",
       "stream": "stdout",
       "text": [
        "\r",
        "STEP    79 / 266 f\r",
        "STEP    80 / 266 f"
       ]
      },
      {
       "output_type": "stream",
       "stream": "stdout",
       "text": [
        "\r",
        "STEP    81 / 266 f\r",
        "STEP    82 / 266 d"
       ]
      },
      {
       "output_type": "stream",
       "stream": "stdout",
       "text": [
        "\r",
        "STEP    83 / 266 f\r",
        "STEP    84 / 266 d"
       ]
      },
      {
       "output_type": "stream",
       "stream": "stdout",
       "text": [
        "\r",
        "STEP    85 / 266 f\r",
        "STEP    86 / 266 d"
       ]
      },
      {
       "output_type": "stream",
       "stream": "stdout",
       "text": [
        "\r",
        "STEP    87 / 266 f\r",
        "STEP    88 / 266 d"
       ]
      },
      {
       "output_type": "stream",
       "stream": "stdout",
       "text": [
        "\r",
        "STEP    89 / 266 f\r",
        "STEP    90 / 266 f"
       ]
      },
      {
       "output_type": "stream",
       "stream": "stdout",
       "text": [
        "\r",
        "STEP    91 / 266 f\r",
        "STEP    92 / 266 d"
       ]
      },
      {
       "output_type": "stream",
       "stream": "stdout",
       "text": [
        "\r",
        "STEP    93 / 266 f"
       ]
      },
      {
       "output_type": "stream",
       "stream": "stdout",
       "text": [
        "\r",
        "STEP    94 / 266 d\r",
        "STEP    95 / 266 d"
       ]
      },
      {
       "output_type": "stream",
       "stream": "stdout",
       "text": [
        "\r",
        "STEP    96 / 266 d"
       ]
      },
      {
       "output_type": "stream",
       "stream": "stdout",
       "text": [
        "\r",
        "STEP    97 / 266 d"
       ]
      },
      {
       "output_type": "stream",
       "stream": "stdout",
       "text": [
        "\r",
        "STEP    98 / 266 f"
       ]
      },
      {
       "output_type": "stream",
       "stream": "stdout",
       "text": [
        "\r",
        "STEP    99 / 266 f\r",
        "STEP   100 / 266 d"
       ]
      },
      {
       "output_type": "stream",
       "stream": "stdout",
       "text": [
        "\r",
        "STEP   101 / 266 d\r",
        "STEP   102 / 266 d"
       ]
      },
      {
       "output_type": "stream",
       "stream": "stdout",
       "text": [
        "\r",
        "STEP   103 / 266 f\r",
        "STEP   104 / 266 f"
       ]
      },
      {
       "output_type": "stream",
       "stream": "stdout",
       "text": [
        "\r",
        "STEP   105 / 266 d"
       ]
      },
      {
       "output_type": "stream",
       "stream": "stdout",
       "text": [
        "\r",
        "STEP   106 / 266 d\r",
        "STEP   107 / 266 d"
       ]
      },
      {
       "output_type": "stream",
       "stream": "stdout",
       "text": [
        "\r",
        "STEP   108 / 266 f"
       ]
      },
      {
       "output_type": "stream",
       "stream": "stdout",
       "text": [
        "\r",
        "STEP   109 / 266 f"
       ]
      },
      {
       "output_type": "stream",
       "stream": "stdout",
       "text": [
        "\r",
        "STEP   110 / 266 d\r",
        "STEP   111 / 266 f"
       ]
      },
      {
       "output_type": "stream",
       "stream": "stdout",
       "text": [
        "\r",
        "STEP   112 / 266 d\r",
        "STEP   113 / 266 d"
       ]
      },
      {
       "output_type": "stream",
       "stream": "stdout",
       "text": [
        "\r",
        "STEP   114 / 266 f"
       ]
      },
      {
       "output_type": "stream",
       "stream": "stdout",
       "text": [
        "\r",
        "STEP   115 / 266 f"
       ]
      },
      {
       "output_type": "stream",
       "stream": "stdout",
       "text": [
        "\r",
        "STEP   116 / 266 f\r",
        "STEP   117 / 266 f"
       ]
      },
      {
       "output_type": "stream",
       "stream": "stdout",
       "text": [
        "\r",
        "STEP   118 / 266 d"
       ]
      },
      {
       "output_type": "stream",
       "stream": "stdout",
       "text": [
        "\r",
        "STEP   119 / 266 d\r",
        "STEP   120 / 266 d"
       ]
      },
      {
       "output_type": "stream",
       "stream": "stdout",
       "text": [
        "\r",
        "STEP   121 / 266 d"
       ]
      },
      {
       "output_type": "stream",
       "stream": "stdout",
       "text": [
        "\r",
        "STEP   122 / 266 d"
       ]
      },
      {
       "output_type": "stream",
       "stream": "stdout",
       "text": [
        "\r",
        "STEP   123 / 266 f\r",
        "STEP   124 / 266 f\r",
        "STEP   125 / 266 d"
       ]
      },
      {
       "output_type": "stream",
       "stream": "stdout",
       "text": [
        "\r",
        "STEP   126 / 266 f"
       ]
      },
      {
       "output_type": "stream",
       "stream": "stdout",
       "text": [
        "\r",
        "STEP   127 / 266 f\r",
        "STEP   128 / 266 d"
       ]
      },
      {
       "output_type": "stream",
       "stream": "stdout",
       "text": [
        "\r",
        "STEP   129 / 266 d"
       ]
      },
      {
       "output_type": "stream",
       "stream": "stdout",
       "text": [
        "\r",
        "STEP   130 / 266 d"
       ]
      },
      {
       "output_type": "stream",
       "stream": "stdout",
       "text": [
        "\r",
        "STEP   131 / 266 d\r",
        "STEP   132 / 266 f"
       ]
      },
      {
       "output_type": "stream",
       "stream": "stdout",
       "text": [
        "\r",
        "STEP   133 / 266 d"
       ]
      },
      {
       "output_type": "stream",
       "stream": "stdout",
       "text": [
        "\r",
        "STEP   134 / 266 d\r",
        "STEP   135 / 266 d"
       ]
      },
      {
       "output_type": "stream",
       "stream": "stdout",
       "text": [
        "\r",
        "STEP   136 / 266 f\r",
        "STEP   137 / 266 d"
       ]
      },
      {
       "output_type": "stream",
       "stream": "stdout",
       "text": [
        "\r",
        "STEP   138 / 266 f\r",
        "STEP   139 / 266 f"
       ]
      },
      {
       "output_type": "stream",
       "stream": "stdout",
       "text": [
        "\r",
        "STEP   140 / 266 d\r",
        "STEP   141 / 266 d"
       ]
      },
      {
       "output_type": "stream",
       "stream": "stdout",
       "text": [
        "\r",
        "STEP   142 / 266 d"
       ]
      },
      {
       "output_type": "stream",
       "stream": "stdout",
       "text": [
        "\r",
        "STEP   143 / 266 d"
       ]
      },
      {
       "output_type": "stream",
       "stream": "stdout",
       "text": [
        "\r",
        "STEP   144 / 266 d\r",
        "STEP   145 / 266 d"
       ]
      },
      {
       "output_type": "stream",
       "stream": "stdout",
       "text": [
        "\r",
        "STEP   146 / 266 f\r",
        "STEP   147 / 266 d"
       ]
      },
      {
       "output_type": "stream",
       "stream": "stdout",
       "text": [
        "\r",
        "STEP   148 / 266 d"
       ]
      },
      {
       "output_type": "stream",
       "stream": "stdout",
       "text": [
        "\r",
        "STEP   149 / 266 d"
       ]
      },
      {
       "output_type": "stream",
       "stream": "stdout",
       "text": [
        "\r",
        "STEP   150 / 266 d"
       ]
      },
      {
       "output_type": "stream",
       "stream": "stdout",
       "text": [
        "\r",
        "STEP   151 / 266 d"
       ]
      },
      {
       "output_type": "stream",
       "stream": "stdout",
       "text": [
        "\r",
        "STEP   152 / 266 d"
       ]
      },
      {
       "output_type": "stream",
       "stream": "stdout",
       "text": [
        "\r",
        "STEP   153 / 266 d"
       ]
      },
      {
       "output_type": "stream",
       "stream": "stdout",
       "text": [
        "\r",
        "STEP   154 / 266 d"
       ]
      },
      {
       "output_type": "stream",
       "stream": "stdout",
       "text": [
        "\r",
        "STEP   155 / 266 d\r",
        "STEP   156 / 266 d"
       ]
      },
      {
       "output_type": "stream",
       "stream": "stdout",
       "text": [
        "\r",
        "STEP   157 / 266 f\r",
        "STEP   158 / 266 d"
       ]
      },
      {
       "output_type": "stream",
       "stream": "stdout",
       "text": [
        "\r",
        "STEP   159 / 266 d\r",
        "STEP   160 / 266 d"
       ]
      },
      {
       "output_type": "stream",
       "stream": "stdout",
       "text": [
        "\r",
        "STEP   161 / 266 d"
       ]
      },
      {
       "output_type": "stream",
       "stream": "stdout",
       "text": [
        "\r",
        "STEP   162 / 266 f"
       ]
      },
      {
       "output_type": "stream",
       "stream": "stdout",
       "text": [
        "\r",
        "STEP   163 / 266 d\r",
        "STEP   164 / 266 d"
       ]
      },
      {
       "output_type": "stream",
       "stream": "stdout",
       "text": [
        "\r",
        "STEP   165 / 266 d"
       ]
      },
      {
       "output_type": "stream",
       "stream": "stdout",
       "text": [
        "\r",
        "STEP   166 / 266 d\r",
        "STEP   167 / 266 d"
       ]
      },
      {
       "output_type": "stream",
       "stream": "stdout",
       "text": [
        "\r",
        "STEP   168 / 266 d"
       ]
      },
      {
       "output_type": "stream",
       "stream": "stdout",
       "text": [
        "\r",
        "STEP   169 / 266 d"
       ]
      },
      {
       "output_type": "stream",
       "stream": "stdout",
       "text": [
        "\r",
        "STEP   170 / 266 d"
       ]
      },
      {
       "output_type": "stream",
       "stream": "stdout",
       "text": [
        "\r",
        "STEP   171 / 266 d"
       ]
      },
      {
       "output_type": "stream",
       "stream": "stdout",
       "text": [
        "\r",
        "STEP   172 / 266 d"
       ]
      },
      {
       "output_type": "stream",
       "stream": "stdout",
       "text": [
        "\r",
        "STEP   173 / 266 d"
       ]
      },
      {
       "output_type": "stream",
       "stream": "stdout",
       "text": [
        "\r",
        "STEP   174 / 266 d"
       ]
      },
      {
       "output_type": "stream",
       "stream": "stdout",
       "text": [
        "\r",
        "STEP   175 / 266 f"
       ]
      },
      {
       "output_type": "stream",
       "stream": "stdout",
       "text": [
        "\r",
        "STEP   176 / 266 d"
       ]
      },
      {
       "output_type": "stream",
       "stream": "stdout",
       "text": [
        "\r",
        "STEP   177 / 266 f\r",
        "STEP   178 / 266 f"
       ]
      },
      {
       "output_type": "stream",
       "stream": "stdout",
       "text": [
        "\r",
        "STEP   179 / 266 d"
       ]
      },
      {
       "output_type": "stream",
       "stream": "stdout",
       "text": [
        "\r",
        "STEP   180 / 266 f\r",
        "STEP   181 / 266 d"
       ]
      },
      {
       "output_type": "stream",
       "stream": "stdout",
       "text": [
        "\r\n",
        "Reallocating..done. *alloclen = 5680\r\n",
        "\r",
        "STEP   182 / 266 d"
       ]
      },
      {
       "output_type": "stream",
       "stream": "stdout",
       "text": [
        "\r",
        "STEP   183 / 266 d"
       ]
      },
      {
       "output_type": "stream",
       "stream": "stdout",
       "text": [
        "\r",
        "STEP   184 / 266 d"
       ]
      },
      {
       "output_type": "stream",
       "stream": "stdout",
       "text": [
        "\r",
        "STEP   185 / 266 d"
       ]
      },
      {
       "output_type": "stream",
       "stream": "stdout",
       "text": [
        "\r",
        "STEP   186 / 266 d"
       ]
      },
      {
       "output_type": "stream",
       "stream": "stdout",
       "text": [
        "\r",
        "STEP   187 / 266 d"
       ]
      },
      {
       "output_type": "stream",
       "stream": "stdout",
       "text": [
        "\r",
        "STEP   188 / 266 d"
       ]
      },
      {
       "output_type": "stream",
       "stream": "stdout",
       "text": [
        "\r",
        "STEP   189 / 266 f\r",
        "STEP   190 / 266 d"
       ]
      },
      {
       "output_type": "stream",
       "stream": "stdout",
       "text": [
        "\r",
        "STEP   191 / 266 f"
       ]
      },
      {
       "output_type": "stream",
       "stream": "stdout",
       "text": [
        "\r",
        "STEP   192 / 266 d"
       ]
      },
      {
       "output_type": "stream",
       "stream": "stdout",
       "text": [
        "\r",
        "STEP   193 / 266 d"
       ]
      },
      {
       "output_type": "stream",
       "stream": "stdout",
       "text": [
        "\r",
        "STEP   194 / 266 f"
       ]
      },
      {
       "output_type": "stream",
       "stream": "stdout",
       "text": [
        "\r",
        "STEP   195 / 266 d"
       ]
      },
      {
       "output_type": "stream",
       "stream": "stdout",
       "text": [
        "\r",
        "STEP   196 / 266 d"
       ]
      },
      {
       "output_type": "stream",
       "stream": "stdout",
       "text": [
        "\r",
        "STEP   197 / 266 d"
       ]
      },
      {
       "output_type": "stream",
       "stream": "stdout",
       "text": [
        "\r",
        "STEP   198 / 266 d"
       ]
      },
      {
       "output_type": "stream",
       "stream": "stdout",
       "text": [
        "\r",
        "STEP   199 / 266 d"
       ]
      },
      {
       "output_type": "stream",
       "stream": "stdout",
       "text": [
        "\r",
        "STEP   200 / 266 f"
       ]
      },
      {
       "output_type": "stream",
       "stream": "stdout",
       "text": [
        "\r",
        "STEP   201 / 266 d"
       ]
      },
      {
       "output_type": "stream",
       "stream": "stdout",
       "text": [
        "\r",
        "STEP   202 / 266 d"
       ]
      },
      {
       "output_type": "stream",
       "stream": "stdout",
       "text": [
        "\r\n",
        "Reallocating..done. *alloclen = 6703\r\n",
        "\r",
        "STEP   203 / 266 d"
       ]
      },
      {
       "output_type": "stream",
       "stream": "stdout",
       "text": [
        "\r",
        "STEP   204 / 266 d"
       ]
      },
      {
       "output_type": "stream",
       "stream": "stdout",
       "text": [
        "\r",
        "STEP   205 / 266 f"
       ]
      },
      {
       "output_type": "stream",
       "stream": "stdout",
       "text": [
        "\r",
        "STEP   206 / 266 d"
       ]
      },
      {
       "output_type": "stream",
       "stream": "stdout",
       "text": [
        "\r",
        "STEP   207 / 266 f"
       ]
      },
      {
       "output_type": "stream",
       "stream": "stdout",
       "text": [
        "\r",
        "STEP   208 / 266 f\r",
        "STEP   209 / 266 f"
       ]
      },
      {
       "output_type": "stream",
       "stream": "stdout",
       "text": [
        "\r",
        "STEP   210 / 266 d"
       ]
      },
      {
       "output_type": "stream",
       "stream": "stdout",
       "text": [
        "\r",
        "STEP   211 / 266 f"
       ]
      },
      {
       "output_type": "stream",
       "stream": "stdout",
       "text": [
        "\r",
        "STEP   212 / 266 d"
       ]
      },
      {
       "output_type": "stream",
       "stream": "stdout",
       "text": [
        "\r",
        "STEP   213 / 266 f"
       ]
      },
      {
       "output_type": "stream",
       "stream": "stdout",
       "text": [
        "\r",
        "STEP   214 / 266 d"
       ]
      },
      {
       "output_type": "stream",
       "stream": "stdout",
       "text": [
        "\r",
        "STEP   215 / 266 d"
       ]
      },
      {
       "output_type": "stream",
       "stream": "stdout",
       "text": [
        "\r",
        "STEP   216 / 266 d"
       ]
      },
      {
       "output_type": "stream",
       "stream": "stdout",
       "text": [
        "\r",
        "STEP   217 / 266 d"
       ]
      },
      {
       "output_type": "stream",
       "stream": "stdout",
       "text": [
        "\r",
        "STEP   218 / 266 d"
       ]
      },
      {
       "output_type": "stream",
       "stream": "stdout",
       "text": [
        "\r",
        "STEP   219 / 266 d"
       ]
      },
      {
       "output_type": "stream",
       "stream": "stdout",
       "text": [
        "\r",
        "STEP   220 / 266 d"
       ]
      },
      {
       "output_type": "stream",
       "stream": "stdout",
       "text": [
        "\r",
        "STEP   221 / 266 d"
       ]
      },
      {
       "output_type": "stream",
       "stream": "stdout",
       "text": [
        "\r",
        "STEP   222 / 266 d"
       ]
      },
      {
       "output_type": "stream",
       "stream": "stdout",
       "text": [
        "\r",
        "STEP   223 / 266 d"
       ]
      },
      {
       "output_type": "stream",
       "stream": "stdout",
       "text": [
        "\r",
        "STEP   224 / 266 d"
       ]
      },
      {
       "output_type": "stream",
       "stream": "stdout",
       "text": [
        "\r",
        "STEP   225 / 266 d"
       ]
      },
      {
       "output_type": "stream",
       "stream": "stdout",
       "text": [
        "\r",
        "STEP   226 / 266 d"
       ]
      },
      {
       "output_type": "stream",
       "stream": "stdout",
       "text": [
        "\r",
        "STEP   227 / 266 d"
       ]
      },
      {
       "output_type": "stream",
       "stream": "stdout",
       "text": [
        "\r",
        "STEP   228 / 266 d"
       ]
      },
      {
       "output_type": "stream",
       "stream": "stdout",
       "text": [
        "\r",
        "STEP   229 / 266 d"
       ]
      },
      {
       "output_type": "stream",
       "stream": "stdout",
       "text": [
        "\r",
        "STEP   230 / 266 d"
       ]
      },
      {
       "output_type": "stream",
       "stream": "stdout",
       "text": [
        "\r",
        "STEP   231 / 266 d"
       ]
      },
      {
       "output_type": "stream",
       "stream": "stdout",
       "text": [
        "\r\n",
        "Reallocating..done. *alloclen = 9258\r\n",
        "\r",
        "STEP   232 / 266 d"
       ]
      },
      {
       "output_type": "stream",
       "stream": "stdout",
       "text": [
        "\r",
        "STEP   233 / 266 d"
       ]
      },
      {
       "output_type": "stream",
       "stream": "stdout",
       "text": [
        "\r",
        "STEP   234 / 266 d"
       ]
      },
      {
       "output_type": "stream",
       "stream": "stdout",
       "text": [
        "\r",
        "STEP   235 / 266 d"
       ]
      },
      {
       "output_type": "stream",
       "stream": "stdout",
       "text": [
        "\r",
        "STEP   236 / 266 d"
       ]
      },
      {
       "output_type": "stream",
       "stream": "stdout",
       "text": [
        "\r",
        "STEP   237 / 266 d"
       ]
      },
      {
       "output_type": "stream",
       "stream": "stdout",
       "text": [
        "\r",
        "STEP   238 / 266 d"
       ]
      },
      {
       "output_type": "stream",
       "stream": "stdout",
       "text": [
        "\r",
        "STEP   239 / 266 d"
       ]
      },
      {
       "output_type": "stream",
       "stream": "stdout",
       "text": [
        "\r",
        "STEP   240 / 266 d"
       ]
      },
      {
       "output_type": "stream",
       "stream": "stdout",
       "text": [
        "\r",
        "STEP   241 / 266 d"
       ]
      },
      {
       "output_type": "stream",
       "stream": "stdout",
       "text": [
        "\r",
        "STEP   242 / 266 d"
       ]
      },
      {
       "output_type": "stream",
       "stream": "stdout",
       "text": [
        "\r",
        "STEP   243 / 266 d"
       ]
      },
      {
       "output_type": "stream",
       "stream": "stdout",
       "text": [
        "\r",
        "STEP   244 / 266 d"
       ]
      },
      {
       "output_type": "stream",
       "stream": "stdout",
       "text": [
        "\r",
        "STEP   245 / 266 d"
       ]
      },
      {
       "output_type": "stream",
       "stream": "stdout",
       "text": [
        "\r",
        "STEP   246 / 266 f"
       ]
      },
      {
       "output_type": "stream",
       "stream": "stdout",
       "text": [
        "\r",
        "STEP   247 / 266 d"
       ]
      },
      {
       "output_type": "stream",
       "stream": "stdout",
       "text": [
        "\r",
        "STEP   248 / 266 d"
       ]
      },
      {
       "output_type": "stream",
       "stream": "stdout",
       "text": [
        "\r",
        "STEP   249 / 266 d"
       ]
      },
      {
       "output_type": "stream",
       "stream": "stdout",
       "text": [
        "\r",
        "STEP   250 / 266 d\r",
        "STEP   251 / 266 d"
       ]
      },
      {
       "output_type": "stream",
       "stream": "stdout",
       "text": [
        "\r",
        "STEP   252 / 266 d"
       ]
      },
      {
       "output_type": "stream",
       "stream": "stdout",
       "text": [
        "\r",
        "STEP   253 / 266 d"
       ]
      },
      {
       "output_type": "stream",
       "stream": "stdout",
       "text": [
        "\r",
        "STEP   254 / 266 d"
       ]
      },
      {
       "output_type": "stream",
       "stream": "stdout",
       "text": [
        "\r",
        "STEP   255 / 266 d"
       ]
      },
      {
       "output_type": "stream",
       "stream": "stdout",
       "text": [
        "\r",
        "STEP   256 / 266 d"
       ]
      },
      {
       "output_type": "stream",
       "stream": "stdout",
       "text": [
        "\r",
        "STEP   257 / 266 d"
       ]
      },
      {
       "output_type": "stream",
       "stream": "stdout",
       "text": [
        "\r",
        "STEP   258 / 266 d"
       ]
      },
      {
       "output_type": "stream",
       "stream": "stdout",
       "text": [
        "\r",
        "STEP   259 / 266 d"
       ]
      },
      {
       "output_type": "stream",
       "stream": "stdout",
       "text": [
        "\r",
        "STEP   260 / 266 d"
       ]
      },
      {
       "output_type": "stream",
       "stream": "stdout",
       "text": [
        "\r",
        "STEP   261 / 266 d"
       ]
      },
      {
       "output_type": "stream",
       "stream": "stdout",
       "text": [
        "\r",
        "STEP   262 / 266 d"
       ]
      },
      {
       "output_type": "stream",
       "stream": "stdout",
       "text": [
        "\r",
        "STEP   263 / 266 d"
       ]
      },
      {
       "output_type": "stream",
       "stream": "stdout",
       "text": [
        "\r",
        "STEP   264 / 266 d"
       ]
      },
      {
       "output_type": "stream",
       "stream": "stdout",
       "text": [
        "\r",
        "STEP   265 / 266 d"
       ]
      },
      {
       "output_type": "stream",
       "stream": "stdout",
       "text": [
        "\r\n",
        "Reallocating..done. *alloclen = 11212\r\n",
        "\r",
        "STEP   266 / 266 d"
       ]
      },
      {
       "output_type": "stream",
       "stream": "stdout",
       "text": [
        "\r\n",
        "done.\r\n",
        "\r\n",
        "disttbfast (nuc) Version 7.187 alg=A, model=DNA200 (2), 1.53 (4.59), -0.00 (-0.00), noshift, amax=0.0\r\n",
        "0 thread(s)\r\n"
       ]
      },
      {
       "output_type": "stream",
       "stream": "stdout",
       "text": [
        "\r\n",
        "\r\n",
        "Strategy:\r\n",
        " FFT-NS-2 (Fast but rough)\r\n",
        " Progressive method (guide trees were built 2 times.)\r\n",
        "\r\n",
        "If unsure which option to use, try 'mafft --auto input > output'.\r\n",
        "For more information, see 'mafft --help', 'mafft --man' and the mafft page.\r\n",
        "\r\n",
        "The default gap scoring scheme has been changed in version 7.110 (2013 Oct).\r\n",
        "It tends to insert more gaps into gap-rich regions than previous versions.\r\n",
        "To disable this change, add the --legacygappenalty option.\r\n",
        "\r\n"
       ]
      },
      {
       "output_type": "stream",
       "stream": "stdout",
       "text": [
        "\r\n"
       ]
      },
      {
       "output_type": "stream",
       "stream": "stdout",
       "text": [
        "nseq =  267\r\n",
        "distance =  ktuples\r\n",
        "iterate =  0\r\n",
        "cycle =  2\r\n",
        "nguidetree = 2\r\n",
        "nthread = 0\r\n",
        "sueff_global = 0.100000\r\n"
       ]
      },
      {
       "output_type": "stream",
       "stream": "stdout",
       "text": [
        "generating a scoring matrix for nucleotide (dist=200) ... done\r\n"
       ]
      },
      {
       "output_type": "stream",
       "stream": "stdout",
       "text": [
        "done\r\n",
        "done\r\n",
        "scoremtx = -1\r\n",
        "Gap Penalty = -1.53, +0.00, +0.00\r\n",
        "\r\n",
        "tuplesize = 6, dorp = d\r\n",
        "\r\n",
        "\r\n",
        "Making a distance matrix ..\r\n",
        "\r\n",
        "There are 871 ambiguous characters.\r\n",
        "\r",
        "    1 / 267"
       ]
      },
      {
       "output_type": "stream",
       "stream": "stdout",
       "text": [
        "\r",
        "  101 / 267"
       ]
      },
      {
       "output_type": "stream",
       "stream": "stdout",
       "text": [
        "\r",
        "  201 / 267\r\n",
        "done.\r\n",
        "\r\n",
        "Constructing a UPGMA tree ... \r\n",
        "\r",
        "    0 / 267\r",
        "   10 / 267\r",
        "   20 / 267\r",
        "   30 / 267\r",
        "   40 / 267\r",
        "   50 / 267\r",
        "   60 / 267\r",
        "   70 / 267\r",
        "   80 / 267\r",
        "   90 / 267\r",
        "  100 / 267\r",
        "  110 / 267\r",
        "  120 / 267\r",
        "  130 / 267\r",
        "  140 / 267\r",
        "  150 / 267\r",
        "  160 / 267\r",
        "  170 / 267\r",
        "  180 / 267\r",
        "  190 / 267\r",
        "  200 / 267\r",
        "  210 / 267\r",
        "  220 / 267\r",
        "  230 / 267\r",
        "  240 / 267\r",
        "  250 / 267\r",
        "  260 / 267\r\n",
        "done.\r\n",
        "\r\n",
        "Progressive alignment 1/2... \r\n",
        "\r",
        "STEP     1 / 266 f\r",
        "STEP     2 / 266 f"
       ]
      },
      {
       "output_type": "stream",
       "stream": "stdout",
       "text": [
        "\r",
        "STEP     3 / 266 f\r",
        "STEP     4 / 266 f\r",
        "STEP     5 / 266 f\r",
        "STEP     6 / 266 f\r",
        "STEP     7 / 266 f\r",
        "STEP     8 / 266 f\r",
        "STEP     9 / 266 f"
       ]
      },
      {
       "output_type": "stream",
       "stream": "stdout",
       "text": [
        "\r",
        "STEP    10 / 266 f\r",
        "STEP    11 / 266 f\r",
        "STEP    12 / 266 f\r",
        "STEP    13 / 266 f\r",
        "STEP    14 / 266 f"
       ]
      },
      {
       "output_type": "stream",
       "stream": "stdout",
       "text": [
        "\r",
        "STEP    15 / 266 f\r",
        "STEP    16 / 266 f\r",
        "STEP    17 / 266 f"
       ]
      },
      {
       "output_type": "stream",
       "stream": "stdout",
       "text": [
        "\r",
        "STEP    18 / 266 f\r",
        "STEP    19 / 266 f\r",
        "STEP    20 / 266 f\r",
        "STEP    21 / 266 f\r",
        "STEP    22 / 266 f"
       ]
      },
      {
       "output_type": "stream",
       "stream": "stdout",
       "text": [
        "\r",
        "STEP    23 / 266 f"
       ]
      },
      {
       "output_type": "stream",
       "stream": "stdout",
       "text": [
        "\r",
        "STEP    24 / 266 f\r",
        "STEP    25 / 266 f\r",
        "STEP    26 / 266 f\r",
        "STEP    27 / 266 f"
       ]
      },
      {
       "output_type": "stream",
       "stream": "stdout",
       "text": [
        "\r",
        "STEP    28 / 266 d"
       ]
      },
      {
       "output_type": "stream",
       "stream": "stdout",
       "text": [
        "\r",
        "STEP    29 / 266 f\r",
        "STEP    30 / 266 f\r",
        "STEP    31 / 266 f"
       ]
      },
      {
       "output_type": "stream",
       "stream": "stdout",
       "text": [
        "\r",
        "STEP    32 / 266 f\r",
        "STEP    33 / 266 f"
       ]
      },
      {
       "output_type": "stream",
       "stream": "stdout",
       "text": [
        "\r",
        "STEP    34 / 266 f\r",
        "STEP    35 / 266 f\r",
        "STEP    36 / 266 f"
       ]
      },
      {
       "output_type": "stream",
       "stream": "stdout",
       "text": [
        "\r",
        "STEP    37 / 266 f\r",
        "STEP    38 / 266 f"
       ]
      },
      {
       "output_type": "stream",
       "stream": "stdout",
       "text": [
        "\r",
        "STEP    39 / 266 f\r",
        "STEP    40 / 266 f"
       ]
      },
      {
       "output_type": "stream",
       "stream": "stdout",
       "text": [
        "\r",
        "STEP    41 / 266 f\r",
        "STEP    42 / 266 f"
       ]
      },
      {
       "output_type": "stream",
       "stream": "stdout",
       "text": [
        "\r",
        "STEP    43 / 266 d\r",
        "STEP    44 / 266 f"
       ]
      },
      {
       "output_type": "stream",
       "stream": "stdout",
       "text": [
        "\r",
        "STEP    45 / 266 f\r",
        "STEP    46 / 266 d"
       ]
      },
      {
       "output_type": "stream",
       "stream": "stdout",
       "text": [
        "\r",
        "STEP    47 / 266 f"
       ]
      },
      {
       "output_type": "stream",
       "stream": "stdout",
       "text": [
        "\r",
        "STEP    48 / 266 f\r",
        "STEP    49 / 266 f"
       ]
      },
      {
       "output_type": "stream",
       "stream": "stdout",
       "text": [
        "\r",
        "STEP    50 / 266 f\r",
        "STEP    51 / 266 d"
       ]
      },
      {
       "output_type": "stream",
       "stream": "stdout",
       "text": [
        "\r",
        "STEP    52 / 266 f"
       ]
      },
      {
       "output_type": "stream",
       "stream": "stdout",
       "text": [
        "\r",
        "STEP    53 / 266 d\r",
        "STEP    54 / 266 d"
       ]
      },
      {
       "output_type": "stream",
       "stream": "stdout",
       "text": [
        "\r",
        "STEP    55 / 266 d"
       ]
      },
      {
       "output_type": "stream",
       "stream": "stdout",
       "text": [
        "\r",
        "STEP    56 / 266 f\r",
        "STEP    57 / 266 d"
       ]
      },
      {
       "output_type": "stream",
       "stream": "stdout",
       "text": [
        "\r",
        "STEP    58 / 266 d"
       ]
      },
      {
       "output_type": "stream",
       "stream": "stdout",
       "text": [
        "\r",
        "STEP    59 / 266 d"
       ]
      },
      {
       "output_type": "stream",
       "stream": "stdout",
       "text": [
        "\r",
        "STEP    60 / 266 d\r",
        "STEP    61 / 266 f"
       ]
      },
      {
       "output_type": "stream",
       "stream": "stdout",
       "text": [
        "\r",
        "STEP    62 / 266 f"
       ]
      },
      {
       "output_type": "stream",
       "stream": "stdout",
       "text": [
        "\r",
        "STEP    63 / 266 f\r",
        "STEP    64 / 266 f\r",
        "STEP    65 / 266 d"
       ]
      },
      {
       "output_type": "stream",
       "stream": "stdout",
       "text": [
        "\r",
        "STEP    66 / 266 f"
       ]
      },
      {
       "output_type": "stream",
       "stream": "stdout",
       "text": [
        "\r",
        "STEP    67 / 266 d\r",
        "STEP    68 / 266 d"
       ]
      },
      {
       "output_type": "stream",
       "stream": "stdout",
       "text": [
        "\r",
        "STEP    69 / 266 f\r",
        "STEP    70 / 266 d"
       ]
      },
      {
       "output_type": "stream",
       "stream": "stdout",
       "text": [
        "\r",
        "STEP    71 / 266 f\r",
        "STEP    72 / 266 d"
       ]
      },
      {
       "output_type": "stream",
       "stream": "stdout",
       "text": [
        "\r",
        "STEP    73 / 266 f"
       ]
      },
      {
       "output_type": "stream",
       "stream": "stdout",
       "text": [
        "\r",
        "STEP    74 / 266 f\r",
        "STEP    75 / 266 f\r",
        "STEP    76 / 266 f"
       ]
      },
      {
       "output_type": "stream",
       "stream": "stdout",
       "text": [
        "\r",
        "STEP    77 / 266 f\r",
        "STEP    78 / 266 d"
       ]
      },
      {
       "output_type": "stream",
       "stream": "stdout",
       "text": [
        "\r",
        "STEP    79 / 266 f"
       ]
      },
      {
       "output_type": "stream",
       "stream": "stdout",
       "text": [
        "\r",
        "STEP    80 / 266 d\r",
        "STEP    81 / 266 f"
       ]
      },
      {
       "output_type": "stream",
       "stream": "stdout",
       "text": [
        "\r",
        "STEP    82 / 266 f\r",
        "STEP    83 / 266 f"
       ]
      },
      {
       "output_type": "stream",
       "stream": "stdout",
       "text": [
        "\r",
        "STEP    84 / 266 d"
       ]
      },
      {
       "output_type": "stream",
       "stream": "stdout",
       "text": [
        "\r",
        "STEP    85 / 266 d"
       ]
      },
      {
       "output_type": "stream",
       "stream": "stdout",
       "text": [
        "\r",
        "STEP    86 / 266 f\r",
        "STEP    87 / 266 d"
       ]
      },
      {
       "output_type": "stream",
       "stream": "stdout",
       "text": [
        "\r",
        "STEP    88 / 266 d"
       ]
      },
      {
       "output_type": "stream",
       "stream": "stdout",
       "text": [
        "\r",
        "STEP    89 / 266 f\r",
        "STEP    90 / 266 f\r",
        "STEP    91 / 266 d"
       ]
      },
      {
       "output_type": "stream",
       "stream": "stdout",
       "text": [
        "\r",
        "STEP    92 / 266 f"
       ]
      },
      {
       "output_type": "stream",
       "stream": "stdout",
       "text": [
        "\r",
        "STEP    93 / 266 d\r",
        "STEP    94 / 266 d"
       ]
      },
      {
       "output_type": "stream",
       "stream": "stdout",
       "text": [
        "\r",
        "STEP    95 / 266 f"
       ]
      },
      {
       "output_type": "stream",
       "stream": "stdout",
       "text": [
        "\r",
        "STEP    96 / 266 d\r",
        "STEP    97 / 266 d"
       ]
      },
      {
       "output_type": "stream",
       "stream": "stdout",
       "text": [
        "\r",
        "STEP    98 / 266 f\r",
        "STEP    99 / 266 d"
       ]
      },
      {
       "output_type": "stream",
       "stream": "stdout",
       "text": [
        "\r",
        "STEP   100 / 266 f"
       ]
      },
      {
       "output_type": "stream",
       "stream": "stdout",
       "text": [
        "\r",
        "STEP   101 / 266 f\r",
        "STEP   102 / 266 d"
       ]
      },
      {
       "output_type": "stream",
       "stream": "stdout",
       "text": [
        "\r",
        "STEP   103 / 266 f\r",
        "STEP   104 / 266 d"
       ]
      },
      {
       "output_type": "stream",
       "stream": "stdout",
       "text": [
        "\r",
        "STEP   105 / 266 d"
       ]
      },
      {
       "output_type": "stream",
       "stream": "stdout",
       "text": [
        "\r",
        "STEP   106 / 266 d"
       ]
      },
      {
       "output_type": "stream",
       "stream": "stdout",
       "text": [
        "\r",
        "STEP   107 / 266 d\r",
        "STEP   108 / 266 f"
       ]
      },
      {
       "output_type": "stream",
       "stream": "stdout",
       "text": [
        "\r",
        "STEP   109 / 266 f"
       ]
      },
      {
       "output_type": "stream",
       "stream": "stdout",
       "text": [
        "\r",
        "STEP   110 / 266 f\r",
        "STEP   111 / 266 f\r",
        "STEP   112 / 266 d"
       ]
      },
      {
       "output_type": "stream",
       "stream": "stdout",
       "text": [
        "\r",
        "STEP   113 / 266 d"
       ]
      },
      {
       "output_type": "stream",
       "stream": "stdout",
       "text": [
        "\r",
        "STEP   114 / 266 f\r",
        "STEP   115 / 266 d"
       ]
      },
      {
       "output_type": "stream",
       "stream": "stdout",
       "text": [
        "\r",
        "STEP   116 / 266 d"
       ]
      },
      {
       "output_type": "stream",
       "stream": "stdout",
       "text": [
        "\r",
        "STEP   117 / 266 f\r",
        "STEP   118 / 266 d"
       ]
      },
      {
       "output_type": "stream",
       "stream": "stdout",
       "text": [
        "\r",
        "STEP   119 / 266 d"
       ]
      },
      {
       "output_type": "stream",
       "stream": "stdout",
       "text": [
        "\r",
        "STEP   120 / 266 d\r",
        "STEP   121 / 266 d"
       ]
      },
      {
       "output_type": "stream",
       "stream": "stdout",
       "text": [
        "\r\n",
        "Reallocating..done. *alloclen = 5644\r\n",
        "\r",
        "STEP   122 / 266 d"
       ]
      },
      {
       "output_type": "stream",
       "stream": "stdout",
       "text": [
        "\r",
        "STEP   123 / 266 d\r",
        "STEP   124 / 266 d"
       ]
      },
      {
       "output_type": "stream",
       "stream": "stdout",
       "text": [
        "\r",
        "STEP   125 / 266 d"
       ]
      },
      {
       "output_type": "stream",
       "stream": "stdout",
       "text": [
        "\r",
        "STEP   126 / 266 d"
       ]
      },
      {
       "output_type": "stream",
       "stream": "stdout",
       "text": [
        "\r",
        "STEP   127 / 266 f"
       ]
      },
      {
       "output_type": "stream",
       "stream": "stdout",
       "text": [
        "\r",
        "STEP   128 / 266 d\r",
        "STEP   129 / 266 d"
       ]
      },
      {
       "output_type": "stream",
       "stream": "stdout",
       "text": [
        "\r",
        "STEP   130 / 266 d"
       ]
      },
      {
       "output_type": "stream",
       "stream": "stdout",
       "text": [
        "\r",
        "STEP   131 / 266 d"
       ]
      },
      {
       "output_type": "stream",
       "stream": "stdout",
       "text": [
        "\r",
        "STEP   132 / 266 d"
       ]
      },
      {
       "output_type": "stream",
       "stream": "stdout",
       "text": [
        "\r",
        "STEP   133 / 266 d"
       ]
      },
      {
       "output_type": "stream",
       "stream": "stdout",
       "text": [
        "\r",
        "STEP   134 / 266 d"
       ]
      },
      {
       "output_type": "stream",
       "stream": "stdout",
       "text": [
        "\r",
        "STEP   135 / 266 d"
       ]
      },
      {
       "output_type": "stream",
       "stream": "stdout",
       "text": [
        "\r",
        "STEP   136 / 266 d"
       ]
      },
      {
       "output_type": "stream",
       "stream": "stdout",
       "text": [
        "\r",
        "STEP   137 / 266 d"
       ]
      },
      {
       "output_type": "stream",
       "stream": "stdout",
       "text": [
        "\r",
        "STEP   138 / 266 d"
       ]
      },
      {
       "output_type": "stream",
       "stream": "stdout",
       "text": [
        "\r",
        "STEP   139 / 266 d"
       ]
      },
      {
       "output_type": "stream",
       "stream": "stdout",
       "text": [
        "\r",
        "STEP   140 / 266 f\r",
        "STEP   141 / 266 d"
       ]
      },
      {
       "output_type": "stream",
       "stream": "stdout",
       "text": [
        "\r",
        "STEP   142 / 266 f"
       ]
      },
      {
       "output_type": "stream",
       "stream": "stdout",
       "text": [
        "\r",
        "STEP   143 / 266 d"
       ]
      },
      {
       "output_type": "stream",
       "stream": "stdout",
       "text": [
        "\r",
        "STEP   144 / 266 d"
       ]
      },
      {
       "output_type": "stream",
       "stream": "stdout",
       "text": [
        "\r",
        "STEP   145 / 266 d"
       ]
      },
      {
       "output_type": "stream",
       "stream": "stdout",
       "text": [
        "\r",
        "STEP   146 / 266 d"
       ]
      },
      {
       "output_type": "stream",
       "stream": "stdout",
       "text": [
        "\r",
        "STEP   147 / 266 d"
       ]
      },
      {
       "output_type": "stream",
       "stream": "stdout",
       "text": [
        "\r",
        "STEP   148 / 266 f"
       ]
      },
      {
       "output_type": "stream",
       "stream": "stdout",
       "text": [
        "\r",
        "STEP   149 / 266 d"
       ]
      },
      {
       "output_type": "stream",
       "stream": "stdout",
       "text": [
        "\r",
        "STEP   150 / 266 d"
       ]
      },
      {
       "output_type": "stream",
       "stream": "stdout",
       "text": [
        "\r",
        "STEP   151 / 266 d"
       ]
      },
      {
       "output_type": "stream",
       "stream": "stdout",
       "text": [
        "\r",
        "STEP   152 / 266 f\r",
        "STEP   153 / 266 d"
       ]
      },
      {
       "output_type": "stream",
       "stream": "stdout",
       "text": [
        "\r",
        "STEP   154 / 266 d"
       ]
      },
      {
       "output_type": "stream",
       "stream": "stdout",
       "text": [
        "\r",
        "STEP   155 / 266 f\r",
        "STEP   156 / 266 d"
       ]
      },
      {
       "output_type": "stream",
       "stream": "stdout",
       "text": [
        "\r",
        "STEP   157 / 266 d"
       ]
      },
      {
       "output_type": "stream",
       "stream": "stdout",
       "text": [
        "\r",
        "STEP   158 / 266 d"
       ]
      },
      {
       "output_type": "stream",
       "stream": "stdout",
       "text": [
        "\r",
        "STEP   159 / 266 d"
       ]
      },
      {
       "output_type": "stream",
       "stream": "stdout",
       "text": [
        "\r",
        "STEP   160 / 266 d"
       ]
      },
      {
       "output_type": "stream",
       "stream": "stdout",
       "text": [
        "\r",
        "STEP   161 / 266 d\r",
        "STEP   162 / 266 f"
       ]
      },
      {
       "output_type": "stream",
       "stream": "stdout",
       "text": [
        "\r",
        "STEP   163 / 266 d"
       ]
      },
      {
       "output_type": "stream",
       "stream": "stdout",
       "text": [
        "\r",
        "STEP   164 / 266 d"
       ]
      },
      {
       "output_type": "stream",
       "stream": "stdout",
       "text": [
        "\r",
        "STEP   165 / 266 d"
       ]
      },
      {
       "output_type": "stream",
       "stream": "stdout",
       "text": [
        "\r",
        "STEP   166 / 266 f\r",
        "STEP   167 / 266 f"
       ]
      },
      {
       "output_type": "stream",
       "stream": "stdout",
       "text": [
        "\r",
        "STEP   168 / 266 d"
       ]
      },
      {
       "output_type": "stream",
       "stream": "stdout",
       "text": [
        "\r",
        "STEP   169 / 266 d"
       ]
      },
      {
       "output_type": "stream",
       "stream": "stdout",
       "text": [
        "\r",
        "STEP   170 / 266 d"
       ]
      },
      {
       "output_type": "stream",
       "stream": "stdout",
       "text": [
        "\r",
        "STEP   171 / 266 d"
       ]
      },
      {
       "output_type": "stream",
       "stream": "stdout",
       "text": [
        "\r",
        "STEP   172 / 266 d\r",
        "STEP   173 / 266 f"
       ]
      },
      {
       "output_type": "stream",
       "stream": "stdout",
       "text": [
        "\r",
        "STEP   174 / 266 d"
       ]
      },
      {
       "output_type": "stream",
       "stream": "stdout",
       "text": [
        "\r",
        "STEP   175 / 266 d"
       ]
      },
      {
       "output_type": "stream",
       "stream": "stdout",
       "text": [
        "\r",
        "STEP   176 / 266 d\r",
        "STEP   177 / 266 d"
       ]
      },
      {
       "output_type": "stream",
       "stream": "stdout",
       "text": [
        "\r",
        "STEP   178 / 266 f"
       ]
      },
      {
       "output_type": "stream",
       "stream": "stdout",
       "text": [
        "\r",
        "STEP   179 / 266 d"
       ]
      },
      {
       "output_type": "stream",
       "stream": "stdout",
       "text": [
        "\r",
        "STEP   180 / 266 d"
       ]
      },
      {
       "output_type": "stream",
       "stream": "stdout",
       "text": [
        "\r",
        "STEP   181 / 266 d"
       ]
      },
      {
       "output_type": "stream",
       "stream": "stdout",
       "text": [
        "\r",
        "STEP   182 / 266 d"
       ]
      },
      {
       "output_type": "stream",
       "stream": "stdout",
       "text": [
        "\r",
        "STEP   183 / 266 d"
       ]
      },
      {
       "output_type": "stream",
       "stream": "stdout",
       "text": [
        "\r",
        "STEP   184 / 266 d"
       ]
      },
      {
       "output_type": "stream",
       "stream": "stdout",
       "text": [
        "\r",
        "STEP   185 / 266 f\r",
        "STEP   186 / 266 f\r\n",
        "Reallocating.."
       ]
      },
      {
       "output_type": "stream",
       "stream": "stdout",
       "text": [
        "done. *alloclen = 6953\r\n",
        "\r",
        "STEP   187 / 266 d"
       ]
      },
      {
       "output_type": "stream",
       "stream": "stdout",
       "text": [
        "\r",
        "STEP   188 / 266 d"
       ]
      },
      {
       "output_type": "stream",
       "stream": "stdout",
       "text": [
        "\r",
        "STEP   189 / 266 d"
       ]
      },
      {
       "output_type": "stream",
       "stream": "stdout",
       "text": [
        "\r",
        "STEP   190 / 266 f\r",
        "STEP   191 / 266 d"
       ]
      },
      {
       "output_type": "stream",
       "stream": "stdout",
       "text": [
        "\r",
        "STEP   192 / 266 d"
       ]
      },
      {
       "output_type": "stream",
       "stream": "stdout",
       "text": [
        "\r",
        "STEP   193 / 266 d"
       ]
      },
      {
       "output_type": "stream",
       "stream": "stdout",
       "text": [
        "\r",
        "STEP   194 / 266 d\r",
        "STEP   195 / 266 d"
       ]
      },
      {
       "output_type": "stream",
       "stream": "stdout",
       "text": [
        "\r",
        "STEP   196 / 266 d"
       ]
      },
      {
       "output_type": "stream",
       "stream": "stdout",
       "text": [
        "\r",
        "STEP   197 / 266 d"
       ]
      },
      {
       "output_type": "stream",
       "stream": "stdout",
       "text": [
        "\r",
        "STEP   198 / 266 d"
       ]
      },
      {
       "output_type": "stream",
       "stream": "stdout",
       "text": [
        "\r",
        "STEP   199 / 266 d"
       ]
      },
      {
       "output_type": "stream",
       "stream": "stdout",
       "text": [
        "\r",
        "STEP   200 / 266 d\r",
        "STEP   201 / 266 f"
       ]
      },
      {
       "output_type": "stream",
       "stream": "stdout",
       "text": [
        "\r",
        "STEP   202 / 266 d"
       ]
      },
      {
       "output_type": "stream",
       "stream": "stdout",
       "text": [
        "\r",
        "STEP   203 / 266 d"
       ]
      },
      {
       "output_type": "stream",
       "stream": "stdout",
       "text": [
        "\r",
        "STEP   204 / 266 d"
       ]
      },
      {
       "output_type": "stream",
       "stream": "stdout",
       "text": [
        "\r",
        "STEP   205 / 266 f"
       ]
      },
      {
       "output_type": "stream",
       "stream": "stdout",
       "text": [
        "\r",
        "STEP   206 / 266 f\r",
        "STEP   207 / 266 f\r",
        "STEP   208 / 266 d"
       ]
      },
      {
       "output_type": "stream",
       "stream": "stdout",
       "text": [
        "\r",
        "STEP   209 / 266 d"
       ]
      },
      {
       "output_type": "stream",
       "stream": "stdout",
       "text": [
        "\r",
        "STEP   210 / 266 d"
       ]
      },
      {
       "output_type": "stream",
       "stream": "stdout",
       "text": [
        "\r",
        "STEP   211 / 266 f\r",
        "STEP   212 / 266 d"
       ]
      },
      {
       "output_type": "stream",
       "stream": "stdout",
       "text": [
        "\r",
        "STEP   213 / 266 d"
       ]
      },
      {
       "output_type": "stream",
       "stream": "stdout",
       "text": [
        "\r",
        "STEP   214 / 266 d"
       ]
      },
      {
       "output_type": "stream",
       "stream": "stdout",
       "text": [
        "\r",
        "STEP   215 / 266 f"
       ]
      },
      {
       "output_type": "stream",
       "stream": "stdout",
       "text": [
        "\r",
        "STEP   216 / 266 d"
       ]
      },
      {
       "output_type": "stream",
       "stream": "stdout",
       "text": [
        "\r",
        "STEP   217 / 266 d"
       ]
      },
      {
       "output_type": "stream",
       "stream": "stdout",
       "text": [
        "\r",
        "STEP   218 / 266 f"
       ]
      },
      {
       "output_type": "stream",
       "stream": "stdout",
       "text": [
        "\r",
        "STEP   219 / 266 d"
       ]
      },
      {
       "output_type": "stream",
       "stream": "stdout",
       "text": [
        "\r",
        "STEP   220 / 266 d"
       ]
      },
      {
       "output_type": "stream",
       "stream": "stdout",
       "text": [
        "\r",
        "STEP   221 / 266 d"
       ]
      },
      {
       "output_type": "stream",
       "stream": "stdout",
       "text": [
        "\r",
        "STEP   222 / 266 d"
       ]
      },
      {
       "output_type": "stream",
       "stream": "stdout",
       "text": [
        "\r\n",
        "Reallocating..done. *alloclen = 9470\r\n",
        "\r",
        "STEP   223 / 266 d"
       ]
      },
      {
       "output_type": "stream",
       "stream": "stdout",
       "text": [
        "\r",
        "STEP   224 / 266 d"
       ]
      },
      {
       "output_type": "stream",
       "stream": "stdout",
       "text": [
        "\r",
        "STEP   225 / 266 d"
       ]
      },
      {
       "output_type": "stream",
       "stream": "stdout",
       "text": [
        "\r",
        "STEP   226 / 266 f\r",
        "STEP   227 / 266 d"
       ]
      },
      {
       "output_type": "stream",
       "stream": "stdout",
       "text": [
        "\r",
        "STEP   228 / 266 d"
       ]
      },
      {
       "output_type": "stream",
       "stream": "stdout",
       "text": [
        "\r",
        "STEP   229 / 266 d"
       ]
      },
      {
       "output_type": "stream",
       "stream": "stdout",
       "text": [
        "\r",
        "STEP   230 / 266 d"
       ]
      },
      {
       "output_type": "stream",
       "stream": "stdout",
       "text": [
        "\r",
        "STEP   231 / 266 d"
       ]
      },
      {
       "output_type": "stream",
       "stream": "stdout",
       "text": [
        "\r",
        "STEP   232 / 266 d"
       ]
      },
      {
       "output_type": "stream",
       "stream": "stdout",
       "text": [
        "\r",
        "STEP   233 / 266 d"
       ]
      },
      {
       "output_type": "stream",
       "stream": "stdout",
       "text": [
        "\r",
        "STEP   234 / 266 d"
       ]
      },
      {
       "output_type": "stream",
       "stream": "stdout",
       "text": [
        "\r",
        "STEP   235 / 266 f\r",
        "STEP   236 / 266 d"
       ]
      },
      {
       "output_type": "stream",
       "stream": "stdout",
       "text": [
        "\r",
        "STEP   237 / 266 d"
       ]
      },
      {
       "output_type": "stream",
       "stream": "stdout",
       "text": [
        "\r",
        "STEP   238 / 266 d"
       ]
      },
      {
       "output_type": "stream",
       "stream": "stdout",
       "text": [
        "\r",
        "STEP   239 / 266 d"
       ]
      },
      {
       "output_type": "stream",
       "stream": "stdout",
       "text": [
        "\r",
        "STEP   240 / 266 d"
       ]
      },
      {
       "output_type": "stream",
       "stream": "stdout",
       "text": [
        "\r",
        "STEP   241 / 266 d"
       ]
      },
      {
       "output_type": "stream",
       "stream": "stdout",
       "text": [
        "\r",
        "STEP   242 / 266 d"
       ]
      },
      {
       "output_type": "stream",
       "stream": "stdout",
       "text": [
        "\r",
        "STEP   243 / 266 d"
       ]
      },
      {
       "output_type": "stream",
       "stream": "stdout",
       "text": [
        "\r",
        "STEP   244 / 266 d"
       ]
      },
      {
       "output_type": "stream",
       "stream": "stdout",
       "text": [
        "\r",
        "STEP   245 / 266 f\r",
        "STEP   246 / 266 d"
       ]
      },
      {
       "output_type": "stream",
       "stream": "stdout",
       "text": [
        "\r",
        "STEP   247 / 266 f"
       ]
      },
      {
       "output_type": "stream",
       "stream": "stdout",
       "text": [
        "\r",
        "STEP   248 / 266 f\r",
        "STEP   249 / 266 d"
       ]
      },
      {
       "output_type": "stream",
       "stream": "stdout",
       "text": [
        "\r",
        "STEP   250 / 266 f"
       ]
      },
      {
       "output_type": "stream",
       "stream": "stdout",
       "text": [
        "\r",
        "STEP   251 / 266 d"
       ]
      },
      {
       "output_type": "stream",
       "stream": "stdout",
       "text": [
        "\r",
        "STEP   252 / 266 d"
       ]
      },
      {
       "output_type": "stream",
       "stream": "stdout",
       "text": [
        "\r",
        "STEP   253 / 266 d"
       ]
      },
      {
       "output_type": "stream",
       "stream": "stdout",
       "text": [
        "\r",
        "STEP   254 / 266 d"
       ]
      },
      {
       "output_type": "stream",
       "stream": "stdout",
       "text": [
        "\r",
        "STEP   255 / 266 f\r",
        "STEP   256 / 266 d"
       ]
      },
      {
       "output_type": "stream",
       "stream": "stdout",
       "text": [
        "\r",
        "STEP   257 / 266 d"
       ]
      },
      {
       "output_type": "stream",
       "stream": "stdout",
       "text": [
        "\r",
        "STEP   258 / 266 d"
       ]
      },
      {
       "output_type": "stream",
       "stream": "stdout",
       "text": [
        "\r",
        "STEP   259 / 266 d"
       ]
      },
      {
       "output_type": "stream",
       "stream": "stdout",
       "text": [
        "\r",
        "STEP   260 / 266 d"
       ]
      },
      {
       "output_type": "stream",
       "stream": "stdout",
       "text": [
        "\r",
        "STEP   261 / 266 d"
       ]
      },
      {
       "output_type": "stream",
       "stream": "stdout",
       "text": [
        "\r",
        "STEP   262 / 266 d"
       ]
      },
      {
       "output_type": "stream",
       "stream": "stdout",
       "text": [
        "\r\n",
        "Reallocating..done. *alloclen = 10797\r\n",
        "\r",
        "STEP   263 / 266 d"
       ]
      },
      {
       "output_type": "stream",
       "stream": "stdout",
       "text": [
        "\r",
        "STEP   264 / 266 d"
       ]
      },
      {
       "output_type": "stream",
       "stream": "stdout",
       "text": [
        "\r",
        "STEP   265 / 266 d"
       ]
      },
      {
       "output_type": "stream",
       "stream": "stdout",
       "text": [
        "\r",
        "STEP   266 / 266 d"
       ]
      },
      {
       "output_type": "stream",
       "stream": "stdout",
       "text": [
        "\r\n",
        "done.\r\n",
        "\r\n",
        "Constructing a UPGMA tree ... \r\n",
        "\r",
        "    0 / 267\r",
        "   10 / 267\r",
        "   20 / 267\r",
        "   30 / 267\r",
        "   40 / 267\r",
        "   50 / 267\r",
        "   60 / 267\r",
        "   70 / 267\r",
        "   80 / 267\r",
        "   90 / 267\r",
        "  100 / 267\r",
        "  110 / 267\r",
        "  120 / 267\r",
        "  130 / 267\r",
        "  140 / 267\r",
        "  150 / 267\r",
        "  160 / 267\r",
        "  170 / 267\r",
        "  180 / 267\r",
        "  190 / 267\r",
        "  200 / 267\r",
        "  210 / 267\r",
        "  220 / 267\r",
        "  230 / 267\r",
        "  240 / 267\r",
        "  250 / 267\r",
        "  260 / 267\r\n",
        "done.\r\n",
        "\r\n",
        "Progressive alignment 2/2... \r\n",
        "\r",
        "STEP     1 / 266 f\r",
        "STEP     2 / 266 f\r",
        "STEP     3 / 266 f\r",
        "STEP     4 / 266 f\r",
        "STEP     5 / 266 f\r",
        "STEP     6 / 266 f\r",
        "STEP     7 / 266 f\r",
        "STEP     8 / 266 f\r",
        "STEP     9 / 266 f"
       ]
      },
      {
       "output_type": "stream",
       "stream": "stdout",
       "text": [
        "\r",
        "STEP    10 / 266 f\r",
        "STEP    11 / 266 f\r",
        "STEP    12 / 266 f"
       ]
      },
      {
       "output_type": "stream",
       "stream": "stdout",
       "text": [
        "\r",
        "STEP    13 / 266 f\r",
        "STEP    14 / 266 f\r",
        "STEP    15 / 266 f\r",
        "STEP    16 / 266 f\r",
        "STEP    17 / 266 f"
       ]
      },
      {
       "output_type": "stream",
       "stream": "stdout",
       "text": [
        "\r",
        "STEP    18 / 266 f\r",
        "STEP    19 / 266 f\r",
        "STEP    20 / 266 f\r",
        "STEP    21 / 266 f\r",
        "STEP    22 / 266 f\r",
        "STEP    23 / 266 f"
       ]
      },
      {
       "output_type": "stream",
       "stream": "stdout",
       "text": [
        "\r",
        "STEP    24 / 266 f\r",
        "STEP    25 / 266 f\r",
        "STEP    26 / 266 f\r",
        "STEP    27 / 266 f"
       ]
      },
      {
       "output_type": "stream",
       "stream": "stdout",
       "text": [
        "\r",
        "STEP    28 / 266 f\r",
        "STEP    29 / 266 f\r",
        "STEP    30 / 266 f"
       ]
      },
      {
       "output_type": "stream",
       "stream": "stdout",
       "text": [
        "\r",
        "STEP    31 / 266 f\r",
        "STEP    32 / 266 f\r",
        "STEP    33 / 266 f\r",
        "STEP    34 / 266 f"
       ]
      },
      {
       "output_type": "stream",
       "stream": "stdout",
       "text": [
        "\r",
        "STEP    35 / 266 f\r",
        "STEP    36 / 266 f"
       ]
      },
      {
       "output_type": "stream",
       "stream": "stdout",
       "text": [
        "\r",
        "STEP    37 / 266 f\r",
        "STEP    38 / 266 f\r",
        "STEP    39 / 266 f"
       ]
      },
      {
       "output_type": "stream",
       "stream": "stdout",
       "text": [
        "\r",
        "STEP    40 / 266 f\r",
        "STEP    41 / 266 f"
       ]
      },
      {
       "output_type": "stream",
       "stream": "stdout",
       "text": [
        "\r",
        "STEP    42 / 266 f\r",
        "STEP    43 / 266 f"
       ]
      },
      {
       "output_type": "stream",
       "stream": "stdout",
       "text": [
        "\r",
        "STEP    44 / 266 f\r",
        "STEP    45 / 266 f"
       ]
      },
      {
       "output_type": "stream",
       "stream": "stdout",
       "text": [
        "\r",
        "STEP    46 / 266 d\r",
        "STEP    47 / 266 f"
       ]
      },
      {
       "output_type": "stream",
       "stream": "stdout",
       "text": [
        "\r",
        "STEP    48 / 266 d"
       ]
      },
      {
       "output_type": "stream",
       "stream": "stdout",
       "text": [
        "\r",
        "STEP    49 / 266 f\r",
        "STEP    50 / 266 d"
       ]
      },
      {
       "output_type": "stream",
       "stream": "stdout",
       "text": [
        "\r",
        "STEP    51 / 266 f\r",
        "STEP    52 / 266 f"
       ]
      },
      {
       "output_type": "stream",
       "stream": "stdout",
       "text": [
        "\r",
        "STEP    53 / 266 f\r",
        "STEP    54 / 266 d"
       ]
      },
      {
       "output_type": "stream",
       "stream": "stdout",
       "text": [
        "\r",
        "STEP    55 / 266 f\r",
        "STEP    56 / 266 d"
       ]
      },
      {
       "output_type": "stream",
       "stream": "stdout",
       "text": [
        "\r",
        "STEP    57 / 266 f"
       ]
      },
      {
       "output_type": "stream",
       "stream": "stdout",
       "text": [
        "\r",
        "STEP    58 / 266 f\r",
        "STEP    59 / 266 d"
       ]
      },
      {
       "output_type": "stream",
       "stream": "stdout",
       "text": [
        "\r",
        "STEP    60 / 266 f\r",
        "STEP    61 / 266 d"
       ]
      },
      {
       "output_type": "stream",
       "stream": "stdout",
       "text": [
        "\r",
        "STEP    62 / 266 d\r",
        "STEP    63 / 266 d"
       ]
      },
      {
       "output_type": "stream",
       "stream": "stdout",
       "text": [
        "\r",
        "STEP    64 / 266 d"
       ]
      },
      {
       "output_type": "stream",
       "stream": "stdout",
       "text": [
        "\r",
        "STEP    65 / 266 f\r",
        "STEP    66 / 266 f\r",
        "STEP    67 / 266 d"
       ]
      },
      {
       "output_type": "stream",
       "stream": "stdout",
       "text": [
        "\r",
        "STEP    68 / 266 d"
       ]
      },
      {
       "output_type": "stream",
       "stream": "stdout",
       "text": [
        "\r",
        "STEP    69 / 266 d"
       ]
      },
      {
       "output_type": "stream",
       "stream": "stdout",
       "text": [
        "\r",
        "STEP    70 / 266 d\r",
        "STEP    71 / 266 d"
       ]
      },
      {
       "output_type": "stream",
       "stream": "stdout",
       "text": [
        "\r",
        "STEP    72 / 266 d"
       ]
      },
      {
       "output_type": "stream",
       "stream": "stdout",
       "text": [
        "\r",
        "STEP    73 / 266 f\r",
        "STEP    74 / 266 d"
       ]
      },
      {
       "output_type": "stream",
       "stream": "stdout",
       "text": [
        "\r",
        "STEP    75 / 266 f"
       ]
      },
      {
       "output_type": "stream",
       "stream": "stdout",
       "text": [
        "\r",
        "STEP    76 / 266 d\r",
        "STEP    77 / 266 f"
       ]
      },
      {
       "output_type": "stream",
       "stream": "stdout",
       "text": [
        "\r",
        "STEP    78 / 266 f"
       ]
      },
      {
       "output_type": "stream",
       "stream": "stdout",
       "text": [
        "\r",
        "STEP    79 / 266 f\r",
        "STEP    80 / 266 f\r",
        "STEP    81 / 266 f"
       ]
      },
      {
       "output_type": "stream",
       "stream": "stdout",
       "text": [
        "\r",
        "STEP    82 / 266 d\r",
        "STEP    83 / 266 f"
       ]
      },
      {
       "output_type": "stream",
       "stream": "stdout",
       "text": [
        "\r",
        "STEP    84 / 266 d"
       ]
      },
      {
       "output_type": "stream",
       "stream": "stdout",
       "text": [
        "\r",
        "STEP    85 / 266 f\r",
        "STEP    86 / 266 d"
       ]
      },
      {
       "output_type": "stream",
       "stream": "stdout",
       "text": [
        "\r",
        "STEP    87 / 266 f\r",
        "STEP    88 / 266 d"
       ]
      },
      {
       "output_type": "stream",
       "stream": "stdout",
       "text": [
        "\r",
        "STEP    89 / 266 f\r",
        "STEP    90 / 266 f"
       ]
      },
      {
       "output_type": "stream",
       "stream": "stdout",
       "text": [
        "\r",
        "STEP    91 / 266 f\r",
        "STEP    92 / 266 d"
       ]
      },
      {
       "output_type": "stream",
       "stream": "stdout",
       "text": [
        "\r",
        "STEP    93 / 266 f"
       ]
      },
      {
       "output_type": "stream",
       "stream": "stdout",
       "text": [
        "\r",
        "STEP    94 / 266 d\r",
        "STEP    95 / 266 d"
       ]
      },
      {
       "output_type": "stream",
       "stream": "stdout",
       "text": [
        "\r",
        "STEP    96 / 266 d"
       ]
      },
      {
       "output_type": "stream",
       "stream": "stdout",
       "text": [
        "\r",
        "STEP    97 / 266 d"
       ]
      },
      {
       "output_type": "stream",
       "stream": "stdout",
       "text": [
        "\r",
        "STEP    98 / 266 f"
       ]
      },
      {
       "output_type": "stream",
       "stream": "stdout",
       "text": [
        "\r",
        "STEP    99 / 266 f\r",
        "STEP   100 / 266 d\r",
        "STEP   101 / 266 d"
       ]
      },
      {
       "output_type": "stream",
       "stream": "stdout",
       "text": [
        "\r",
        "STEP   102 / 266 d"
       ]
      },
      {
       "output_type": "stream",
       "stream": "stdout",
       "text": [
        "\r",
        "STEP   103 / 266 f\r",
        "STEP   104 / 266 f"
       ]
      },
      {
       "output_type": "stream",
       "stream": "stdout",
       "text": [
        "\r",
        "STEP   105 / 266 d\r",
        "STEP   106 / 266 d"
       ]
      },
      {
       "output_type": "stream",
       "stream": "stdout",
       "text": [
        "\r",
        "STEP   107 / 266 d"
       ]
      },
      {
       "output_type": "stream",
       "stream": "stdout",
       "text": [
        "\r",
        "STEP   108 / 266 f\r",
        "STEP   109 / 266 f"
       ]
      },
      {
       "output_type": "stream",
       "stream": "stdout",
       "text": [
        "\r",
        "STEP   110 / 266 d\r",
        "STEP   111 / 266 f"
       ]
      },
      {
       "output_type": "stream",
       "stream": "stdout",
       "text": [
        "\r",
        "STEP   112 / 266 d"
       ]
      },
      {
       "output_type": "stream",
       "stream": "stdout",
       "text": [
        "\r",
        "STEP   113 / 266 d"
       ]
      },
      {
       "output_type": "stream",
       "stream": "stdout",
       "text": [
        "\r",
        "STEP   114 / 266 f"
       ]
      },
      {
       "output_type": "stream",
       "stream": "stdout",
       "text": [
        "\r",
        "STEP   115 / 266 f\r",
        "STEP   116 / 266 f"
       ]
      },
      {
       "output_type": "stream",
       "stream": "stdout",
       "text": [
        "\r",
        "STEP   117 / 266 f\r",
        "STEP   118 / 266 d"
       ]
      },
      {
       "output_type": "stream",
       "stream": "stdout",
       "text": [
        "\r",
        "STEP   119 / 266 d"
       ]
      },
      {
       "output_type": "stream",
       "stream": "stdout",
       "text": [
        "\r",
        "STEP   120 / 266 d"
       ]
      },
      {
       "output_type": "stream",
       "stream": "stdout",
       "text": [
        "\r",
        "STEP   121 / 266 d"
       ]
      },
      {
       "output_type": "stream",
       "stream": "stdout",
       "text": [
        "\r",
        "STEP   122 / 266 d\r",
        "STEP   123 / 266 f"
       ]
      },
      {
       "output_type": "stream",
       "stream": "stdout",
       "text": [
        "\r",
        "STEP   124 / 266 f\r",
        "STEP   125 / 266 d"
       ]
      },
      {
       "output_type": "stream",
       "stream": "stdout",
       "text": [
        "\r",
        "STEP   126 / 266 f\r",
        "STEP   127 / 266 f"
       ]
      },
      {
       "output_type": "stream",
       "stream": "stdout",
       "text": [
        "\r",
        "STEP   128 / 266 d"
       ]
      },
      {
       "output_type": "stream",
       "stream": "stdout",
       "text": [
        "\r",
        "STEP   129 / 266 d"
       ]
      },
      {
       "output_type": "stream",
       "stream": "stdout",
       "text": [
        "\r",
        "STEP   130 / 266 d"
       ]
      },
      {
       "output_type": "stream",
       "stream": "stdout",
       "text": [
        "\r",
        "STEP   131 / 266 d"
       ]
      },
      {
       "output_type": "stream",
       "stream": "stdout",
       "text": [
        "\r",
        "STEP   132 / 266 f\r",
        "STEP   133 / 266 d"
       ]
      },
      {
       "output_type": "stream",
       "stream": "stdout",
       "text": [
        "\r",
        "STEP   134 / 266 d"
       ]
      },
      {
       "output_type": "stream",
       "stream": "stdout",
       "text": [
        "\r",
        "STEP   135 / 266 d\r",
        "STEP   136 / 266 f"
       ]
      },
      {
       "output_type": "stream",
       "stream": "stdout",
       "text": [
        "\r",
        "STEP   137 / 266 d"
       ]
      },
      {
       "output_type": "stream",
       "stream": "stdout",
       "text": [
        "\r",
        "STEP   138 / 266 f\r",
        "STEP   139 / 266 f\r",
        "STEP   140 / 266 d"
       ]
      },
      {
       "output_type": "stream",
       "stream": "stdout",
       "text": [
        "\r",
        "STEP   141 / 266 d"
       ]
      },
      {
       "output_type": "stream",
       "stream": "stdout",
       "text": [
        "\r",
        "STEP   142 / 266 d"
       ]
      },
      {
       "output_type": "stream",
       "stream": "stdout",
       "text": [
        "\r",
        "STEP   143 / 266 d"
       ]
      },
      {
       "output_type": "stream",
       "stream": "stdout",
       "text": [
        "\r",
        "STEP   144 / 266 d"
       ]
      },
      {
       "output_type": "stream",
       "stream": "stdout",
       "text": [
        "\r",
        "STEP   145 / 266 d\r",
        "STEP   146 / 266 f"
       ]
      },
      {
       "output_type": "stream",
       "stream": "stdout",
       "text": [
        "\r",
        "STEP   147 / 266 d\r",
        "STEP   148 / 266 d"
       ]
      },
      {
       "output_type": "stream",
       "stream": "stdout",
       "text": [
        "\r",
        "STEP   149 / 266 d"
       ]
      },
      {
       "output_type": "stream",
       "stream": "stdout",
       "text": [
        "\r",
        "STEP   150 / 266 d"
       ]
      },
      {
       "output_type": "stream",
       "stream": "stdout",
       "text": [
        "\r",
        "STEP   151 / 266 d"
       ]
      },
      {
       "output_type": "stream",
       "stream": "stdout",
       "text": [
        "\r",
        "STEP   152 / 266 d"
       ]
      },
      {
       "output_type": "stream",
       "stream": "stdout",
       "text": [
        "\r",
        "STEP   153 / 266 d\r",
        "STEP   154 / 266 d"
       ]
      },
      {
       "output_type": "stream",
       "stream": "stdout",
       "text": [
        "\r",
        "STEP   155 / 266 d"
       ]
      },
      {
       "output_type": "stream",
       "stream": "stdout",
       "text": [
        "\r",
        "STEP   156 / 266 d"
       ]
      },
      {
       "output_type": "stream",
       "stream": "stdout",
       "text": [
        "\r",
        "STEP   157 / 266 f"
       ]
      },
      {
       "output_type": "stream",
       "stream": "stdout",
       "text": [
        "\r",
        "STEP   158 / 266 d"
       ]
      },
      {
       "output_type": "stream",
       "stream": "stdout",
       "text": [
        "\r",
        "STEP   159 / 266 d\r",
        "STEP   160 / 266 d"
       ]
      },
      {
       "output_type": "stream",
       "stream": "stdout",
       "text": [
        "\r",
        "STEP   161 / 266 d"
       ]
      },
      {
       "output_type": "stream",
       "stream": "stdout",
       "text": [
        "\r",
        "STEP   162 / 266 f"
       ]
      },
      {
       "output_type": "stream",
       "stream": "stdout",
       "text": [
        "\r",
        "STEP   163 / 266 d"
       ]
      },
      {
       "output_type": "stream",
       "stream": "stdout",
       "text": [
        "\r",
        "STEP   164 / 266 d"
       ]
      },
      {
       "output_type": "stream",
       "stream": "stdout",
       "text": [
        "\r",
        "STEP   165 / 266 d"
       ]
      },
      {
       "output_type": "stream",
       "stream": "stdout",
       "text": [
        "\r",
        "STEP   166 / 266 d"
       ]
      },
      {
       "output_type": "stream",
       "stream": "stdout",
       "text": [
        "\r",
        "STEP   167 / 266 d"
       ]
      },
      {
       "output_type": "stream",
       "stream": "stdout",
       "text": [
        "\r",
        "STEP   168 / 266 d"
       ]
      },
      {
       "output_type": "stream",
       "stream": "stdout",
       "text": [
        "\r",
        "STEP   169 / 266 d"
       ]
      },
      {
       "output_type": "stream",
       "stream": "stdout",
       "text": [
        "\r",
        "STEP   170 / 266 d"
       ]
      },
      {
       "output_type": "stream",
       "stream": "stdout",
       "text": [
        "\r",
        "STEP   171 / 266 d"
       ]
      },
      {
       "output_type": "stream",
       "stream": "stdout",
       "text": [
        "\r",
        "STEP   172 / 266 d"
       ]
      },
      {
       "output_type": "stream",
       "stream": "stdout",
       "text": [
        "\r",
        "STEP   173 / 266 d"
       ]
      },
      {
       "output_type": "stream",
       "stream": "stdout",
       "text": [
        "\r",
        "STEP   174 / 266 d"
       ]
      },
      {
       "output_type": "stream",
       "stream": "stdout",
       "text": [
        "\r",
        "STEP   175 / 266 f"
       ]
      },
      {
       "output_type": "stream",
       "stream": "stdout",
       "text": [
        "\r",
        "STEP   176 / 266 d"
       ]
      },
      {
       "output_type": "stream",
       "stream": "stdout",
       "text": [
        "\r",
        "STEP   177 / 266 f"
       ]
      },
      {
       "output_type": "stream",
       "stream": "stdout",
       "text": [
        "\r",
        "STEP   178 / 266 f\r",
        "STEP   179 / 266 d"
       ]
      },
      {
       "output_type": "stream",
       "stream": "stdout",
       "text": [
        "\r",
        "STEP   180 / 266 f\r",
        "STEP   181 / 266 d"
       ]
      },
      {
       "output_type": "stream",
       "stream": "stdout",
       "text": [
        "\r\n",
        "Reallocating..done. *alloclen = 5680\r\n",
        "\r",
        "STEP   182 / 266 d"
       ]
      },
      {
       "output_type": "stream",
       "stream": "stdout",
       "text": [
        "\r",
        "STEP   183 / 266 d"
       ]
      },
      {
       "output_type": "stream",
       "stream": "stdout",
       "text": [
        "\r",
        "STEP   184 / 266 d"
       ]
      },
      {
       "output_type": "stream",
       "stream": "stdout",
       "text": [
        "\r",
        "STEP   185 / 266 d"
       ]
      },
      {
       "output_type": "stream",
       "stream": "stdout",
       "text": [
        "\r",
        "STEP   186 / 266 d"
       ]
      },
      {
       "output_type": "stream",
       "stream": "stdout",
       "text": [
        "\r",
        "STEP   187 / 266 d"
       ]
      },
      {
       "output_type": "stream",
       "stream": "stdout",
       "text": [
        "\r",
        "STEP   188 / 266 d"
       ]
      },
      {
       "output_type": "stream",
       "stream": "stdout",
       "text": [
        "\r",
        "STEP   189 / 266 f"
       ]
      },
      {
       "output_type": "stream",
       "stream": "stdout",
       "text": [
        "\r",
        "STEP   190 / 266 d"
       ]
      },
      {
       "output_type": "stream",
       "stream": "stdout",
       "text": [
        "\r",
        "STEP   191 / 266 f\r",
        "STEP   192 / 266 d"
       ]
      },
      {
       "output_type": "stream",
       "stream": "stdout",
       "text": [
        "\r",
        "STEP   193 / 266 d"
       ]
      },
      {
       "output_type": "stream",
       "stream": "stdout",
       "text": [
        "\r",
        "STEP   194 / 266 f\r",
        "STEP   195 / 266 d"
       ]
      },
      {
       "output_type": "stream",
       "stream": "stdout",
       "text": [
        "\r",
        "STEP   196 / 266 d"
       ]
      },
      {
       "output_type": "stream",
       "stream": "stdout",
       "text": [
        "\r",
        "STEP   197 / 266 d"
       ]
      },
      {
       "output_type": "stream",
       "stream": "stdout",
       "text": [
        "\r",
        "STEP   198 / 266 d"
       ]
      },
      {
       "output_type": "stream",
       "stream": "stdout",
       "text": [
        "\r",
        "STEP   199 / 266 d"
       ]
      },
      {
       "output_type": "stream",
       "stream": "stdout",
       "text": [
        "\r",
        "STEP   200 / 266 f\r",
        "STEP   201 / 266 d"
       ]
      },
      {
       "output_type": "stream",
       "stream": "stdout",
       "text": [
        "\r",
        "STEP   202 / 266 d"
       ]
      },
      {
       "output_type": "stream",
       "stream": "stdout",
       "text": [
        "\r\n",
        "Reallocating..done. *alloclen = 6703\r\n",
        "\r",
        "STEP   203 / 266 d"
       ]
      },
      {
       "output_type": "stream",
       "stream": "stdout",
       "text": [
        "\r",
        "STEP   204 / 266 d"
       ]
      },
      {
       "output_type": "stream",
       "stream": "stdout",
       "text": [
        "\r",
        "STEP   205 / 266 f"
       ]
      },
      {
       "output_type": "stream",
       "stream": "stdout",
       "text": [
        "\r",
        "STEP   206 / 266 d"
       ]
      },
      {
       "output_type": "stream",
       "stream": "stdout",
       "text": [
        "\r",
        "STEP   207 / 266 f\r",
        "STEP   208 / 266 f"
       ]
      },
      {
       "output_type": "stream",
       "stream": "stdout",
       "text": [
        "\r",
        "STEP   209 / 266 f\r",
        "STEP   210 / 266 d"
       ]
      },
      {
       "output_type": "stream",
       "stream": "stdout",
       "text": [
        "\r",
        "STEP   211 / 266 f\r",
        "STEP   212 / 266 d"
       ]
      },
      {
       "output_type": "stream",
       "stream": "stdout",
       "text": [
        "\r",
        "STEP   213 / 266 f"
       ]
      },
      {
       "output_type": "stream",
       "stream": "stdout",
       "text": [
        "\r",
        "STEP   214 / 266 d"
       ]
      },
      {
       "output_type": "stream",
       "stream": "stdout",
       "text": [
        "\r",
        "STEP   215 / 266 d"
       ]
      },
      {
       "output_type": "stream",
       "stream": "stdout",
       "text": [
        "\r",
        "STEP   216 / 266 d"
       ]
      },
      {
       "output_type": "stream",
       "stream": "stdout",
       "text": [
        "\r",
        "STEP   217 / 266 d"
       ]
      },
      {
       "output_type": "stream",
       "stream": "stdout",
       "text": [
        "\r",
        "STEP   218 / 266 d"
       ]
      },
      {
       "output_type": "stream",
       "stream": "stdout",
       "text": [
        "\r",
        "STEP   219 / 266 d"
       ]
      },
      {
       "output_type": "stream",
       "stream": "stdout",
       "text": [
        "\r",
        "STEP   220 / 266 d"
       ]
      },
      {
       "output_type": "stream",
       "stream": "stdout",
       "text": [
        "\r",
        "STEP   221 / 266 d"
       ]
      },
      {
       "output_type": "stream",
       "stream": "stdout",
       "text": [
        "\r",
        "STEP   222 / 266 d"
       ]
      },
      {
       "output_type": "stream",
       "stream": "stdout",
       "text": [
        "\r",
        "STEP   223 / 266 d"
       ]
      },
      {
       "output_type": "stream",
       "stream": "stdout",
       "text": [
        "\r",
        "STEP   224 / 266 d"
       ]
      },
      {
       "output_type": "stream",
       "stream": "stdout",
       "text": [
        "\r",
        "STEP   225 / 266 d"
       ]
      },
      {
       "output_type": "stream",
       "stream": "stdout",
       "text": [
        "\r",
        "STEP   226 / 266 d"
       ]
      },
      {
       "output_type": "stream",
       "stream": "stdout",
       "text": [
        "\r",
        "STEP   227 / 266 d"
       ]
      },
      {
       "output_type": "stream",
       "stream": "stdout",
       "text": [
        "\r",
        "STEP   228 / 266 d"
       ]
      },
      {
       "output_type": "stream",
       "stream": "stdout",
       "text": [
        "\r",
        "STEP   229 / 266 d"
       ]
      },
      {
       "output_type": "stream",
       "stream": "stdout",
       "text": [
        "\r",
        "STEP   230 / 266 d"
       ]
      },
      {
       "output_type": "stream",
       "stream": "stdout",
       "text": [
        "\r",
        "STEP   231 / 266 d\r\n",
        "Reallocating..done. *alloclen = 9258\r\n",
        "\r",
        "STEP   232 / 266 d"
       ]
      },
      {
       "output_type": "stream",
       "stream": "stdout",
       "text": [
        "\r",
        "STEP   233 / 266 d"
       ]
      },
      {
       "output_type": "stream",
       "stream": "stdout",
       "text": [
        "\r",
        "STEP   234 / 266 d"
       ]
      },
      {
       "output_type": "stream",
       "stream": "stdout",
       "text": [
        "\r",
        "STEP   235 / 266 d"
       ]
      },
      {
       "output_type": "stream",
       "stream": "stdout",
       "text": [
        "\r",
        "STEP   236 / 266 d"
       ]
      },
      {
       "output_type": "stream",
       "stream": "stdout",
       "text": [
        "\r",
        "STEP   237 / 266 d"
       ]
      },
      {
       "output_type": "stream",
       "stream": "stdout",
       "text": [
        "\r",
        "STEP   238 / 266 d"
       ]
      },
      {
       "output_type": "stream",
       "stream": "stdout",
       "text": [
        "\r",
        "STEP   239 / 266 d"
       ]
      },
      {
       "output_type": "stream",
       "stream": "stdout",
       "text": [
        "\r",
        "STEP   240 / 266 d"
       ]
      },
      {
       "output_type": "stream",
       "stream": "stdout",
       "text": [
        "\r",
        "STEP   241 / 266 d"
       ]
      },
      {
       "output_type": "stream",
       "stream": "stdout",
       "text": [
        "\r",
        "STEP   242 / 266 d"
       ]
      },
      {
       "output_type": "stream",
       "stream": "stdout",
       "text": [
        "\r",
        "STEP   243 / 266 d"
       ]
      },
      {
       "output_type": "stream",
       "stream": "stdout",
       "text": [
        "\r",
        "STEP   244 / 266 d"
       ]
      },
      {
       "output_type": "stream",
       "stream": "stdout",
       "text": [
        "\r",
        "STEP   245 / 266 d"
       ]
      },
      {
       "output_type": "stream",
       "stream": "stdout",
       "text": [
        "\r",
        "STEP   246 / 266 f"
       ]
      },
      {
       "output_type": "stream",
       "stream": "stdout",
       "text": [
        "\r",
        "STEP   247 / 266 d"
       ]
      },
      {
       "output_type": "stream",
       "stream": "stdout",
       "text": [
        "\r",
        "STEP   248 / 266 d"
       ]
      },
      {
       "output_type": "stream",
       "stream": "stdout",
       "text": [
        "\r",
        "STEP   249 / 266 d"
       ]
      },
      {
       "output_type": "stream",
       "stream": "stdout",
       "text": [
        "\r",
        "STEP   250 / 266 d\r",
        "STEP   251 / 266 d"
       ]
      },
      {
       "output_type": "stream",
       "stream": "stdout",
       "text": [
        "\r",
        "STEP   252 / 266 d"
       ]
      },
      {
       "output_type": "stream",
       "stream": "stdout",
       "text": [
        "\r",
        "STEP   253 / 266 d"
       ]
      },
      {
       "output_type": "stream",
       "stream": "stdout",
       "text": [
        "\r",
        "STEP   254 / 266 d"
       ]
      },
      {
       "output_type": "stream",
       "stream": "stdout",
       "text": [
        "\r",
        "STEP   255 / 266 d"
       ]
      },
      {
       "output_type": "stream",
       "stream": "stdout",
       "text": [
        "\r",
        "STEP   256 / 266 d"
       ]
      },
      {
       "output_type": "stream",
       "stream": "stdout",
       "text": [
        "\r",
        "STEP   257 / 266 d"
       ]
      },
      {
       "output_type": "stream",
       "stream": "stdout",
       "text": [
        "\r",
        "STEP   258 / 266 d"
       ]
      },
      {
       "output_type": "stream",
       "stream": "stdout",
       "text": [
        "\r",
        "STEP   259 / 266 d"
       ]
      },
      {
       "output_type": "stream",
       "stream": "stdout",
       "text": [
        "\r",
        "STEP   260 / 266 d"
       ]
      },
      {
       "output_type": "stream",
       "stream": "stdout",
       "text": [
        "\r",
        "STEP   261 / 266 d"
       ]
      },
      {
       "output_type": "stream",
       "stream": "stdout",
       "text": [
        "\r",
        "STEP   262 / 266 d"
       ]
      },
      {
       "output_type": "stream",
       "stream": "stdout",
       "text": [
        "\r",
        "STEP   263 / 266 d"
       ]
      },
      {
       "output_type": "stream",
       "stream": "stdout",
       "text": [
        "\r",
        "STEP   264 / 266 d"
       ]
      },
      {
       "output_type": "stream",
       "stream": "stdout",
       "text": [
        "\r",
        "STEP   265 / 266 d"
       ]
      },
      {
       "output_type": "stream",
       "stream": "stdout",
       "text": [
        "\r\n",
        "Reallocating..done. *alloclen = 11212\r\n",
        "\r",
        "STEP   266 / 266 d"
       ]
      },
      {
       "output_type": "stream",
       "stream": "stdout",
       "text": [
        "\r\n",
        "done.\r\n",
        "\r\n",
        "disttbfast (nuc) Version 7.187 alg=A, model=DNA200 (2), 1.53 (4.59), -0.00 (-0.00), noshift, amax=0.0\r\n",
        "0 thread(s)\r\n"
       ]
      },
      {
       "output_type": "stream",
       "stream": "stdout",
       "text": [
        "\r\n",
        "\r\n",
        "Strategy:\r\n",
        " FFT-NS-2 (Fast but rough)\r\n",
        " Progressive method (guide trees were built 2 times.)\r\n",
        "\r\n",
        "If unsure which option to use, try 'mafft --auto input > output'.\r\n",
        "For more information, see 'mafft --help', 'mafft --man' and the mafft page.\r\n",
        "\r\n",
        "The default gap scoring scheme has been changed in version 7.110 (2013 Oct).\r\n",
        "It tends to insert more gaps into gap-rich regions than previous versions.\r\n",
        "To disable this change, add the --legacygappenalty option.\r\n",
        "\r\n"
       ]
      },
      {
       "output_type": "stream",
       "stream": "stdout",
       "text": [
        "\r\n"
       ]
      },
      {
       "output_type": "stream",
       "stream": "stdout",
       "text": [
        "nseq =  267\r\n",
        "distance =  ktuples\r\n",
        "iterate =  0\r\n",
        "cycle =  2\r\n",
        "nguidetree = 2\r\n",
        "nthread = 0\r\n",
        "sueff_global = 0.100000\r\n"
       ]
      },
      {
       "output_type": "stream",
       "stream": "stdout",
       "text": [
        "generating a scoring matrix for nucleotide (dist=200) ... done\r\n",
        "done\r\n",
        "done\r\n",
        "scoremtx = -1\r\n",
        "Gap Penalty = -1.53, +0.00, +0.00\r\n",
        "\r\n",
        "tuplesize = 6, dorp = d\r\n",
        "\r\n",
        "\r\n",
        "Making a distance matrix ..\r\n",
        "\r\n",
        "There are 871 ambiguous characters.\r\n",
        "\r",
        "    1 / 267"
       ]
      },
      {
       "output_type": "stream",
       "stream": "stdout",
       "text": [
        "\r",
        "  101 / 267"
       ]
      },
      {
       "output_type": "stream",
       "stream": "stdout",
       "text": [
        "\r",
        "  201 / 267\r\n",
        "done.\r\n",
        "\r\n",
        "Constructing a UPGMA tree ... \r\n",
        "\r",
        "    0 / 267\r",
        "   10 / 267\r",
        "   20 / 267\r",
        "   30 / 267\r",
        "   40 / 267\r",
        "   50 / 267\r",
        "   60 / 267\r",
        "   70 / 267\r",
        "   80 / 267\r",
        "   90 / 267\r",
        "  100 / 267\r",
        "  110 / 267\r",
        "  120 / 267\r",
        "  130 / 267\r",
        "  140 / 267\r",
        "  150 / 267\r",
        "  160 / 267\r",
        "  170 / 267\r",
        "  180 / 267\r",
        "  190 / 267\r",
        "  200 / 267\r",
        "  210 / 267\r",
        "  220 / 267\r",
        "  230 / 267\r",
        "  240 / 267\r",
        "  250 / 267\r",
        "  260 / 267\r\n",
        "done.\r\n",
        "\r\n",
        "Progressive alignment 1/2... \r\n",
        "\r",
        "STEP     1 / 266 f\r",
        "STEP     2 / 266 f\r",
        "STEP     3 / 266 f\r",
        "STEP     4 / 266 f\r",
        "STEP     5 / 266 f"
       ]
      },
      {
       "output_type": "stream",
       "stream": "stdout",
       "text": [
        "\r",
        "STEP     6 / 266 f\r",
        "STEP     7 / 266 f\r",
        "STEP     8 / 266 f\r",
        "STEP     9 / 266 f\r",
        "STEP    10 / 266 f\r",
        "STEP    11 / 266 f"
       ]
      },
      {
       "output_type": "stream",
       "stream": "stdout",
       "text": [
        "\r",
        "STEP    12 / 266 f\r",
        "STEP    13 / 266 f\r",
        "STEP    14 / 266 f\r",
        "STEP    15 / 266 f\r",
        "STEP    16 / 266 f"
       ]
      },
      {
       "output_type": "stream",
       "stream": "stdout",
       "text": [
        "\r",
        "STEP    17 / 266 f\r",
        "STEP    18 / 266 f\r",
        "STEP    19 / 266 f\r",
        "STEP    20 / 266 f\r",
        "STEP    21 / 266 f"
       ]
      },
      {
       "output_type": "stream",
       "stream": "stdout",
       "text": [
        "\r",
        "STEP    22 / 266 f\r",
        "STEP    23 / 266 f"
       ]
      },
      {
       "output_type": "stream",
       "stream": "stdout",
       "text": [
        "\r",
        "STEP    24 / 266 f\r",
        "STEP    25 / 266 f\r",
        "STEP    26 / 266 f"
       ]
      },
      {
       "output_type": "stream",
       "stream": "stdout",
       "text": [
        "\r",
        "STEP    27 / 266 f\r",
        "STEP    28 / 266 d"
       ]
      },
      {
       "output_type": "stream",
       "stream": "stdout",
       "text": [
        "\r",
        "STEP    29 / 266 f\r",
        "STEP    30 / 266 f"
       ]
      },
      {
       "output_type": "stream",
       "stream": "stdout",
       "text": [
        "\r",
        "STEP    31 / 266 f\r",
        "STEP    32 / 266 f"
       ]
      },
      {
       "output_type": "stream",
       "stream": "stdout",
       "text": [
        "\r",
        "STEP    33 / 266 f\r",
        "STEP    34 / 266 f"
       ]
      },
      {
       "output_type": "stream",
       "stream": "stdout",
       "text": [
        "\r",
        "STEP    35 / 266 f\r",
        "STEP    36 / 266 f\r",
        "STEP    37 / 266 f"
       ]
      },
      {
       "output_type": "stream",
       "stream": "stdout",
       "text": [
        "\r",
        "STEP    38 / 266 f\r",
        "STEP    39 / 266 f\r",
        "STEP    40 / 266 f"
       ]
      },
      {
       "output_type": "stream",
       "stream": "stdout",
       "text": [
        "\r",
        "STEP    41 / 266 f\r",
        "STEP    42 / 266 f"
       ]
      },
      {
       "output_type": "stream",
       "stream": "stdout",
       "text": [
        "\r",
        "STEP    43 / 266 d"
       ]
      },
      {
       "output_type": "stream",
       "stream": "stdout",
       "text": [
        "\r",
        "STEP    44 / 266 f\r",
        "STEP    45 / 266 f\r",
        "STEP    46 / 266 d"
       ]
      },
      {
       "output_type": "stream",
       "stream": "stdout",
       "text": [
        "\r",
        "STEP    47 / 266 f"
       ]
      },
      {
       "output_type": "stream",
       "stream": "stdout",
       "text": [
        "\r",
        "STEP    48 / 266 f\r",
        "STEP    49 / 266 f"
       ]
      },
      {
       "output_type": "stream",
       "stream": "stdout",
       "text": [
        "\r",
        "STEP    50 / 266 f"
       ]
      },
      {
       "output_type": "stream",
       "stream": "stdout",
       "text": [
        "\r",
        "STEP    51 / 266 d\r",
        "STEP    52 / 266 f"
       ]
      },
      {
       "output_type": "stream",
       "stream": "stdout",
       "text": [
        "\r",
        "STEP    53 / 266 d"
       ]
      },
      {
       "output_type": "stream",
       "stream": "stdout",
       "text": [
        "\r",
        "STEP    54 / 266 d\r",
        "STEP    55 / 266 d"
       ]
      },
      {
       "output_type": "stream",
       "stream": "stdout",
       "text": [
        "\r",
        "STEP    56 / 266 f"
       ]
      },
      {
       "output_type": "stream",
       "stream": "stdout",
       "text": [
        "\r",
        "STEP    57 / 266 d\r",
        "STEP    58 / 266 d"
       ]
      },
      {
       "output_type": "stream",
       "stream": "stdout",
       "text": [
        "\r",
        "STEP    59 / 266 d"
       ]
      },
      {
       "output_type": "stream",
       "stream": "stdout",
       "text": [
        "\r",
        "STEP    60 / 266 d"
       ]
      },
      {
       "output_type": "stream",
       "stream": "stdout",
       "text": [
        "\r",
        "STEP    61 / 266 f\r",
        "STEP    62 / 266 f"
       ]
      },
      {
       "output_type": "stream",
       "stream": "stdout",
       "text": [
        "\r",
        "STEP    63 / 266 f\r",
        "STEP    64 / 266 f\r",
        "STEP    65 / 266 d"
       ]
      },
      {
       "output_type": "stream",
       "stream": "stdout",
       "text": [
        "\r",
        "STEP    66 / 266 f"
       ]
      },
      {
       "output_type": "stream",
       "stream": "stdout",
       "text": [
        "\r",
        "STEP    67 / 266 d\r",
        "STEP    68 / 266 d"
       ]
      },
      {
       "output_type": "stream",
       "stream": "stdout",
       "text": [
        "\r",
        "STEP    69 / 266 f"
       ]
      },
      {
       "output_type": "stream",
       "stream": "stdout",
       "text": [
        "\r",
        "STEP    70 / 266 d\r",
        "STEP    71 / 266 f"
       ]
      },
      {
       "output_type": "stream",
       "stream": "stdout",
       "text": [
        "\r",
        "STEP    72 / 266 d\r",
        "STEP    73 / 266 f"
       ]
      },
      {
       "output_type": "stream",
       "stream": "stdout",
       "text": [
        "\r",
        "STEP    74 / 266 f\r",
        "STEP    75 / 266 f"
       ]
      },
      {
       "output_type": "stream",
       "stream": "stdout",
       "text": [
        "\r",
        "STEP    76 / 266 f\r",
        "STEP    77 / 266 f\r",
        "STEP    78 / 266 d"
       ]
      },
      {
       "output_type": "stream",
       "stream": "stdout",
       "text": [
        "\r",
        "STEP    79 / 266 f"
       ]
      },
      {
       "output_type": "stream",
       "stream": "stdout",
       "text": [
        "\r",
        "STEP    80 / 266 d\r",
        "STEP    81 / 266 f"
       ]
      },
      {
       "output_type": "stream",
       "stream": "stdout",
       "text": [
        "\r",
        "STEP    82 / 266 f\r",
        "STEP    83 / 266 f"
       ]
      },
      {
       "output_type": "stream",
       "stream": "stdout",
       "text": [
        "\r",
        "STEP    84 / 266 d"
       ]
      },
      {
       "output_type": "stream",
       "stream": "stdout",
       "text": [
        "\r",
        "STEP    85 / 266 d"
       ]
      },
      {
       "output_type": "stream",
       "stream": "stdout",
       "text": [
        "\r",
        "STEP    86 / 266 f\r",
        "STEP    87 / 266 d"
       ]
      },
      {
       "output_type": "stream",
       "stream": "stdout",
       "text": [
        "\r",
        "STEP    88 / 266 d"
       ]
      },
      {
       "output_type": "stream",
       "stream": "stdout",
       "text": [
        "\r",
        "STEP    89 / 266 f\r",
        "STEP    90 / 266 f"
       ]
      },
      {
       "output_type": "stream",
       "stream": "stdout",
       "text": [
        "\r",
        "STEP    91 / 266 d\r",
        "STEP    92 / 266 f"
       ]
      },
      {
       "output_type": "stream",
       "stream": "stdout",
       "text": [
        "\r",
        "STEP    93 / 266 d"
       ]
      },
      {
       "output_type": "stream",
       "stream": "stdout",
       "text": [
        "\r",
        "STEP    94 / 266 d\r",
        "STEP    95 / 266 f"
       ]
      },
      {
       "output_type": "stream",
       "stream": "stdout",
       "text": [
        "\r",
        "STEP    96 / 266 d\r",
        "STEP    97 / 266 d"
       ]
      },
      {
       "output_type": "stream",
       "stream": "stdout",
       "text": [
        "\r",
        "STEP    98 / 266 f"
       ]
      },
      {
       "output_type": "stream",
       "stream": "stdout",
       "text": [
        "\r",
        "STEP    99 / 266 d\r",
        "STEP   100 / 266 f"
       ]
      },
      {
       "output_type": "stream",
       "stream": "stdout",
       "text": [
        "\r",
        "STEP   101 / 266 f"
       ]
      },
      {
       "output_type": "stream",
       "stream": "stdout",
       "text": [
        "\r",
        "STEP   102 / 266 d"
       ]
      },
      {
       "output_type": "stream",
       "stream": "stdout",
       "text": [
        "\r",
        "STEP   103 / 266 f\r",
        "STEP   104 / 266 d"
       ]
      },
      {
       "output_type": "stream",
       "stream": "stdout",
       "text": [
        "\r",
        "STEP   105 / 266 d"
       ]
      },
      {
       "output_type": "stream",
       "stream": "stdout",
       "text": [
        "\r",
        "STEP   106 / 266 d"
       ]
      },
      {
       "output_type": "stream",
       "stream": "stdout",
       "text": [
        "\r",
        "STEP   107 / 266 d"
       ]
      },
      {
       "output_type": "stream",
       "stream": "stdout",
       "text": [
        "\r",
        "STEP   108 / 266 f\r",
        "STEP   109 / 266 f"
       ]
      },
      {
       "output_type": "stream",
       "stream": "stdout",
       "text": [
        "\r",
        "STEP   110 / 266 f\r",
        "STEP   111 / 266 f\r",
        "STEP   112 / 266 d"
       ]
      },
      {
       "output_type": "stream",
       "stream": "stdout",
       "text": [
        "\r",
        "STEP   113 / 266 d"
       ]
      },
      {
       "output_type": "stream",
       "stream": "stdout",
       "text": [
        "\r",
        "STEP   114 / 266 f\r",
        "STEP   115 / 266 d"
       ]
      },
      {
       "output_type": "stream",
       "stream": "stdout",
       "text": [
        "\r",
        "STEP   116 / 266 d"
       ]
      },
      {
       "output_type": "stream",
       "stream": "stdout",
       "text": [
        "\r",
        "STEP   117 / 266 f\r",
        "STEP   118 / 266 d"
       ]
      },
      {
       "output_type": "stream",
       "stream": "stdout",
       "text": [
        "\r",
        "STEP   119 / 266 d"
       ]
      },
      {
       "output_type": "stream",
       "stream": "stdout",
       "text": [
        "\r",
        "STEP   120 / 266 d\r",
        "STEP   121 / 266 d"
       ]
      },
      {
       "output_type": "stream",
       "stream": "stdout",
       "text": [
        "\r\n",
        "Reallocating..done. *alloclen = 5644\r\n",
        "\r",
        "STEP   122 / 266 d"
       ]
      },
      {
       "output_type": "stream",
       "stream": "stdout",
       "text": [
        "\r",
        "STEP   123 / 266 d"
       ]
      },
      {
       "output_type": "stream",
       "stream": "stdout",
       "text": [
        "\r",
        "STEP   124 / 266 d"
       ]
      },
      {
       "output_type": "stream",
       "stream": "stdout",
       "text": [
        "\r",
        "STEP   125 / 266 d"
       ]
      },
      {
       "output_type": "stream",
       "stream": "stdout",
       "text": [
        "\r",
        "STEP   126 / 266 d"
       ]
      },
      {
       "output_type": "stream",
       "stream": "stdout",
       "text": [
        "\r",
        "STEP   127 / 266 f\r",
        "STEP   128 / 266 d"
       ]
      },
      {
       "output_type": "stream",
       "stream": "stdout",
       "text": [
        "\r",
        "STEP   129 / 266 d"
       ]
      },
      {
       "output_type": "stream",
       "stream": "stdout",
       "text": [
        "\r",
        "STEP   130 / 266 d"
       ]
      },
      {
       "output_type": "stream",
       "stream": "stdout",
       "text": [
        "\r",
        "STEP   131 / 266 d"
       ]
      },
      {
       "output_type": "stream",
       "stream": "stdout",
       "text": [
        "\r",
        "STEP   132 / 266 d"
       ]
      },
      {
       "output_type": "stream",
       "stream": "stdout",
       "text": [
        "\r",
        "STEP   133 / 266 d"
       ]
      },
      {
       "output_type": "stream",
       "stream": "stdout",
       "text": [
        "\r",
        "STEP   134 / 266 d"
       ]
      },
      {
       "output_type": "stream",
       "stream": "stdout",
       "text": [
        "\r",
        "STEP   135 / 266 d"
       ]
      },
      {
       "output_type": "stream",
       "stream": "stdout",
       "text": [
        "\r",
        "STEP   136 / 266 d"
       ]
      },
      {
       "output_type": "stream",
       "stream": "stdout",
       "text": [
        "\r",
        "STEP   137 / 266 d\r",
        "STEP   138 / 266 d"
       ]
      },
      {
       "output_type": "stream",
       "stream": "stdout",
       "text": [
        "\r",
        "STEP   139 / 266 d"
       ]
      },
      {
       "output_type": "stream",
       "stream": "stdout",
       "text": [
        "\r",
        "STEP   140 / 266 f\r",
        "STEP   141 / 266 d"
       ]
      },
      {
       "output_type": "stream",
       "stream": "stdout",
       "text": [
        "\r",
        "STEP   142 / 266 f\r",
        "STEP   143 / 266 d"
       ]
      },
      {
       "output_type": "stream",
       "stream": "stdout",
       "text": [
        "\r",
        "STEP   144 / 266 d"
       ]
      },
      {
       "output_type": "stream",
       "stream": "stdout",
       "text": [
        "\r",
        "STEP   145 / 266 d"
       ]
      },
      {
       "output_type": "stream",
       "stream": "stdout",
       "text": [
        "\r",
        "STEP   146 / 266 d"
       ]
      },
      {
       "output_type": "stream",
       "stream": "stdout",
       "text": [
        "\r",
        "STEP   147 / 266 d"
       ]
      },
      {
       "output_type": "stream",
       "stream": "stdout",
       "text": [
        "\r",
        "STEP   148 / 266 f\r",
        "STEP   149 / 266 d"
       ]
      },
      {
       "output_type": "stream",
       "stream": "stdout",
       "text": [
        "\r",
        "STEP   150 / 266 d"
       ]
      },
      {
       "output_type": "stream",
       "stream": "stdout",
       "text": [
        "\r",
        "STEP   151 / 266 d"
       ]
      },
      {
       "output_type": "stream",
       "stream": "stdout",
       "text": [
        "\r",
        "STEP   152 / 266 f\r",
        "STEP   153 / 266 d"
       ]
      },
      {
       "output_type": "stream",
       "stream": "stdout",
       "text": [
        "\r",
        "STEP   154 / 266 d"
       ]
      },
      {
       "output_type": "stream",
       "stream": "stdout",
       "text": [
        "\r",
        "STEP   155 / 266 f\r",
        "STEP   156 / 266 d"
       ]
      },
      {
       "output_type": "stream",
       "stream": "stdout",
       "text": [
        "\r",
        "STEP   157 / 266 d"
       ]
      },
      {
       "output_type": "stream",
       "stream": "stdout",
       "text": [
        "\r",
        "STEP   158 / 266 d"
       ]
      },
      {
       "output_type": "stream",
       "stream": "stdout",
       "text": [
        "\r",
        "STEP   159 / 266 d"
       ]
      },
      {
       "output_type": "stream",
       "stream": "stdout",
       "text": [
        "\r",
        "STEP   160 / 266 d"
       ]
      },
      {
       "output_type": "stream",
       "stream": "stdout",
       "text": [
        "\r",
        "STEP   161 / 266 d"
       ]
      },
      {
       "output_type": "stream",
       "stream": "stdout",
       "text": [
        "\r",
        "STEP   162 / 266 f\r",
        "STEP   163 / 266 d"
       ]
      },
      {
       "output_type": "stream",
       "stream": "stdout",
       "text": [
        "\r",
        "STEP   164 / 266 d"
       ]
      },
      {
       "output_type": "stream",
       "stream": "stdout",
       "text": [
        "\r",
        "STEP   165 / 266 d"
       ]
      },
      {
       "output_type": "stream",
       "stream": "stdout",
       "text": [
        "\r",
        "STEP   166 / 266 f"
       ]
      },
      {
       "output_type": "stream",
       "stream": "stdout",
       "text": [
        "\r",
        "STEP   167 / 266 f\r",
        "STEP   168 / 266 d"
       ]
      },
      {
       "output_type": "stream",
       "stream": "stdout",
       "text": [
        "\r",
        "STEP   169 / 266 d"
       ]
      },
      {
       "output_type": "stream",
       "stream": "stdout",
       "text": [
        "\r",
        "STEP   170 / 266 d"
       ]
      },
      {
       "output_type": "stream",
       "stream": "stdout",
       "text": [
        "\r",
        "STEP   171 / 266 d"
       ]
      },
      {
       "output_type": "stream",
       "stream": "stdout",
       "text": [
        "\r",
        "STEP   172 / 266 d"
       ]
      },
      {
       "output_type": "stream",
       "stream": "stdout",
       "text": [
        "\r",
        "STEP   173 / 266 f"
       ]
      },
      {
       "output_type": "stream",
       "stream": "stdout",
       "text": [
        "\r",
        "STEP   174 / 266 d"
       ]
      },
      {
       "output_type": "stream",
       "stream": "stdout",
       "text": [
        "\r",
        "STEP   175 / 266 d"
       ]
      },
      {
       "output_type": "stream",
       "stream": "stdout",
       "text": [
        "\r",
        "STEP   176 / 266 d"
       ]
      },
      {
       "output_type": "stream",
       "stream": "stdout",
       "text": [
        "\r",
        "STEP   177 / 266 d"
       ]
      },
      {
       "output_type": "stream",
       "stream": "stdout",
       "text": [
        "\r",
        "STEP   178 / 266 f"
       ]
      },
      {
       "output_type": "stream",
       "stream": "stdout",
       "text": [
        "\r",
        "STEP   179 / 266 d"
       ]
      },
      {
       "output_type": "stream",
       "stream": "stdout",
       "text": [
        "\r",
        "STEP   180 / 266 d"
       ]
      },
      {
       "output_type": "stream",
       "stream": "stdout",
       "text": [
        "\r",
        "STEP   181 / 266 d"
       ]
      },
      {
       "output_type": "stream",
       "stream": "stdout",
       "text": [
        "\r",
        "STEP   182 / 266 d"
       ]
      },
      {
       "output_type": "stream",
       "stream": "stdout",
       "text": [
        "\r",
        "STEP   183 / 266 d"
       ]
      },
      {
       "output_type": "stream",
       "stream": "stdout",
       "text": [
        "\r",
        "STEP   184 / 266 d"
       ]
      },
      {
       "output_type": "stream",
       "stream": "stdout",
       "text": [
        "\r",
        "STEP   185 / 266 f"
       ]
      },
      {
       "output_type": "stream",
       "stream": "stdout",
       "text": [
        "\r",
        "STEP   186 / 266 f\r\n",
        "Reallocating..done. *alloclen = 6953\r\n",
        "\r",
        "STEP   187 / 266 d"
       ]
      },
      {
       "output_type": "stream",
       "stream": "stdout",
       "text": [
        "\r",
        "STEP   188 / 266 d"
       ]
      },
      {
       "output_type": "stream",
       "stream": "stdout",
       "text": [
        "\r",
        "STEP   189 / 266 d"
       ]
      },
      {
       "output_type": "stream",
       "stream": "stdout",
       "text": [
        "\r",
        "STEP   190 / 266 f"
       ]
      },
      {
       "output_type": "stream",
       "stream": "stdout",
       "text": [
        "\r",
        "STEP   191 / 266 d"
       ]
      },
      {
       "output_type": "stream",
       "stream": "stdout",
       "text": [
        "\r",
        "STEP   192 / 266 d"
       ]
      },
      {
       "output_type": "stream",
       "stream": "stdout",
       "text": [
        "\r",
        "STEP   193 / 266 d"
       ]
      },
      {
       "output_type": "stream",
       "stream": "stdout",
       "text": [
        "\r",
        "STEP   194 / 266 d\r",
        "STEP   195 / 266 d"
       ]
      },
      {
       "output_type": "stream",
       "stream": "stdout",
       "text": [
        "\r",
        "STEP   196 / 266 d"
       ]
      },
      {
       "output_type": "stream",
       "stream": "stdout",
       "text": [
        "\r",
        "STEP   197 / 266 d"
       ]
      },
      {
       "output_type": "stream",
       "stream": "stdout",
       "text": [
        "\r",
        "STEP   198 / 266 d"
       ]
      },
      {
       "output_type": "stream",
       "stream": "stdout",
       "text": [
        "\r",
        "STEP   199 / 266 d"
       ]
      },
      {
       "output_type": "stream",
       "stream": "stdout",
       "text": [
        "\r",
        "STEP   200 / 266 d\r",
        "STEP   201 / 266 f"
       ]
      },
      {
       "output_type": "stream",
       "stream": "stdout",
       "text": [
        "\r",
        "STEP   202 / 266 d\r",
        "STEP   203 / 266 d"
       ]
      },
      {
       "output_type": "stream",
       "stream": "stdout",
       "text": [
        "\r",
        "STEP   204 / 266 d"
       ]
      },
      {
       "output_type": "stream",
       "stream": "stdout",
       "text": [
        "\r",
        "STEP   205 / 266 f"
       ]
      },
      {
       "output_type": "stream",
       "stream": "stdout",
       "text": [
        "\r",
        "STEP   206 / 266 f\r",
        "STEP   207 / 266 f\r",
        "STEP   208 / 266 d"
       ]
      },
      {
       "output_type": "stream",
       "stream": "stdout",
       "text": [
        "\r",
        "STEP   209 / 266 d"
       ]
      },
      {
       "output_type": "stream",
       "stream": "stdout",
       "text": [
        "\r",
        "STEP   210 / 266 d"
       ]
      },
      {
       "output_type": "stream",
       "stream": "stdout",
       "text": [
        "\r",
        "STEP   211 / 266 f\r",
        "STEP   212 / 266 d"
       ]
      },
      {
       "output_type": "stream",
       "stream": "stdout",
       "text": [
        "\r",
        "STEP   213 / 266 d"
       ]
      },
      {
       "output_type": "stream",
       "stream": "stdout",
       "text": [
        "\r",
        "STEP   214 / 266 d"
       ]
      },
      {
       "output_type": "stream",
       "stream": "stdout",
       "text": [
        "\r",
        "STEP   215 / 266 f"
       ]
      },
      {
       "output_type": "stream",
       "stream": "stdout",
       "text": [
        "\r",
        "STEP   216 / 266 d"
       ]
      },
      {
       "output_type": "stream",
       "stream": "stdout",
       "text": [
        "\r",
        "STEP   217 / 266 d"
       ]
      },
      {
       "output_type": "stream",
       "stream": "stdout",
       "text": [
        "\r",
        "STEP   218 / 266 f"
       ]
      },
      {
       "output_type": "stream",
       "stream": "stdout",
       "text": [
        "\r",
        "STEP   219 / 266 d"
       ]
      },
      {
       "output_type": "stream",
       "stream": "stdout",
       "text": [
        "\r",
        "STEP   220 / 266 d"
       ]
      },
      {
       "output_type": "stream",
       "stream": "stdout",
       "text": [
        "\r",
        "STEP   221 / 266 d"
       ]
      },
      {
       "output_type": "stream",
       "stream": "stdout",
       "text": [
        "\r",
        "STEP   222 / 266 d"
       ]
      },
      {
       "output_type": "stream",
       "stream": "stdout",
       "text": [
        "\r\n",
        "Reallocating..done. *alloclen = 9470\r\n",
        "\r",
        "STEP   223 / 266 d"
       ]
      },
      {
       "output_type": "stream",
       "stream": "stdout",
       "text": [
        "\r",
        "STEP   224 / 266 d"
       ]
      },
      {
       "output_type": "stream",
       "stream": "stdout",
       "text": [
        "\r",
        "STEP   225 / 266 d"
       ]
      },
      {
       "output_type": "stream",
       "stream": "stdout",
       "text": [
        "\r",
        "STEP   226 / 266 f"
       ]
      },
      {
       "output_type": "stream",
       "stream": "stdout",
       "text": [
        "\r",
        "STEP   227 / 266 d"
       ]
      },
      {
       "output_type": "stream",
       "stream": "stdout",
       "text": [
        "\r",
        "STEP   228 / 266 d"
       ]
      },
      {
       "output_type": "stream",
       "stream": "stdout",
       "text": [
        "\r",
        "STEP   229 / 266 d"
       ]
      },
      {
       "output_type": "stream",
       "stream": "stdout",
       "text": [
        "\r",
        "STEP   230 / 266 d"
       ]
      },
      {
       "output_type": "stream",
       "stream": "stdout",
       "text": [
        "\r",
        "STEP   231 / 266 d"
       ]
      },
      {
       "output_type": "stream",
       "stream": "stdout",
       "text": [
        "\r",
        "STEP   232 / 266 d"
       ]
      },
      {
       "output_type": "stream",
       "stream": "stdout",
       "text": [
        "\r",
        "STEP   233 / 266 d"
       ]
      },
      {
       "output_type": "stream",
       "stream": "stdout",
       "text": [
        "\r",
        "STEP   234 / 266 d"
       ]
      },
      {
       "output_type": "stream",
       "stream": "stdout",
       "text": [
        "\r",
        "STEP   235 / 266 f\r",
        "STEP   236 / 266 d"
       ]
      },
      {
       "output_type": "stream",
       "stream": "stdout",
       "text": [
        "\r",
        "STEP   237 / 266 d"
       ]
      },
      {
       "output_type": "stream",
       "stream": "stdout",
       "text": [
        "\r",
        "STEP   238 / 266 d"
       ]
      },
      {
       "output_type": "stream",
       "stream": "stdout",
       "text": [
        "\r",
        "STEP   239 / 266 d"
       ]
      },
      {
       "output_type": "stream",
       "stream": "stdout",
       "text": [
        "\r",
        "STEP   240 / 266 d"
       ]
      },
      {
       "output_type": "stream",
       "stream": "stdout",
       "text": [
        "\r",
        "STEP   241 / 266 d"
       ]
      },
      {
       "output_type": "stream",
       "stream": "stdout",
       "text": [
        "\r",
        "STEP   242 / 266 d"
       ]
      },
      {
       "output_type": "stream",
       "stream": "stdout",
       "text": [
        "\r",
        "STEP   243 / 266 d"
       ]
      },
      {
       "output_type": "stream",
       "stream": "stdout",
       "text": [
        "\r",
        "STEP   244 / 266 d"
       ]
      },
      {
       "output_type": "stream",
       "stream": "stdout",
       "text": [
        "\r",
        "STEP   245 / 266 f\r",
        "STEP   246 / 266 d"
       ]
      },
      {
       "output_type": "stream",
       "stream": "stdout",
       "text": [
        "\r",
        "STEP   247 / 266 f"
       ]
      },
      {
       "output_type": "stream",
       "stream": "stdout",
       "text": [
        "\r",
        "STEP   248 / 266 f\r",
        "STEP   249 / 266 d"
       ]
      },
      {
       "output_type": "stream",
       "stream": "stdout",
       "text": [
        "\r",
        "STEP   250 / 266 f"
       ]
      },
      {
       "output_type": "stream",
       "stream": "stdout",
       "text": [
        "\r",
        "STEP   251 / 266 d"
       ]
      },
      {
       "output_type": "stream",
       "stream": "stdout",
       "text": [
        "\r",
        "STEP   252 / 266 d"
       ]
      },
      {
       "output_type": "stream",
       "stream": "stdout",
       "text": [
        "\r",
        "STEP   253 / 266 d"
       ]
      },
      {
       "output_type": "stream",
       "stream": "stdout",
       "text": [
        "\r",
        "STEP   254 / 266 d"
       ]
      },
      {
       "output_type": "stream",
       "stream": "stdout",
       "text": [
        "\r",
        "STEP   255 / 266 f"
       ]
      },
      {
       "output_type": "stream",
       "stream": "stdout",
       "text": [
        "\r",
        "STEP   256 / 266 d"
       ]
      },
      {
       "output_type": "stream",
       "stream": "stdout",
       "text": [
        "\r",
        "STEP   257 / 266 d"
       ]
      },
      {
       "output_type": "stream",
       "stream": "stdout",
       "text": [
        "\r",
        "STEP   258 / 266 d"
       ]
      },
      {
       "output_type": "stream",
       "stream": "stdout",
       "text": [
        "\r",
        "STEP   259 / 266 d"
       ]
      },
      {
       "output_type": "stream",
       "stream": "stdout",
       "text": [
        "\r",
        "STEP   260 / 266 d"
       ]
      },
      {
       "output_type": "stream",
       "stream": "stdout",
       "text": [
        "\r",
        "STEP   261 / 266 d"
       ]
      },
      {
       "output_type": "stream",
       "stream": "stdout",
       "text": [
        "\r",
        "STEP   262 / 266 d"
       ]
      },
      {
       "output_type": "stream",
       "stream": "stdout",
       "text": [
        "\r\n",
        "Reallocating..done. *alloclen = 10797\r\n",
        "\r",
        "STEP   263 / 266 d"
       ]
      },
      {
       "output_type": "stream",
       "stream": "stdout",
       "text": [
        "\r",
        "STEP   264 / 266 d"
       ]
      },
      {
       "output_type": "stream",
       "stream": "stdout",
       "text": [
        "\r",
        "STEP   265 / 266 d"
       ]
      },
      {
       "output_type": "stream",
       "stream": "stdout",
       "text": [
        "\r",
        "STEP   266 / 266 d"
       ]
      },
      {
       "output_type": "stream",
       "stream": "stdout",
       "text": [
        "\r\n",
        "done.\r\n",
        "\r\n",
        "Constructing a UPGMA tree ... \r\n",
        "\r",
        "    0 / 267\r",
        "   10 / 267\r",
        "   20 / 267\r",
        "   30 / 267\r",
        "   40 / 267\r",
        "   50 / 267\r",
        "   60 / 267\r",
        "   70 / 267\r",
        "   80 / 267\r",
        "   90 / 267\r",
        "  100 / 267\r",
        "  110 / 267\r",
        "  120 / 267\r",
        "  130 / 267\r",
        "  140 / 267\r",
        "  150 / 267\r",
        "  160 / 267\r",
        "  170 / 267\r",
        "  180 / 267\r",
        "  190 / 267\r",
        "  200 / 267\r",
        "  210 / 267\r",
        "  220 / 267\r",
        "  230 / 267\r",
        "  240 / 267\r",
        "  250 / 267\r",
        "  260 / 267\r\n",
        "done.\r\n",
        "\r\n",
        "Progressive alignment 2/2... \r\n",
        "\r",
        "STEP     1 / 266 f\r",
        "STEP     2 / 266 f"
       ]
      },
      {
       "output_type": "stream",
       "stream": "stdout",
       "text": [
        "\r",
        "STEP     3 / 266 f\r",
        "STEP     4 / 266 f\r",
        "STEP     5 / 266 f\r",
        "STEP     6 / 266 f\r",
        "STEP     7 / 266 f\r",
        "STEP     8 / 266 f\r",
        "STEP     9 / 266 f"
       ]
      },
      {
       "output_type": "stream",
       "stream": "stdout",
       "text": [
        "\r",
        "STEP    10 / 266 f\r",
        "STEP    11 / 266 f\r",
        "STEP    12 / 266 f\r",
        "STEP    13 / 266 f\r",
        "STEP    14 / 266 f\r",
        "STEP    15 / 266 f"
       ]
      },
      {
       "output_type": "stream",
       "stream": "stdout",
       "text": [
        "\r",
        "STEP    16 / 266 f\r",
        "STEP    17 / 266 f\r",
        "STEP    18 / 266 f"
       ]
      },
      {
       "output_type": "stream",
       "stream": "stdout",
       "text": [
        "\r",
        "STEP    19 / 266 f\r",
        "STEP    20 / 266 f\r",
        "STEP    21 / 266 f\r",
        "STEP    22 / 266 f\r",
        "STEP    23 / 266 f\r",
        "STEP    24 / 266 f"
       ]
      },
      {
       "output_type": "stream",
       "stream": "stdout",
       "text": [
        "\r",
        "STEP    25 / 266 f\r",
        "STEP    26 / 266 f\r",
        "STEP    27 / 266 f\r",
        "STEP    28 / 266 f"
       ]
      },
      {
       "output_type": "stream",
       "stream": "stdout",
       "text": [
        "\r",
        "STEP    29 / 266 f\r",
        "STEP    30 / 266 f\r",
        "STEP    31 / 266 f"
       ]
      },
      {
       "output_type": "stream",
       "stream": "stdout",
       "text": [
        "\r",
        "STEP    32 / 266 f\r",
        "STEP    33 / 266 f\r",
        "STEP    34 / 266 f\r",
        "STEP    35 / 266 f\r",
        "STEP    36 / 266 f"
       ]
      },
      {
       "output_type": "stream",
       "stream": "stdout",
       "text": [
        "\r",
        "STEP    37 / 266 f"
       ]
      },
      {
       "output_type": "stream",
       "stream": "stdout",
       "text": [
        "\r",
        "STEP    38 / 266 f\r",
        "STEP    39 / 266 f\r",
        "STEP    40 / 266 f"
       ]
      },
      {
       "output_type": "stream",
       "stream": "stdout",
       "text": [
        "\r",
        "STEP    41 / 266 f\r",
        "STEP    42 / 266 f"
       ]
      },
      {
       "output_type": "stream",
       "stream": "stdout",
       "text": [
        "\r",
        "STEP    43 / 266 f\r",
        "STEP    44 / 266 f\r",
        "STEP    45 / 266 f"
       ]
      },
      {
       "output_type": "stream",
       "stream": "stdout",
       "text": [
        "\r",
        "STEP    46 / 266 d"
       ]
      },
      {
       "output_type": "stream",
       "stream": "stdout",
       "text": [
        "\r",
        "STEP    47 / 266 f\r",
        "STEP    48 / 266 d"
       ]
      },
      {
       "output_type": "stream",
       "stream": "stdout",
       "text": [
        "\r",
        "STEP    49 / 266 f\r",
        "STEP    50 / 266 d"
       ]
      },
      {
       "output_type": "stream",
       "stream": "stdout",
       "text": [
        "\r",
        "STEP    51 / 266 f\r",
        "STEP    52 / 266 f"
       ]
      },
      {
       "output_type": "stream",
       "stream": "stdout",
       "text": [
        "\r",
        "STEP    53 / 266 f"
       ]
      },
      {
       "output_type": "stream",
       "stream": "stdout",
       "text": [
        "\r",
        "STEP    54 / 266 d"
       ]
      },
      {
       "output_type": "stream",
       "stream": "stdout",
       "text": [
        "\r",
        "STEP    55 / 266 f\r",
        "STEP    56 / 266 d\r",
        "STEP    57 / 266 f"
       ]
      },
      {
       "output_type": "stream",
       "stream": "stdout",
       "text": [
        "\r",
        "STEP    58 / 266 f\r",
        "STEP    59 / 266 d"
       ]
      },
      {
       "output_type": "stream",
       "stream": "stdout",
       "text": [
        "\r",
        "STEP    60 / 266 f\r",
        "STEP    61 / 266 d"
       ]
      },
      {
       "output_type": "stream",
       "stream": "stdout",
       "text": [
        "\r",
        "STEP    62 / 266 d"
       ]
      },
      {
       "output_type": "stream",
       "stream": "stdout",
       "text": [
        "\r",
        "STEP    63 / 266 d\r",
        "STEP    64 / 266 d"
       ]
      },
      {
       "output_type": "stream",
       "stream": "stdout",
       "text": [
        "\r",
        "STEP    65 / 266 f\r",
        "STEP    66 / 266 f\r",
        "STEP    67 / 266 d"
       ]
      },
      {
       "output_type": "stream",
       "stream": "stdout",
       "text": [
        "\r",
        "STEP    68 / 266 d"
       ]
      },
      {
       "output_type": "stream",
       "stream": "stdout",
       "text": [
        "\r",
        "STEP    69 / 266 d"
       ]
      },
      {
       "output_type": "stream",
       "stream": "stdout",
       "text": [
        "\r",
        "STEP    70 / 266 d"
       ]
      },
      {
       "output_type": "stream",
       "stream": "stdout",
       "text": [
        "\r",
        "STEP    71 / 266 d\r",
        "STEP    72 / 266 d"
       ]
      },
      {
       "output_type": "stream",
       "stream": "stdout",
       "text": [
        "\r",
        "STEP    73 / 266 f\r",
        "STEP    74 / 266 d"
       ]
      },
      {
       "output_type": "stream",
       "stream": "stdout",
       "text": [
        "\r",
        "STEP    75 / 266 f\r",
        "STEP    76 / 266 d"
       ]
      },
      {
       "output_type": "stream",
       "stream": "stdout",
       "text": [
        "\r",
        "STEP    77 / 266 f"
       ]
      },
      {
       "output_type": "stream",
       "stream": "stdout",
       "text": [
        "\r",
        "STEP    78 / 266 f\r",
        "STEP    79 / 266 f"
       ]
      },
      {
       "output_type": "stream",
       "stream": "stdout",
       "text": [
        "\r",
        "STEP    80 / 266 f\r",
        "STEP    81 / 266 f\r",
        "STEP    82 / 266 d"
       ]
      },
      {
       "output_type": "stream",
       "stream": "stdout",
       "text": [
        "\r",
        "STEP    83 / 266 f\r",
        "STEP    84 / 266 d"
       ]
      },
      {
       "output_type": "stream",
       "stream": "stdout",
       "text": [
        "\r",
        "STEP    85 / 266 f"
       ]
      },
      {
       "output_type": "stream",
       "stream": "stdout",
       "text": [
        "\r",
        "STEP    86 / 266 d\r",
        "STEP    87 / 266 f"
       ]
      },
      {
       "output_type": "stream",
       "stream": "stdout",
       "text": [
        "\r",
        "STEP    88 / 266 d\r",
        "STEP    89 / 266 f"
       ]
      },
      {
       "output_type": "stream",
       "stream": "stdout",
       "text": [
        "\r",
        "STEP    90 / 266 f\r",
        "STEP    91 / 266 f"
       ]
      },
      {
       "output_type": "stream",
       "stream": "stdout",
       "text": [
        "\r",
        "STEP    92 / 266 d\r",
        "STEP    93 / 266 f"
       ]
      },
      {
       "output_type": "stream",
       "stream": "stdout",
       "text": [
        "\r",
        "STEP    94 / 266 d"
       ]
      },
      {
       "output_type": "stream",
       "stream": "stdout",
       "text": [
        "\r",
        "STEP    95 / 266 d\r",
        "STEP    96 / 266 d"
       ]
      },
      {
       "output_type": "stream",
       "stream": "stdout",
       "text": [
        "\r",
        "STEP    97 / 266 d"
       ]
      },
      {
       "output_type": "stream",
       "stream": "stdout",
       "text": [
        "\r",
        "STEP    98 / 266 f"
       ]
      },
      {
       "output_type": "stream",
       "stream": "stdout",
       "text": [
        "\r",
        "STEP    99 / 266 f\r",
        "STEP   100 / 266 d"
       ]
      },
      {
       "output_type": "stream",
       "stream": "stdout",
       "text": [
        "\r",
        "STEP   101 / 266 d"
       ]
      },
      {
       "output_type": "stream",
       "stream": "stdout",
       "text": [
        "\r",
        "STEP   102 / 266 d\r",
        "STEP   103 / 266 f"
       ]
      },
      {
       "output_type": "stream",
       "stream": "stdout",
       "text": [
        "\r",
        "STEP   104 / 266 f\r",
        "STEP   105 / 266 d"
       ]
      },
      {
       "output_type": "stream",
       "stream": "stdout",
       "text": [
        "\r",
        "STEP   106 / 266 d\r",
        "STEP   107 / 266 d"
       ]
      },
      {
       "output_type": "stream",
       "stream": "stdout",
       "text": [
        "\r",
        "STEP   108 / 266 f\r",
        "STEP   109 / 266 f"
       ]
      },
      {
       "output_type": "stream",
       "stream": "stdout",
       "text": [
        "\r",
        "STEP   110 / 266 d\r",
        "STEP   111 / 266 f"
       ]
      },
      {
       "output_type": "stream",
       "stream": "stdout",
       "text": [
        "\r",
        "STEP   112 / 266 d"
       ]
      },
      {
       "output_type": "stream",
       "stream": "stdout",
       "text": [
        "\r",
        "STEP   113 / 266 d"
       ]
      },
      {
       "output_type": "stream",
       "stream": "stdout",
       "text": [
        "\r",
        "STEP   114 / 266 f\r",
        "STEP   115 / 266 f"
       ]
      },
      {
       "output_type": "stream",
       "stream": "stdout",
       "text": [
        "\r",
        "STEP   116 / 266 f"
       ]
      },
      {
       "output_type": "stream",
       "stream": "stdout",
       "text": [
        "\r",
        "STEP   117 / 266 f\r",
        "STEP   118 / 266 d"
       ]
      },
      {
       "output_type": "stream",
       "stream": "stdout",
       "text": [
        "\r",
        "STEP   119 / 266 d"
       ]
      },
      {
       "output_type": "stream",
       "stream": "stdout",
       "text": [
        "\r",
        "STEP   120 / 266 d\r",
        "STEP   121 / 266 d"
       ]
      },
      {
       "output_type": "stream",
       "stream": "stdout",
       "text": [
        "\r",
        "STEP   122 / 266 d"
       ]
      },
      {
       "output_type": "stream",
       "stream": "stdout",
       "text": [
        "\r",
        "STEP   123 / 266 f\r",
        "STEP   124 / 266 f"
       ]
      },
      {
       "output_type": "stream",
       "stream": "stdout",
       "text": [
        "\r",
        "STEP   125 / 266 d\r",
        "STEP   126 / 266 f"
       ]
      },
      {
       "output_type": "stream",
       "stream": "stdout",
       "text": [
        "\r",
        "STEP   127 / 266 f\r",
        "STEP   128 / 266 d"
       ]
      },
      {
       "output_type": "stream",
       "stream": "stdout",
       "text": [
        "\r",
        "STEP   129 / 266 d"
       ]
      },
      {
       "output_type": "stream",
       "stream": "stdout",
       "text": [
        "\r",
        "STEP   130 / 266 d"
       ]
      },
      {
       "output_type": "stream",
       "stream": "stdout",
       "text": [
        "\r",
        "STEP   131 / 266 d"
       ]
      },
      {
       "output_type": "stream",
       "stream": "stdout",
       "text": [
        "\r",
        "STEP   132 / 266 f\r",
        "STEP   133 / 266 d"
       ]
      },
      {
       "output_type": "stream",
       "stream": "stdout",
       "text": [
        "\r",
        "STEP   134 / 266 d\r",
        "STEP   135 / 266 d"
       ]
      },
      {
       "output_type": "stream",
       "stream": "stdout",
       "text": [
        "\r",
        "STEP   136 / 266 f"
       ]
      },
      {
       "output_type": "stream",
       "stream": "stdout",
       "text": [
        "\r",
        "STEP   137 / 266 d\r",
        "STEP   138 / 266 f\r",
        "STEP   139 / 266 f"
       ]
      },
      {
       "output_type": "stream",
       "stream": "stdout",
       "text": [
        "\r",
        "STEP   140 / 266 d"
       ]
      },
      {
       "output_type": "stream",
       "stream": "stdout",
       "text": [
        "\r",
        "STEP   141 / 266 d\r",
        "STEP   142 / 266 d"
       ]
      },
      {
       "output_type": "stream",
       "stream": "stdout",
       "text": [
        "\r",
        "STEP   143 / 266 d"
       ]
      },
      {
       "output_type": "stream",
       "stream": "stdout",
       "text": [
        "\r",
        "STEP   144 / 266 d\r",
        "STEP   145 / 266 d"
       ]
      },
      {
       "output_type": "stream",
       "stream": "stdout",
       "text": [
        "\r",
        "STEP   146 / 266 f\r",
        "STEP   147 / 266 d"
       ]
      },
      {
       "output_type": "stream",
       "stream": "stdout",
       "text": [
        "\r",
        "STEP   148 / 266 d"
       ]
      },
      {
       "output_type": "stream",
       "stream": "stdout",
       "text": [
        "\r",
        "STEP   149 / 266 d"
       ]
      },
      {
       "output_type": "stream",
       "stream": "stdout",
       "text": [
        "\r",
        "STEP   150 / 266 d"
       ]
      },
      {
       "output_type": "stream",
       "stream": "stdout",
       "text": [
        "\r",
        "STEP   151 / 266 d"
       ]
      },
      {
       "output_type": "stream",
       "stream": "stdout",
       "text": [
        "\r",
        "STEP   152 / 266 d"
       ]
      },
      {
       "output_type": "stream",
       "stream": "stdout",
       "text": [
        "\r",
        "STEP   153 / 266 d\r",
        "STEP   154 / 266 d"
       ]
      },
      {
       "output_type": "stream",
       "stream": "stdout",
       "text": [
        "\r",
        "STEP   155 / 266 d"
       ]
      },
      {
       "output_type": "stream",
       "stream": "stdout",
       "text": [
        "\r",
        "STEP   156 / 266 d"
       ]
      },
      {
       "output_type": "stream",
       "stream": "stdout",
       "text": [
        "\r",
        "STEP   157 / 266 f\r",
        "STEP   158 / 266 d"
       ]
      },
      {
       "output_type": "stream",
       "stream": "stdout",
       "text": [
        "\r",
        "STEP   159 / 266 d"
       ]
      },
      {
       "output_type": "stream",
       "stream": "stdout",
       "text": [
        "\r",
        "STEP   160 / 266 d"
       ]
      },
      {
       "output_type": "stream",
       "stream": "stdout",
       "text": [
        "\r",
        "STEP   161 / 266 d"
       ]
      },
      {
       "output_type": "stream",
       "stream": "stdout",
       "text": [
        "\r",
        "STEP   162 / 266 f\r",
        "STEP   163 / 266 d"
       ]
      },
      {
       "output_type": "stream",
       "stream": "stdout",
       "text": [
        "\r",
        "STEP   164 / 266 d"
       ]
      },
      {
       "output_type": "stream",
       "stream": "stdout",
       "text": [
        "\r",
        "STEP   165 / 266 d"
       ]
      },
      {
       "output_type": "stream",
       "stream": "stdout",
       "text": [
        "\r",
        "STEP   166 / 266 d"
       ]
      },
      {
       "output_type": "stream",
       "stream": "stdout",
       "text": [
        "\r",
        "STEP   167 / 266 d"
       ]
      },
      {
       "output_type": "stream",
       "stream": "stdout",
       "text": [
        "\r",
        "STEP   168 / 266 d"
       ]
      },
      {
       "output_type": "stream",
       "stream": "stdout",
       "text": [
        "\r",
        "STEP   169 / 266 d"
       ]
      },
      {
       "output_type": "stream",
       "stream": "stdout",
       "text": [
        "\r",
        "STEP   170 / 266 d"
       ]
      },
      {
       "output_type": "stream",
       "stream": "stdout",
       "text": [
        "\r",
        "STEP   171 / 266 d"
       ]
      },
      {
       "output_type": "stream",
       "stream": "stdout",
       "text": [
        "\r",
        "STEP   172 / 266 d"
       ]
      },
      {
       "output_type": "stream",
       "stream": "stdout",
       "text": [
        "\r",
        "STEP   173 / 266 d"
       ]
      },
      {
       "output_type": "stream",
       "stream": "stdout",
       "text": [
        "\r",
        "STEP   174 / 266 d"
       ]
      },
      {
       "output_type": "stream",
       "stream": "stdout",
       "text": [
        "\r",
        "STEP   175 / 266 f"
       ]
      },
      {
       "output_type": "stream",
       "stream": "stdout",
       "text": [
        "\r",
        "STEP   176 / 266 d"
       ]
      },
      {
       "output_type": "stream",
       "stream": "stdout",
       "text": [
        "\r",
        "STEP   177 / 266 f\r",
        "STEP   178 / 266 f\r",
        "STEP   179 / 266 d"
       ]
      },
      {
       "output_type": "stream",
       "stream": "stdout",
       "text": [
        "\r",
        "STEP   180 / 266 f"
       ]
      },
      {
       "output_type": "stream",
       "stream": "stdout",
       "text": [
        "\r",
        "STEP   181 / 266 d"
       ]
      },
      {
       "output_type": "stream",
       "stream": "stdout",
       "text": [
        "\r\n",
        "Reallocating..done. *alloclen = 5680\r\n",
        "\r",
        "STEP   182 / 266 d"
       ]
      },
      {
       "output_type": "stream",
       "stream": "stdout",
       "text": [
        "\r",
        "STEP   183 / 266 d"
       ]
      },
      {
       "output_type": "stream",
       "stream": "stdout",
       "text": [
        "\r",
        "STEP   184 / 266 d"
       ]
      },
      {
       "output_type": "stream",
       "stream": "stdout",
       "text": [
        "\r",
        "STEP   185 / 266 d"
       ]
      },
      {
       "output_type": "stream",
       "stream": "stdout",
       "text": [
        "\r",
        "STEP   186 / 266 d"
       ]
      },
      {
       "output_type": "stream",
       "stream": "stdout",
       "text": [
        "\r",
        "STEP   187 / 266 d"
       ]
      },
      {
       "output_type": "stream",
       "stream": "stdout",
       "text": [
        "\r",
        "STEP   188 / 266 d"
       ]
      },
      {
       "output_type": "stream",
       "stream": "stdout",
       "text": [
        "\r",
        "STEP   189 / 266 f\r",
        "STEP   190 / 266 d"
       ]
      },
      {
       "output_type": "stream",
       "stream": "stdout",
       "text": [
        "\r",
        "STEP   191 / 266 f\r",
        "STEP   192 / 266 d"
       ]
      },
      {
       "output_type": "stream",
       "stream": "stdout",
       "text": [
        "\r",
        "STEP   193 / 266 d"
       ]
      },
      {
       "output_type": "stream",
       "stream": "stdout",
       "text": [
        "\r",
        "STEP   194 / 266 f"
       ]
      },
      {
       "output_type": "stream",
       "stream": "stdout",
       "text": [
        "\r",
        "STEP   195 / 266 d"
       ]
      },
      {
       "output_type": "stream",
       "stream": "stdout",
       "text": [
        "\r",
        "STEP   196 / 266 d"
       ]
      },
      {
       "output_type": "stream",
       "stream": "stdout",
       "text": [
        "\r",
        "STEP   197 / 266 d"
       ]
      },
      {
       "output_type": "stream",
       "stream": "stdout",
       "text": [
        "\r",
        "STEP   198 / 266 d"
       ]
      },
      {
       "output_type": "stream",
       "stream": "stdout",
       "text": [
        "\r",
        "STEP   199 / 266 d"
       ]
      },
      {
       "output_type": "stream",
       "stream": "stdout",
       "text": [
        "\r",
        "STEP   200 / 266 f"
       ]
      },
      {
       "output_type": "stream",
       "stream": "stdout",
       "text": [
        "\r",
        "STEP   201 / 266 d"
       ]
      },
      {
       "output_type": "stream",
       "stream": "stdout",
       "text": [
        "\r",
        "STEP   202 / 266 d"
       ]
      },
      {
       "output_type": "stream",
       "stream": "stdout",
       "text": [
        "\r\n",
        "Reallocating..done. *alloclen = 6703\r\n",
        "\r",
        "STEP   203 / 266 d"
       ]
      },
      {
       "output_type": "stream",
       "stream": "stdout",
       "text": [
        "\r",
        "STEP   204 / 266 d"
       ]
      },
      {
       "output_type": "stream",
       "stream": "stdout",
       "text": [
        "\r",
        "STEP   205 / 266 f"
       ]
      },
      {
       "output_type": "stream",
       "stream": "stdout",
       "text": [
        "\r",
        "STEP   206 / 266 d"
       ]
      },
      {
       "output_type": "stream",
       "stream": "stdout",
       "text": [
        "\r",
        "STEP   207 / 266 f"
       ]
      },
      {
       "output_type": "stream",
       "stream": "stdout",
       "text": [
        "\r",
        "STEP   208 / 266 f\r",
        "STEP   209 / 266 f"
       ]
      },
      {
       "output_type": "stream",
       "stream": "stdout",
       "text": [
        "\r",
        "STEP   210 / 266 d"
       ]
      },
      {
       "output_type": "stream",
       "stream": "stdout",
       "text": [
        "\r",
        "STEP   211 / 266 f\r",
        "STEP   212 / 266 d"
       ]
      },
      {
       "output_type": "stream",
       "stream": "stdout",
       "text": [
        "\r",
        "STEP   213 / 266 f"
       ]
      },
      {
       "output_type": "stream",
       "stream": "stdout",
       "text": [
        "\r",
        "STEP   214 / 266 d"
       ]
      },
      {
       "output_type": "stream",
       "stream": "stdout",
       "text": [
        "\r",
        "STEP   215 / 266 d"
       ]
      },
      {
       "output_type": "stream",
       "stream": "stdout",
       "text": [
        "\r",
        "STEP   216 / 266 d"
       ]
      },
      {
       "output_type": "stream",
       "stream": "stdout",
       "text": [
        "\r",
        "STEP   217 / 266 d"
       ]
      },
      {
       "output_type": "stream",
       "stream": "stdout",
       "text": [
        "\r",
        "STEP   218 / 266 d"
       ]
      },
      {
       "output_type": "stream",
       "stream": "stdout",
       "text": [
        "\r",
        "STEP   219 / 266 d"
       ]
      },
      {
       "output_type": "stream",
       "stream": "stdout",
       "text": [
        "\r",
        "STEP   220 / 266 d"
       ]
      },
      {
       "output_type": "stream",
       "stream": "stdout",
       "text": [
        "\r",
        "STEP   221 / 266 d"
       ]
      },
      {
       "output_type": "stream",
       "stream": "stdout",
       "text": [
        "\r",
        "STEP   222 / 266 d"
       ]
      },
      {
       "output_type": "stream",
       "stream": "stdout",
       "text": [
        "\r",
        "STEP   223 / 266 d"
       ]
      },
      {
       "output_type": "stream",
       "stream": "stdout",
       "text": [
        "\r",
        "STEP   224 / 266 d"
       ]
      },
      {
       "output_type": "stream",
       "stream": "stdout",
       "text": [
        "\r",
        "STEP   225 / 266 d"
       ]
      },
      {
       "output_type": "stream",
       "stream": "stdout",
       "text": [
        "\r",
        "STEP   226 / 266 d"
       ]
      },
      {
       "output_type": "stream",
       "stream": "stdout",
       "text": [
        "\r",
        "STEP   227 / 266 d"
       ]
      },
      {
       "output_type": "stream",
       "stream": "stdout",
       "text": [
        "\r",
        "STEP   228 / 266 d"
       ]
      },
      {
       "output_type": "stream",
       "stream": "stdout",
       "text": [
        "\r",
        "STEP   229 / 266 d"
       ]
      },
      {
       "output_type": "stream",
       "stream": "stdout",
       "text": [
        "\r",
        "STEP   230 / 266 d"
       ]
      },
      {
       "output_type": "stream",
       "stream": "stdout",
       "text": [
        "\r",
        "STEP   231 / 266 d\r\n",
        "Reallocating.."
       ]
      },
      {
       "output_type": "stream",
       "stream": "stdout",
       "text": [
        "done. *alloclen = 9258\r\n",
        "\r",
        "STEP   232 / 266 d"
       ]
      },
      {
       "output_type": "stream",
       "stream": "stdout",
       "text": [
        "\r",
        "STEP   233 / 266 d"
       ]
      },
      {
       "output_type": "stream",
       "stream": "stdout",
       "text": [
        "\r",
        "STEP   234 / 266 d"
       ]
      },
      {
       "output_type": "stream",
       "stream": "stdout",
       "text": [
        "\r",
        "STEP   235 / 266 d"
       ]
      },
      {
       "output_type": "stream",
       "stream": "stdout",
       "text": [
        "\r",
        "STEP   236 / 266 d"
       ]
      },
      {
       "output_type": "stream",
       "stream": "stdout",
       "text": [
        "\r",
        "STEP   237 / 266 d"
       ]
      },
      {
       "output_type": "stream",
       "stream": "stdout",
       "text": [
        "\r",
        "STEP   238 / 266 d"
       ]
      },
      {
       "output_type": "stream",
       "stream": "stdout",
       "text": [
        "\r",
        "STEP   239 / 266 d"
       ]
      },
      {
       "output_type": "stream",
       "stream": "stdout",
       "text": [
        "\r",
        "STEP   240 / 266 d"
       ]
      },
      {
       "output_type": "stream",
       "stream": "stdout",
       "text": [
        "\r",
        "STEP   241 / 266 d"
       ]
      },
      {
       "output_type": "stream",
       "stream": "stdout",
       "text": [
        "\r",
        "STEP   242 / 266 d"
       ]
      },
      {
       "output_type": "stream",
       "stream": "stdout",
       "text": [
        "\r",
        "STEP   243 / 266 d"
       ]
      },
      {
       "output_type": "stream",
       "stream": "stdout",
       "text": [
        "\r",
        "STEP   244 / 266 d"
       ]
      },
      {
       "output_type": "stream",
       "stream": "stdout",
       "text": [
        "\r",
        "STEP   245 / 266 d"
       ]
      },
      {
       "output_type": "stream",
       "stream": "stdout",
       "text": [
        "\r",
        "STEP   246 / 266 f\r",
        "STEP   247 / 266 d"
       ]
      },
      {
       "output_type": "stream",
       "stream": "stdout",
       "text": [
        "\r",
        "STEP   248 / 266 d"
       ]
      },
      {
       "output_type": "stream",
       "stream": "stdout",
       "text": [
        "\r",
        "STEP   249 / 266 d"
       ]
      },
      {
       "output_type": "stream",
       "stream": "stdout",
       "text": [
        "\r",
        "STEP   250 / 266 d"
       ]
      },
      {
       "output_type": "stream",
       "stream": "stdout",
       "text": [
        "\r",
        "STEP   251 / 266 d"
       ]
      },
      {
       "output_type": "stream",
       "stream": "stdout",
       "text": [
        "\r",
        "STEP   252 / 266 d"
       ]
      },
      {
       "output_type": "stream",
       "stream": "stdout",
       "text": [
        "\r",
        "STEP   253 / 266 d"
       ]
      },
      {
       "output_type": "stream",
       "stream": "stdout",
       "text": [
        "\r",
        "STEP   254 / 266 d"
       ]
      },
      {
       "output_type": "stream",
       "stream": "stdout",
       "text": [
        "\r",
        "STEP   255 / 266 d"
       ]
      },
      {
       "output_type": "stream",
       "stream": "stdout",
       "text": [
        "\r",
        "STEP   256 / 266 d\r",
        "STEP   257 / 266 d"
       ]
      },
      {
       "output_type": "stream",
       "stream": "stdout",
       "text": [
        "\r",
        "STEP   258 / 266 d"
       ]
      },
      {
       "output_type": "stream",
       "stream": "stdout",
       "text": [
        "\r",
        "STEP   259 / 266 d"
       ]
      },
      {
       "output_type": "stream",
       "stream": "stdout",
       "text": [
        "\r",
        "STEP   260 / 266 d"
       ]
      },
      {
       "output_type": "stream",
       "stream": "stdout",
       "text": [
        "\r",
        "STEP   261 / 266 d"
       ]
      },
      {
       "output_type": "stream",
       "stream": "stdout",
       "text": [
        "\r",
        "STEP   262 / 266 d"
       ]
      },
      {
       "output_type": "stream",
       "stream": "stdout",
       "text": [
        "\r",
        "STEP   263 / 266 d"
       ]
      },
      {
       "output_type": "stream",
       "stream": "stdout",
       "text": [
        "\r",
        "STEP   264 / 266 d"
       ]
      },
      {
       "output_type": "stream",
       "stream": "stdout",
       "text": [
        "\r",
        "STEP   265 / 266 d"
       ]
      },
      {
       "output_type": "stream",
       "stream": "stdout",
       "text": [
        "\r\n",
        "Reallocating..done. *alloclen = 11212\r\n",
        "\r",
        "STEP   266 / 266 d"
       ]
      },
      {
       "output_type": "stream",
       "stream": "stdout",
       "text": [
        "\r\n",
        "done.\r\n",
        "\r\n",
        "disttbfast (nuc) Version 7.187 alg=A, model=DNA200 (2), 1.53 (4.59), -0.00 (-0.00), noshift, amax=0.0\r\n",
        "0 thread(s)\r\n"
       ]
      },
      {
       "output_type": "stream",
       "stream": "stdout",
       "text": [
        "\r\n",
        "\r\n",
        "Strategy:\r\n",
        " FFT-NS-2 (Fast but rough)\r\n",
        " Progressive method (guide trees were built 2 times.)\r\n",
        "\r\n",
        "If unsure which option to use, try 'mafft --auto input > output'.\r\n",
        "For more information, see 'mafft --help', 'mafft --man' and the mafft page.\r\n",
        "\r\n",
        "The default gap scoring scheme has been changed in version 7.110 (2013 Oct).\r\n",
        "It tends to insert more gaps into gap-rich regions than previous versions.\r\n",
        "To disable this change, add the --legacygappenalty option.\r\n",
        "\r\n"
       ]
      },
      {
       "output_type": "stream",
       "stream": "stdout",
       "text": [
        "1 loops, best of 3: 28.6 s per loop\n"
       ]
      }
     ],
     "prompt_number": 7
    },
    {
     "cell_type": "code",
     "collapsed": false,
     "input": [
      "%%timeit\n",
      "\n",
      "!mafft --thread 4 /Users/caporaso/data/gg_13_8_otus/rep_set/73_otus.fasta > out.fasta"
     ],
     "language": "python",
     "metadata": {},
     "outputs": [
      {
       "output_type": "stream",
       "stream": "stdout",
       "text": [
        "\r\n"
       ]
      },
      {
       "output_type": "stream",
       "stream": "stdout",
       "text": [
        "nseq =  267\r\n",
        "distance =  ktuples\r\n",
        "iterate =  0\r\n",
        "cycle =  2\r\n",
        "nguidetree = 2\r\n",
        "nthread = 4\r\n",
        "sueff_global = 0.100000\r\n"
       ]
      },
      {
       "output_type": "stream",
       "stream": "stdout",
       "text": [
        "generating a scoring matrix for nucleotide (dist=200) ... done\r\n",
        "done\r\n",
        "done\r\n",
        "scoremtx = -1\r\n",
        "Gap Penalty = -1.53, +0.00, +0.00\r\n",
        "\r\n",
        "tuplesize = 6, dorp = d\r\n",
        "\r\n",
        "\r\n",
        "Making a distance matrix ..\r\n",
        "\r\n",
        "There are 871 ambiguous characters.\r\n",
        "\r",
        "    1 / 267 (thread    1)\r",
        "   11 / 267 (thread    2)\r",
        "   21 / 267 (thread    2)\r",
        "   31 / 267 (thread    0)\r",
        "   41 / 267 (thread    2)\r",
        "   51 / 267 (thread    2)\r",
        "   61 / 267 (thread    2)\r",
        "   71 / 267 (thread    3)\r",
        "   81 / 267 (thread    3)\r",
        "   91 / 267 (thread    1)\r",
        "  101 / 267 (thread    1)\r",
        "  111 / 267 (thread    1)\r",
        "  121 / 267 (thread    1)\r",
        "  131 / 267 (thread    3)"
       ]
      },
      {
       "output_type": "stream",
       "stream": "stdout",
       "text": [
        "\r",
        "  141 / 267 (thread    0)\r",
        "  151 / 267 (thread    1)\r",
        "  161 / 267 (thread    3)\r",
        "  171 / 267 (thread    3)\r",
        "  181 / 267 (thread    3)\r",
        "  191 / 267 (thread    1)\r",
        "  201 / 267 (thread    3)\r",
        "  211 / 267 (thread    0)\r",
        "  221 / 267 (thread    1)\r",
        "  231 / 267 (thread    3)\r",
        "  241 / 267 (thread    2)\r",
        "  251 / 267 (thread    2)\r",
        "  261 / 267 (thread    1)\r\n",
        "done.\r\n",
        "\r\n",
        "Constructing a UPGMA tree ... \r\n",
        "\r",
        "    0 / 267\r",
        "   10 / 267\r",
        "   20 / 267\r",
        "   30 / 267\r",
        "   40 / 267\r",
        "   50 / 267\r",
        "   60 / 267\r",
        "   70 / 267\r",
        "   80 / 267\r",
        "   90 / 267\r",
        "  100 / 267\r",
        "  110 / 267\r",
        "  120 / 267\r",
        "  130 / 267\r",
        "  140 / 267\r",
        "  150 / 267\r",
        "  160 / 267\r",
        "  170 / 267\r",
        "  180 / 267\r",
        "  190 / 267\r",
        "  200 / 267\r",
        "  210 / 267\r",
        "  220 / 267\r",
        "  230 / 267\r",
        "  240 / 267\r",
        "  250 / 267\r",
        "  260 / 267\r\n",
        "done.\r\n",
        "\r\n",
        "Progressive alignment 1/2... \r\n",
        "\r",
        "STEP     1 / 266 (thread    2)f\r",
        "STEP     2 / 266 (thread    3)f\r",
        "STEP     3 / 266 (thread    0)f\r",
        "STEP     4 / 266 (thread    1)f\r",
        "STEP     5 / 266 (thread    2)f\r",
        "STEP     6 / 266 (thread    3)f\r",
        "STEP     7 / 266 (thread    0)f\r",
        "STEP     8 / 266 (thread    0)f\r",
        "STEP     9 / 266 (thread    2)f\r",
        "STEP    10 / 266 (thread    0)f\r",
        "STEP    11 / 266 (thread    3)f\r",
        "STEP    12 / 266 (thread    1)f\r",
        "STEP    13 / 266 (thread    0)f"
       ]
      },
      {
       "output_type": "stream",
       "stream": "stdout",
       "text": [
        "\r",
        "STEP    14 / 266 (thread    0)f\r",
        "STEP    15 / 266 (thread    1)f\r",
        "STEP    16 / 266 (thread    3)f\r",
        "STEP    17 / 266 (thread    0)f\r",
        "STEP    18 / 266 (thread    1)f\r",
        "STEP    19 / 266 (thread    2)f\r",
        "STEP    20 / 266 (thread    1)f\r",
        "STEP    21 / 266 (thread    2)f\r",
        "STEP    22 / 266 (thread    1)f\r",
        "STEP    23 / 266 (thread    2)f\r",
        "STEP    24 / 266 (thread    0)f"
       ]
      },
      {
       "output_type": "stream",
       "stream": "stdout",
       "text": [
        "\r",
        "STEP    25 / 266 (thread    0)f\r",
        "STEP    26 / 266 (thread    3)f\r",
        "STEP    27 / 266 (thread    0)f\r",
        "STEP    29 / 266 (thread    1)f\r",
        "STEP    30 / 266 (thread    0)f\r",
        "STEP    31 / 266 (thread    1)f\r",
        "STEP    32 / 266 (thread    0)f"
       ]
      },
      {
       "output_type": "stream",
       "stream": "stdout",
       "text": [
        "\r",
        "STEP    33 / 266 (thread    0)f\r",
        "STEP    34 / 266 (thread    1)f\r",
        "STEP    28 / 266 (thread    3)\r",
        "STEP    35 / 266 (thread    2)df\r",
        "STEP    36 / 266 (thread    1)f\r",
        "STEP    38 / 266 (thread    0)f"
       ]
      },
      {
       "output_type": "stream",
       "stream": "stdout",
       "text": [
        "\r",
        "STEP    37 / 266 (thread    2)f\r",
        "STEP    39 / 266 (thread    1)f\r",
        "STEP    40 / 266 (thread    1)f\r",
        "STEP    41 / 266 (thread    2)f\r",
        "STEP    42 / 266 (thread    3)f\r",
        "STEP    43 / 266 (thread    0)d\r",
        "STEP    44 / 266 (thread    2)f"
       ]
      },
      {
       "output_type": "stream",
       "stream": "stdout",
       "text": [
        "\r",
        "STEP    45 / 266 (thread    1)f\r",
        "STEP    46 / 266 (thread    1)d\r",
        "STEP    47 / 266 (thread    0)f\r",
        "STEP    48 / 266 (thread    3)f\r",
        "STEP    49 / 266 (thread    2)f"
       ]
      },
      {
       "output_type": "stream",
       "stream": "stdout",
       "text": [
        "\r",
        "STEP    50 / 266 (thread    1)f\r",
        "STEP    51 / 266 (thread    3)d\r",
        "STEP    52 / 266 (thread    0)f\r",
        "STEP    53 / 266 (thread    1)d\r",
        "STEP    54 / 266 (thread    2)d\r",
        "STEP    55 / 266 (thread    0)d\r",
        "STEP    56 / 266 (thread    3)f"
       ]
      },
      {
       "output_type": "stream",
       "stream": "stdout",
       "text": [
        "\r",
        "STEP    57 / 266 (thread    3)d\r",
        "STEP    59 / 266 (thread    2)d\r",
        "STEP    58 / 266 (thread    1)d"
       ]
      },
      {
       "output_type": "stream",
       "stream": "stdout",
       "text": [
        "\r",
        "STEP    61 / 266 (thread    2)f\r",
        "STEP    62 / 266 (thread    3)f\r",
        "STEP    63 / 266 (thread    1)f\r",
        "STEP    60 / 266 (thread    0)d\r",
        "STEP    64 / 266 (thread    1)f"
       ]
      },
      {
       "output_type": "stream",
       "stream": "stdout",
       "text": [
        "\r",
        "STEP    66 / 266 (thread    3)f\r",
        "STEP    67 / 266 (thread    1)d\r",
        "STEP    65 / 266 (thread    2)\r",
        "STEP    68 / 266 (thread    0)dd\r",
        "STEP    69 / 266 (thread    3)f\r",
        "STEP    71 / 266 (thread    1)\r",
        "STEP    70 / 266 (thread    3)fd"
       ]
      },
      {
       "output_type": "stream",
       "stream": "stdout",
       "text": [
        "\r",
        "STEP    73 / 266 (thread    1)f\r",
        "STEP    74 / 266 (thread    3)f\r",
        "STEP    72 / 266 (thread    0)\r",
        "STEP    75 / 266 (thread    2)df\r",
        "STEP    76 / 266 (thread    1)f\r",
        "STEP    77 / 266 (thread    2)f"
       ]
      },
      {
       "output_type": "stream",
       "stream": "stdout",
       "text": [
        "\r",
        "STEP    79 / 266 (thread    1)f\r",
        "STEP    80 / 266 (thread    2)d\r",
        "STEP    81 / 266 (thread    1)f\r",
        "STEP    82 / 266 (thread    0)f\r",
        "STEP    78 / 266 (thread    3)d\r",
        "STEP    83 / 266 (thread    1)f"
       ]
      },
      {
       "output_type": "stream",
       "stream": "stdout",
       "text": [
        "\r",
        "STEP    85 / 266 (thread    1)d\r",
        "STEP    84 / 266 (thread    2)d\r",
        "STEP    86 / 266 (thread    0)f"
       ]
      },
      {
       "output_type": "stream",
       "stream": "stdout",
       "text": [
        "\r",
        "STEP    87 / 266 (thread    3)d\r",
        "STEP    88 / 266 (thread    0)d\r",
        "STEP    89 / 266 (thread    2)f\r",
        "STEP    90 / 266 (thread    1)f\r",
        "STEP    91 / 266 (thread    3)d\r",
        "STEP    92 / 266 (thread    2)f"
       ]
      },
      {
       "output_type": "stream",
       "stream": "stdout",
       "text": [
        "\r",
        "STEP    93 / 266 (thread    1)d\r",
        "STEP    94 / 266 (thread    0)d\r",
        "STEP    95 / 266 (thread    2)f\r",
        "STEP    96 / 266 (thread    2)d\r",
        "STEP    97 / 266 (thread    3)d\r",
        "STEP    98 / 266 (thread    1)f\r",
        "STEP    99 / 266 (thread    0)d"
       ]
      },
      {
       "output_type": "stream",
       "stream": "stdout",
       "text": [
        "\r",
        "STEP   100 / 266 (thread    1)f\r",
        "STEP   101 / 266 (thread    3)f\r",
        "STEP   103 / 266 (thread    2)f\r",
        "STEP   104 / 266 (thread    2)d\r",
        "STEP   105 / 266 (thread    0)d\r",
        "STEP   102 / 266 (thread    1)d"
       ]
      },
      {
       "output_type": "stream",
       "stream": "stdout",
       "text": [
        "\r",
        "STEP   106 / 266 (thread    3)d\r",
        "STEP   107 / 266 (thread    2)d\r",
        "STEP   108 / 266 (thread    3)f"
       ]
      },
      {
       "output_type": "stream",
       "stream": "stdout",
       "text": [
        "\r",
        "STEP   109 / 266 (thread    1)f\r",
        "STEP   110 / 266 (thread    0)f\r",
        "STEP   111 / 266 (thread    3)f\r",
        "STEP   112 / 266 (thread    0)d\r",
        "STEP   113 / 266 (thread    2)d\r",
        "STEP   114 / 266 (thread    3)f"
       ]
      },
      {
       "output_type": "stream",
       "stream": "stdout",
       "text": [
        "\r",
        "STEP   116 / 266 (thread    3)d\r",
        "STEP   117 / 266 (thread    0)f\r",
        "STEP   119 / 266 (thread    2)d\r",
        "STEP   115 / 266 (thread    1)d"
       ]
      },
      {
       "output_type": "stream",
       "stream": "stdout",
       "text": [
        "\r",
        "STEP   120 / 266 (thread    3)d\r",
        "STEP   121 / 266 (thread    2)d"
       ]
      },
      {
       "output_type": "stream",
       "stream": "stdout",
       "text": [
        "\r",
        "STEP   118 / 266 (thread    0)d\r",
        "STEP   123 / 266 (thread    1)d\r",
        "STEP   124 / 266 (thread    2)d"
       ]
      },
      {
       "output_type": "stream",
       "stream": "stdout",
       "text": [
        "\r",
        "STEP   125 / 266 (thread    1)d"
       ]
      },
      {
       "output_type": "stream",
       "stream": "stdout",
       "text": [
        "\r",
        "STEP   127 / 266 (thread    1)f\r",
        "STEP   128 / 266 (thread    1)d\r\n",
        "Reallocating..done. *alloclen = 5644\r\n",
        "\r",
        "STEP   122 / 266 (thread    3)d\r",
        "STEP   129 / 266 (thread    0)d"
       ]
      },
      {
       "output_type": "stream",
       "stream": "stdout",
       "text": [
        "\r",
        "STEP   130 / 266 (thread    1)d"
       ]
      },
      {
       "output_type": "stream",
       "stream": "stdout",
       "text": [
        "\r",
        "STEP   126 / 266 (thread    2)d\r",
        "STEP   132 / 266 (thread    3)d"
       ]
      },
      {
       "output_type": "stream",
       "stream": "stdout",
       "text": [
        "\r",
        "STEP   133 / 266 (thread    1)d\r",
        "STEP   135 / 266 (thread    1)d"
       ]
      },
      {
       "output_type": "stream",
       "stream": "stdout",
       "text": [
        "\r",
        "STEP   136 / 266 (thread    1)d"
       ]
      },
      {
       "output_type": "stream",
       "stream": "stdout",
       "text": [
        "\r",
        "STEP   131 / 266 (thread    0)d\r",
        "STEP   137 / 266 (thread    2)d"
       ]
      },
      {
       "output_type": "stream",
       "stream": "stdout",
       "text": [
        "\r",
        "STEP   138 / 266 (thread    1)d\r",
        "STEP   139 / 266 (thread    2)d\r",
        "STEP   140 / 266 (thread    2)f\r",
        "STEP   141 / 266 (thread    1)d"
       ]
      },
      {
       "output_type": "stream",
       "stream": "stdout",
       "text": [
        "\r",
        "STEP   142 / 266 (thread    2)f\r",
        "STEP   144 / 266 (thread    1)d\r",
        "STEP   134 / 266 (thread    3)d\r",
        "STEP   145 / 266 (thread    0)d"
       ]
      },
      {
       "output_type": "stream",
       "stream": "stdout",
       "text": [
        "\r",
        "STEP   146 / 266 (thread    1)d"
       ]
      },
      {
       "output_type": "stream",
       "stream": "stdout",
       "text": [
        "\r",
        "STEP   148 / 266 (thread    3)\r",
        "STEP   143 / 266 (thread    2)fd\r",
        "STEP   149 / 266 (thread    1)d"
       ]
      },
      {
       "output_type": "stream",
       "stream": "stdout",
       "text": [
        "\r",
        "STEP   147 / 266 (thread    0)d\r",
        "STEP   151 / 266 (thread    2)d"
       ]
      },
      {
       "output_type": "stream",
       "stream": "stdout",
       "text": [
        "\r",
        "STEP   152 / 266 (thread    1)f\r",
        "STEP   154 / 266 (thread    1)d"
       ]
      },
      {
       "output_type": "stream",
       "stream": "stdout",
       "text": [
        "\r",
        "STEP   150 / 266 (thread    3)\r",
        "STEP   155 / 266 (thread    0)df\r",
        "STEP   156 / 266 (thread    0)d"
       ]
      },
      {
       "output_type": "stream",
       "stream": "stdout",
       "text": [
        "\r",
        "STEP   158 / 266 (thread    1)d\r",
        "STEP   153 / 266 (thread    2)d\r",
        "STEP   159 / 266 (thread    3)d"
       ]
      },
      {
       "output_type": "stream",
       "stream": "stdout",
       "text": [
        "\r",
        "STEP   160 / 266 (thread    1)d\r",
        "STEP   161 / 266 (thread    3)d\r",
        "STEP   162 / 266 (thread    1)f"
       ]
      },
      {
       "output_type": "stream",
       "stream": "stdout",
       "text": [
        "\r",
        "STEP   164 / 266 (thread    1)d\r",
        "STEP   157 / 266 (thread    0)d\r",
        "STEP   165 / 266 (thread    2)d\r",
        "STEP   166 / 266 (thread    1)f"
       ]
      },
      {
       "output_type": "stream",
       "stream": "stdout",
       "text": [
        "\r",
        "STEP   167 / 266 (thread    1)f\r",
        "STEP   169 / 266 (thread    2)d"
       ]
      },
      {
       "output_type": "stream",
       "stream": "stdout",
       "text": [
        "\r",
        "STEP   163 / 266 (thread    3)d\r",
        "STEP   170 / 266 (thread    0)d"
       ]
      },
      {
       "output_type": "stream",
       "stream": "stdout",
       "text": [
        "\r",
        "STEP   168 / 266 (thread    1)d\r",
        "STEP   172 / 266 (thread    3)d\r",
        "STEP   173 / 266 (thread    2)f"
       ]
      },
      {
       "output_type": "stream",
       "stream": "stdout",
       "text": [
        "\r",
        "STEP   174 / 266 (thread    2)d\r",
        "STEP   175 / 266 (thread    3)d\r",
        "STEP   176 / 266 (thread    2)d"
       ]
      },
      {
       "output_type": "stream",
       "stream": "stdout",
       "text": [
        "\r",
        "STEP   171 / 266 (thread    0)d\r",
        "STEP   177 / 266 (thread    1)d\r",
        "STEP   178 / 266 (thread    2)f\r",
        "STEP   179 / 266 (thread    3)d"
       ]
      },
      {
       "output_type": "stream",
       "stream": "stdout",
       "text": [
        "\r",
        "STEP   180 / 266 (thread    2)d\r",
        "STEP   182 / 266 (thread    2)d"
       ]
      },
      {
       "output_type": "stream",
       "stream": "stdout",
       "text": [
        "\r",
        "STEP   181 / 266 (thread    1)d\r",
        "STEP   184 / 266 (thread    0)d"
       ]
      },
      {
       "output_type": "stream",
       "stream": "stdout",
       "text": [
        "\r",
        "STEP   185 / 266 (thread    2)f\r",
        "STEP   186 / 266 (thread    2)f\r",
        "STEP   188 / 266 (thread    2)d"
       ]
      },
      {
       "output_type": "stream",
       "stream": "stdout",
       "text": [
        "\r",
        "STEP   183 / 266 (thread    3)d\r",
        "STEP   190 / 266 (thread    2)f"
       ]
      },
      {
       "output_type": "stream",
       "stream": "stdout",
       "text": [
        "\r",
        "STEP   191 / 266 (thread    2)d\r\n",
        "Reallocating..done. *alloclen = 6953\r\n",
        "\r",
        "STEP   187 / 266 (thread    0)d"
       ]
      },
      {
       "output_type": "stream",
       "stream": "stdout",
       "text": [
        "\r",
        "STEP   189 / 266 (thread    1)d\r",
        "STEP   194 / 266 (thread    0)d\r",
        "STEP   195 / 266 (thread    0)d"
       ]
      },
      {
       "output_type": "stream",
       "stream": "stdout",
       "text": [
        "\r",
        "STEP   196 / 266 (thread    0)d\r",
        "STEP   192 / 266 (thread    3)d\r",
        "STEP   197 / 266 (thread    1)d"
       ]
      },
      {
       "output_type": "stream",
       "stream": "stdout",
       "text": [
        "\r",
        "STEP   193 / 266 (thread    2)\r",
        "STEP   199 / 266 (thread    3)dd\r",
        "STEP   200 / 266 (thread    1)d\r",
        "STEP   201 / 266 (thread    3)f"
       ]
      },
      {
       "output_type": "stream",
       "stream": "stdout",
       "text": [
        "\r",
        "STEP   202 / 266 (thread    3)d\r",
        "STEP   203 / 266 (thread    1)d"
       ]
      },
      {
       "output_type": "stream",
       "stream": "stdout",
       "text": [
        "\r",
        "STEP   205 / 266 (thread    1)f\r",
        "STEP   206 / 266 (thread    2)\r",
        "STEP   198 / 266 (thread    0)fd\r",
        "STEP   207 / 266 (thread    1)f"
       ]
      },
      {
       "output_type": "stream",
       "stream": "stdout",
       "text": [
        "\r",
        "STEP   208 / 266 (thread    2)d"
       ]
      },
      {
       "output_type": "stream",
       "stream": "stdout",
       "text": [
        "\r",
        "STEP   210 / 266 (thread    2)d"
       ]
      },
      {
       "output_type": "stream",
       "stream": "stdout",
       "text": [
        "\r",
        "STEP   211 / 266 (thread    2)f\r",
        "STEP   204 / 266 (thread    3)d\r",
        "STEP   212 / 266 (thread    0)d"
       ]
      },
      {
       "output_type": "stream",
       "stream": "stdout",
       "text": [
        "\r",
        "STEP   214 / 266 (thread    0)d\r",
        "STEP   215 / 266 (thread    3)\r",
        "STEP   209 / 266 (thread    1)fd"
       ]
      },
      {
       "output_type": "stream",
       "stream": "stdout",
       "text": [
        "\r",
        "STEP   216 / 266 (thread    0)d\r",
        "STEP   217 / 266 (thread    3)d"
       ]
      },
      {
       "output_type": "stream",
       "stream": "stdout",
       "text": [
        "\r",
        "STEP   218 / 266 (thread    1)\r",
        "STEP   213 / 266 (thread    2)fd"
       ]
      },
      {
       "output_type": "stream",
       "stream": "stdout",
       "text": [
        "\r",
        "STEP   221 / 266 (thread    0)d"
       ]
      },
      {
       "output_type": "stream",
       "stream": "stdout",
       "text": [
        "\r",
        "STEP   222 / 266 (thread    2)\r",
        "STEP   219 / 266 (thread    3)dd"
       ]
      },
      {
       "output_type": "stream",
       "stream": "stdout",
       "text": [
        "\r",
        "STEP   224 / 266 (thread    2)d"
       ]
      },
      {
       "output_type": "stream",
       "stream": "stdout",
       "text": [
        "\r",
        "STEP   220 / 266 (thread    1)\r",
        "STEP   226 / 266 (thread    3)df"
       ]
      },
      {
       "output_type": "stream",
       "stream": "stdout",
       "text": [
        "\r",
        "STEP   227 / 266 (thread    3)d"
       ]
      },
      {
       "output_type": "stream",
       "stream": "stdout",
       "text": [
        "\r",
        "STEP   228 / 266 (thread    3)d\r\n",
        "Reallocating..done. *alloclen = 9470\r\n",
        "\r",
        "STEP   223 / 266 (thread    0)d"
       ]
      },
      {
       "output_type": "stream",
       "stream": "stdout",
       "text": [
        "\r",
        "STEP   230 / 266 (thread    3)d"
       ]
      },
      {
       "output_type": "stream",
       "stream": "stdout",
       "text": [
        "\r",
        "STEP   231 / 266 (thread    3)d"
       ]
      },
      {
       "output_type": "stream",
       "stream": "stdout",
       "text": [
        "\r",
        "STEP   225 / 266 (thread    2)d\r",
        "STEP   233 / 266 (thread    0)d"
       ]
      },
      {
       "output_type": "stream",
       "stream": "stdout",
       "text": [
        "\r",
        "STEP   229 / 266 (thread    1)\r",
        "STEP   235 / 266 (thread    2)df"
       ]
      },
      {
       "output_type": "stream",
       "stream": "stdout",
       "text": [
        "\r",
        "STEP   232 / 266 (thread    3)d"
       ]
      },
      {
       "output_type": "stream",
       "stream": "stdout",
       "text": [
        "\r",
        "STEP   234 / 266 (thread    0)d\r",
        "STEP   238 / 266 (thread    3)d"
       ]
      },
      {
       "output_type": "stream",
       "stream": "stdout",
       "text": [
        "\r",
        "STEP   239 / 266 (thread    3)d"
       ]
      },
      {
       "output_type": "stream",
       "stream": "stdout",
       "text": [
        "\r",
        "STEP   236 / 266 (thread    2)d\r",
        "STEP   241 / 266 (thread    0)d"
       ]
      },
      {
       "output_type": "stream",
       "stream": "stdout",
       "text": [
        "\r",
        "STEP   237 / 266 (thread    1)d"
       ]
      },
      {
       "output_type": "stream",
       "stream": "stdout",
       "text": [
        "\r",
        "STEP   240 / 266 (thread    3)d"
       ]
      },
      {
       "output_type": "stream",
       "stream": "stdout",
       "text": [
        "\r",
        "STEP   242 / 266 (thread    0)\r",
        "STEP   245 / 266 (thread    3)df"
       ]
      },
      {
       "output_type": "stream",
       "stream": "stdout",
       "text": [
        "\r",
        "STEP   247 / 266 (thread    0)\r",
        "STEP   243 / 266 (thread    2)fd"
       ]
      },
      {
       "output_type": "stream",
       "stream": "stdout",
       "text": [
        "\r",
        "STEP   248 / 266 (thread    0)f"
       ]
      },
      {
       "output_type": "stream",
       "stream": "stdout",
       "text": [
        "\r",
        "STEP   250 / 266 (thread    2)\r",
        "STEP   244 / 266 (thread    1)fd\r",
        "STEP   251 / 266 (thread    2)d"
       ]
      },
      {
       "output_type": "stream",
       "stream": "stdout",
       "text": [
        "\r",
        "STEP   246 / 266 (thread    3)d"
       ]
      },
      {
       "output_type": "stream",
       "stream": "stdout",
       "text": [
        "\r",
        "STEP   249 / 266 (thread    0)d"
       ]
      },
      {
       "output_type": "stream",
       "stream": "stdout",
       "text": [
        "\r",
        "STEP   252 / 266 (thread    2)\r",
        "STEP   255 / 266 (thread    0)df"
       ]
      },
      {
       "output_type": "stream",
       "stream": "stdout",
       "text": [
        "\r",
        "STEP   253 / 266 (thread    1)d"
       ]
      },
      {
       "output_type": "stream",
       "stream": "stdout",
       "text": [
        "\r",
        "STEP   254 / 266 (thread    3)d"
       ]
      },
      {
       "output_type": "stream",
       "stream": "stdout",
       "text": [
        "\r",
        "STEP   256 / 266 (thread    0)d"
       ]
      },
      {
       "output_type": "stream",
       "stream": "stdout",
       "text": [
        "\r",
        "STEP   257 / 266 (thread    2)d"
       ]
      },
      {
       "output_type": "stream",
       "stream": "stdout",
       "text": [
        "\r",
        "STEP   258 / 266 (thread    1)d"
       ]
      },
      {
       "output_type": "stream",
       "stream": "stdout",
       "text": [
        "\r",
        "STEP   259 / 266 (thread    3)\r",
        "STEP   262 / 266 (thread    1)dd"
       ]
      },
      {
       "output_type": "stream",
       "stream": "stdout",
       "text": [
        "\r",
        "STEP   260 / 266 (thread    0)d"
       ]
      },
      {
       "output_type": "stream",
       "stream": "stdout",
       "text": [
        "\r",
        "STEP   261 / 266 (thread    2)d"
       ]
      },
      {
       "output_type": "stream",
       "stream": "stdout",
       "text": [
        "\r\n",
        "Reallocating..done. *alloclen = 10797\r\n",
        "\r",
        "STEP   263 / 266 (thread    1)d"
       ]
      },
      {
       "output_type": "stream",
       "stream": "stdout",
       "text": [
        "\r",
        "STEP   264 / 266 (thread    3)d"
       ]
      },
      {
       "output_type": "stream",
       "stream": "stdout",
       "text": [
        "\r",
        "STEP   265 / 266 (thread    0)d"
       ]
      },
      {
       "output_type": "stream",
       "stream": "stdout",
       "text": [
        "\r",
        "STEP   266 / 266 (thread    2)d"
       ]
      },
      {
       "output_type": "stream",
       "stream": "stdout",
       "text": [
        "\r\n",
        "done.\r\n",
        "\r\n",
        "Making a distance matrix from msa.. \r\n",
        "\r",
        "    0 / 267 (thread    0)\r",
        "   10 / 267 (thread    3)\r",
        "   20 / 267 (thread    1)"
       ]
      },
      {
       "output_type": "stream",
       "stream": "stdout",
       "text": [
        "\r",
        "   30 / 267 (thread    0)\r",
        "   40 / 267 (thread    1)\r",
        "   50 / 267 (thread    2)\r",
        "   60 / 267 (thread    2)\r",
        "   70 / 267 (thread    1)\r",
        "   80 / 267 (thread    2)\r",
        "   90 / 267 (thread    2)\r",
        "  100 / 267 (thread    1)"
       ]
      },
      {
       "output_type": "stream",
       "stream": "stdout",
       "text": [
        "\r",
        "  110 / 267 (thread    3)\r",
        "  120 / 267 (thread    2)\r",
        "  130 / 267 (thread    3)\r",
        "  140 / 267 (thread    3)\r",
        "  150 / 267 (thread    3)\r",
        "  160 / 267 (thread    1)\r",
        "  170 / 267 (thread    1)\r",
        "  180 / 267 (thread    2)\r",
        "  190 / 267 (thread    2)\r",
        "  200 / 267 (thread    0)\r",
        "  210 / 267 (thread    1)\r",
        "  220 / 267 (thread    3)\r",
        "  230 / 267 (thread    0)\r",
        "  240 / 267 (thread    3)\r",
        "  250 / 267 (thread    3)\r",
        "  260 / 267 (thread    3)\r\n",
        "done.\r\n",
        "\r\n",
        "Constructing a UPGMA tree ... \r\n",
        "\r",
        "    0 / 267\r",
        "   10 / 267\r",
        "   20 / 267\r",
        "   30 / 267\r",
        "   40 / 267\r",
        "   50 / 267\r",
        "   60 / 267\r",
        "   70 / 267\r",
        "   80 / 267\r",
        "   90 / 267\r",
        "  100 / 267\r",
        "  110 / 267\r",
        "  120 / 267\r",
        "  130 / 267\r",
        "  140 / 267\r",
        "  150 / 267\r",
        "  160 / 267\r",
        "  170 / 267\r",
        "  180 / 267\r",
        "  190 / 267\r",
        "  200 / 267\r",
        "  210 / 267\r",
        "  220 / 267\r",
        "  230 / 267\r",
        "  240 / 267\r",
        "  250 / 267\r",
        "  260 / 267\r\n",
        "done.\r\n",
        "\r\n",
        "Progressive alignment 2/2... \r\n",
        "\r",
        "STEP     1 / 266 (thread    0)f\r",
        "STEP     2 / 266 (thread    1)f\r",
        "STEP     3 / 266 (thread    3)f\r",
        "STEP     4 / 266 (thread    2)f"
       ]
      },
      {
       "output_type": "stream",
       "stream": "stdout",
       "text": [
        "\r",
        "STEP     5 / 266 (thread    0)f\r",
        "STEP     6 / 266 (thread    1)f\r",
        "STEP     7 / 266 (thread    3)f\r",
        "STEP     8 / 266 (thread    1)f\r",
        "STEP     9 / 266 (thread    2)f\r",
        "STEP    10 / 266 (thread    0)f\r",
        "STEP    11 / 266 (thread    3)f\r",
        "STEP    12 / 266 (thread    1)f\r",
        "STEP    13 / 266 (thread    3)f\r",
        "STEP    14 / 266 (thread    1)f\r",
        "STEP    15 / 266 (thread    1)f\r",
        "STEP    16 / 266 (thread    3)f\r",
        "STEP    17 / 266 (thread    0)f\r",
        "STEP    18 / 266 (thread    3)f\r",
        "STEP    19 / 266 (thread    2)f\r",
        "STEP    20 / 266 (thread    3)f\r",
        "STEP    21 / 266 (thread    0)f"
       ]
      },
      {
       "output_type": "stream",
       "stream": "stdout",
       "text": [
        "\r",
        "STEP    22 / 266 (thread    3)f\r",
        "STEP    23 / 266 (thread    0)f\r",
        "STEP    25 / 266 (thread    3)f\r",
        "STEP    26 / 266 (thread    2)f\r",
        "STEP    24 / 266 (thread    1)f\r",
        "STEP    27 / 266 (thread    2)f\r",
        "STEP    28 / 266 (thread    3)f\r",
        "STEP    29 / 266 (thread    0)f\r",
        "STEP    30 / 266 (thread    1)f\r",
        "STEP    31 / 266 (thread    2)f\r",
        "STEP    32 / 266 (thread    0)f\r",
        "STEP    33 / 266 (thread    3)f\r",
        "STEP    34 / 266 (thread    2)f"
       ]
      },
      {
       "output_type": "stream",
       "stream": "stdout",
       "text": [
        "\r",
        "STEP    35 / 266 (thread    0)f\r",
        "STEP    36 / 266 (thread    2)f\r",
        "STEP    37 / 266 (thread    0)f\r",
        "STEP    38 / 266 (thread    1)f\r",
        "STEP    39 / 266 (thread    3)f\r",
        "STEP    40 / 266 (thread    0)f\r",
        "STEP    41 / 266 (thread    3)f\r",
        "STEP    42 / 266 (thread    1)f"
       ]
      },
      {
       "output_type": "stream",
       "stream": "stdout",
       "text": [
        "\r",
        "STEP    43 / 266 (thread    0)f\r",
        "STEP    44 / 266 (thread    1)f\r",
        "STEP    45 / 266 (thread    2)f\r",
        "STEP    46 / 266 (thread    3)d\r",
        "STEP    47 / 266 (thread    1)f\r",
        "STEP    48 / 266 (thread    2)d\r",
        "STEP    49 / 266 (thread    1)f"
       ]
      },
      {
       "output_type": "stream",
       "stream": "stdout",
       "text": [
        "\r",
        "STEP    50 / 266 (thread    0)d\r",
        "STEP    51 / 266 (thread    1)f\r",
        "STEP    52 / 266 (thread    3)f\r",
        "STEP    53 / 266 (thread    1)f\r",
        "STEP    54 / 266 (thread    0)d\r",
        "STEP    55 / 266 (thread    3)f"
       ]
      },
      {
       "output_type": "stream",
       "stream": "stdout",
       "text": [
        "\r",
        "STEP    56 / 266 (thread    2)d\r",
        "STEP    57 / 266 (thread    3)f\r",
        "STEP    58 / 266 (thread    1)f\r",
        "STEP    59 / 266 (thread    3)d\r",
        "STEP    60 / 266 (thread    0)f\r",
        "STEP    62 / 266 (thread    2)d\r",
        "STEP    61 / 266 (thread    1)d"
       ]
      },
      {
       "output_type": "stream",
       "stream": "stdout",
       "text": [
        "\r",
        "STEP    63 / 266 (thread    0)d\r",
        "STEP    64 / 266 (thread    3)d\r",
        "STEP    65 / 266 (thread    1)f\r",
        "STEP    66 / 266 (thread    1)f"
       ]
      },
      {
       "output_type": "stream",
       "stream": "stdout",
       "text": [
        "\r",
        "STEP    67 / 266 (thread    2)d\r",
        "STEP    68 / 266 (thread    3)d\r",
        "STEP    69 / 266 (thread    0)d\r",
        "STEP    71 / 266 (thread    2)d\r",
        "STEP    70 / 266 (thread    1)d"
       ]
      },
      {
       "output_type": "stream",
       "stream": "stdout",
       "text": [
        "\r",
        "STEP    72 / 266 (thread    0)d\r",
        "STEP    73 / 266 (thread    3)f\r",
        "STEP    74 / 266 (thread    2)d\r",
        "STEP    75 / 266 (thread    3)f\r",
        "STEP    76 / 266 (thread    1)d\r",
        "STEP    77 / 266 (thread    3)f\r",
        "STEP    78 / 266 (thread    0)f"
       ]
      },
      {
       "output_type": "stream",
       "stream": "stdout",
       "text": [
        "\r",
        "STEP    79 / 266 (thread    3)f\r",
        "STEP    80 / 266 (thread    2)f\r",
        "STEP    81 / 266 (thread    3)f\r",
        "STEP    82 / 266 (thread    1)d\r",
        "STEP    83 / 266 (thread    2)f\r",
        "STEP    84 / 266 (thread    0)d\r",
        "STEP    85 / 266 (thread    3)f"
       ]
      },
      {
       "output_type": "stream",
       "stream": "stdout",
       "text": [
        "\r",
        "STEP    87 / 266 (thread    3)f\r",
        "STEP    88 / 266 (thread    1)d\r",
        "STEP    86 / 266 (thread    2)d\r",
        "STEP    89 / 266 (thread    3)f\r",
        "STEP    90 / 266 (thread    0)f\r",
        "STEP    91 / 266 (thread    3)f"
       ]
      },
      {
       "output_type": "stream",
       "stream": "stdout",
       "text": [
        "\r",
        "STEP    92 / 266 (thread    1)d\r",
        "STEP    93 / 266 (thread    2)f\r",
        "STEP    94 / 266 (thread    3)d\r",
        "STEP    95 / 266 (thread    0)d\r",
        "STEP    96 / 266 (thread    1)d"
       ]
      },
      {
       "output_type": "stream",
       "stream": "stdout",
       "text": [
        "\r",
        "STEP    97 / 266 (thread    2)d\r",
        "STEP    98 / 266 (thread    3)f\r",
        "STEP    99 / 266 (thread    0)f\r",
        "STEP   100 / 266 (thread    0)d\r",
        "STEP   101 / 266 (thread    3)d\r",
        "STEP   102 / 266 (thread    1)d"
       ]
      },
      {
       "output_type": "stream",
       "stream": "stdout",
       "text": [
        "\r",
        "STEP   103 / 266 (thread    0)f\r",
        "STEP   104 / 266 (thread    1)f\r",
        "STEP   105 / 266 (thread    3)d\r",
        "STEP   106 / 266 (thread    2)d\r",
        "STEP   107 / 266 (thread    1)d\r",
        "STEP   108 / 266 (thread    0)f"
       ]
      },
      {
       "output_type": "stream",
       "stream": "stdout",
       "text": [
        "\r",
        "STEP   109 / 266 (thread    3)f\r",
        "STEP   110 / 266 (thread    2)d\r",
        "STEP   111 / 266 (thread    3)f\r",
        "STEP   112 / 266 (thread    0)d"
       ]
      },
      {
       "output_type": "stream",
       "stream": "stdout",
       "text": [
        "\r",
        "STEP   113 / 266 (thread    1)d\r",
        "STEP   114 / 266 (thread    3)f\r",
        "STEP   115 / 266 (thread    2)f\r",
        "STEP   116 / 266 (thread    0)f\r",
        "STEP   117 / 266 (thread    3)f\r",
        "STEP   118 / 266 (thread    2)d"
       ]
      },
      {
       "output_type": "stream",
       "stream": "stdout",
       "text": [
        "\r",
        "STEP   119 / 266 (thread    1)d\r",
        "STEP   120 / 266 (thread    3)d\r",
        "STEP   121 / 266 (thread    0)d\r",
        "STEP   122 / 266 (thread    2)d"
       ]
      },
      {
       "output_type": "stream",
       "stream": "stdout",
       "text": [
        "\r",
        "STEP   123 / 266 (thread    1)f\r",
        "STEP   124 / 266 (thread    3)f\r",
        "STEP   125 / 266 (thread    0)d\r",
        "STEP   126 / 266 (thread    1)f\r",
        "STEP   127 / 266 (thread    2)f\r",
        "STEP   128 / 266 (thread    1)d\r",
        "STEP   129 / 266 (thread    3)d"
       ]
      },
      {
       "output_type": "stream",
       "stream": "stdout",
       "text": [
        "\r",
        "STEP   130 / 266 (thread    2)d\r",
        "STEP   131 / 266 (thread    0)d\r",
        "STEP   132 / 266 (thread    3)f\r",
        "STEP   133 / 266 (thread    3)d\r",
        "STEP   134 / 266 (thread    1)d"
       ]
      },
      {
       "output_type": "stream",
       "stream": "stdout",
       "text": [
        "\r",
        "STEP   135 / 266 (thread    2)d\r",
        "STEP   136 / 266 (thread    0)f\r",
        "STEP   137 / 266 (thread    1)d\r",
        "STEP   138 / 266 (thread    0)f\r",
        "STEP   139 / 266 (thread    2)f\r",
        "STEP   140 / 266 (thread    3)d\r",
        "STEP   141 / 266 (thread    0)d"
       ]
      },
      {
       "output_type": "stream",
       "stream": "stdout",
       "text": [
        "\r",
        "STEP   142 / 266 (thread    2)d\r",
        "STEP   143 / 266 (thread    1)d\r",
        "STEP   144 / 266 (thread    3)d\r",
        "STEP   145 / 266 (thread    0)d\r",
        "STEP   146 / 266 (thread    2)f\r",
        "STEP   147 / 266 (thread    1)d"
       ]
      },
      {
       "output_type": "stream",
       "stream": "stdout",
       "text": [
        "\r",
        "STEP   148 / 266 (thread    2)d\r",
        "STEP   149 / 266 (thread    3)d\r",
        "STEP   150 / 266 (thread    0)d\r",
        "STEP   151 / 266 (thread    1)d"
       ]
      },
      {
       "output_type": "stream",
       "stream": "stdout",
       "text": [
        "\r",
        "STEP   152 / 266 (thread    2)d\r",
        "STEP   153 / 266 (thread    3)d\r",
        "STEP   154 / 266 (thread    2)d"
       ]
      },
      {
       "output_type": "stream",
       "stream": "stdout",
       "text": [
        "\r",
        "STEP   155 / 266 (thread    1)d\r",
        "STEP   156 / 266 (thread    0)d\r",
        "STEP   157 / 266 (thread    3)f\r",
        "STEP   158 / 266 (thread    2)d\r",
        "STEP   159 / 266 (thread    3)d\r",
        "STEP   160 / 266 (thread    1)d"
       ]
      },
      {
       "output_type": "stream",
       "stream": "stdout",
       "text": [
        "\r",
        "STEP   161 / 266 (thread    2)d\r",
        "STEP   162 / 266 (thread    3)f\r",
        "STEP   163 / 266 (thread    0)d\r",
        "STEP   164 / 266 (thread    1)d"
       ]
      },
      {
       "output_type": "stream",
       "stream": "stdout",
       "text": [
        "\r",
        "STEP   165 / 266 (thread    3)d\r",
        "STEP   166 / 266 (thread    0)d\r",
        "STEP   167 / 266 (thread    2)d\r",
        "STEP   168 / 266 (thread    3)d"
       ]
      },
      {
       "output_type": "stream",
       "stream": "stdout",
       "text": [
        "\r",
        "STEP   169 / 266 (thread    0)d\r",
        "STEP   171 / 266 (thread    2)d\r",
        "STEP   170 / 266 (thread    1)d"
       ]
      },
      {
       "output_type": "stream",
       "stream": "stdout",
       "text": [
        "\r",
        "STEP   172 / 266 (thread    1)d\r",
        "STEP   173 / 266 (thread    0)d\r",
        "STEP   175 / 266 (thread    2)f"
       ]
      },
      {
       "output_type": "stream",
       "stream": "stdout",
       "text": [
        "\r",
        "STEP   176 / 266 (thread    2)d\r",
        "STEP   177 / 266 (thread    1)f\r",
        "STEP   174 / 266 (thread    3)d\r",
        "STEP   178 / 266 (thread    1)f"
       ]
      },
      {
       "output_type": "stream",
       "stream": "stdout",
       "text": [
        "\r",
        "STEP   179 / 266 (thread    1)d\r",
        "STEP   180 / 266 (thread    0)f\r\n",
        "Reallocating..done. *alloclen = 5680\r\n",
        "\r",
        "STEP   182 / 266 (thread    3)d\r",
        "STEP   183 / 266 (thread    0)d"
       ]
      },
      {
       "output_type": "stream",
       "stream": "stdout",
       "text": [
        "\r",
        "STEP   184 / 266 (thread    1)d\r",
        "STEP   181 / 266 (thread    2)d\r",
        "STEP   185 / 266 (thread    0)d"
       ]
      },
      {
       "output_type": "stream",
       "stream": "stdout",
       "text": [
        "\r",
        "STEP   186 / 266 (thread    2)d\r",
        "STEP   187 / 266 (thread    0)d\r",
        "STEP   188 / 266 (thread    1)d\r",
        "STEP   189 / 266 (thread    3)f"
       ]
      },
      {
       "output_type": "stream",
       "stream": "stdout",
       "text": [
        "\r",
        "STEP   191 / 266 (thread    2)f"
       ]
      },
      {
       "output_type": "stream",
       "stream": "stdout",
       "text": [
        "\r",
        "STEP   192 / 266 (thread    2)d\r",
        "STEP   190 / 266 (thread    3)d\r",
        "STEP   194 / 266 (thread    1)f"
       ]
      },
      {
       "output_type": "stream",
       "stream": "stdout",
       "text": [
        "\r",
        "STEP   195 / 266 (thread    1)d\r",
        "STEP   193 / 266 (thread    0)d\r",
        "STEP   197 / 266 (thread    3)d"
       ]
      },
      {
       "output_type": "stream",
       "stream": "stdout",
       "text": [
        "\r",
        "STEP   198 / 266 (thread    1)d\r",
        "STEP   199 / 266 (thread    3)d"
       ]
      },
      {
       "output_type": "stream",
       "stream": "stdout",
       "text": [
        "\r",
        "STEP   200 / 266 (thread    0)f\r",
        "STEP   196 / 266 (thread    2)d"
       ]
      },
      {
       "output_type": "stream",
       "stream": "stdout",
       "text": [
        "\r",
        "STEP   202 / 266 (thread    0)d"
       ]
      },
      {
       "output_type": "stream",
       "stream": "stdout",
       "text": [
        "\r",
        "STEP   201 / 266 (thread    1)d\r\n",
        "Reallocating..done. *alloclen = 6703\r\n",
        "\r",
        "STEP   203 / 266 (thread    3)d\r",
        "STEP   205 / 266 (thread    0)f"
       ]
      },
      {
       "output_type": "stream",
       "stream": "stdout",
       "text": [
        "\r",
        "STEP   204 / 266 (thread    2)d\r",
        "STEP   207 / 266 (thread    1)f\r",
        "STEP   208 / 266 (thread    1)f"
       ]
      },
      {
       "output_type": "stream",
       "stream": "stdout",
       "text": [
        "\r",
        "STEP   209 / 266 (thread    1)f\r",
        "STEP   211 / 266 (thread    1)f\r",
        "STEP   206 / 266 (thread    0)\r",
        "STEP   213 / 266 (thread    2)df"
       ]
      },
      {
       "output_type": "stream",
       "stream": "stdout",
       "text": [
        "\r",
        "STEP   214 / 266 (thread    2)d"
       ]
      },
      {
       "output_type": "stream",
       "stream": "stdout",
       "text": [
        "\r",
        "STEP   210 / 266 (thread    3)\r",
        "STEP   215 / 266 (thread    0)dd"
       ]
      },
      {
       "output_type": "stream",
       "stream": "stdout",
       "text": [
        "\r",
        "STEP   217 / 266 (thread    0)d"
       ]
      },
      {
       "output_type": "stream",
       "stream": "stdout",
       "text": [
        "\r",
        "STEP   212 / 266 (thread    1)d\r",
        "STEP   218 / 266 (thread    3)d"
       ]
      },
      {
       "output_type": "stream",
       "stream": "stdout",
       "text": [
        "\r",
        "STEP   219 / 266 (thread    0)d\r",
        "STEP   216 / 266 (thread    2)\r",
        "STEP   221 / 266 (thread    1)dd"
       ]
      },
      {
       "output_type": "stream",
       "stream": "stdout",
       "text": [
        "\r",
        "STEP   220 / 266 (thread    3)d\r",
        "STEP   224 / 266 (thread    2)d"
       ]
      },
      {
       "output_type": "stream",
       "stream": "stdout",
       "text": [
        "\r",
        "STEP   222 / 266 (thread    0)\r",
        "STEP   226 / 266 (thread    3)dd"
       ]
      },
      {
       "output_type": "stream",
       "stream": "stdout",
       "text": [
        "\r",
        "STEP   227 / 266 (thread    3)d"
       ]
      },
      {
       "output_type": "stream",
       "stream": "stdout",
       "text": [
        "\r",
        "STEP   223 / 266 (thread    1)d"
       ]
      },
      {
       "output_type": "stream",
       "stream": "stdout",
       "text": [
        "\r",
        "STEP   225 / 266 (thread    2)\r",
        "STEP   230 / 266 (thread    1)dd"
       ]
      },
      {
       "output_type": "stream",
       "stream": "stdout",
       "text": [
        "\r",
        "STEP   231 / 266 (thread    1)d"
       ]
      },
      {
       "output_type": "stream",
       "stream": "stdout",
       "text": [
        "\r",
        "STEP   228 / 266 (thread    0)d"
       ]
      },
      {
       "output_type": "stream",
       "stream": "stdout",
       "text": [
        "\r",
        "STEP   229 / 266 (thread    3)\r",
        "STEP   234 / 266 (thread    0)dd"
       ]
      },
      {
       "output_type": "stream",
       "stream": "stdout",
       "text": [
        "\r\n",
        "Reallocating..done. *alloclen = 9258\r\n",
        "\r",
        "STEP   232 / 266 (thread    1)d"
       ]
      },
      {
       "output_type": "stream",
       "stream": "stdout",
       "text": [
        "\r",
        "STEP   233 / 266 (thread    2)\r",
        "STEP   237 / 266 (thread    1)dd"
       ]
      },
      {
       "output_type": "stream",
       "stream": "stdout",
       "text": [
        "\r",
        "STEP   235 / 266 (thread    0)d"
       ]
      },
      {
       "output_type": "stream",
       "stream": "stdout",
       "text": [
        "\r",
        "STEP   236 / 266 (thread    3)d"
       ]
      },
      {
       "output_type": "stream",
       "stream": "stdout",
       "text": [
        "\r",
        "STEP   238 / 266 (thread    1)\r",
        "STEP   241 / 266 (thread    3)dd"
       ]
      },
      {
       "output_type": "stream",
       "stream": "stdout",
       "text": [
        "\r",
        "STEP   239 / 266 (thread    2)d"
       ]
      },
      {
       "output_type": "stream",
       "stream": "stdout",
       "text": [
        "\r",
        "STEP   240 / 266 (thread    0)d\r",
        "STEP   244 / 266 (thread    2)d"
       ]
      },
      {
       "output_type": "stream",
       "stream": "stdout",
       "text": [
        "\r",
        "STEP   242 / 266 (thread    3)d\r",
        "STEP   246 / 266 (thread    0)f"
       ]
      },
      {
       "output_type": "stream",
       "stream": "stdout",
       "text": [
        "\r",
        "STEP   243 / 266 (thread    1)d"
       ]
      },
      {
       "output_type": "stream",
       "stream": "stdout",
       "text": [
        "\r",
        "STEP   245 / 266 (thread    2)d"
       ]
      },
      {
       "output_type": "stream",
       "stream": "stdout",
       "text": [
        "\r",
        "STEP   247 / 266 (thread    0)\r",
        "STEP   250 / 266 (thread    2)dd"
       ]
      },
      {
       "output_type": "stream",
       "stream": "stdout",
       "text": [
        "\r",
        "STEP   248 / 266 (thread    3)d"
       ]
      },
      {
       "output_type": "stream",
       "stream": "stdout",
       "text": [
        "\r",
        "STEP   249 / 266 (thread    1)d"
       ]
      },
      {
       "output_type": "stream",
       "stream": "stdout",
       "text": [
        "\r",
        "STEP   251 / 266 (thread    2)d"
       ]
      },
      {
       "output_type": "stream",
       "stream": "stdout",
       "text": [
        "\r",
        "STEP   252 / 266 (thread    0)\r",
        "STEP   255 / 266 (thread    2)dd"
       ]
      },
      {
       "output_type": "stream",
       "stream": "stdout",
       "text": [
        "\r",
        "STEP   256 / 266 (thread    2)d"
       ]
      },
      {
       "output_type": "stream",
       "stream": "stdout",
       "text": [
        "\r",
        "STEP   253 / 266 (thread    3)d"
       ]
      },
      {
       "output_type": "stream",
       "stream": "stdout",
       "text": [
        "\r",
        "STEP   254 / 266 (thread    1)d"
       ]
      },
      {
       "output_type": "stream",
       "stream": "stdout",
       "text": [
        "\r",
        "STEP   257 / 266 (thread    2)d"
       ]
      },
      {
       "output_type": "stream",
       "stream": "stdout",
       "text": [
        "\r",
        "STEP   258 / 266 (thread    0)d"
       ]
      },
      {
       "output_type": "stream",
       "stream": "stdout",
       "text": [
        "\r",
        "STEP   259 / 266 (thread    3)d"
       ]
      },
      {
       "output_type": "stream",
       "stream": "stdout",
       "text": [
        "\r",
        "STEP   260 / 266 (thread    1)d"
       ]
      },
      {
       "output_type": "stream",
       "stream": "stdout",
       "text": [
        "\r",
        "STEP   261 / 266 (thread    2)d"
       ]
      },
      {
       "output_type": "stream",
       "stream": "stdout",
       "text": [
        "\r",
        "STEP   262 / 266 (thread    0)d\r",
        "STEP   265 / 266 (thread    2)d"
       ]
      },
      {
       "output_type": "stream",
       "stream": "stdout",
       "text": [
        "\r",
        "STEP   263 / 266 (thread    3)d"
       ]
      },
      {
       "output_type": "stream",
       "stream": "stdout",
       "text": [
        "\r",
        "STEP   264 / 266 (thread    1)d"
       ]
      },
      {
       "output_type": "stream",
       "stream": "stdout",
       "text": [
        "\r\n",
        "Reallocating..done. *alloclen = 11212\r\n",
        "\r",
        "STEP   266 / 266 (thread    2)d"
       ]
      },
      {
       "output_type": "stream",
       "stream": "stdout",
       "text": [
        "\r\n",
        "done.\r\n",
        "\r\n",
        "disttbfast (nuc) Version 7.187 alg=A, model=DNA200 (2), 1.53 (4.59), -0.00 (-0.00), noshift, amax=0.0\r\n",
        "4 thread(s)\r\n",
        "\r\n",
        "\r\n",
        "Strategy:\r\n",
        " FFT-NS-2 (Fast but rough)\r\n",
        " Progressive method (guide trees were built 2 times.)\r\n",
        "\r\n",
        "If unsure which option to use, try 'mafft --auto input > output'.\r\n",
        "For more information, see 'mafft --help', 'mafft --man' and the mafft page.\r\n",
        "\r\n",
        "The default gap scoring scheme has been changed in version 7.110 (2013 Oct).\r\n",
        "It tends to insert more gaps into gap-rich regions than previous versions.\r\n",
        "To disable this change, add the --legacygappenalty option.\r\n",
        "\r\n"
       ]
      },
      {
       "output_type": "stream",
       "stream": "stdout",
       "text": [
        "\r\n"
       ]
      },
      {
       "output_type": "stream",
       "stream": "stdout",
       "text": [
        "nseq =  267\r\n",
        "distance =  ktuples\r\n",
        "iterate =  0\r\n",
        "cycle =  2\r\n",
        "nguidetree = 2\r\n",
        "nthread = 4\r\n",
        "sueff_global = 0.100000\r\n"
       ]
      },
      {
       "output_type": "stream",
       "stream": "stdout",
       "text": [
        "generating a scoring matrix for nucleotide (dist=200) ... done\r\n",
        "done\r\n",
        "done\r\n",
        "scoremtx = -1\r\n",
        "Gap Penalty = -1.53, +0.00, +0.00\r\n",
        "\r\n",
        "tuplesize = 6, dorp = d\r\n",
        "\r\n",
        "\r\n",
        "Making a distance matrix ..\r\n",
        "\r\n",
        "There are 871 ambiguous characters.\r\n",
        "\r",
        "    1 / 267 (thread    3)\r",
        "   11 / 267 (thread    0)\r",
        "   21 / 267 (thread    2)\r",
        "   31 / 267 (thread    3)\r",
        "   41 / 267 (thread    3)\r",
        "   51 / 267 (thread    0)\r",
        "   61 / 267 (thread    2)\r",
        "   71 / 267 (thread    1)\r",
        "   81 / 267 (thread    2)\r",
        "   91 / 267 (thread    1)\r",
        "  101 / 267 (thread    2)\r",
        "  111 / 267 (thread    1)\r",
        "  121 / 267 (thread    2)\r",
        "  131 / 267 (thread    2)\r",
        "  141 / 267 (thread    2)\r",
        "  151 / 267 (thread    2)\r",
        "  161 / 267 (thread    1)\r",
        "  171 / 267 (thread    1)\r",
        "  181 / 267 (thread    3)"
       ]
      },
      {
       "output_type": "stream",
       "stream": "stdout",
       "text": [
        "\r",
        "  191 / 267 (thread    3)\r",
        "  201 / 267 (thread    1)\r",
        "  211 / 267 (thread    3)\r",
        "  221 / 267 (thread    1)\r",
        "  231 / 267 (thread    2)\r",
        "  241 / 267 (thread    0)\r",
        "  251 / 267 (thread    3)\r",
        "  261 / 267 (thread    2)\r\n",
        "done.\r\n",
        "\r\n",
        "Constructing a UPGMA tree ... \r\n",
        "\r",
        "    0 / 267\r",
        "   10 / 267\r",
        "   20 / 267\r",
        "   30 / 267\r",
        "   40 / 267\r",
        "   50 / 267\r",
        "   60 / 267\r",
        "   70 / 267\r",
        "   80 / 267\r",
        "   90 / 267\r",
        "  100 / 267\r",
        "  110 / 267\r",
        "  120 / 267\r",
        "  130 / 267\r",
        "  140 / 267\r",
        "  150 / 267\r",
        "  160 / 267\r",
        "  170 / 267\r",
        "  180 / 267\r",
        "  190 / 267\r",
        "  200 / 267\r",
        "  210 / 267\r",
        "  220 / 267\r",
        "  230 / 267\r",
        "  240 / 267\r",
        "  250 / 267\r",
        "  260 / 267\r\n",
        "done.\r\n",
        "\r\n",
        "Progressive alignment 1/2... \r\n",
        "\r",
        "STEP     1 / 266 (thread    0)\r",
        "STEP     2 / 266 (thread    2)f\r",
        "STEP     3 / 266 (thread    1)f\r",
        "STEP     4 / 266 (thread    3)ff\r",
        "STEP     5 / 266 (thread    0)f\r",
        "STEP     6 / 266 (thread    1)f\r",
        "STEP     7 / 266 (thread    2)f\r",
        "STEP     8 / 266 (thread    1)f\r",
        "STEP    10 / 266 (thread    2)f\r",
        "STEP    11 / 266 (thread    0)f\r",
        "STEP     9 / 266 (thread    1)f\r",
        "STEP    12 / 266 (thread    2)f\r",
        "STEP    13 / 266 (thread    3)f\r",
        "STEP    14 / 266 (thread    3)f\r",
        "STEP    15 / 266 (thread    0)f"
       ]
      },
      {
       "output_type": "stream",
       "stream": "stdout",
       "text": [
        "\r",
        "STEP    16 / 266 (thread    3)f\r",
        "STEP    17 / 266 (thread    2)f\r",
        "STEP    18 / 266 (thread    0)f\r",
        "STEP    19 / 266 (thread    1)f\r",
        "STEP    20 / 266 (thread    1)f\r",
        "STEP    21 / 266 (thread    0)f\r",
        "STEP    22 / 266 (thread    1)f\r",
        "STEP    23 / 266 (thread    0)f\r",
        "STEP    24 / 266 (thread    2)f\r",
        "STEP    25 / 266 (thread    3)f\r",
        "STEP    26 / 266 (thread    2)f\r",
        "STEP    27 / 266 (thread    3)f"
       ]
      },
      {
       "output_type": "stream",
       "stream": "stdout",
       "text": [
        "\r",
        "STEP    29 / 266 (thread    2)f\r",
        "STEP    30 / 266 (thread    2)f\r",
        "STEP    31 / 266 (thread    3)f\r",
        "STEP    32 / 266 (thread    2)f\r",
        "STEP    33 / 266 (thread    0)f\r",
        "STEP    28 / 266 (thread    1)d\r",
        "STEP    34 / 266 (thread    3)f"
       ]
      },
      {
       "output_type": "stream",
       "stream": "stdout",
       "text": [
        "\r",
        "STEP    35 / 266 (thread    2)f\r",
        "STEP    36 / 266 (thread    3)f\r",
        "STEP    38 / 266 (thread    0)f\r",
        "STEP    39 / 266 (thread    3)f\r",
        "STEP    37 / 266 (thread    2)f\r",
        "STEP    40 / 266 (thread    3)f"
       ]
      },
      {
       "output_type": "stream",
       "stream": "stdout",
       "text": [
        "\r",
        "STEP    41 / 266 (thread    1)f\r",
        "STEP    42 / 266 (thread    0)f\r",
        "STEP    43 / 266 (thread    2)d\r",
        "STEP    44 / 266 (thread    1)f"
       ]
      },
      {
       "output_type": "stream",
       "stream": "stdout",
       "text": [
        "\r",
        "STEP    45 / 266 (thread    3)f\r",
        "STEP    46 / 266 (thread    1)d\r",
        "STEP    47 / 266 (thread    0)f\r",
        "STEP    48 / 266 (thread    2)f\r",
        "STEP    49 / 266 (thread    3)f\r",
        "STEP    50 / 266 (thread    1)f\r",
        "STEP    51 / 266 (thread    2)d\r",
        "STEP    52 / 266 (thread    0)f"
       ]
      },
      {
       "output_type": "stream",
       "stream": "stdout",
       "text": [
        "\r",
        "STEP    53 / 266 (thread    1)d\r",
        "STEP    54 / 266 (thread    3)d\r",
        "STEP    55 / 266 (thread    0)d\r",
        "STEP    56 / 266 (thread    2)f"
       ]
      },
      {
       "output_type": "stream",
       "stream": "stdout",
       "text": [
        "\r",
        "STEP    58 / 266 (thread    3)d\r",
        "STEP    59 / 266 (thread    1)d\r",
        "STEP    57 / 266 (thread    2)d\r",
        "STEP    60 / 266 (thread    3)d\r",
        "STEP    61 / 266 (thread    0)f"
       ]
      },
      {
       "output_type": "stream",
       "stream": "stdout",
       "text": [
        "\r",
        "STEP    62 / 266 (thread    1)f\r",
        "STEP    63 / 266 (thread    2)f\r",
        "STEP    64 / 266 (thread    0)f\r",
        "STEP    66 / 266 (thread    3)f\r",
        "STEP    65 / 266 (thread    2)d\r",
        "STEP    67 / 266 (thread    0)d\r",
        "STEP    68 / 266 (thread    3)d"
       ]
      },
      {
       "output_type": "stream",
       "stream": "stdout",
       "text": [
        "\r",
        "STEP    69 / 266 (thread    1)f\r",
        "STEP    70 / 266 (thread    0)d\r",
        "STEP    71 / 266 (thread    1)f\r",
        "STEP    72 / 266 (thread    2)d\r",
        "STEP    73 / 266 (thread    3)f\r",
        "STEP    74 / 266 (thread    1)f"
       ]
      },
      {
       "output_type": "stream",
       "stream": "stdout",
       "text": [
        "\r",
        "STEP    75 / 266 (thread    0)f\r",
        "STEP    76 / 266 (thread    3)f\r",
        "STEP    77 / 266 (thread    1)f\r",
        "STEP    79 / 266 (thread    2)f\r",
        "STEP    78 / 266 (thread    0)d\r",
        "STEP    80 / 266 (thread    1)d\r",
        "STEP    81 / 266 (thread    2)f\r",
        "STEP    82 / 266 (thread    3)f"
       ]
      },
      {
       "output_type": "stream",
       "stream": "stdout",
       "text": [
        "\r",
        "STEP    83 / 266 (thread    2)f\r",
        "STEP    85 / 266 (thread    1)d\r",
        "STEP    86 / 266 (thread    3)f\r",
        "STEP    87 / 266 (thread    2)d\r",
        "STEP    84 / 266 (thread    0)d\r",
        "STEP    88 / 266 (thread    3)d"
       ]
      },
      {
       "output_type": "stream",
       "stream": "stdout",
       "text": [
        "\r",
        "STEP    89 / 266 (thread    1)f\r",
        "STEP    90 / 266 (thread    2)f\r",
        "STEP    91 / 266 (thread    1)d\r",
        "STEP    92 / 266 (thread    0)f\r",
        "STEP    93 / 266 (thread    3)d"
       ]
      },
      {
       "output_type": "stream",
       "stream": "stdout",
       "text": [
        "\r",
        "STEP    94 / 266 (thread    2)d\r",
        "STEP    95 / 266 (thread    0)f\r",
        "STEP    96 / 266 (thread    0)d\r",
        "STEP    97 / 266 (thread    2)d\r",
        "STEP    98 / 266 (thread    3)f\r",
        "STEP    99 / 266 (thread    1)d"
       ]
      },
      {
       "output_type": "stream",
       "stream": "stdout",
       "text": [
        "\r",
        "STEP   100 / 266 (thread    3)f\r",
        "STEP   101 / 266 (thread    2)f\r",
        "STEP   103 / 266 (thread    3)f\r",
        "STEP   104 / 266 (thread    1)d\r",
        "STEP   102 / 266 (thread    0)d"
       ]
      },
      {
       "output_type": "stream",
       "stream": "stdout",
       "text": [
        "\r",
        "STEP   105 / 266 (thread    3)d\r",
        "STEP   106 / 266 (thread    2)d\r",
        "STEP   107 / 266 (thread    1)d"
       ]
      },
      {
       "output_type": "stream",
       "stream": "stdout",
       "text": [
        "\r",
        "STEP   108 / 266 (thread    2)f\r",
        "STEP   109 / 266 (thread    0)f\r",
        "STEP   110 / 266 (thread    3)f\r",
        "STEP   111 / 266 (thread    2)f\r",
        "STEP   112 / 266 (thread    1)d\r",
        "STEP   113 / 266 (thread    3)d\r",
        "STEP   114 / 266 (thread    2)f"
       ]
      },
      {
       "output_type": "stream",
       "stream": "stdout",
       "text": [
        "\r",
        "STEP   116 / 266 (thread    2)d\r",
        "STEP   117 / 266 (thread    1)f\r",
        "STEP   119 / 266 (thread    3)d\r",
        "STEP   115 / 266 (thread    0)d\r",
        "STEP   120 / 266 (thread    2)d"
       ]
      },
      {
       "output_type": "stream",
       "stream": "stdout",
       "text": [
        "\r",
        "STEP   121 / 266 (thread    3)d"
       ]
      },
      {
       "output_type": "stream",
       "stream": "stdout",
       "text": [
        "\r",
        "STEP   118 / 266 (thread    1)d\r",
        "STEP   123 / 266 (thread    0)d\r",
        "STEP   124 / 266 (thread    3)d"
       ]
      },
      {
       "output_type": "stream",
       "stream": "stdout",
       "text": [
        "\r",
        "STEP   125 / 266 (thread    0)d"
       ]
      },
      {
       "output_type": "stream",
       "stream": "stdout",
       "text": [
        "\r",
        "STEP   127 / 266 (thread    0)f\r\n",
        "Reallocating..done. *alloclen = 5644\r\n",
        "\r",
        "STEP   122 / 266 (thread    2)d\r",
        "STEP   128 / 266 (thread    1)d\r",
        "STEP   129 / 266 (thread    0)d"
       ]
      },
      {
       "output_type": "stream",
       "stream": "stdout",
       "text": [
        "\r",
        "STEP   130 / 266 (thread    1)d"
       ]
      },
      {
       "output_type": "stream",
       "stream": "stdout",
       "text": [
        "\r",
        "STEP   132 / 266 (thread    2)d\r",
        "STEP   126 / 266 (thread    3)d\r",
        "STEP   133 / 266 (thread    1)d"
       ]
      },
      {
       "output_type": "stream",
       "stream": "stdout",
       "text": [
        "\r",
        "STEP   135 / 266 (thread    1)d"
       ]
      },
      {
       "output_type": "stream",
       "stream": "stdout",
       "text": [
        "\r",
        "STEP   136 / 266 (thread    1)d\r",
        "STEP   131 / 266 (thread    0)d\r",
        "STEP   137 / 266 (thread    3)d"
       ]
      },
      {
       "output_type": "stream",
       "stream": "stdout",
       "text": [
        "\r",
        "STEP   138 / 266 (thread    3)d\r",
        "STEP   139 / 266 (thread    1)d\r",
        "STEP   140 / 266 (thread    3)f"
       ]
      },
      {
       "output_type": "stream",
       "stream": "stdout",
       "text": [
        "\r",
        "STEP   141 / 266 (thread    1)d\r",
        "STEP   142 / 266 (thread    3)f\r",
        "STEP   134 / 266 (thread    2)d\r",
        "STEP   144 / 266 (thread    3)d"
       ]
      },
      {
       "output_type": "stream",
       "stream": "stdout",
       "text": [
        "\r",
        "STEP   145 / 266 (thread    1)d\r",
        "STEP   146 / 266 (thread    3)d"
       ]
      },
      {
       "output_type": "stream",
       "stream": "stdout",
       "text": [
        "\r",
        "STEP   143 / 266 (thread    0)d\r",
        "STEP   148 / 266 (thread    2)f\r",
        "STEP   149 / 266 (thread    3)d"
       ]
      },
      {
       "output_type": "stream",
       "stream": "stdout",
       "text": [
        "\r",
        "STEP   147 / 266 (thread    1)\r",
        "STEP   151 / 266 (thread    0)dd"
       ]
      },
      {
       "output_type": "stream",
       "stream": "stdout",
       "text": [
        "\r",
        "STEP   152 / 266 (thread    0)f\r",
        "STEP   154 / 266 (thread    0)d"
       ]
      },
      {
       "output_type": "stream",
       "stream": "stdout",
       "text": [
        "\r",
        "STEP   150 / 266 (thread    2)\r",
        "STEP   155 / 266 (thread    1)df"
       ]
      },
      {
       "output_type": "stream",
       "stream": "stdout",
       "text": [
        "\r",
        "STEP   156 / 266 (thread    1)d\r",
        "STEP   158 / 266 (thread    1)d"
       ]
      },
      {
       "output_type": "stream",
       "stream": "stdout",
       "text": [
        "\r",
        "STEP   159 / 266 (thread    1)d\r",
        "STEP   153 / 266 (thread    3)d\r",
        "STEP   160 / 266 (thread    2)d"
       ]
      },
      {
       "output_type": "stream",
       "stream": "stdout",
       "text": [
        "\r",
        "STEP   161 / 266 (thread    1)d\r",
        "STEP   162 / 266 (thread    2)f"
       ]
      },
      {
       "output_type": "stream",
       "stream": "stdout",
       "text": [
        "\r",
        "STEP   164 / 266 (thread    2)d\r",
        "STEP   157 / 266 (thread    0)d\r",
        "STEP   165 / 266 (thread    3)d\r",
        "STEP   166 / 266 (thread    2)f"
       ]
      },
      {
       "output_type": "stream",
       "stream": "stdout",
       "text": [
        "\r",
        "STEP   167 / 266 (thread    2)f"
       ]
      },
      {
       "output_type": "stream",
       "stream": "stdout",
       "text": [
        "\r",
        "STEP   169 / 266 (thread    3)d\r",
        "STEP   163 / 266 (thread    1)\r",
        "STEP   170 / 266 (thread    0)dd"
       ]
      },
      {
       "output_type": "stream",
       "stream": "stdout",
       "text": [
        "\r",
        "STEP   168 / 266 (thread    2)\r",
        "STEP   172 / 266 (thread    1)dd"
       ]
      },
      {
       "output_type": "stream",
       "stream": "stdout",
       "text": [
        "\r",
        "STEP   173 / 266 (thread    3)f\r",
        "STEP   174 / 266 (thread    3)d\r",
        "STEP   175 / 266 (thread    1)d"
       ]
      },
      {
       "output_type": "stream",
       "stream": "stdout",
       "text": [
        "\r",
        "STEP   176 / 266 (thread    3)d\r",
        "STEP   171 / 266 (thread    0)\r",
        "STEP   177 / 266 (thread    2)dd"
       ]
      },
      {
       "output_type": "stream",
       "stream": "stdout",
       "text": [
        "\r",
        "STEP   178 / 266 (thread    3)f\r",
        "STEP   179 / 266 (thread    1)d\r",
        "STEP   180 / 266 (thread    3)d"
       ]
      },
      {
       "output_type": "stream",
       "stream": "stdout",
       "text": [
        "\r",
        "STEP   182 / 266 (thread    3)d\r",
        "STEP   181 / 266 (thread    2)d\r",
        "STEP   184 / 266 (thread    0)d"
       ]
      },
      {
       "output_type": "stream",
       "stream": "stdout",
       "text": [
        "\r",
        "STEP   185 / 266 (thread    3)f"
       ]
      },
      {
       "output_type": "stream",
       "stream": "stdout",
       "text": [
        "\r",
        "STEP   186 / 266 (thread    3)f\r",
        "STEP   183 / 266 (thread    1)d\r",
        "STEP   188 / 266 (thread    3)d"
       ]
      },
      {
       "output_type": "stream",
       "stream": "stdout",
       "text": [
        "\r",
        "STEP   190 / 266 (thread    3)f"
       ]
      },
      {
       "output_type": "stream",
       "stream": "stdout",
       "text": [
        "\r\n",
        "Reallocating..done. *alloclen = 6953\r\n",
        "\r",
        "STEP   187 / 266 (thread    2)d\r",
        "STEP   191 / 266 (thread    1)d"
       ]
      },
      {
       "output_type": "stream",
       "stream": "stdout",
       "text": [
        "\r",
        "STEP   189 / 266 (thread    0)\r",
        "STEP   194 / 266 (thread    2)dd"
       ]
      },
      {
       "output_type": "stream",
       "stream": "stdout",
       "text": [
        "\r",
        "STEP   195 / 266 (thread    2)d"
       ]
      },
      {
       "output_type": "stream",
       "stream": "stdout",
       "text": [
        "\r",
        "STEP   196 / 266 (thread    2)d\r",
        "STEP   192 / 266 (thread    3)d\r",
        "STEP   197 / 266 (thread    0)d"
       ]
      },
      {
       "output_type": "stream",
       "stream": "stdout",
       "text": [
        "\r",
        "STEP   193 / 266 (thread    1)\r",
        "STEP   199 / 266 (thread    3)dd\r",
        "STEP   200 / 266 (thread    0)d"
       ]
      },
      {
       "output_type": "stream",
       "stream": "stdout",
       "text": [
        "\r",
        "STEP   201 / 266 (thread    0)f\r",
        "STEP   202 / 266 (thread    3)d\r",
        "STEP   203 / 266 (thread    0)d"
       ]
      },
      {
       "output_type": "stream",
       "stream": "stdout",
       "text": [
        "\r",
        "STEP   205 / 266 (thread    1)\r",
        "STEP   198 / 266 (thread    2)fd\r",
        "STEP   206 / 266 (thread    0)f"
       ]
      },
      {
       "output_type": "stream",
       "stream": "stdout",
       "text": [
        "\r",
        "STEP   207 / 266 (thread    0)f\r",
        "STEP   208 / 266 (thread    1)d"
       ]
      },
      {
       "output_type": "stream",
       "stream": "stdout",
       "text": [
        "\r",
        "STEP   210 / 266 (thread    1)d\r",
        "STEP   211 / 266 (thread    2)\r",
        "STEP   204 / 266 (thread    3)fd"
       ]
      },
      {
       "output_type": "stream",
       "stream": "stdout",
       "text": [
        "\r",
        "STEP   212 / 266 (thread    1)d"
       ]
      },
      {
       "output_type": "stream",
       "stream": "stdout",
       "text": [
        "\r",
        "STEP   214 / 266 (thread    1)d\r",
        "STEP   209 / 266 (thread    0)\r",
        "STEP   215 / 266 (thread    3)df"
       ]
      },
      {
       "output_type": "stream",
       "stream": "stdout",
       "text": [
        "\r",
        "STEP   216 / 266 (thread    3)d\r",
        "STEP   217 / 266 (thread    1)d"
       ]
      },
      {
       "output_type": "stream",
       "stream": "stdout",
       "text": [
        "\r",
        "STEP   218 / 266 (thread    1)f\r",
        "STEP   213 / 266 (thread    2)d"
       ]
      },
      {
       "output_type": "stream",
       "stream": "stdout",
       "text": [
        "\r",
        "STEP   221 / 266 (thread    3)d"
       ]
      },
      {
       "output_type": "stream",
       "stream": "stdout",
       "text": [
        "\r",
        "STEP   222 / 266 (thread    3)d\r",
        "STEP   219 / 266 (thread    1)d"
       ]
      },
      {
       "output_type": "stream",
       "stream": "stdout",
       "text": [
        "\r",
        "STEP   224 / 266 (thread    3)d"
       ]
      },
      {
       "output_type": "stream",
       "stream": "stdout",
       "text": [
        "\r",
        "STEP   226 / 266 (thread    1)\r",
        "STEP   220 / 266 (thread    0)fd"
       ]
      },
      {
       "output_type": "stream",
       "stream": "stdout",
       "text": [
        "\r",
        "STEP   227 / 266 (thread    1)d"
       ]
      },
      {
       "output_type": "stream",
       "stream": "stdout",
       "text": [
        "\r",
        "STEP   228 / 266 (thread    1)d\r\n",
        "Reallocating..done. *alloclen = 9470\r\n",
        "\r",
        "STEP   223 / 266 (thread    2)d"
       ]
      },
      {
       "output_type": "stream",
       "stream": "stdout",
       "text": [
        "\r",
        "STEP   230 / 266 (thread    1)d"
       ]
      },
      {
       "output_type": "stream",
       "stream": "stdout",
       "text": [
        "\r",
        "STEP   231 / 266 (thread    1)d"
       ]
      },
      {
       "output_type": "stream",
       "stream": "stdout",
       "text": [
        "\r",
        "STEP   225 / 266 (thread    3)d\r",
        "STEP   233 / 266 (thread    2)d"
       ]
      },
      {
       "output_type": "stream",
       "stream": "stdout",
       "text": [
        "\r",
        "STEP   229 / 266 (thread    0)\r",
        "STEP   235 / 266 (thread    3)df"
       ]
      },
      {
       "output_type": "stream",
       "stream": "stdout",
       "text": [
        "\r",
        "STEP   232 / 266 (thread    1)d"
       ]
      },
      {
       "output_type": "stream",
       "stream": "stdout",
       "text": [
        "\r",
        "STEP   234 / 266 (thread    2)d\r",
        "STEP   238 / 266 (thread    1)d"
       ]
      },
      {
       "output_type": "stream",
       "stream": "stdout",
       "text": [
        "\r",
        "STEP   239 / 266 (thread    1)d"
       ]
      },
      {
       "output_type": "stream",
       "stream": "stdout",
       "text": [
        "\r",
        "STEP   236 / 266 (thread    3)d\r",
        "STEP   241 / 266 (thread    2)d"
       ]
      },
      {
       "output_type": "stream",
       "stream": "stdout",
       "text": [
        "\r",
        "STEP   237 / 266 (thread    0)d"
       ]
      },
      {
       "output_type": "stream",
       "stream": "stdout",
       "text": [
        "\r",
        "STEP   240 / 266 (thread    1)d"
       ]
      },
      {
       "output_type": "stream",
       "stream": "stdout",
       "text": [
        "\r",
        "STEP   242 / 266 (thread    2)\r",
        "STEP   245 / 266 (thread    1)df"
       ]
      },
      {
       "output_type": "stream",
       "stream": "stdout",
       "text": [
        "\r",
        "STEP   247 / 266 (thread    2)f\r",
        "STEP   243 / 266 (thread    3)d"
       ]
      },
      {
       "output_type": "stream",
       "stream": "stdout",
       "text": [
        "\r",
        "STEP   248 / 266 (thread    2)f"
       ]
      },
      {
       "output_type": "stream",
       "stream": "stdout",
       "text": [
        "\r",
        "STEP   250 / 266 (thread    3)f\r",
        "STEP   244 / 266 (thread    0)d"
       ]
      },
      {
       "output_type": "stream",
       "stream": "stdout",
       "text": [
        "\r",
        "STEP   251 / 266 (thread    3)d"
       ]
      },
      {
       "output_type": "stream",
       "stream": "stdout",
       "text": [
        "\r",
        "STEP   246 / 266 (thread    1)d"
       ]
      },
      {
       "output_type": "stream",
       "stream": "stdout",
       "text": [
        "\r",
        "STEP   249 / 266 (thread    2)d"
       ]
      },
      {
       "output_type": "stream",
       "stream": "stdout",
       "text": [
        "\r",
        "STEP   255 / 266 (thread    2)\r",
        "STEP   252 / 266 (thread    3)fd"
       ]
      },
      {
       "output_type": "stream",
       "stream": "stdout",
       "text": [
        "\r",
        "STEP   253 / 266 (thread    0)d"
       ]
      },
      {
       "output_type": "stream",
       "stream": "stdout",
       "text": [
        "\r",
        "STEP   254 / 266 (thread    1)d"
       ]
      },
      {
       "output_type": "stream",
       "stream": "stdout",
       "text": [
        "\r",
        "STEP   256 / 266 (thread    2)d"
       ]
      },
      {
       "output_type": "stream",
       "stream": "stdout",
       "text": [
        "\r",
        "STEP   257 / 266 (thread    3)d"
       ]
      },
      {
       "output_type": "stream",
       "stream": "stdout",
       "text": [
        "\r",
        "STEP   258 / 266 (thread    0)d"
       ]
      },
      {
       "output_type": "stream",
       "stream": "stdout",
       "text": [
        "\r",
        "STEP   262 / 266 (thread    0)\r",
        "STEP   259 / 266 (thread    1)dd"
       ]
      },
      {
       "output_type": "stream",
       "stream": "stdout",
       "text": [
        "\r",
        "STEP   260 / 266 (thread    2)d"
       ]
      },
      {
       "output_type": "stream",
       "stream": "stdout",
       "text": [
        "\r",
        "STEP   261 / 266 (thread    3)d"
       ]
      },
      {
       "output_type": "stream",
       "stream": "stdout",
       "text": [
        "\r\n",
        "Reallocating..done. *alloclen = 10797\r\n",
        "\r",
        "STEP   263 / 266 (thread    0)d"
       ]
      },
      {
       "output_type": "stream",
       "stream": "stdout",
       "text": [
        "\r",
        "STEP   264 / 266 (thread    1)d"
       ]
      },
      {
       "output_type": "stream",
       "stream": "stdout",
       "text": [
        "\r",
        "STEP   265 / 266 (thread    2)d"
       ]
      },
      {
       "output_type": "stream",
       "stream": "stdout",
       "text": [
        "\r",
        "STEP   266 / 266 (thread    3)d"
       ]
      },
      {
       "output_type": "stream",
       "stream": "stdout",
       "text": [
        "\r\n",
        "done.\r\n",
        "\r\n",
        "Making a distance matrix from msa.. \r\n",
        "\r",
        "    0 / 267 (thread    0)\r",
        "   10 / 267 (thread    3)\r",
        "   20 / 267 (thread    1)\r",
        "   30 / 267 (thread    0)"
       ]
      },
      {
       "output_type": "stream",
       "stream": "stdout",
       "text": [
        "\r",
        "   40 / 267 (thread    1)\r",
        "   50 / 267 (thread    1)\r",
        "   60 / 267 (thread    2)\r",
        "   70 / 267 (thread    2)\r",
        "   80 / 267 (thread    1)\r",
        "   90 / 267 (thread    2)\r",
        "  100 / 267 (thread    0)\r",
        "  110 / 267 (thread    1)\r",
        "  120 / 267 (thread    1)"
       ]
      },
      {
       "output_type": "stream",
       "stream": "stdout",
       "text": [
        "\r",
        "  130 / 267 (thread    2)\r",
        "  140 / 267 (thread    2)\r",
        "  150 / 267 (thread    3)\r",
        "  160 / 267 (thread    2)\r",
        "  170 / 267 (thread    1)\r",
        "  180 / 267 (thread    2)\r",
        "  190 / 267 (thread    3)\r",
        "  200 / 267 (thread    3)\r",
        "  210 / 267 (thread    3)\r",
        "  220 / 267 (thread    1)\r",
        "  230 / 267 (thread    0)\r",
        "  240 / 267 (thread    1)\r",
        "  250 / 267 (thread    1)\r",
        "  260 / 267 (thread    0)\r\n",
        "done.\r\n",
        "\r\n",
        "Constructing a UPGMA tree ... \r\n",
        "\r",
        "    0 / 267\r",
        "   10 / 267\r",
        "   20 / 267\r",
        "   30 / 267\r",
        "   40 / 267\r",
        "   50 / 267\r",
        "   60 / 267\r",
        "   70 / 267\r",
        "   80 / 267\r",
        "   90 / 267\r",
        "  100 / 267\r",
        "  110 / 267\r",
        "  120 / 267\r",
        "  130 / 267\r",
        "  140 / 267\r",
        "  150 / 267\r",
        "  160 / 267\r",
        "  170 / 267\r",
        "  180 / 267\r",
        "  190 / 267\r",
        "  200 / 267\r",
        "  210 / 267\r",
        "  220 / 267\r",
        "  230 / 267\r",
        "  240 / 267\r",
        "  250 / 267\r",
        "  260 / 267\r\n",
        "done.\r\n",
        "\r\n",
        "Progressive alignment 2/2... \r\n",
        "\r",
        "STEP     1 / 266 (thread    0)f\r",
        "STEP     2 / 266 (thread    1)f\r",
        "STEP     3 / 266 (thread    2)\r",
        "STEP     4 / 266 (thread    3)ff"
       ]
      },
      {
       "output_type": "stream",
       "stream": "stdout",
       "text": [
        "\r",
        "STEP     5 / 266 (thread    0)f\r",
        "STEP     6 / 266 (thread    2)f\r",
        "STEP     7 / 266 (thread    1)f\r",
        "STEP     8 / 266 (thread    3)f\r",
        "STEP     9 / 266 (thread    0)f\r",
        "STEP    10 / 266 (thread    2)f\r",
        "STEP    11 / 266 (thread    3)f\r",
        "STEP    12 / 266 (thread    1)f\r",
        "STEP    13 / 266 (thread    3)f\r",
        "STEP    14 / 266 (thread    1)f\r",
        "STEP    15 / 266 (thread    3)f\r",
        "STEP    16 / 266 (thread    1)f\r",
        "STEP    17 / 266 (thread    2)f\r",
        "STEP    18 / 266 (thread    1)f\r",
        "STEP    19 / 266 (thread    0)f"
       ]
      },
      {
       "output_type": "stream",
       "stream": "stdout",
       "text": [
        "\r",
        "STEP    20 / 266 (thread    1)f\r",
        "STEP    21 / 266 (thread    1)f\r",
        "STEP    22 / 266 (thread    1)f\r",
        "STEP    23 / 266 (thread    2)f\r",
        "STEP    25 / 266 (thread    0)f\r",
        "STEP    24 / 266 (thread    1)f\r",
        "STEP    26 / 266 (thread    3)f\r",
        "STEP    27 / 266 (thread    3)f\r",
        "STEP    28 / 266 (thread    3)f\r",
        "STEP    29 / 266 (thread    0)f\r",
        "STEP    30 / 266 (thread    1)f\r",
        "STEP    31 / 266 (thread    2)f\r",
        "STEP    32 / 266 (thread    0)f"
       ]
      },
      {
       "output_type": "stream",
       "stream": "stdout",
       "text": [
        "\r",
        "STEP    33 / 266 (thread    3)f\r",
        "STEP    34 / 266 (thread    2)f\r",
        "STEP    35 / 266 (thread    0)f\r",
        "STEP    36 / 266 (thread    1)f\r",
        "STEP    37 / 266 (thread    0)f\r",
        "STEP    38 / 266 (thread    2)f\r",
        "STEP    39 / 266 (thread    3)f\r",
        "STEP    40 / 266 (thread    2)f\r",
        "STEP    41 / 266 (thread    0)f"
       ]
      },
      {
       "output_type": "stream",
       "stream": "stdout",
       "text": [
        "\r",
        "STEP    42 / 266 (thread    3)f\r",
        "STEP    43 / 266 (thread    2)f\r",
        "STEP    44 / 266 (thread    3)f\r",
        "STEP    45 / 266 (thread    3)f"
       ]
      },
      {
       "output_type": "stream",
       "stream": "stdout",
       "text": [
        "\r",
        "STEP    46 / 266 (thread    1)d\r",
        "STEP    47 / 266 (thread    0)f\r",
        "STEP    48 / 266 (thread    0)d\r",
        "STEP    49 / 266 (thread    2)f\r",
        "STEP    50 / 266 (thread    3)d"
       ]
      },
      {
       "output_type": "stream",
       "stream": "stdout",
       "text": [
        "\r",
        "STEP    51 / 266 (thread    1)f\r",
        "STEP    52 / 266 (thread    2)f\r",
        "STEP    53 / 266 (thread    3)f\r",
        "STEP    54 / 266 (thread    1)d"
       ]
      },
      {
       "output_type": "stream",
       "stream": "stdout",
       "text": [
        "\r",
        "STEP    55 / 266 (thread    2)f\r",
        "STEP    56 / 266 (thread    0)d\r",
        "STEP    57 / 266 (thread    3)f\r",
        "STEP    58 / 266 (thread    2)f\r",
        "STEP    59 / 266 (thread    1)d"
       ]
      },
      {
       "output_type": "stream",
       "stream": "stdout",
       "text": [
        "\r",
        "STEP    60 / 266 (thread    0)f\r",
        "STEP    61 / 266 (thread    3)d\r",
        "STEP    62 / 266 (thread    2)d\r",
        "STEP    63 / 266 (thread    0)d\r",
        "STEP    64 / 266 (thread    1)d\r",
        "STEP    65 / 266 (thread    3)f"
       ]
      },
      {
       "output_type": "stream",
       "stream": "stdout",
       "text": [
        "\r",
        "STEP    66 / 266 (thread    2)f\r",
        "STEP    67 / 266 (thread    3)d\r",
        "STEP    68 / 266 (thread    1)d\r",
        "STEP    69 / 266 (thread    0)d"
       ]
      },
      {
       "output_type": "stream",
       "stream": "stdout",
       "text": [
        "\r",
        "STEP    71 / 266 (thread    3)\r",
        "STEP    70 / 266 (thread    2)dd\r",
        "STEP    72 / 266 (thread    0)d\r",
        "STEP    73 / 266 (thread    1)f"
       ]
      },
      {
       "output_type": "stream",
       "stream": "stdout",
       "text": [
        "\r",
        "STEP    74 / 266 (thread    3)d\r",
        "STEP    75 / 266 (thread    2)f\r",
        "STEP    76 / 266 (thread    1)d\r",
        "STEP    77 / 266 (thread    0)f\r",
        "STEP    78 / 266 (thread    2)f\r",
        "STEP    79 / 266 (thread    0)f"
       ]
      },
      {
       "output_type": "stream",
       "stream": "stdout",
       "text": [
        "\r",
        "STEP    80 / 266 (thread    3)f\r",
        "STEP    81 / 266 (thread    0)f\r",
        "STEP    82 / 266 (thread    1)d\r",
        "STEP    83 / 266 (thread    3)f\r",
        "STEP    84 / 266 (thread    2)d\r",
        "STEP    85 / 266 (thread    0)f"
       ]
      },
      {
       "output_type": "stream",
       "stream": "stdout",
       "text": [
        "\r",
        "STEP    86 / 266 (thread    3)\r",
        "STEP    87 / 266 (thread    1)df\r",
        "STEP    88 / 266 (thread    0)d\r",
        "STEP    89 / 266 (thread    2)f"
       ]
      },
      {
       "output_type": "stream",
       "stream": "stdout",
       "text": [
        "\r",
        "STEP    90 / 266 (thread    1)f\r",
        "STEP    91 / 266 (thread    2)f\r",
        "STEP    92 / 266 (thread    0)d\r",
        "STEP    93 / 266 (thread    3)f\r",
        "STEP    94 / 266 (thread    2)d\r",
        "STEP    95 / 266 (thread    1)d"
       ]
      },
      {
       "output_type": "stream",
       "stream": "stdout",
       "text": [
        "\r",
        "STEP    96 / 266 (thread    0)d\r",
        "STEP    97 / 266 (thread    3)d\r",
        "STEP    98 / 266 (thread    1)f"
       ]
      },
      {
       "output_type": "stream",
       "stream": "stdout",
       "text": [
        "\r",
        "STEP    99 / 266 (thread    2)f\r",
        "STEP   100 / 266 (thread    0)d\r",
        "STEP   101 / 266 (thread    2)d\r",
        "STEP   102 / 266 (thread    1)d"
       ]
      },
      {
       "output_type": "stream",
       "stream": "stdout",
       "text": [
        "\r",
        "STEP   103 / 266 (thread    0)f\r",
        "STEP   104 / 266 (thread    0)f\r",
        "STEP   105 / 266 (thread    3)d\r",
        "STEP   106 / 266 (thread    2)d\r",
        "STEP   107 / 266 (thread    1)d\r",
        "STEP   108 / 266 (thread    0)f"
       ]
      },
      {
       "output_type": "stream",
       "stream": "stdout",
       "text": [
        "\r",
        "STEP   109 / 266 (thread    3)f\r",
        "STEP   110 / 266 (thread    0)d\r",
        "STEP   111 / 266 (thread    2)f"
       ]
      },
      {
       "output_type": "stream",
       "stream": "stdout",
       "text": [
        "\r",
        "STEP   112 / 266 (thread    2)d\r",
        "STEP   114 / 266 (thread    0)f\r",
        "STEP   113 / 266 (thread    3)\r",
        "STEP   115 / 266 (thread    1)df"
       ]
      },
      {
       "output_type": "stream",
       "stream": "stdout",
       "text": [
        "\r",
        "STEP   116 / 266 (thread    2)f\r",
        "STEP   117 / 266 (thread    0)f\r",
        "STEP   118 / 266 (thread    1)d\r",
        "STEP   119 / 266 (thread    2)d"
       ]
      },
      {
       "output_type": "stream",
       "stream": "stdout",
       "text": [
        "\r",
        "STEP   120 / 266 (thread    0)d\r",
        "STEP   121 / 266 (thread    1)d\r",
        "STEP   122 / 266 (thread    3)d"
       ]
      },
      {
       "output_type": "stream",
       "stream": "stdout",
       "text": [
        "\r",
        "STEP   123 / 266 (thread    0)f\r",
        "STEP   124 / 266 (thread    2)f\r",
        "STEP   125 / 266 (thread    0)d\r",
        "STEP   126 / 266 (thread    2)f\r",
        "STEP   127 / 266 (thread    1)f\r",
        "STEP   128 / 266 (thread    3)d"
       ]
      },
      {
       "output_type": "stream",
       "stream": "stdout",
       "text": [
        "\r",
        "STEP   129 / 266 (thread    2)d\r",
        "STEP   130 / 266 (thread    1)d\r",
        "STEP   131 / 266 (thread    0)d"
       ]
      },
      {
       "output_type": "stream",
       "stream": "stdout",
       "text": [
        "\r",
        "STEP   132 / 266 (thread    2)f\r",
        "STEP   133 / 266 (thread    0)d\r",
        "STEP   134 / 266 (thread    3)d\r",
        "STEP   135 / 266 (thread    1)d\r",
        "STEP   136 / 266 (thread    2)f"
       ]
      },
      {
       "output_type": "stream",
       "stream": "stdout",
       "text": [
        "\r",
        "STEP   137 / 266 (thread    2)d\r",
        "STEP   138 / 266 (thread    3)f\r",
        "STEP   139 / 266 (thread    0)f\r",
        "STEP   140 / 266 (thread    1)d\r",
        "STEP   141 / 266 (thread    0)d\r",
        "STEP   142 / 266 (thread    3)d"
       ]
      },
      {
       "output_type": "stream",
       "stream": "stdout",
       "text": [
        "\r",
        "STEP   143 / 266 (thread    2)d\r",
        "STEP   144 / 266 (thread    1)d\r",
        "STEP   145 / 266 (thread    0)d\r",
        "STEP   146 / 266 (thread    3)f"
       ]
      },
      {
       "output_type": "stream",
       "stream": "stdout",
       "text": [
        "\r",
        "STEP   147 / 266 (thread    2)d\r",
        "STEP   148 / 266 (thread    3)d\r",
        "STEP   149 / 266 (thread    1)d\r",
        "STEP   150 / 266 (thread    0)d"
       ]
      },
      {
       "output_type": "stream",
       "stream": "stdout",
       "text": [
        "\r",
        "STEP   151 / 266 (thread    2)d\r",
        "STEP   152 / 266 (thread    1)d\r",
        "STEP   153 / 266 (thread    3)d"
       ]
      },
      {
       "output_type": "stream",
       "stream": "stdout",
       "text": [
        "\r",
        "STEP   154 / 266 (thread    0)d\r",
        "STEP   155 / 266 (thread    3)d\r",
        "STEP   156 / 266 (thread    1)d\r",
        "STEP   157 / 266 (thread    0)f"
       ]
      },
      {
       "output_type": "stream",
       "stream": "stdout",
       "text": [
        "\r",
        "STEP   158 / 266 (thread    2)d\r",
        "STEP   159 / 266 (thread    3)d\r",
        "STEP   160 / 266 (thread    0)d"
       ]
      },
      {
       "output_type": "stream",
       "stream": "stdout",
       "text": [
        "\r",
        "STEP   161 / 266 (thread    2)d\r",
        "STEP   162 / 266 (thread    0)f\r",
        "STEP   163 / 266 (thread    3)d\r",
        "STEP   164 / 266 (thread    1)d"
       ]
      },
      {
       "output_type": "stream",
       "stream": "stdout",
       "text": [
        "\r",
        "STEP   165 / 266 (thread    0)d\r",
        "STEP   166 / 266 (thread    3)d\r",
        "STEP   167 / 266 (thread    2)d"
       ]
      },
      {
       "output_type": "stream",
       "stream": "stdout",
       "text": [
        "\r",
        "STEP   168 / 266 (thread    1)d\r",
        "STEP   169 / 266 (thread    0)d\r",
        "STEP   170 / 266 (thread    3)d\r",
        "STEP   171 / 266 (thread    2)d"
       ]
      },
      {
       "output_type": "stream",
       "stream": "stdout",
       "text": [
        "\r",
        "STEP   172 / 266 (thread    1)d\r",
        "STEP   173 / 266 (thread    0)d"
       ]
      },
      {
       "output_type": "stream",
       "stream": "stdout",
       "text": [
        "\r",
        "STEP   175 / 266 (thread    2)f\r",
        "STEP   176 / 266 (thread    2)d"
       ]
      },
      {
       "output_type": "stream",
       "stream": "stdout",
       "text": [
        "\r",
        "STEP   177 / 266 (thread    1)f\r",
        "STEP   174 / 266 (thread    3)d\r",
        "STEP   178 / 266 (thread    0)f\r",
        "STEP   179 / 266 (thread    1)d\r",
        "STEP   180 / 266 (thread    0)f"
       ]
      },
      {
       "output_type": "stream",
       "stream": "stdout",
       "text": [
        "\r\n",
        "Reallocating..done. *alloclen = 5680\r\n",
        "\r",
        "STEP   182 / 266 (thread    2)d\r",
        "STEP   183 / 266 (thread    3)d"
       ]
      },
      {
       "output_type": "stream",
       "stream": "stdout",
       "text": [
        "\r",
        "STEP   184 / 266 (thread    1)d\r",
        "STEP   181 / 266 (thread    0)d\r",
        "STEP   185 / 266 (thread    3)d"
       ]
      },
      {
       "output_type": "stream",
       "stream": "stdout",
       "text": [
        "\r",
        "STEP   186 / 266 (thread    2)d\r",
        "STEP   187 / 266 (thread    0)d\r",
        "STEP   188 / 266 (thread    3)d"
       ]
      },
      {
       "output_type": "stream",
       "stream": "stdout",
       "text": [
        "\r",
        "STEP   189 / 266 (thread    1)f"
       ]
      },
      {
       "output_type": "stream",
       "stream": "stdout",
       "text": [
        "\r",
        "STEP   191 / 266 (thread    1)f\r",
        "STEP   192 / 266 (thread    1)d"
       ]
      },
      {
       "output_type": "stream",
       "stream": "stdout",
       "text": [
        "\r",
        "STEP   190 / 266 (thread    2)\r",
        "STEP   194 / 266 (thread    3)df\r",
        "STEP   195 / 266 (thread    3)d"
       ]
      },
      {
       "output_type": "stream",
       "stream": "stdout",
       "text": [
        "\r",
        "STEP   193 / 266 (thread    0)\r",
        "STEP   197 / 266 (thread    2)dd\r",
        "STEP   198 / 266 (thread    3)d"
       ]
      },
      {
       "output_type": "stream",
       "stream": "stdout",
       "text": [
        "\r",
        "STEP   199 / 266 (thread    2)d\r",
        "STEP   200 / 266 (thread    3)f"
       ]
      },
      {
       "output_type": "stream",
       "stream": "stdout",
       "text": [
        "\r",
        "STEP   196 / 266 (thread    1)d"
       ]
      },
      {
       "output_type": "stream",
       "stream": "stdout",
       "text": [
        "\r",
        "STEP   202 / 266 (thread    0)d"
       ]
      },
      {
       "output_type": "stream",
       "stream": "stdout",
       "text": [
        "\r",
        "STEP   201 / 266 (thread    3)d\r\n",
        "Reallocating..done. *alloclen = 6703\r\n",
        "\r",
        "STEP   203 / 266 (thread    2)d\r",
        "STEP   205 / 266 (thread    0)f"
       ]
      },
      {
       "output_type": "stream",
       "stream": "stdout",
       "text": [
        "\r",
        "STEP   207 / 266 (thread    3)\r",
        "STEP   204 / 266 (thread    1)fd"
       ]
      },
      {
       "output_type": "stream",
       "stream": "stdout",
       "text": [
        "\r",
        "STEP   208 / 266 (thread    3)f\r",
        "STEP   209 / 266 (thread    3)f"
       ]
      },
      {
       "output_type": "stream",
       "stream": "stdout",
       "text": [
        "\r",
        "STEP   211 / 266 (thread    3)f"
       ]
      },
      {
       "output_type": "stream",
       "stream": "stdout",
       "text": [
        "\r",
        "STEP   206 / 266 (thread    0)d\r",
        "STEP   213 / 266 (thread    1)f"
       ]
      },
      {
       "output_type": "stream",
       "stream": "stdout",
       "text": [
        "\r",
        "STEP   214 / 266 (thread    1)d"
       ]
      },
      {
       "output_type": "stream",
       "stream": "stdout",
       "text": [
        "\r",
        "STEP   210 / 266 (thread    2)d\r",
        "STEP   215 / 266 (thread    0)d"
       ]
      },
      {
       "output_type": "stream",
       "stream": "stdout",
       "text": [
        "\r",
        "STEP   217 / 266 (thread    0)d"
       ]
      },
      {
       "output_type": "stream",
       "stream": "stdout",
       "text": [
        "\r",
        "STEP   212 / 266 (thread    3)d\r",
        "STEP   218 / 266 (thread    2)d"
       ]
      },
      {
       "output_type": "stream",
       "stream": "stdout",
       "text": [
        "\r",
        "STEP   219 / 266 (thread    0)d"
       ]
      },
      {
       "output_type": "stream",
       "stream": "stdout",
       "text": [
        "\r",
        "STEP   216 / 266 (thread    1)\r",
        "STEP   221 / 266 (thread    3)dd"
       ]
      },
      {
       "output_type": "stream",
       "stream": "stdout",
       "text": [
        "\r",
        "STEP   220 / 266 (thread    2)\r",
        "STEP   224 / 266 (thread    1)dd"
       ]
      },
      {
       "output_type": "stream",
       "stream": "stdout",
       "text": [
        "\r",
        "STEP   222 / 266 (thread    0)\r",
        "STEP   226 / 266 (thread    2)dd"
       ]
      },
      {
       "output_type": "stream",
       "stream": "stdout",
       "text": [
        "\r",
        "STEP   227 / 266 (thread    2)d"
       ]
      },
      {
       "output_type": "stream",
       "stream": "stdout",
       "text": [
        "\r",
        "STEP   223 / 266 (thread    3)d"
       ]
      },
      {
       "output_type": "stream",
       "stream": "stdout",
       "text": [
        "\r",
        "STEP   225 / 266 (thread    1)d\r",
        "STEP   230 / 266 (thread    3)d"
       ]
      },
      {
       "output_type": "stream",
       "stream": "stdout",
       "text": [
        "\r",
        "STEP   231 / 266 (thread    3)d"
       ]
      },
      {
       "output_type": "stream",
       "stream": "stdout",
       "text": [
        "\r",
        "STEP   228 / 266 (thread    0)d"
       ]
      },
      {
       "output_type": "stream",
       "stream": "stdout",
       "text": [
        "\r",
        "STEP   229 / 266 (thread    2)\r",
        "STEP   234 / 266 (thread    0)dd"
       ]
      },
      {
       "output_type": "stream",
       "stream": "stdout",
       "text": [
        "\r\n",
        "Reallocating..done. *alloclen = 9258\r\n",
        "\r",
        "STEP   232 / 266 (thread    3)d"
       ]
      },
      {
       "output_type": "stream",
       "stream": "stdout",
       "text": [
        "\r",
        "STEP   233 / 266 (thread    1)\r",
        "STEP   237 / 266 (thread    3)dd"
       ]
      },
      {
       "output_type": "stream",
       "stream": "stdout",
       "text": [
        "\r",
        "STEP   235 / 266 (thread    0)d"
       ]
      },
      {
       "output_type": "stream",
       "stream": "stdout",
       "text": [
        "\r",
        "STEP   236 / 266 (thread    2)d"
       ]
      },
      {
       "output_type": "stream",
       "stream": "stdout",
       "text": [
        "\r",
        "STEP   238 / 266 (thread    3)d\r",
        "STEP   241 / 266 (thread    2)d"
       ]
      },
      {
       "output_type": "stream",
       "stream": "stdout",
       "text": [
        "\r",
        "STEP   239 / 266 (thread    1)d"
       ]
      },
      {
       "output_type": "stream",
       "stream": "stdout",
       "text": [
        "\r",
        "STEP   240 / 266 (thread    0)d\r",
        "STEP   244 / 266 (thread    1)d"
       ]
      },
      {
       "output_type": "stream",
       "stream": "stdout",
       "text": [
        "\r",
        "STEP   246 / 266 (thread    0)f\r",
        "STEP   242 / 266 (thread    2)d"
       ]
      },
      {
       "output_type": "stream",
       "stream": "stdout",
       "text": [
        "\r",
        "STEP   243 / 266 (thread    3)d"
       ]
      },
      {
       "output_type": "stream",
       "stream": "stdout",
       "text": [
        "\r",
        "STEP   245 / 266 (thread    1)d"
       ]
      },
      {
       "output_type": "stream",
       "stream": "stdout",
       "text": [
        "\r",
        "STEP   247 / 266 (thread    0)d\r",
        "STEP   250 / 266 (thread    1)d"
       ]
      },
      {
       "output_type": "stream",
       "stream": "stdout",
       "text": [
        "\r",
        "STEP   248 / 266 (thread    2)d"
       ]
      },
      {
       "output_type": "stream",
       "stream": "stdout",
       "text": [
        "\r",
        "STEP   249 / 266 (thread    3)d"
       ]
      },
      {
       "output_type": "stream",
       "stream": "stdout",
       "text": [
        "\r",
        "STEP   251 / 266 (thread    1)d"
       ]
      },
      {
       "output_type": "stream",
       "stream": "stdout",
       "text": [
        "\r",
        "STEP   252 / 266 (thread    0)d\r",
        "STEP   255 / 266 (thread    1)d"
       ]
      },
      {
       "output_type": "stream",
       "stream": "stdout",
       "text": [
        "\r",
        "STEP   256 / 266 (thread    1)d"
       ]
      },
      {
       "output_type": "stream",
       "stream": "stdout",
       "text": [
        "\r",
        "STEP   253 / 266 (thread    2)d"
       ]
      },
      {
       "output_type": "stream",
       "stream": "stdout",
       "text": [
        "\r",
        "STEP   254 / 266 (thread    3)d"
       ]
      },
      {
       "output_type": "stream",
       "stream": "stdout",
       "text": [
        "\r",
        "STEP   257 / 266 (thread    1)d"
       ]
      },
      {
       "output_type": "stream",
       "stream": "stdout",
       "text": [
        "\r",
        "STEP   258 / 266 (thread    0)d"
       ]
      },
      {
       "output_type": "stream",
       "stream": "stdout",
       "text": [
        "\r",
        "STEP   259 / 266 (thread    2)d"
       ]
      },
      {
       "output_type": "stream",
       "stream": "stdout",
       "text": [
        "\r",
        "STEP   260 / 266 (thread    3)d"
       ]
      },
      {
       "output_type": "stream",
       "stream": "stdout",
       "text": [
        "\r",
        "STEP   261 / 266 (thread    1)d"
       ]
      },
      {
       "output_type": "stream",
       "stream": "stdout",
       "text": [
        "\r",
        "STEP   262 / 266 (thread    0)d\r",
        "STEP   265 / 266 (thread    1)d"
       ]
      },
      {
       "output_type": "stream",
       "stream": "stdout",
       "text": [
        "\r",
        "STEP   263 / 266 (thread    2)d"
       ]
      },
      {
       "output_type": "stream",
       "stream": "stdout",
       "text": [
        "\r",
        "STEP   264 / 266 (thread    3)d"
       ]
      },
      {
       "output_type": "stream",
       "stream": "stdout",
       "text": [
        "\r\n",
        "Reallocating..done. *alloclen = 11212\r\n",
        "\r",
        "STEP   266 / 266 (thread    1)d"
       ]
      },
      {
       "output_type": "stream",
       "stream": "stdout",
       "text": [
        "\r\n",
        "done.\r\n",
        "\r\n"
       ]
      },
      {
       "output_type": "stream",
       "stream": "stdout",
       "text": [
        "disttbfast (nuc) Version 7.187 alg=A, model=DNA200 (2), 1.53 (4.59), -0.00 (-0.00), noshift, amax=0.0\r\n",
        "4 thread(s)\r\n",
        "\r\n",
        "\r\n",
        "Strategy:\r\n",
        " FFT-NS-2 (Fast but rough)\r\n",
        " Progressive method (guide trees were built 2 times.)\r\n",
        "\r\n",
        "If unsure which option to use, try 'mafft --auto input > output'.\r\n",
        "For more information, see 'mafft --help', 'mafft --man' and the mafft page.\r\n",
        "\r\n",
        "The default gap scoring scheme has been changed in version 7.110 (2013 Oct).\r\n",
        "It tends to insert more gaps into gap-rich regions than previous versions.\r\n",
        "To disable this change, add the --legacygappenalty option.\r\n",
        "\r\n"
       ]
      },
      {
       "output_type": "stream",
       "stream": "stdout",
       "text": [
        "\r\n"
       ]
      },
      {
       "output_type": "stream",
       "stream": "stdout",
       "text": [
        "nseq =  267\r\n",
        "distance =  ktuples\r\n",
        "iterate =  0\r\n",
        "cycle =  2\r\n",
        "nguidetree = 2\r\n",
        "nthread = 4\r\n",
        "sueff_global = 0.100000\r\n"
       ]
      },
      {
       "output_type": "stream",
       "stream": "stdout",
       "text": [
        "generating a scoring matrix for nucleotide (dist=200) ... done\r\n",
        "done\r\n",
        "done\r\n",
        "scoremtx = -1\r\n",
        "Gap Penalty = -1.53, +0.00, +0.00\r\n",
        "\r\n",
        "tuplesize = 6, dorp = d\r\n",
        "\r\n",
        "\r\n",
        "Making a distance matrix ..\r\n",
        "\r\n",
        "There are 871 ambiguous characters.\r\n",
        "\r",
        "    1 / 267 (thread    0)\r",
        "   11 / 267 (thread    0)\r",
        "   21 / 267 (thread    1)"
       ]
      },
      {
       "output_type": "stream",
       "stream": "stdout",
       "text": [
        "\r",
        "   31 / 267 (thread    3)\r",
        "   41 / 267 (thread    2)\r",
        "   51 / 267 (thread    2)\r",
        "   61 / 267 (thread    2)\r",
        "   71 / 267 (thread    3)\r",
        "   81 / 267 (thread    3)\r",
        "   91 / 267 (thread    2)\r",
        "  101 / 267 (thread    1)\r",
        "  111 / 267 (thread    3)\r",
        "  121 / 267 (thread    1)\r",
        "  131 / 267 (thread    3)\r",
        "  141 / 267 (thread    1)\r",
        "  151 / 267 (thread    1)\r",
        "  161 / 267 (thread    1)\r",
        "  171 / 267 (thread    3)\r",
        "  181 / 267 (thread    3)\r",
        "  191 / 267 (thread    2)\r",
        "  201 / 267 (thread    0)\r",
        "  211 / 267 (thread    0)\r",
        "  221 / 267 (thread    2)\r",
        "  231 / 267 (thread    3)\r",
        "  241 / 267 (thread    3)\r",
        "  251 / 267 (thread    1)\r",
        "  261 / 267 (thread    1)\r\n",
        "done.\r\n",
        "\r\n",
        "Constructing a UPGMA tree ... \r\n",
        "\r",
        "    0 / 267\r",
        "   10 / 267\r",
        "   20 / 267\r",
        "   30 / 267\r",
        "   40 / 267\r",
        "   50 / 267\r",
        "   60 / 267\r",
        "   70 / 267\r",
        "   80 / 267\r",
        "   90 / 267\r",
        "  100 / 267\r",
        "  110 / 267\r",
        "  120 / 267\r",
        "  130 / 267\r",
        "  140 / 267\r",
        "  150 / 267\r",
        "  160 / 267\r",
        "  170 / 267\r",
        "  180 / 267\r",
        "  190 / 267\r",
        "  200 / 267\r",
        "  210 / 267\r",
        "  220 / 267\r",
        "  230 / 267\r",
        "  240 / 267\r",
        "  250 / 267\r",
        "  260 / 267\r\n",
        "done.\r\n",
        "\r\n"
       ]
      },
      {
       "output_type": "stream",
       "stream": "stdout",
       "text": [
        "Progressive alignment 1/2... \r\n",
        "\r",
        "STEP     2 / 266 (thread    2)\r",
        "STEP     1 / 266 (thread    1)\r",
        "STEP     3 / 266 (thread    3)ff\r",
        "STEP     4 / 266 (thread    0)ff\r",
        "STEP     5 / 266 (thread    3)f\r",
        "STEP     6 / 266 (thread    1)f\r",
        "STEP     7 / 266 (thread    2)f\r",
        "STEP     8 / 266 (thread    3)f\r",
        "STEP     9 / 266 (thread    2)f\r",
        "STEP    10 / 266 (thread    3)f\r",
        "STEP    11 / 266 (thread    1)f\r",
        "STEP    12 / 266 (thread    3)f\r",
        "STEP    13 / 266 (thread    0)f\r",
        "STEP    14 / 266 (thread    0)f\r",
        "STEP    15 / 266 (thread    0)f\r",
        "STEP    16 / 266 (thread    3)f\r",
        "STEP    17 / 266 (thread    1)f\r",
        "STEP    18 / 266 (thread    0)f"
       ]
      },
      {
       "output_type": "stream",
       "stream": "stdout",
       "text": [
        "\r",
        "STEP    19 / 266 (thread    0)f\r",
        "STEP    20 / 266 (thread    2)f\r",
        "STEP    21 / 266 (thread    0)f\r",
        "STEP    22 / 266 (thread    1)f\r",
        "STEP    23 / 266 (thread    0)f\r",
        "STEP    24 / 266 (thread    2)f\r",
        "STEP    25 / 266 (thread    3)f\r",
        "STEP    26 / 266 (thread    2)f\r",
        "STEP    27 / 266 (thread    3)f\r",
        "STEP    29 / 266 (thread    2)f"
       ]
      },
      {
       "output_type": "stream",
       "stream": "stdout",
       "text": [
        "\r",
        "STEP    30 / 266 (thread    3)f\r",
        "STEP    31 / 266 (thread    2)f\r",
        "STEP    32 / 266 (thread    3)f\r",
        "STEP    33 / 266 (thread    0)f\r",
        "STEP    28 / 266 (thread    1)d"
       ]
      },
      {
       "output_type": "stream",
       "stream": "stdout",
       "text": [
        "\r",
        "STEP    34 / 266 (thread    3)f\r",
        "STEP    35 / 266 (thread    2)f\r",
        "STEP    36 / 266 (thread    3)f\r",
        "STEP    38 / 266 (thread    0)f"
       ]
      },
      {
       "output_type": "stream",
       "stream": "stdout",
       "text": [
        "\r",
        "STEP    39 / 266 (thread    3)\r",
        "STEP    37 / 266 (thread    2)ff\r",
        "STEP    40 / 266 (thread    3)f\r",
        "STEP    41 / 266 (thread    0)f\r",
        "STEP    42 / 266 (thread    1)f\r",
        "STEP    43 / 266 (thread    2)d\r",
        "STEP    44 / 266 (thread    0)f"
       ]
      },
      {
       "output_type": "stream",
       "stream": "stdout",
       "text": [
        "\r",
        "STEP    45 / 266 (thread    3)f\r",
        "STEP    46 / 266 (thread    1)d\r",
        "STEP    47 / 266 (thread    0)f\r",
        "STEP    48 / 266 (thread    2)f\r",
        "STEP    49 / 266 (thread    3)f"
       ]
      },
      {
       "output_type": "stream",
       "stream": "stdout",
       "text": [
        "\r",
        "STEP    50 / 266 (thread    2)f\r",
        "STEP    51 / 266 (thread    1)d\r",
        "STEP    52 / 266 (thread    0)f\r",
        "STEP    53 / 266 (thread    2)d"
       ]
      },
      {
       "output_type": "stream",
       "stream": "stdout",
       "text": [
        "\r",
        "STEP    54 / 266 (thread    3)d\r",
        "STEP    55 / 266 (thread    1)d\r",
        "STEP    56 / 266 (thread    0)f"
       ]
      },
      {
       "output_type": "stream",
       "stream": "stdout",
       "text": [
        "\r",
        "STEP    57 / 266 (thread    0)d\r",
        "STEP    59 / 266 (thread    3)d\r",
        "STEP    58 / 266 (thread    2)d\r",
        "STEP    61 / 266 (thread    2)f\r",
        "STEP    60 / 266 (thread    1)d\r",
        "STEP    62 / 266 (thread    0)f\r",
        "STEP    63 / 266 (thread    3)f"
       ]
      },
      {
       "output_type": "stream",
       "stream": "stdout",
       "text": [
        "\r",
        "STEP    64 / 266 (thread    3)f\r",
        "STEP    66 / 266 (thread    0)f\r",
        "STEP    65 / 266 (thread    2)\r",
        "STEP    67 / 266 (thread    1)dd\r",
        "STEP    68 / 266 (thread    3)d\r",
        "STEP    69 / 266 (thread    0)f"
       ]
      },
      {
       "output_type": "stream",
       "stream": "stdout",
       "text": [
        "\r",
        "STEP    71 / 266 (thread    1)f\r",
        "STEP    70 / 266 (thread    0)d"
       ]
      },
      {
       "output_type": "stream",
       "stream": "stdout",
       "text": [
        "\r",
        "STEP    73 / 266 (thread    1)f\r",
        "STEP    74 / 266 (thread    0)f\r",
        "STEP    75 / 266 (thread    2)f\r",
        "STEP    72 / 266 (thread    3)d\r",
        "STEP    76 / 266 (thread    1)f\r",
        "STEP    77 / 266 (thread    2)f"
       ]
      },
      {
       "output_type": "stream",
       "stream": "stdout",
       "text": [
        "\r",
        "STEP    79 / 266 (thread    0)f\r",
        "STEP    80 / 266 (thread    2)d\r",
        "STEP    81 / 266 (thread    0)f\r",
        "STEP    82 / 266 (thread    0)f"
       ]
      },
      {
       "output_type": "stream",
       "stream": "stdout",
       "text": [
        "\r",
        "STEP    83 / 266 (thread    3)f\r",
        "STEP    78 / 266 (thread    1)d\r",
        "STEP    85 / 266 (thread    0)d"
       ]
      },
      {
       "output_type": "stream",
       "stream": "stdout",
       "text": [
        "\r",
        "STEP    86 / 266 (thread    3)f\r",
        "STEP    84 / 266 (thread    2)d\r",
        "STEP    87 / 266 (thread    1)d\r",
        "STEP    88 / 266 (thread    3)d\r",
        "STEP    89 / 266 (thread    0)f"
       ]
      },
      {
       "output_type": "stream",
       "stream": "stdout",
       "text": [
        "\r",
        "STEP    90 / 266 (thread    2)f\r",
        "STEP    91 / 266 (thread    0)d\r",
        "STEP    92 / 266 (thread    1)f\r",
        "STEP    93 / 266 (thread    2)d\r",
        "STEP    94 / 266 (thread    3)d\r",
        "STEP    95 / 266 (thread    1)f"
       ]
      },
      {
       "output_type": "stream",
       "stream": "stdout",
       "text": [
        "\r",
        "STEP    96 / 266 (thread    0)d\r",
        "STEP    97 / 266 (thread    1)d\r",
        "STEP    98 / 266 (thread    2)f\r",
        "STEP    99 / 266 (thread    3)d\r",
        "STEP   100 / 266 (thread    2)f"
       ]
      },
      {
       "output_type": "stream",
       "stream": "stdout",
       "text": [
        "\r",
        "STEP   101 / 266 (thread    0)f\r",
        "STEP   103 / 266 (thread    2)f\r",
        "STEP   104 / 266 (thread    2)d\r",
        "STEP   105 / 266 (thread    3)d\r",
        "STEP   102 / 266 (thread    1)d"
       ]
      },
      {
       "output_type": "stream",
       "stream": "stdout",
       "text": [
        "\r",
        "STEP   106 / 266 (thread    0)d\r",
        "STEP   107 / 266 (thread    2)d"
       ]
      },
      {
       "output_type": "stream",
       "stream": "stdout",
       "text": [
        "\r",
        "STEP   108 / 266 (thread    0)f\r",
        "STEP   109 / 266 (thread    3)f\r",
        "STEP   110 / 266 (thread    1)f\r",
        "STEP   111 / 266 (thread    0)f\r",
        "STEP   112 / 266 (thread    2)d\r",
        "STEP   113 / 266 (thread    1)d"
       ]
      },
      {
       "output_type": "stream",
       "stream": "stdout",
       "text": [
        "\r",
        "STEP   114 / 266 (thread    0)f\r",
        "STEP   116 / 266 (thread    2)d\r",
        "STEP   117 / 266 (thread    0)f"
       ]
      },
      {
       "output_type": "stream",
       "stream": "stdout",
       "text": [
        "\r",
        "STEP   119 / 266 (thread    1)d\r",
        "STEP   115 / 266 (thread    3)d\r",
        "STEP   120 / 266 (thread    2)d"
       ]
      },
      {
       "output_type": "stream",
       "stream": "stdout",
       "text": [
        "\r",
        "STEP   121 / 266 (thread    1)d"
       ]
      },
      {
       "output_type": "stream",
       "stream": "stdout",
       "text": [
        "\r",
        "STEP   118 / 266 (thread    0)\r",
        "STEP   123 / 266 (thread    3)dd\r",
        "STEP   124 / 266 (thread    1)d\r",
        "STEP   125 / 266 (thread    3)d"
       ]
      },
      {
       "output_type": "stream",
       "stream": "stdout",
       "text": [
        "\r",
        "STEP   127 / 266 (thread    3)f"
       ]
      },
      {
       "output_type": "stream",
       "stream": "stdout",
       "text": [
        "\r\n",
        "Reallocating..done. *alloclen = 5644\r\n",
        "\r",
        "STEP   122 / 266 (thread    2)d\r",
        "STEP   128 / 266 (thread    0)d\r",
        "STEP   129 / 266 (thread    3)d\r",
        "STEP   130 / 266 (thread    0)d"
       ]
      },
      {
       "output_type": "stream",
       "stream": "stdout",
       "text": [
        "\r",
        "STEP   126 / 266 (thread    1)d\r",
        "STEP   132 / 266 (thread    2)d\r",
        "STEP   133 / 266 (thread    0)d"
       ]
      },
      {
       "output_type": "stream",
       "stream": "stdout",
       "text": [
        "\r",
        "STEP   135 / 266 (thread    0)d"
       ]
      },
      {
       "output_type": "stream",
       "stream": "stdout",
       "text": [
        "\r",
        "STEP   136 / 266 (thread    0)d\r",
        "STEP   131 / 266 (thread    3)d\r",
        "STEP   137 / 266 (thread    1)d"
       ]
      },
      {
       "output_type": "stream",
       "stream": "stdout",
       "text": [
        "\r",
        "STEP   138 / 266 (thread    1)d\r",
        "STEP   139 / 266 (thread    0)d"
       ]
      },
      {
       "output_type": "stream",
       "stream": "stdout",
       "text": [
        "\r",
        "STEP   140 / 266 (thread    1)f\r",
        "STEP   141 / 266 (thread    0)d\r",
        "STEP   142 / 266 (thread    1)f"
       ]
      },
      {
       "output_type": "stream",
       "stream": "stdout",
       "text": [
        "\r",
        "STEP   134 / 266 (thread    2)d\r",
        "STEP   144 / 266 (thread    3)d\r",
        "STEP   145 / 266 (thread    0)d\r",
        "STEP   146 / 266 (thread    3)d"
       ]
      },
      {
       "output_type": "stream",
       "stream": "stdout",
       "text": [
        "\r",
        "STEP   143 / 266 (thread    1)d\r",
        "STEP   148 / 266 (thread    2)f\r",
        "STEP   149 / 266 (thread    3)d"
       ]
      },
      {
       "output_type": "stream",
       "stream": "stdout",
       "text": [
        "\r",
        "STEP   147 / 266 (thread    0)d\r",
        "STEP   151 / 266 (thread    1)d"
       ]
      },
      {
       "output_type": "stream",
       "stream": "stdout",
       "text": [
        "\r",
        "STEP   152 / 266 (thread    1)f\r",
        "STEP   154 / 266 (thread    1)d"
       ]
      },
      {
       "output_type": "stream",
       "stream": "stdout",
       "text": [
        "\r",
        "STEP   150 / 266 (thread    2)d\r",
        "STEP   155 / 266 (thread    0)f\r",
        "STEP   156 / 266 (thread    0)d"
       ]
      },
      {
       "output_type": "stream",
       "stream": "stdout",
       "text": [
        "\r",
        "STEP   158 / 266 (thread    0)d"
       ]
      },
      {
       "output_type": "stream",
       "stream": "stdout",
       "text": [
        "\r",
        "STEP   159 / 266 (thread    0)d\r",
        "STEP   153 / 266 (thread    3)d\r",
        "STEP   160 / 266 (thread    2)d"
       ]
      },
      {
       "output_type": "stream",
       "stream": "stdout",
       "text": [
        "\r",
        "STEP   161 / 266 (thread    0)d\r",
        "STEP   162 / 266 (thread    2)f"
       ]
      },
      {
       "output_type": "stream",
       "stream": "stdout",
       "text": [
        "\r",
        "STEP   164 / 266 (thread    0)d\r",
        "STEP   157 / 266 (thread    1)d\r",
        "STEP   165 / 266 (thread    3)d\r",
        "STEP   166 / 266 (thread    0)f"
       ]
      },
      {
       "output_type": "stream",
       "stream": "stdout",
       "text": [
        "\r",
        "STEP   167 / 266 (thread    0)f"
       ]
      },
      {
       "output_type": "stream",
       "stream": "stdout",
       "text": [
        "\r",
        "STEP   169 / 266 (thread    3)d"
       ]
      },
      {
       "output_type": "stream",
       "stream": "stdout",
       "text": [
        "\r",
        "STEP   163 / 266 (thread    2)\r",
        "STEP   170 / 266 (thread    1)dd"
       ]
      },
      {
       "output_type": "stream",
       "stream": "stdout",
       "text": [
        "\r",
        "STEP   168 / 266 (thread    0)d\r",
        "STEP   172 / 266 (thread    2)d\r",
        "STEP   173 / 266 (thread    3)f"
       ]
      },
      {
       "output_type": "stream",
       "stream": "stdout",
       "text": [
        "\r",
        "STEP   174 / 266 (thread    3)d\r",
        "STEP   175 / 266 (thread    2)d"
       ]
      },
      {
       "output_type": "stream",
       "stream": "stdout",
       "text": [
        "\r",
        "STEP   176 / 266 (thread    3)d"
       ]
      },
      {
       "output_type": "stream",
       "stream": "stdout",
       "text": [
        "\r",
        "STEP   177 / 266 (thread    0)d\r",
        "STEP   171 / 266 (thread    1)d\r",
        "STEP   178 / 266 (thread    3)f\r",
        "STEP   179 / 266 (thread    3)d\r",
        "STEP   180 / 266 (thread    2)d"
       ]
      },
      {
       "output_type": "stream",
       "stream": "stdout",
       "text": [
        "\r",
        "STEP   182 / 266 (thread    2)d\r",
        "STEP   181 / 266 (thread    0)d\r",
        "STEP   184 / 266 (thread    1)d"
       ]
      },
      {
       "output_type": "stream",
       "stream": "stdout",
       "text": [
        "\r",
        "STEP   185 / 266 (thread    2)f\r",
        "STEP   186 / 266 (thread    2)f"
       ]
      },
      {
       "output_type": "stream",
       "stream": "stdout",
       "text": [
        "\r",
        "STEP   188 / 266 (thread    1)d\r",
        "STEP   183 / 266 (thread    3)d"
       ]
      },
      {
       "output_type": "stream",
       "stream": "stdout",
       "text": [
        "\r",
        "STEP   190 / 266 (thread    1)f"
       ]
      },
      {
       "output_type": "stream",
       "stream": "stdout",
       "text": [
        "\r",
        "STEP   191 / 266 (thread    1)d\r\n",
        "Reallocating..done. *alloclen = 6953\r\n",
        "\r",
        "STEP   187 / 266 (thread    2)d"
       ]
      },
      {
       "output_type": "stream",
       "stream": "stdout",
       "text": [
        "\r",
        "STEP   189 / 266 (thread    0)\r",
        "STEP   194 / 266 (thread    2)dd"
       ]
      },
      {
       "output_type": "stream",
       "stream": "stdout",
       "text": [
        "\r",
        "STEP   195 / 266 (thread    2)d"
       ]
      },
      {
       "output_type": "stream",
       "stream": "stdout",
       "text": [
        "\r",
        "STEP   196 / 266 (thread    2)d\r",
        "STEP   192 / 266 (thread    3)d\r",
        "STEP   197 / 266 (thread    0)d"
       ]
      },
      {
       "output_type": "stream",
       "stream": "stdout",
       "text": [
        "\r",
        "STEP   199 / 266 (thread    3)d\r",
        "STEP   193 / 266 (thread    1)d\r",
        "STEP   200 / 266 (thread    0)d"
       ]
      },
      {
       "output_type": "stream",
       "stream": "stdout",
       "text": [
        "\r",
        "STEP   201 / 266 (thread    0)f\r",
        "STEP   202 / 266 (thread    3)d\r",
        "STEP   203 / 266 (thread    0)d"
       ]
      },
      {
       "output_type": "stream",
       "stream": "stdout",
       "text": [
        "\r",
        "STEP   205 / 266 (thread    0)f"
       ]
      },
      {
       "output_type": "stream",
       "stream": "stdout",
       "text": [
        "\r",
        "STEP   206 / 266 (thread    0)f\r",
        "STEP   207 / 266 (thread    1)f\r",
        "STEP   198 / 266 (thread    2)d\r",
        "STEP   208 / 266 (thread    0)d"
       ]
      },
      {
       "output_type": "stream",
       "stream": "stdout",
       "text": [
        "\r",
        "STEP   210 / 266 (thread    0)d"
       ]
      },
      {
       "output_type": "stream",
       "stream": "stdout",
       "text": [
        "\r",
        "STEP   211 / 266 (thread    0)f\r",
        "STEP   204 / 266 (thread    3)d\r",
        "STEP   212 / 266 (thread    2)d"
       ]
      },
      {
       "output_type": "stream",
       "stream": "stdout",
       "text": [
        "\r",
        "STEP   214 / 266 (thread    2)d"
       ]
      },
      {
       "output_type": "stream",
       "stream": "stdout",
       "text": [
        "\r",
        "STEP   215 / 266 (thread    2)f\r",
        "STEP   209 / 266 (thread    1)d\r",
        "STEP   216 / 266 (thread    3)d"
       ]
      },
      {
       "output_type": "stream",
       "stream": "stdout",
       "text": [
        "\r",
        "STEP   217 / 266 (thread    2)d"
       ]
      },
      {
       "output_type": "stream",
       "stream": "stdout",
       "text": [
        "\r",
        "STEP   218 / 266 (thread    1)\r",
        "STEP   213 / 266 (thread    0)fd"
       ]
      },
      {
       "output_type": "stream",
       "stream": "stdout",
       "text": [
        "\r",
        "STEP   221 / 266 (thread    1)d"
       ]
      },
      {
       "output_type": "stream",
       "stream": "stdout",
       "text": [
        "\r",
        "STEP   222 / 266 (thread    0)\r",
        "STEP   219 / 266 (thread    2)dd\r",
        "STEP   224 / 266 (thread    0)d"
       ]
      },
      {
       "output_type": "stream",
       "stream": "stdout",
       "text": [
        "\r",
        "STEP   220 / 266 (thread    3)\r",
        "STEP   226 / 266 (thread    2)df"
       ]
      },
      {
       "output_type": "stream",
       "stream": "stdout",
       "text": [
        "\r",
        "STEP   227 / 266 (thread    2)d"
       ]
      },
      {
       "output_type": "stream",
       "stream": "stdout",
       "text": [
        "\r",
        "STEP   228 / 266 (thread    2)d\r\n",
        "Reallocating..done. *alloclen = 9470\r\n",
        "\r",
        "STEP   223 / 266 (thread    1)d"
       ]
      },
      {
       "output_type": "stream",
       "stream": "stdout",
       "text": [
        "\r",
        "STEP   230 / 266 (thread    2)d"
       ]
      },
      {
       "output_type": "stream",
       "stream": "stdout",
       "text": [
        "\r",
        "STEP   231 / 266 (thread    2)d"
       ]
      },
      {
       "output_type": "stream",
       "stream": "stdout",
       "text": [
        "\r",
        "STEP   225 / 266 (thread    0)d\r",
        "STEP   233 / 266 (thread    1)d"
       ]
      },
      {
       "output_type": "stream",
       "stream": "stdout",
       "text": [
        "\r",
        "STEP   229 / 266 (thread    3)\r",
        "STEP   235 / 266 (thread    0)df"
       ]
      },
      {
       "output_type": "stream",
       "stream": "stdout",
       "text": [
        "\r",
        "STEP   232 / 266 (thread    2)d"
       ]
      },
      {
       "output_type": "stream",
       "stream": "stdout",
       "text": [
        "\r",
        "STEP   234 / 266 (thread    1)d\r",
        "STEP   238 / 266 (thread    2)d"
       ]
      },
      {
       "output_type": "stream",
       "stream": "stdout",
       "text": [
        "\r",
        "STEP   239 / 266 (thread    2)d"
       ]
      },
      {
       "output_type": "stream",
       "stream": "stdout",
       "text": [
        "\r",
        "STEP   236 / 266 (thread    0)d\r",
        "STEP   241 / 266 (thread    1)d"
       ]
      },
      {
       "output_type": "stream",
       "stream": "stdout",
       "text": [
        "\r",
        "STEP   237 / 266 (thread    3)d"
       ]
      },
      {
       "output_type": "stream",
       "stream": "stdout",
       "text": [
        "\r",
        "STEP   240 / 266 (thread    2)d"
       ]
      },
      {
       "output_type": "stream",
       "stream": "stdout",
       "text": [
        "\r",
        "STEP   242 / 266 (thread    1)\r",
        "STEP   245 / 266 (thread    2)df"
       ]
      },
      {
       "output_type": "stream",
       "stream": "stdout",
       "text": [
        "\r",
        "STEP   247 / 266 (thread    1)\r",
        "STEP   243 / 266 (thread    0)fd"
       ]
      },
      {
       "output_type": "stream",
       "stream": "stdout",
       "text": [
        "\r",
        "STEP   248 / 266 (thread    1)f"
       ]
      },
      {
       "output_type": "stream",
       "stream": "stdout",
       "text": [
        "\r",
        "STEP   250 / 266 (thread    0)\r",
        "STEP   244 / 266 (thread    3)fd"
       ]
      },
      {
       "output_type": "stream",
       "stream": "stdout",
       "text": [
        "\r",
        "STEP   251 / 266 (thread    0)d"
       ]
      },
      {
       "output_type": "stream",
       "stream": "stdout",
       "text": [
        "\r",
        "STEP   246 / 266 (thread    2)d"
       ]
      },
      {
       "output_type": "stream",
       "stream": "stdout",
       "text": [
        "\r",
        "STEP   249 / 266 (thread    1)d"
       ]
      },
      {
       "output_type": "stream",
       "stream": "stdout",
       "text": [
        "\r",
        "STEP   255 / 266 (thread    1)\r",
        "STEP   252 / 266 (thread    0)fd"
       ]
      },
      {
       "output_type": "stream",
       "stream": "stdout",
       "text": [
        "\r",
        "STEP   253 / 266 (thread    3)d"
       ]
      },
      {
       "output_type": "stream",
       "stream": "stdout",
       "text": [
        "\r",
        "STEP   254 / 266 (thread    2)d"
       ]
      },
      {
       "output_type": "stream",
       "stream": "stdout",
       "text": [
        "\r",
        "STEP   256 / 266 (thread    1)d"
       ]
      },
      {
       "output_type": "stream",
       "stream": "stdout",
       "text": [
        "\r",
        "STEP   257 / 266 (thread    0)d"
       ]
      },
      {
       "output_type": "stream",
       "stream": "stdout",
       "text": [
        "\r",
        "STEP   258 / 266 (thread    3)d"
       ]
      },
      {
       "output_type": "stream",
       "stream": "stdout",
       "text": [
        "\r",
        "STEP   259 / 266 (thread    2)d\r",
        "STEP   262 / 266 (thread    3)d"
       ]
      },
      {
       "output_type": "stream",
       "stream": "stdout",
       "text": [
        "\r",
        "STEP   260 / 266 (thread    1)d"
       ]
      },
      {
       "output_type": "stream",
       "stream": "stdout",
       "text": [
        "\r",
        "STEP   261 / 266 (thread    0)d"
       ]
      },
      {
       "output_type": "stream",
       "stream": "stdout",
       "text": [
        "\r\n",
        "Reallocating..done. *alloclen = 10797\r\n",
        "\r",
        "STEP   263 / 266 (thread    3)d"
       ]
      },
      {
       "output_type": "stream",
       "stream": "stdout",
       "text": [
        "\r",
        "STEP   264 / 266 (thread    2)d"
       ]
      },
      {
       "output_type": "stream",
       "stream": "stdout",
       "text": [
        "\r",
        "STEP   265 / 266 (thread    1)d"
       ]
      },
      {
       "output_type": "stream",
       "stream": "stdout",
       "text": [
        "\r",
        "STEP   266 / 266 (thread    0)d"
       ]
      },
      {
       "output_type": "stream",
       "stream": "stdout",
       "text": [
        "\r\n",
        "done.\r\n",
        "\r\n",
        "Making a distance matrix from msa.. \r\n",
        "\r",
        "    0 / 267 (thread    0)\r",
        "   10 / 267 (thread    2)\r",
        "   20 / 267 (thread    3)\r",
        "   30 / 267 (thread    1)\r",
        "   40 / 267 (thread    1)"
       ]
      },
      {
       "output_type": "stream",
       "stream": "stdout",
       "text": [
        "\r",
        "   50 / 267 (thread    2)\r",
        "   60 / 267 (thread    1)\r",
        "   70 / 267 (thread    3)\r",
        "   80 / 267 (thread    2)\r",
        "   90 / 267 (thread    2)\r",
        "  100 / 267 (thread    1)\r",
        "  110 / 267 (thread    0)"
       ]
      },
      {
       "output_type": "stream",
       "stream": "stdout",
       "text": [
        "\r",
        "  120 / 267 (thread    1)\r",
        "  130 / 267 (thread    1)\r",
        "  140 / 267 (thread    0)\r",
        "  150 / 267 (thread    2)\r",
        "  160 / 267 (thread    0)\r",
        "  170 / 267 (thread    1)\r",
        "  180 / 267 (thread    1)\r",
        "  190 / 267 (thread    1)\r",
        "  200 / 267 (thread    1)\r",
        "  210 / 267 (thread    0)\r",
        "  220 / 267 (thread    1)\r",
        "  230 / 267 (thread    1)\r",
        "  240 / 267 (thread    1)\r",
        "  250 / 267 (thread    2)\r",
        "  260 / 267 (thread    2)\r\n",
        "done.\r\n",
        "\r\n",
        "Constructing a UPGMA tree ... \r\n",
        "\r",
        "    0 / 267\r",
        "   10 / 267\r",
        "   20 / 267\r",
        "   30 / 267\r",
        "   40 / 267\r",
        "   50 / 267\r",
        "   60 / 267\r",
        "   70 / 267\r",
        "   80 / 267\r",
        "   90 / 267\r",
        "  100 / 267\r",
        "  110 / 267\r",
        "  120 / 267\r",
        "  130 / 267\r",
        "  140 / 267\r",
        "  150 / 267\r",
        "  160 / 267\r",
        "  170 / 267\r",
        "  180 / 267\r",
        "  190 / 267\r",
        "  200 / 267\r",
        "  210 / 267\r",
        "  220 / 267\r",
        "  230 / 267\r",
        "  240 / 267\r",
        "  250 / 267\r",
        "  260 / 267\r\n",
        "done.\r\n",
        "\r\n",
        "Progressive alignment 2/2... \r\n",
        "\r",
        "STEP     1 / 266 (thread    0)f\r",
        "STEP     2 / 266 (thread    1)f\r",
        "STEP     3 / 266 (thread    2)\r",
        "STEP     4 / 266 (thread    3)ff"
       ]
      },
      {
       "output_type": "stream",
       "stream": "stdout",
       "text": [
        "\r",
        "STEP     5 / 266 (thread    2)f\r",
        "STEP     6 / 266 (thread    1)f\r",
        "STEP     7 / 266 (thread    0)f\r",
        "STEP     8 / 266 (thread    3)f\r",
        "STEP     9 / 266 (thread    2)f\r",
        "STEP    10 / 266 (thread    1)f\r",
        "STEP    11 / 266 (thread    0)f\r",
        "STEP    12 / 266 (thread    3)f\r",
        "STEP    13 / 266 (thread    0)f\r",
        "STEP    14 / 266 (thread    3)f\r",
        "STEP    15 / 266 (thread    0)f\r",
        "STEP    16 / 266 (thread    3)f"
       ]
      },
      {
       "output_type": "stream",
       "stream": "stdout",
       "text": [
        "\r",
        "STEP    17 / 266 (thread    2)f\r",
        "STEP    18 / 266 (thread    1)f\r",
        "STEP    19 / 266 (thread    3)f\r",
        "STEP    20 / 266 (thread    1)f\r",
        "STEP    21 / 266 (thread    1)f\r",
        "STEP    22 / 266 (thread    2)f\r",
        "STEP    23 / 266 (thread    3)f\r",
        "STEP    24 / 266 (thread    0)f\r",
        "STEP    25 / 266 (thread    2)f\r",
        "STEP    26 / 266 (thread    1)f\r",
        "STEP    27 / 266 (thread    1)f"
       ]
      },
      {
       "output_type": "stream",
       "stream": "stdout",
       "text": [
        "\r",
        "STEP    28 / 266 (thread    2)f\r",
        "STEP    29 / 266 (thread    0)f\r",
        "STEP    30 / 266 (thread    3)f\r",
        "STEP    31 / 266 (thread    1)f\r",
        "STEP    32 / 266 (thread    2)f\r",
        "STEP    33 / 266 (thread    0)f\r",
        "STEP    34 / 266 (thread    2)f\r",
        "STEP    35 / 266 (thread    2)f\r",
        "STEP    36 / 266 (thread    1)f\r",
        "STEP    37 / 266 (thread    3)f"
       ]
      },
      {
       "output_type": "stream",
       "stream": "stdout",
       "text": [
        "\r",
        "STEP    38 / 266 (thread    2)f\r",
        "STEP    39 / 266 (thread    0)f\r",
        "STEP    40 / 266 (thread    3)f\r",
        "STEP    41 / 266 (thread    0)f\r",
        "STEP    42 / 266 (thread    2)f\r",
        "STEP    43 / 266 (thread    3)f"
       ]
      },
      {
       "output_type": "stream",
       "stream": "stdout",
       "text": [
        "\r",
        "STEP    44 / 266 (thread    2)f\r",
        "STEP    45 / 266 (thread    2)f\r",
        "STEP    46 / 266 (thread    3)d\r",
        "STEP    47 / 266 (thread    1)f\r",
        "STEP    48 / 266 (thread    0)d"
       ]
      },
      {
       "output_type": "stream",
       "stream": "stdout",
       "text": [
        "\r",
        "STEP    49 / 266 (thread    2)f\r",
        "STEP    50 / 266 (thread    1)d\r",
        "STEP    51 / 266 (thread    2)f"
       ]
      },
      {
       "output_type": "stream",
       "stream": "stdout",
       "text": [
        "\r",
        "STEP    52 / 266 (thread    3)f\r",
        "STEP    53 / 266 (thread    1)f\r",
        "STEP    54 / 266 (thread    2)d\r",
        "STEP    55 / 266 (thread    0)f"
       ]
      },
      {
       "output_type": "stream",
       "stream": "stdout",
       "text": [
        "\r",
        "STEP    56 / 266 (thread    3)d\r",
        "STEP    57 / 266 (thread    0)f\r",
        "STEP    58 / 266 (thread    1)f\r",
        "STEP    59 / 266 (thread    0)d\r",
        "STEP    60 / 266 (thread    2)f"
       ]
      },
      {
       "output_type": "stream",
       "stream": "stdout",
       "text": [
        "\r",
        "STEP    61 / 266 (thread    3)d\r",
        "STEP    62 / 266 (thread    1)d\r",
        "STEP    63 / 266 (thread    2)d\r",
        "STEP    64 / 266 (thread    0)d"
       ]
      },
      {
       "output_type": "stream",
       "stream": "stdout",
       "text": [
        "\r",
        "STEP    65 / 266 (thread    3)f\r",
        "STEP    66 / 266 (thread    3)f\r",
        "STEP    67 / 266 (thread    1)d\r",
        "STEP    68 / 266 (thread    2)d\r",
        "STEP    69 / 266 (thread    0)d"
       ]
      },
      {
       "output_type": "stream",
       "stream": "stdout",
       "text": [
        "\r",
        "STEP    71 / 266 (thread    1)d\r",
        "STEP    70 / 266 (thread    3)d\r",
        "STEP    72 / 266 (thread    0)d"
       ]
      },
      {
       "output_type": "stream",
       "stream": "stdout",
       "text": [
        "\r",
        "STEP    73 / 266 (thread    1)f\r",
        "STEP    74 / 266 (thread    2)d\r",
        "STEP    75 / 266 (thread    3)f\r",
        "STEP    76 / 266 (thread    1)d\r",
        "STEP    77 / 266 (thread    3)f\r",
        "STEP    78 / 266 (thread    0)f"
       ]
      },
      {
       "output_type": "stream",
       "stream": "stdout",
       "text": [
        "\r",
        "STEP    79 / 266 (thread    3)f\r",
        "STEP    80 / 266 (thread    2)f\r",
        "STEP    81 / 266 (thread    3)f\r",
        "STEP    82 / 266 (thread    1)d"
       ]
      },
      {
       "output_type": "stream",
       "stream": "stdout",
       "text": [
        "\r",
        "STEP    83 / 266 (thread    0)f\r",
        "STEP    84 / 266 (thread    2)d\r",
        "STEP    85 / 266 (thread    3)f\r",
        "STEP    86 / 266 (thread    0)\r",
        "STEP    87 / 266 (thread    1)df"
       ]
      },
      {
       "output_type": "stream",
       "stream": "stdout",
       "text": [
        "\r",
        "STEP    88 / 266 (thread    3)d\r",
        "STEP    89 / 266 (thread    2)f\r",
        "STEP    90 / 266 (thread    1)f\r",
        "STEP    91 / 266 (thread    2)f"
       ]
      },
      {
       "output_type": "stream",
       "stream": "stdout",
       "text": [
        "\r",
        "STEP    92 / 266 (thread    0)d\r",
        "STEP    93 / 266 (thread    3)f\r",
        "STEP    94 / 266 (thread    2)d\r",
        "STEP    95 / 266 (thread    1)d"
       ]
      },
      {
       "output_type": "stream",
       "stream": "stdout",
       "text": [
        "\r",
        "STEP    97 / 266 (thread    0)d\r",
        "STEP    96 / 266 (thread    3)d\r",
        "STEP    98 / 266 (thread    2)f\r",
        "STEP    99 / 266 (thread    1)f\r",
        "STEP   100 / 266 (thread    1)d"
       ]
      },
      {
       "output_type": "stream",
       "stream": "stdout",
       "text": [
        "\r",
        "STEP   101 / 266 (thread    3)d\r",
        "STEP   102 / 266 (thread    2)d\r",
        "STEP   103 / 266 (thread    1)f"
       ]
      },
      {
       "output_type": "stream",
       "stream": "stdout",
       "text": [
        "\r",
        "STEP   104 / 266 (thread    1)f\r",
        "STEP   105 / 266 (thread    3)d\r",
        "STEP   106 / 266 (thread    2)d\r",
        "STEP   107 / 266 (thread    0)d"
       ]
      },
      {
       "output_type": "stream",
       "stream": "stdout",
       "text": [
        "\r",
        "STEP   108 / 266 (thread    1)f\r",
        "STEP   109 / 266 (thread    3)f"
       ]
      },
      {
       "output_type": "stream",
       "stream": "stdout",
       "text": [
        "\r",
        "STEP   110 / 266 (thread    2)d\r",
        "STEP   111 / 266 (thread    1)f\r",
        "STEP   112 / 266 (thread    3)d\r",
        "STEP   114 / 266 (thread    0)f\r",
        "STEP   113 / 266 (thread    1)d"
       ]
      },
      {
       "output_type": "stream",
       "stream": "stdout",
       "text": [
        "\r",
        "STEP   115 / 266 (thread    2)f\r",
        "STEP   116 / 266 (thread    3)f\r",
        "STEP   117 / 266 (thread    0)f"
       ]
      },
      {
       "output_type": "stream",
       "stream": "stdout",
       "text": [
        "\r",
        "STEP   118 / 266 (thread    2)d\r",
        "STEP   119 / 266 (thread    3)d\r",
        "STEP   120 / 266 (thread    0)d"
       ]
      },
      {
       "output_type": "stream",
       "stream": "stdout",
       "text": [
        "\r",
        "STEP   121 / 266 (thread    1)d\r",
        "STEP   122 / 266 (thread    2)d\r",
        "STEP   123 / 266 (thread    3)f\r",
        "STEP   124 / 266 (thread    0)f"
       ]
      },
      {
       "output_type": "stream",
       "stream": "stdout",
       "text": [
        "\r",
        "STEP   125 / 266 (thread    3)d\r",
        "STEP   126 / 266 (thread    0)f\r",
        "STEP   127 / 266 (thread    1)f\r",
        "STEP   128 / 266 (thread    2)d\r",
        "STEP   130 / 266 (thread    0)d\r",
        "STEP   129 / 266 (thread    1)d"
       ]
      },
      {
       "output_type": "stream",
       "stream": "stdout",
       "text": [
        "\r",
        "STEP   131 / 266 (thread    3)d\r",
        "STEP   132 / 266 (thread    1)f"
       ]
      },
      {
       "output_type": "stream",
       "stream": "stdout",
       "text": [
        "\r",
        "STEP   133 / 266 (thread    0)d\r",
        "STEP   134 / 266 (thread    1)d\r",
        "STEP   135 / 266 (thread    3)d\r",
        "STEP   136 / 266 (thread    2)f"
       ]
      },
      {
       "output_type": "stream",
       "stream": "stdout",
       "text": [
        "\r",
        "STEP   137 / 266 (thread    1)d\r",
        "STEP   138 / 266 (thread    2)f\r",
        "STEP   139 / 266 (thread    3)f\r",
        "STEP   140 / 266 (thread    0)d\r",
        "STEP   141 / 266 (thread    2)d\r",
        "STEP   142 / 266 (thread    1)d"
       ]
      },
      {
       "output_type": "stream",
       "stream": "stdout",
       "text": [
        "\r",
        "STEP   143 / 266 (thread    3)d\r",
        "STEP   144 / 266 (thread    2)d\r",
        "STEP   145 / 266 (thread    0)d"
       ]
      },
      {
       "output_type": "stream",
       "stream": "stdout",
       "text": [
        "\r",
        "STEP   146 / 266 (thread    1)f\r",
        "STEP   147 / 266 (thread    3)d\r",
        "STEP   148 / 266 (thread    1)d\r",
        "STEP   149 / 266 (thread    0)d\r",
        "STEP   150 / 266 (thread    2)d"
       ]
      },
      {
       "output_type": "stream",
       "stream": "stdout",
       "text": [
        "\r",
        "STEP   151 / 266 (thread    3)d\r",
        "STEP   153 / 266 (thread    1)d\r",
        "STEP   152 / 266 (thread    0)d"
       ]
      },
      {
       "output_type": "stream",
       "stream": "stdout",
       "text": [
        "\r",
        "STEP   154 / 266 (thread    2)d\r",
        "STEP   155 / 266 (thread    0)d\r",
        "STEP   156 / 266 (thread    1)d"
       ]
      },
      {
       "output_type": "stream",
       "stream": "stdout",
       "text": [
        "\r",
        "STEP   157 / 266 (thread    3)f\r",
        "STEP   158 / 266 (thread    3)d\r",
        "STEP   159 / 266 (thread    2)d"
       ]
      },
      {
       "output_type": "stream",
       "stream": "stdout",
       "text": [
        "\r",
        "STEP   160 / 266 (thread    0)d\r",
        "STEP   161 / 266 (thread    1)d\r",
        "STEP   162 / 266 (thread    2)f\r",
        "STEP   163 / 266 (thread    3)d"
       ]
      },
      {
       "output_type": "stream",
       "stream": "stdout",
       "text": [
        "\r",
        "STEP   164 / 266 (thread    0)d\r",
        "STEP   165 / 266 (thread    1)d\r",
        "STEP   166 / 266 (thread    2)d\r",
        "STEP   167 / 266 (thread    3)d"
       ]
      },
      {
       "output_type": "stream",
       "stream": "stdout",
       "text": [
        "\r",
        "STEP   168 / 266 (thread    1)d"
       ]
      },
      {
       "output_type": "stream",
       "stream": "stdout",
       "text": [
        "\r",
        "STEP   169 / 266 (thread    2)d\r",
        "STEP   171 / 266 (thread    3)d\r",
        "STEP   170 / 266 (thread    0)d"
       ]
      },
      {
       "output_type": "stream",
       "stream": "stdout",
       "text": [
        "\r",
        "STEP   172 / 266 (thread    1)d\r",
        "STEP   173 / 266 (thread    2)d"
       ]
      },
      {
       "output_type": "stream",
       "stream": "stdout",
       "text": [
        "\r",
        "STEP   175 / 266 (thread    0)f\r",
        "STEP   174 / 266 (thread    3)d\r",
        "STEP   176 / 266 (thread    1)d\r",
        "STEP   177 / 266 (thread    0)f"
       ]
      },
      {
       "output_type": "stream",
       "stream": "stdout",
       "text": [
        "\r",
        "STEP   178 / 266 (thread    0)f\r",
        "STEP   179 / 266 (thread    0)d\r",
        "STEP   180 / 266 (thread    2)f"
       ]
      },
      {
       "output_type": "stream",
       "stream": "stdout",
       "text": [
        "\r\n",
        "Reallocating..done. *alloclen = 5680\r\n",
        "\r",
        "STEP   182 / 266 (thread    1)d\r",
        "STEP   183 / 266 (thread    2)d\r",
        "STEP   184 / 266 (thread    0)d\r",
        "STEP   181 / 266 (thread    3)d"
       ]
      },
      {
       "output_type": "stream",
       "stream": "stdout",
       "text": [
        "\r",
        "STEP   185 / 266 (thread    2)d"
       ]
      },
      {
       "output_type": "stream",
       "stream": "stdout",
       "text": [
        "\r",
        "STEP   186 / 266 (thread    3)d\r",
        "STEP   187 / 266 (thread    2)d\r",
        "STEP   188 / 266 (thread    1)d"
       ]
      },
      {
       "output_type": "stream",
       "stream": "stdout",
       "text": [
        "\r",
        "STEP   189 / 266 (thread    0)f"
       ]
      },
      {
       "output_type": "stream",
       "stream": "stdout",
       "text": [
        "\r",
        "STEP   191 / 266 (thread    3)f\r",
        "STEP   192 / 266 (thread    2)d"
       ]
      },
      {
       "output_type": "stream",
       "stream": "stdout",
       "text": [
        "\r",
        "STEP   190 / 266 (thread    0)d\r",
        "STEP   194 / 266 (thread    1)f\r",
        "STEP   195 / 266 (thread    2)d"
       ]
      },
      {
       "output_type": "stream",
       "stream": "stdout",
       "text": [
        "\r",
        "STEP   197 / 266 (thread    2)d\r",
        "STEP   193 / 266 (thread    3)d\r",
        "STEP   198 / 266 (thread    0)d"
       ]
      },
      {
       "output_type": "stream",
       "stream": "stdout",
       "text": [
        "\r",
        "STEP   200 / 266 (thread    2)f\r",
        "STEP   199 / 266 (thread    0)d"
       ]
      },
      {
       "output_type": "stream",
       "stream": "stdout",
       "text": [
        "\r",
        "STEP   196 / 266 (thread    1)d"
       ]
      },
      {
       "output_type": "stream",
       "stream": "stdout",
       "text": [
        "\r",
        "STEP   202 / 266 (thread    3)d"
       ]
      },
      {
       "output_type": "stream",
       "stream": "stdout",
       "text": [
        "\r",
        "STEP   201 / 266 (thread    2)d"
       ]
      },
      {
       "output_type": "stream",
       "stream": "stdout",
       "text": [
        "\r\n",
        "Reallocating..done. *alloclen = 6703\r\n",
        "\r",
        "STEP   203 / 266 (thread    0)d\r",
        "STEP   205 / 266 (thread    3)f"
       ]
      },
      {
       "output_type": "stream",
       "stream": "stdout",
       "text": [
        "\r",
        "STEP   204 / 266 (thread    1)d\r",
        "STEP   207 / 266 (thread    2)f\r",
        "STEP   208 / 266 (thread    2)f\r",
        "STEP   209 / 266 (thread    0)f"
       ]
      },
      {
       "output_type": "stream",
       "stream": "stdout",
       "text": [
        "\r",
        "STEP   211 / 266 (thread    0)f"
       ]
      },
      {
       "output_type": "stream",
       "stream": "stdout",
       "text": [
        "\r",
        "STEP   206 / 266 (thread    3)d\r",
        "STEP   213 / 266 (thread    1)f"
       ]
      },
      {
       "output_type": "stream",
       "stream": "stdout",
       "text": [
        "\r",
        "STEP   214 / 266 (thread    1)d"
       ]
      },
      {
       "output_type": "stream",
       "stream": "stdout",
       "text": [
        "\r",
        "STEP   210 / 266 (thread    2)\r",
        "STEP   215 / 266 (thread    3)dd"
       ]
      },
      {
       "output_type": "stream",
       "stream": "stdout",
       "text": [
        "\r",
        "STEP   217 / 266 (thread    3)d"
       ]
      },
      {
       "output_type": "stream",
       "stream": "stdout",
       "text": [
        "\r",
        "STEP   212 / 266 (thread    0)d\r",
        "STEP   218 / 266 (thread    2)d"
       ]
      },
      {
       "output_type": "stream",
       "stream": "stdout",
       "text": [
        "\r",
        "STEP   219 / 266 (thread    3)d\r",
        "STEP   221 / 266 (thread    0)\r",
        "STEP   216 / 266 (thread    1)dd"
       ]
      },
      {
       "output_type": "stream",
       "stream": "stdout",
       "text": [
        "\r",
        "STEP   220 / 266 (thread    2)\r",
        "STEP   224 / 266 (thread    1)dd"
       ]
      },
      {
       "output_type": "stream",
       "stream": "stdout",
       "text": [
        "\r",
        "STEP   222 / 266 (thread    0)\r",
        "STEP   226 / 266 (thread    2)dd"
       ]
      },
      {
       "output_type": "stream",
       "stream": "stdout",
       "text": [
        "\r",
        "STEP   227 / 266 (thread    2)d"
       ]
      },
      {
       "output_type": "stream",
       "stream": "stdout",
       "text": [
        "\r",
        "STEP   223 / 266 (thread    3)d"
       ]
      },
      {
       "output_type": "stream",
       "stream": "stdout",
       "text": [
        "\r",
        "STEP   225 / 266 (thread    1)d\r",
        "STEP   230 / 266 (thread    3)d"
       ]
      },
      {
       "output_type": "stream",
       "stream": "stdout",
       "text": [
        "\r",
        "STEP   231 / 266 (thread    3)d"
       ]
      },
      {
       "output_type": "stream",
       "stream": "stdout",
       "text": [
        "\r",
        "STEP   228 / 266 (thread    0)d"
       ]
      },
      {
       "output_type": "stream",
       "stream": "stdout",
       "text": [
        "\r",
        "STEP   229 / 266 (thread    2)d\r",
        "STEP   234 / 266 (thread    0)d"
       ]
      },
      {
       "output_type": "stream",
       "stream": "stdout",
       "text": [
        "\r\n",
        "Reallocating..done. *alloclen = 9258\r\n",
        "\r",
        "STEP   232 / 266 (thread    3)d"
       ]
      },
      {
       "output_type": "stream",
       "stream": "stdout",
       "text": [
        "\r",
        "STEP   233 / 266 (thread    1)\r",
        "STEP   237 / 266 (thread    3)dd"
       ]
      },
      {
       "output_type": "stream",
       "stream": "stdout",
       "text": [
        "\r",
        "STEP   235 / 266 (thread    0)d"
       ]
      },
      {
       "output_type": "stream",
       "stream": "stdout",
       "text": [
        "\r",
        "STEP   236 / 266 (thread    2)d"
       ]
      },
      {
       "output_type": "stream",
       "stream": "stdout",
       "text": [
        "\r",
        "STEP   238 / 266 (thread    3)d\r",
        "STEP   241 / 266 (thread    2)d"
       ]
      },
      {
       "output_type": "stream",
       "stream": "stdout",
       "text": [
        "\r",
        "STEP   239 / 266 (thread    1)d"
       ]
      },
      {
       "output_type": "stream",
       "stream": "stdout",
       "text": [
        "\r",
        "STEP   240 / 266 (thread    0)d\r",
        "STEP   244 / 266 (thread    1)d"
       ]
      },
      {
       "output_type": "stream",
       "stream": "stdout",
       "text": [
        "\r",
        "STEP   246 / 266 (thread    0)f\r",
        "STEP   242 / 266 (thread    2)d"
       ]
      },
      {
       "output_type": "stream",
       "stream": "stdout",
       "text": [
        "\r",
        "STEP   243 / 266 (thread    3)d"
       ]
      },
      {
       "output_type": "stream",
       "stream": "stdout",
       "text": [
        "\r",
        "STEP   245 / 266 (thread    1)d"
       ]
      },
      {
       "output_type": "stream",
       "stream": "stdout",
       "text": [
        "\r",
        "STEP   247 / 266 (thread    0)\r",
        "STEP   250 / 266 (thread    1)dd"
       ]
      },
      {
       "output_type": "stream",
       "stream": "stdout",
       "text": [
        "\r",
        "STEP   248 / 266 (thread    2)d"
       ]
      },
      {
       "output_type": "stream",
       "stream": "stdout",
       "text": [
        "\r",
        "STEP   249 / 266 (thread    3)d"
       ]
      },
      {
       "output_type": "stream",
       "stream": "stdout",
       "text": [
        "\r",
        "STEP   251 / 266 (thread    1)d"
       ]
      },
      {
       "output_type": "stream",
       "stream": "stdout",
       "text": [
        "\r",
        "STEP   252 / 266 (thread    0)d\r",
        "STEP   255 / 266 (thread    1)d"
       ]
      },
      {
       "output_type": "stream",
       "stream": "stdout",
       "text": [
        "\r",
        "STEP   256 / 266 (thread    1)d"
       ]
      },
      {
       "output_type": "stream",
       "stream": "stdout",
       "text": [
        "\r",
        "STEP   253 / 266 (thread    2)d"
       ]
      },
      {
       "output_type": "stream",
       "stream": "stdout",
       "text": [
        "\r",
        "STEP   254 / 266 (thread    3)d"
       ]
      },
      {
       "output_type": "stream",
       "stream": "stdout",
       "text": [
        "\r",
        "STEP   257 / 266 (thread    1)d"
       ]
      },
      {
       "output_type": "stream",
       "stream": "stdout",
       "text": [
        "\r",
        "STEP   258 / 266 (thread    0)d"
       ]
      },
      {
       "output_type": "stream",
       "stream": "stdout",
       "text": [
        "\r",
        "STEP   259 / 266 (thread    2)d"
       ]
      },
      {
       "output_type": "stream",
       "stream": "stdout",
       "text": [
        "\r",
        "STEP   260 / 266 (thread    3)d"
       ]
      },
      {
       "output_type": "stream",
       "stream": "stdout",
       "text": [
        "\r",
        "STEP   261 / 266 (thread    1)d"
       ]
      },
      {
       "output_type": "stream",
       "stream": "stdout",
       "text": [
        "\r",
        "STEP   262 / 266 (thread    0)d\r",
        "STEP   265 / 266 (thread    1)d"
       ]
      },
      {
       "output_type": "stream",
       "stream": "stdout",
       "text": [
        "\r",
        "STEP   263 / 266 (thread    2)d"
       ]
      },
      {
       "output_type": "stream",
       "stream": "stdout",
       "text": [
        "\r",
        "STEP   264 / 266 (thread    3)d"
       ]
      },
      {
       "output_type": "stream",
       "stream": "stdout",
       "text": [
        "\r\n",
        "Reallocating..done. *alloclen = 11212\r\n",
        "\r",
        "STEP   266 / 266 (thread    1)d"
       ]
      },
      {
       "output_type": "stream",
       "stream": "stdout",
       "text": [
        "\r\n",
        "done.\r\n",
        "\r\n",
        "disttbfast (nuc) Version 7.187 alg=A, model=DNA200 (2), 1.53 (4.59), -0.00 (-0.00), noshift, amax=0.0\r\n",
        "4 thread(s)\r\n",
        "\r\n",
        "\r\n",
        "Strategy:\r\n",
        " FFT-NS-2 (Fast but rough)\r\n",
        " Progressive method (guide trees were built 2 times.)\r\n",
        "\r\n",
        "If unsure which option to use, try 'mafft --auto input > output'.\r\n",
        "For more information, see 'mafft --help', 'mafft --man' and the mafft page.\r\n",
        "\r\n",
        "The default gap scoring scheme has been changed in version 7.110 (2013 Oct).\r\n",
        "It tends to insert more gaps into gap-rich regions than previous versions.\r\n",
        "To disable this change, add the --legacygappenalty option.\r\n",
        "\r\n"
       ]
      },
      {
       "output_type": "stream",
       "stream": "stdout",
       "text": [
        "\r\n"
       ]
      },
      {
       "output_type": "stream",
       "stream": "stdout",
       "text": [
        "nseq =  267\r\n",
        "distance =  ktuples\r\n",
        "iterate =  0\r\n",
        "cycle =  2\r\n",
        "nguidetree = 2\r\n",
        "nthread = 4\r\n",
        "sueff_global = 0.100000\r\n"
       ]
      },
      {
       "output_type": "stream",
       "stream": "stdout",
       "text": [
        "generating a scoring matrix for nucleotide (dist=200) ... done\r\n",
        "done\r\n",
        "done\r\n",
        "scoremtx = -1\r\n",
        "Gap Penalty = -1.53, +0.00, +0.00\r\n",
        "\r\n",
        "tuplesize = 6, dorp = d\r\n",
        "\r\n",
        "\r\n",
        "Making a distance matrix ..\r\n",
        "\r\n",
        "There are 871 ambiguous characters.\r\n",
        "\r",
        "    1 / 267 (thread    1)\r",
        "   11 / 267 (thread    2)"
       ]
      },
      {
       "output_type": "stream",
       "stream": "stdout",
       "text": [
        "\r",
        "   21 / 267 (thread    1)\r",
        "   31 / 267 (thread    0)\r",
        "   41 / 267 (thread    0)\r",
        "   51 / 267 (thread    2)\r",
        "   61 / 267 (thread    1)\r",
        "   71 / 267 (thread    2)\r",
        "   81 / 267 (thread    2)\r",
        "   91 / 267 (thread    0)\r",
        "  101 / 267 (thread    1)\r",
        "  111 / 267 (thread    0)\r",
        "  121 / 267 (thread    0)\r",
        "  131 / 267 (thread    2)\r",
        "  141 / 267 (thread    2)\r",
        "  151 / 267 (thread    1)\r",
        "  161 / 267 (thread    0)\r",
        "  171 / 267 (thread    2)\r",
        "  181 / 267 (thread    0)\r",
        "  191 / 267 (thread    1)\r",
        "  201 / 267 (thread    1)\r",
        "  211 / 267 (thread    0)\r",
        "  221 / 267 (thread    3)"
       ]
      },
      {
       "output_type": "stream",
       "stream": "stdout",
       "text": [
        "\r",
        "  231 / 267 (thread    3)\r",
        "  241 / 267 (thread    2)\r",
        "  251 / 267 (thread    1)\r",
        "  261 / 267 (thread    0)\r\n",
        "done.\r\n",
        "\r\n",
        "Constructing a UPGMA tree ... \r\n",
        "\r",
        "    0 / 267\r",
        "   10 / 267\r",
        "   20 / 267\r",
        "   30 / 267\r",
        "   40 / 267\r",
        "   50 / 267\r",
        "   60 / 267\r",
        "   70 / 267\r",
        "   80 / 267\r",
        "   90 / 267\r",
        "  100 / 267\r",
        "  110 / 267\r",
        "  120 / 267\r",
        "  130 / 267\r",
        "  140 / 267\r",
        "  150 / 267\r",
        "  160 / 267\r",
        "  170 / 267\r",
        "  180 / 267\r",
        "  190 / 267\r",
        "  200 / 267\r",
        "  210 / 267\r",
        "  220 / 267\r",
        "  230 / 267\r",
        "  240 / 267\r",
        "  250 / 267\r",
        "  260 / 267\r\n",
        "done.\r\n",
        "\r\n",
        "Progressive alignment 1/2... \r\n",
        "\r",
        "STEP     1 / 266 (thread    1)\r",
        "STEP     2 / 266 (thread    2)f\r",
        "STEP     3 / 266 (thread    0)f\r",
        "STEP     4 / 266 (thread    3)ff\r",
        "STEP     5 / 266 (thread    1)f\r",
        "STEP     6 / 266 (thread    0)f\r",
        "STEP     7 / 266 (thread    2)f\r",
        "STEP     8 / 266 (thread    2)f\r",
        "STEP     9 / 266 (thread    1)f\r",
        "STEP    10 / 266 (thread    2)f\r",
        "STEP    11 / 266 (thread    3)f\r",
        "STEP    12 / 266 (thread    0)f\r",
        "STEP    13 / 266 (thread    2)f\r",
        "STEP    14 / 266 (thread    2)f\r",
        "STEP    15 / 266 (thread    3)f\r",
        "STEP    16 / 266 (thread    2)f\r",
        "STEP    17 / 266 (thread    0)f"
       ]
      },
      {
       "output_type": "stream",
       "stream": "stdout",
       "text": [
        "\r",
        "STEP    18 / 266 (thread    3)f\r",
        "STEP    19 / 266 (thread    1)f\r",
        "STEP    20 / 266 (thread    3)f\r",
        "STEP    21 / 266 (thread    1)f\r",
        "STEP    22 / 266 (thread    2)f\r",
        "STEP    23 / 266 (thread    3)f\r",
        "STEP    24 / 266 (thread    1)f\r",
        "STEP    25 / 266 (thread    0)f\r",
        "STEP    26 / 266 (thread    1)f\r",
        "STEP    27 / 266 (thread    0)f\r",
        "STEP    29 / 266 (thread    2)f"
       ]
      },
      {
       "output_type": "stream",
       "stream": "stdout",
       "text": [
        "\r",
        "STEP    30 / 266 (thread    0)f\r",
        "STEP    31 / 266 (thread    2)f\r",
        "STEP    32 / 266 (thread    2)f\r",
        "STEP    33 / 266 (thread    0)f\r",
        "STEP    34 / 266 (thread    2)f"
       ]
      },
      {
       "output_type": "stream",
       "stream": "stdout",
       "text": [
        "\r",
        "STEP    35 / 266 (thread    3)f\r",
        "STEP    28 / 266 (thread    1)d\r",
        "STEP    36 / 266 (thread    3)f\r",
        "STEP    38 / 266 (thread    0)f\r",
        "STEP    39 / 266 (thread    3)f\r",
        "STEP    37 / 266 (thread    2)f"
       ]
      },
      {
       "output_type": "stream",
       "stream": "stdout",
       "text": [
        "\r",
        "STEP    40 / 266 (thread    3)f\r",
        "STEP    41 / 266 (thread    1)f\r",
        "STEP    42 / 266 (thread    0)f\r",
        "STEP    43 / 266 (thread    2)d\r",
        "STEP    44 / 266 (thread    1)f"
       ]
      },
      {
       "output_type": "stream",
       "stream": "stdout",
       "text": [
        "\r",
        "STEP    45 / 266 (thread    3)f\r",
        "STEP    46 / 266 (thread    2)d\r",
        "STEP    47 / 266 (thread    0)f\r",
        "STEP    48 / 266 (thread    1)f\r",
        "STEP    49 / 266 (thread    3)f"
       ]
      },
      {
       "output_type": "stream",
       "stream": "stdout",
       "text": [
        "\r",
        "STEP    50 / 266 (thread    1)f\r",
        "STEP    51 / 266 (thread    2)d\r",
        "STEP    52 / 266 (thread    0)f\r",
        "STEP    53 / 266 (thread    1)d\r",
        "STEP    54 / 266 (thread    3)d"
       ]
      },
      {
       "output_type": "stream",
       "stream": "stdout",
       "text": [
        "\r",
        "STEP    55 / 266 (thread    0)d\r",
        "STEP    56 / 266 (thread    2)f\r",
        "STEP    58 / 266 (thread    1)d\r",
        "STEP    57 / 266 (thread    3)d\r",
        "STEP    59 / 266 (thread    2)d"
       ]
      },
      {
       "output_type": "stream",
       "stream": "stdout",
       "text": [
        "\r",
        "STEP    61 / 266 (thread    1)\r",
        "STEP    60 / 266 (thread    0)fd\r",
        "STEP    62 / 266 (thread    2)f\r",
        "STEP    63 / 266 (thread    3)f"
       ]
      },
      {
       "output_type": "stream",
       "stream": "stdout",
       "text": [
        "\r",
        "STEP    64 / 266 (thread    3)f\r",
        "STEP    66 / 266 (thread    2)f\r",
        "STEP    67 / 266 (thread    3)d\r",
        "STEP    68 / 266 (thread    0)d\r",
        "STEP    65 / 266 (thread    1)d\r",
        "STEP    69 / 266 (thread    2)f"
       ]
      },
      {
       "output_type": "stream",
       "stream": "stdout",
       "text": [
        "\r",
        "STEP    71 / 266 (thread    3)f\r",
        "STEP    70 / 266 (thread    2)d"
       ]
      },
      {
       "output_type": "stream",
       "stream": "stdout",
       "text": [
        "\r",
        "STEP    73 / 266 (thread    1)\r",
        "STEP    72 / 266 (thread    0)fd\r",
        "STEP    74 / 266 (thread    3)f\r",
        "STEP    75 / 266 (thread    2)f\r",
        "STEP    76 / 266 (thread    1)f\r",
        "STEP    77 / 266 (thread    3)f"
       ]
      },
      {
       "output_type": "stream",
       "stream": "stdout",
       "text": [
        "\r",
        "STEP    79 / 266 (thread    1)f\r",
        "STEP    80 / 266 (thread    3)d\r",
        "STEP    78 / 266 (thread    2)d\r",
        "STEP    81 / 266 (thread    0)f\r",
        "STEP    82 / 266 (thread    1)f\r",
        "STEP    83 / 266 (thread    0)f"
       ]
      },
      {
       "output_type": "stream",
       "stream": "stdout",
       "text": [
        "\r",
        "STEP    85 / 266 (thread    1)d\r",
        "STEP    86 / 266 (thread    2)f\r",
        "STEP    87 / 266 (thread    0)d\r",
        "STEP    84 / 266 (thread    3)d"
       ]
      },
      {
       "output_type": "stream",
       "stream": "stdout",
       "text": [
        "\r",
        "STEP    88 / 266 (thread    2)d\r",
        "STEP    89 / 266 (thread    1)f\r",
        "STEP    90 / 266 (thread    3)f\r",
        "STEP    91 / 266 (thread    0)d"
       ]
      },
      {
       "output_type": "stream",
       "stream": "stdout",
       "text": [
        "\r",
        "STEP    92 / 266 (thread    1)f\r",
        "STEP    93 / 266 (thread    2)d\r",
        "STEP    94 / 266 (thread    3)d\r",
        "STEP    95 / 266 (thread    1)f"
       ]
      },
      {
       "output_type": "stream",
       "stream": "stdout",
       "text": [
        "\r",
        "STEP    96 / 266 (thread    2)d\r",
        "STEP    97 / 266 (thread    0)d\r",
        "STEP    98 / 266 (thread    1)f\r",
        "STEP    99 / 266 (thread    3)d\r",
        "STEP   100 / 266 (thread    1)f"
       ]
      },
      {
       "output_type": "stream",
       "stream": "stdout",
       "text": [
        "\r",
        "STEP   101 / 266 (thread    1)f\r",
        "STEP   103 / 266 (thread    0)f\r",
        "STEP   104 / 266 (thread    3)d\r",
        "STEP   102 / 266 (thread    2)d\r",
        "STEP   105 / 266 (thread    0)d"
       ]
      },
      {
       "output_type": "stream",
       "stream": "stdout",
       "text": [
        "\r",
        "STEP   106 / 266 (thread    1)d"
       ]
      },
      {
       "output_type": "stream",
       "stream": "stdout",
       "text": [
        "\r",
        "STEP   107 / 266 (thread    2)d\r",
        "STEP   108 / 266 (thread    3)f\r",
        "STEP   109 / 266 (thread    1)f\r",
        "STEP   110 / 266 (thread    0)f\r",
        "STEP   111 / 266 (thread    3)f\r",
        "STEP   112 / 266 (thread    0)d"
       ]
      },
      {
       "output_type": "stream",
       "stream": "stdout",
       "text": [
        "\r",
        "STEP   113 / 266 (thread    2)d\r",
        "STEP   114 / 266 (thread    1)f\r",
        "STEP   116 / 266 (thread    1)d\r",
        "STEP   117 / 266 (thread    0)f"
       ]
      },
      {
       "output_type": "stream",
       "stream": "stdout",
       "text": [
        "\r",
        "STEP   119 / 266 (thread    1)d\r",
        "STEP   120 / 266 (thread    2)d\r",
        "STEP   115 / 266 (thread    3)d"
       ]
      },
      {
       "output_type": "stream",
       "stream": "stdout",
       "text": [
        "\r",
        "STEP   121 / 266 (thread    1)d"
       ]
      },
      {
       "output_type": "stream",
       "stream": "stdout",
       "text": [
        "\r",
        "STEP   123 / 266 (thread    3)d\r",
        "STEP   118 / 266 (thread    0)d\r",
        "STEP   124 / 266 (thread    1)d"
       ]
      },
      {
       "output_type": "stream",
       "stream": "stdout",
       "text": [
        "\r",
        "STEP   125 / 266 (thread    3)d"
       ]
      },
      {
       "output_type": "stream",
       "stream": "stdout",
       "text": [
        "\r",
        "STEP   127 / 266 (thread    3)f\r\n",
        "Reallocating..done. *alloclen = 5644\r\n",
        "\r",
        "STEP   122 / 266 (thread    2)d\r",
        "STEP   128 / 266 (thread    0)d\r",
        "STEP   129 / 266 (thread    3)d"
       ]
      },
      {
       "output_type": "stream",
       "stream": "stdout",
       "text": [
        "\r",
        "STEP   130 / 266 (thread    3)d"
       ]
      },
      {
       "output_type": "stream",
       "stream": "stdout",
       "text": [
        "\r",
        "STEP   126 / 266 (thread    1)d\r",
        "STEP   132 / 266 (thread    2)d"
       ]
      },
      {
       "output_type": "stream",
       "stream": "stdout",
       "text": [
        "\r",
        "STEP   133 / 266 (thread    3)d"
       ]
      },
      {
       "output_type": "stream",
       "stream": "stdout",
       "text": [
        "\r",
        "STEP   135 / 266 (thread    3)d"
       ]
      },
      {
       "output_type": "stream",
       "stream": "stdout",
       "text": [
        "\r",
        "STEP   136 / 266 (thread    3)d\r",
        "STEP   131 / 266 (thread    0)d\r",
        "STEP   137 / 266 (thread    1)d"
       ]
      },
      {
       "output_type": "stream",
       "stream": "stdout",
       "text": [
        "\r",
        "STEP   138 / 266 (thread    1)d\r",
        "STEP   139 / 266 (thread    3)d"
       ]
      },
      {
       "output_type": "stream",
       "stream": "stdout",
       "text": [
        "\r",
        "STEP   140 / 266 (thread    3)f\r",
        "STEP   141 / 266 (thread    1)d\r",
        "STEP   142 / 266 (thread    3)f"
       ]
      },
      {
       "output_type": "stream",
       "stream": "stdout",
       "text": [
        "\r",
        "STEP   134 / 266 (thread    2)d\r",
        "STEP   144 / 266 (thread    3)d\r",
        "STEP   145 / 266 (thread    1)d"
       ]
      },
      {
       "output_type": "stream",
       "stream": "stdout",
       "text": [
        "\r",
        "STEP   146 / 266 (thread    3)d\r",
        "STEP   143 / 266 (thread    0)d\r",
        "STEP   148 / 266 (thread    2)f"
       ]
      },
      {
       "output_type": "stream",
       "stream": "stdout",
       "text": [
        "\r",
        "STEP   149 / 266 (thread    3)d"
       ]
      },
      {
       "output_type": "stream",
       "stream": "stdout",
       "text": [
        "\r",
        "STEP   147 / 266 (thread    1)d\r",
        "STEP   151 / 266 (thread    0)d"
       ]
      },
      {
       "output_type": "stream",
       "stream": "stdout",
       "text": [
        "\r",
        "STEP   152 / 266 (thread    0)f\r",
        "STEP   154 / 266 (thread    0)d"
       ]
      },
      {
       "output_type": "stream",
       "stream": "stdout",
       "text": [
        "\r",
        "STEP   150 / 266 (thread    2)\r",
        "STEP   155 / 266 (thread    1)df\r",
        "STEP   156 / 266 (thread    1)d"
       ]
      },
      {
       "output_type": "stream",
       "stream": "stdout",
       "text": [
        "\r",
        "STEP   158 / 266 (thread    0)d"
       ]
      },
      {
       "output_type": "stream",
       "stream": "stdout",
       "text": [
        "\r",
        "STEP   159 / 266 (thread    0)d\r",
        "STEP   153 / 266 (thread    3)\r",
        "STEP   160 / 266 (thread    2)dd"
       ]
      },
      {
       "output_type": "stream",
       "stream": "stdout",
       "text": [
        "\r",
        "STEP   161 / 266 (thread    0)d\r",
        "STEP   162 / 266 (thread    2)f"
       ]
      },
      {
       "output_type": "stream",
       "stream": "stdout",
       "text": [
        "\r",
        "STEP   164 / 266 (thread    0)d"
       ]
      },
      {
       "output_type": "stream",
       "stream": "stdout",
       "text": [
        "\r",
        "STEP   157 / 266 (thread    1)d\r",
        "STEP   165 / 266 (thread    3)d\r",
        "STEP   166 / 266 (thread    0)f\r",
        "STEP   167 / 266 (thread    0)f"
       ]
      },
      {
       "output_type": "stream",
       "stream": "stdout",
       "text": [
        "\r",
        "STEP   169 / 266 (thread    3)d\r",
        "STEP   163 / 266 (thread    2)d\r",
        "STEP   170 / 266 (thread    1)d"
       ]
      },
      {
       "output_type": "stream",
       "stream": "stdout",
       "text": [
        "\r",
        "STEP   168 / 266 (thread    0)d\r",
        "STEP   172 / 266 (thread    2)d"
       ]
      },
      {
       "output_type": "stream",
       "stream": "stdout",
       "text": [
        "\r",
        "STEP   173 / 266 (thread    3)f\r",
        "STEP   174 / 266 (thread    3)d\r",
        "STEP   175 / 266 (thread    2)d"
       ]
      },
      {
       "output_type": "stream",
       "stream": "stdout",
       "text": [
        "\r",
        "STEP   176 / 266 (thread    3)d"
       ]
      },
      {
       "output_type": "stream",
       "stream": "stdout",
       "text": [
        "\r",
        "STEP   177 / 266 (thread    0)\r",
        "STEP   171 / 266 (thread    1)dd\r",
        "STEP   178 / 266 (thread    3)f\r",
        "STEP   179 / 266 (thread    3)d\r",
        "STEP   180 / 266 (thread    2)d"
       ]
      },
      {
       "output_type": "stream",
       "stream": "stdout",
       "text": [
        "\r",
        "STEP   181 / 266 (thread    0)d\r",
        "STEP   184 / 266 (thread    3)d\r",
        "STEP   182 / 266 (thread    2)d"
       ]
      },
      {
       "output_type": "stream",
       "stream": "stdout",
       "text": [
        "\r",
        "STEP   185 / 266 (thread    2)f\r",
        "STEP   186 / 266 (thread    2)f"
       ]
      },
      {
       "output_type": "stream",
       "stream": "stdout",
       "text": [
        "\r",
        "STEP   183 / 266 (thread    1)d\r",
        "STEP   188 / 266 (thread    0)d"
       ]
      },
      {
       "output_type": "stream",
       "stream": "stdout",
       "text": [
        "\r",
        "STEP   190 / 266 (thread    0)f\r",
        "STEP   191 / 266 (thread    0)d"
       ]
      },
      {
       "output_type": "stream",
       "stream": "stdout",
       "text": [
        "\r\n",
        "Reallocating..done. *alloclen = 6953\r\n",
        "\r",
        "STEP   187 / 266 (thread    3)d"
       ]
      },
      {
       "output_type": "stream",
       "stream": "stdout",
       "text": [
        "\r",
        "STEP   189 / 266 (thread    2)d\r",
        "STEP   194 / 266 (thread    3)d\r",
        "STEP   195 / 266 (thread    3)d"
       ]
      },
      {
       "output_type": "stream",
       "stream": "stdout",
       "text": [
        "\r",
        "STEP   196 / 266 (thread    3)d"
       ]
      },
      {
       "output_type": "stream",
       "stream": "stdout",
       "text": [
        "\r",
        "STEP   192 / 266 (thread    1)d\r",
        "STEP   197 / 266 (thread    2)d"
       ]
      },
      {
       "output_type": "stream",
       "stream": "stdout",
       "text": [
        "\r",
        "STEP   193 / 266 (thread    0)d\r",
        "STEP   199 / 266 (thread    1)d\r",
        "STEP   200 / 266 (thread    2)d\r",
        "STEP   201 / 266 (thread    1)f"
       ]
      },
      {
       "output_type": "stream",
       "stream": "stdout",
       "text": [
        "\r",
        "STEP   202 / 266 (thread    2)d\r",
        "STEP   203 / 266 (thread    1)d"
       ]
      },
      {
       "output_type": "stream",
       "stream": "stdout",
       "text": [
        "\r",
        "STEP   198 / 266 (thread    3)d\r",
        "STEP   205 / 266 (thread    2)f\r",
        "STEP   206 / 266 (thread    1)f\r",
        "STEP   207 / 266 (thread    1)f\r",
        "STEP   208 / 266 (thread    2)d"
       ]
      },
      {
       "output_type": "stream",
       "stream": "stdout",
       "text": [
        "\r",
        "STEP   210 / 266 (thread    3)\r",
        "STEP   204 / 266 (thread    0)dd"
       ]
      },
      {
       "output_type": "stream",
       "stream": "stdout",
       "text": [
        "\r",
        "STEP   211 / 266 (thread    2)f\r",
        "STEP   212 / 266 (thread    3)d"
       ]
      },
      {
       "output_type": "stream",
       "stream": "stdout",
       "text": [
        "\r",
        "STEP   214 / 266 (thread    3)d"
       ]
      },
      {
       "output_type": "stream",
       "stream": "stdout",
       "text": [
        "\r",
        "STEP   209 / 266 (thread    1)\r",
        "STEP   215 / 266 (thread    0)df"
       ]
      },
      {
       "output_type": "stream",
       "stream": "stdout",
       "text": [
        "\r",
        "STEP   216 / 266 (thread    3)d\r",
        "STEP   217 / 266 (thread    0)d"
       ]
      },
      {
       "output_type": "stream",
       "stream": "stdout",
       "text": [
        "\r",
        "STEP   218 / 266 (thread    1)\r",
        "STEP   213 / 266 (thread    2)fd"
       ]
      },
      {
       "output_type": "stream",
       "stream": "stdout",
       "text": [
        "\r",
        "STEP   221 / 266 (thread    3)d"
       ]
      },
      {
       "output_type": "stream",
       "stream": "stdout",
       "text": [
        "\r",
        "STEP   222 / 266 (thread    2)\r",
        "STEP   219 / 266 (thread    1)dd"
       ]
      },
      {
       "output_type": "stream",
       "stream": "stdout",
       "text": [
        "\r",
        "STEP   224 / 266 (thread    2)d"
       ]
      },
      {
       "output_type": "stream",
       "stream": "stdout",
       "text": [
        "\r",
        "STEP   220 / 266 (thread    0)d\r",
        "STEP   226 / 266 (thread    1)f\r",
        "STEP   227 / 266 (thread    1)d"
       ]
      },
      {
       "output_type": "stream",
       "stream": "stdout",
       "text": [
        "\r",
        "STEP   228 / 266 (thread    1)d"
       ]
      },
      {
       "output_type": "stream",
       "stream": "stdout",
       "text": [
        "\r\n",
        "Reallocating..done. *alloclen = 9470\r\n",
        "\r",
        "STEP   223 / 266 (thread    3)d\r",
        "STEP   230 / 266 (thread    1)d"
       ]
      },
      {
       "output_type": "stream",
       "stream": "stdout",
       "text": [
        "\r",
        "STEP   231 / 266 (thread    1)d"
       ]
      },
      {
       "output_type": "stream",
       "stream": "stdout",
       "text": [
        "\r",
        "STEP   225 / 266 (thread    2)d\r",
        "STEP   233 / 266 (thread    3)d"
       ]
      },
      {
       "output_type": "stream",
       "stream": "stdout",
       "text": [
        "\r",
        "STEP   229 / 266 (thread    0)\r",
        "STEP   235 / 266 (thread    2)df"
       ]
      },
      {
       "output_type": "stream",
       "stream": "stdout",
       "text": [
        "\r",
        "STEP   232 / 266 (thread    1)d"
       ]
      },
      {
       "output_type": "stream",
       "stream": "stdout",
       "text": [
        "\r",
        "STEP   234 / 266 (thread    3)d\r",
        "STEP   238 / 266 (thread    1)d"
       ]
      },
      {
       "output_type": "stream",
       "stream": "stdout",
       "text": [
        "\r",
        "STEP   239 / 266 (thread    1)d"
       ]
      },
      {
       "output_type": "stream",
       "stream": "stdout",
       "text": [
        "\r",
        "STEP   236 / 266 (thread    2)d\r",
        "STEP   241 / 266 (thread    3)d"
       ]
      },
      {
       "output_type": "stream",
       "stream": "stdout",
       "text": [
        "\r",
        "STEP   237 / 266 (thread    0)d"
       ]
      },
      {
       "output_type": "stream",
       "stream": "stdout",
       "text": [
        "\r",
        "STEP   240 / 266 (thread    1)d"
       ]
      },
      {
       "output_type": "stream",
       "stream": "stdout",
       "text": [
        "\r",
        "STEP   242 / 266 (thread    3)\r",
        "STEP   245 / 266 (thread    1)df"
       ]
      },
      {
       "output_type": "stream",
       "stream": "stdout",
       "text": [
        "\r",
        "STEP   243 / 266 (thread    2)\r",
        "STEP   247 / 266 (thread    3)df\r",
        "STEP   248 / 266 (thread    3)f"
       ]
      },
      {
       "output_type": "stream",
       "stream": "stdout",
       "text": [
        "\r",
        "STEP   250 / 266 (thread    2)\r",
        "STEP   244 / 266 (thread    0)fd"
       ]
      },
      {
       "output_type": "stream",
       "stream": "stdout",
       "text": [
        "\r",
        "STEP   251 / 266 (thread    2)d"
       ]
      },
      {
       "output_type": "stream",
       "stream": "stdout",
       "text": [
        "\r",
        "STEP   246 / 266 (thread    1)d"
       ]
      },
      {
       "output_type": "stream",
       "stream": "stdout",
       "text": [
        "\r",
        "STEP   249 / 266 (thread    3)d"
       ]
      },
      {
       "output_type": "stream",
       "stream": "stdout",
       "text": [
        "\r",
        "STEP   252 / 266 (thread    2)\r",
        "STEP   255 / 266 (thread    3)df"
       ]
      },
      {
       "output_type": "stream",
       "stream": "stdout",
       "text": [
        "\r",
        "STEP   253 / 266 (thread    0)d"
       ]
      },
      {
       "output_type": "stream",
       "stream": "stdout",
       "text": [
        "\r",
        "STEP   254 / 266 (thread    1)d"
       ]
      },
      {
       "output_type": "stream",
       "stream": "stdout",
       "text": [
        "\r",
        "STEP   256 / 266 (thread    3)d"
       ]
      },
      {
       "output_type": "stream",
       "stream": "stdout",
       "text": [
        "\r",
        "STEP   257 / 266 (thread    2)d"
       ]
      },
      {
       "output_type": "stream",
       "stream": "stdout",
       "text": [
        "\r",
        "STEP   258 / 266 (thread    0)d"
       ]
      },
      {
       "output_type": "stream",
       "stream": "stdout",
       "text": [
        "\r",
        "STEP   259 / 266 (thread    1)\r",
        "STEP   262 / 266 (thread    0)dd"
       ]
      },
      {
       "output_type": "stream",
       "stream": "stdout",
       "text": [
        "\r",
        "STEP   260 / 266 (thread    3)d"
       ]
      },
      {
       "output_type": "stream",
       "stream": "stdout",
       "text": [
        "\r",
        "STEP   261 / 266 (thread    2)d"
       ]
      },
      {
       "output_type": "stream",
       "stream": "stdout",
       "text": [
        "\r\n",
        "Reallocating..done. *alloclen = 10797\r\n",
        "\r",
        "STEP   263 / 266 (thread    0)d"
       ]
      },
      {
       "output_type": "stream",
       "stream": "stdout",
       "text": [
        "\r",
        "STEP   264 / 266 (thread    1)d"
       ]
      },
      {
       "output_type": "stream",
       "stream": "stdout",
       "text": [
        "\r",
        "STEP   265 / 266 (thread    3)d"
       ]
      },
      {
       "output_type": "stream",
       "stream": "stdout",
       "text": [
        "\r",
        "STEP   266 / 266 (thread    2)d"
       ]
      },
      {
       "output_type": "stream",
       "stream": "stdout",
       "text": [
        "\r\n",
        "done.\r\n",
        "\r\n",
        "Making a distance matrix from msa.. \r\n",
        "\r",
        "    0 / 267 (thread    0)\r",
        "   10 / 267 (thread    3)\r",
        "   20 / 267 (thread    3)\r",
        "   30 / 267 (thread    0)"
       ]
      },
      {
       "output_type": "stream",
       "stream": "stdout",
       "text": [
        "\r",
        "   40 / 267 (thread    1)\r",
        "   50 / 267 (thread    3)\r",
        "   60 / 267 (thread    3)\r",
        "   70 / 267 (thread    1)\r",
        "   80 / 267 (thread    3)\r",
        "   90 / 267 (thread    3)\r",
        "  100 / 267 (thread    2)\r",
        "  110 / 267 (thread    1)\r",
        "  120 / 267 (thread    3)"
       ]
      },
      {
       "output_type": "stream",
       "stream": "stdout",
       "text": [
        "\r",
        "  130 / 267 (thread    3)\r",
        "  140 / 267 (thread    1)\r",
        "  150 / 267 (thread    0)\r",
        "  160 / 267 (thread    0)\r",
        "  170 / 267 (thread    3)\r",
        "  180 / 267 (thread    0)\r",
        "  190 / 267 (thread    3)\r",
        "  200 / 267 (thread    2)\r",
        "  210 / 267 (thread    2)\r",
        "  220 / 267 (thread    3)\r",
        "  230 / 267 (thread    1)\r",
        "  240 / 267 (thread    3)\r",
        "  250 / 267 (thread    1)\r",
        "  260 / 267 (thread    0)\r\n",
        "done.\r\n",
        "\r\n",
        "Constructing a UPGMA tree ... \r\n",
        "\r",
        "    0 / 267\r",
        "   10 / 267\r",
        "   20 / 267\r",
        "   30 / 267\r",
        "   40 / 267\r",
        "   50 / 267\r",
        "   60 / 267\r",
        "   70 / 267\r",
        "   80 / 267\r",
        "   90 / 267\r",
        "  100 / 267\r",
        "  110 / 267\r",
        "  120 / 267\r",
        "  130 / 267\r",
        "  140 / 267\r",
        "  150 / 267\r",
        "  160 / 267\r",
        "  170 / 267\r",
        "  180 / 267\r",
        "  190 / 267\r",
        "  200 / 267\r",
        "  210 / 267\r",
        "  220 / 267\r",
        "  230 / 267\r",
        "  240 / 267\r",
        "  250 / 267\r",
        "  260 / 267\r\n",
        "done.\r\n",
        "\r\n",
        "Progressive alignment 2/2... \r\n",
        "\r",
        "STEP     1 / 266 (thread    0)f\r",
        "STEP     2 / 266 (thread    1)\r",
        "STEP     3 / 266 (thread    3)f\r",
        "STEP     4 / 266 (thread    2)ff\r",
        "STEP     5 / 266 (thread    0)f\r",
        "STEP     6 / 266 (thread    3)f\r",
        "STEP     7 / 266 (thread    2)f\r",
        "STEP     8 / 266 (thread    1)f\r",
        "STEP     9 / 266 (thread    0)f"
       ]
      },
      {
       "output_type": "stream",
       "stream": "stdout",
       "text": [
        "\r",
        "STEP    10 / 266 (thread    3)f\r",
        "STEP    11 / 266 (thread    1)f\r",
        "STEP    12 / 266 (thread    2)f\r",
        "STEP    13 / 266 (thread    1)f\r",
        "STEP    14 / 266 (thread    2)f\r",
        "STEP    15 / 266 (thread    1)f\r",
        "STEP    16 / 266 (thread    2)f\r",
        "STEP    17 / 266 (thread    0)f\r",
        "STEP    18 / 266 (thread    3)f\r",
        "STEP    19 / 266 (thread    2)f\r",
        "STEP    20 / 266 (thread    3)f"
       ]
      },
      {
       "output_type": "stream",
       "stream": "stdout",
       "text": [
        "\r",
        "STEP    21 / 266 (thread    0)f\r",
        "STEP    22 / 266 (thread    3)f\r",
        "STEP    23 / 266 (thread    2)f\r",
        "STEP    24 / 266 (thread    0)f\r",
        "STEP    25 / 266 (thread    3)f\r",
        "STEP    26 / 266 (thread    1)f\r",
        "STEP    27 / 266 (thread    0)f\r",
        "STEP    28 / 266 (thread    3)f\r",
        "STEP    29 / 266 (thread    1)f\r",
        "STEP    30 / 266 (thread    0)f\r",
        "STEP    31 / 266 (thread    2)f\r",
        "STEP    32 / 266 (thread    1)f"
       ]
      },
      {
       "output_type": "stream",
       "stream": "stdout",
       "text": [
        "\r",
        "STEP    33 / 266 (thread    3)f\r",
        "STEP    34 / 266 (thread    2)f\r",
        "STEP    35 / 266 (thread    0)f\r",
        "STEP    36 / 266 (thread    1)f\r",
        "STEP    37 / 266 (thread    0)f\r",
        "STEP    38 / 266 (thread    2)f\r",
        "STEP    39 / 266 (thread    3)f\r",
        "STEP    40 / 266 (thread    0)f"
       ]
      },
      {
       "output_type": "stream",
       "stream": "stdout",
       "text": [
        "\r",
        "STEP    41 / 266 (thread    2)f\r",
        "STEP    42 / 266 (thread    0)f\r",
        "STEP    43 / 266 (thread    3)f\r",
        "STEP    44 / 266 (thread    0)f\r",
        "STEP    45 / 266 (thread    0)f\r",
        "STEP    46 / 266 (thread    1)d"
       ]
      },
      {
       "output_type": "stream",
       "stream": "stdout",
       "text": [
        "\r",
        "STEP    47 / 266 (thread    2)f\r",
        "STEP    48 / 266 (thread    3)d\r",
        "STEP    49 / 266 (thread    2)f\r",
        "STEP    50 / 266 (thread    0)d\r",
        "STEP    51 / 266 (thread    2)f\r",
        "STEP    52 / 266 (thread    1)f"
       ]
      },
      {
       "output_type": "stream",
       "stream": "stdout",
       "text": [
        "\r",
        "STEP    53 / 266 (thread    2)f\r",
        "STEP    54 / 266 (thread    0)d\r",
        "STEP    55 / 266 (thread    3)f\r",
        "STEP    56 / 266 (thread    1)d"
       ]
      },
      {
       "output_type": "stream",
       "stream": "stdout",
       "text": [
        "\r",
        "STEP    57 / 266 (thread    3)f\r",
        "STEP    58 / 266 (thread    0)f\r",
        "STEP    59 / 266 (thread    2)d\r",
        "STEP    60 / 266 (thread    1)f\r",
        "STEP    61 / 266 (thread    0)d\r",
        "STEP    62 / 266 (thread    3)d"
       ]
      },
      {
       "output_type": "stream",
       "stream": "stdout",
       "text": [
        "\r",
        "STEP    63 / 266 (thread    1)d\r",
        "STEP    64 / 266 (thread    2)d\r",
        "STEP    65 / 266 (thread    0)f\r",
        "STEP    66 / 266 (thread    3)f\r",
        "STEP    67 / 266 (thread    0)d\r",
        "STEP    68 / 266 (thread    2)d"
       ]
      },
      {
       "output_type": "stream",
       "stream": "stdout",
       "text": [
        "\r",
        "STEP    69 / 266 (thread    1)d\r",
        "STEP    71 / 266 (thread    0)d\r",
        "STEP    70 / 266 (thread    3)d"
       ]
      },
      {
       "output_type": "stream",
       "stream": "stdout",
       "text": [
        "\r",
        "STEP    72 / 266 (thread    1)d\r",
        "STEP    73 / 266 (thread    2)f\r",
        "STEP    74 / 266 (thread    0)d\r",
        "STEP    75 / 266 (thread    3)f\r",
        "STEP    76 / 266 (thread    2)d"
       ]
      },
      {
       "output_type": "stream",
       "stream": "stdout",
       "text": [
        "\r",
        "STEP    77 / 266 (thread    1)f\r",
        "STEP    78 / 266 (thread    3)f\r",
        "STEP    79 / 266 (thread    1)f"
       ]
      },
      {
       "output_type": "stream",
       "stream": "stdout",
       "text": [
        "\r",
        "STEP    80 / 266 (thread    1)f\r",
        "STEP    81 / 266 (thread    2)f\r",
        "STEP    82 / 266 (thread    0)d\r",
        "STEP    83 / 266 (thread    3)f\r",
        "STEP    84 / 266 (thread    2)d\r",
        "STEP    85 / 266 (thread    1)f"
       ]
      },
      {
       "output_type": "stream",
       "stream": "stdout",
       "text": [
        "\r",
        "STEP    87 / 266 (thread    1)f\r",
        "STEP    86 / 266 (thread    3)d\r",
        "STEP    88 / 266 (thread    0)d\r",
        "STEP    89 / 266 (thread    1)f\r",
        "STEP    90 / 266 (thread    2)f\r",
        "STEP    91 / 266 (thread    1)f\r",
        "STEP    92 / 266 (thread    3)d"
       ]
      },
      {
       "output_type": "stream",
       "stream": "stdout",
       "text": [
        "\r",
        "STEP    93 / 266 (thread    0)f\r",
        "STEP    94 / 266 (thread    2)d\r",
        "STEP    95 / 266 (thread    1)d\r",
        "STEP    96 / 266 (thread    3)d"
       ]
      },
      {
       "output_type": "stream",
       "stream": "stdout",
       "text": [
        "\r",
        "STEP    97 / 266 (thread    0)d\r",
        "STEP    98 / 266 (thread    1)f\r",
        "STEP    99 / 266 (thread    2)f\r",
        "STEP   100 / 266 (thread    2)d"
       ]
      },
      {
       "output_type": "stream",
       "stream": "stdout",
       "text": [
        "\r",
        "STEP   101 / 266 (thread    3)d\r",
        "STEP   102 / 266 (thread    1)d\r",
        "STEP   103 / 266 (thread    2)f"
       ]
      },
      {
       "output_type": "stream",
       "stream": "stdout",
       "text": [
        "\r",
        "STEP   104 / 266 (thread    0)f\r",
        "STEP   105 / 266 (thread    2)d\r",
        "STEP   106 / 266 (thread    1)d\r",
        "STEP   107 / 266 (thread    3)d\r",
        "STEP   108 / 266 (thread    0)f\r",
        "STEP   109 / 266 (thread    2)f"
       ]
      },
      {
       "output_type": "stream",
       "stream": "stdout",
       "text": [
        "\r",
        "STEP   110 / 266 (thread    1)d\r",
        "STEP   111 / 266 (thread    0)f\r",
        "STEP   112 / 266 (thread    2)d\r",
        "STEP   113 / 266 (thread    0)\r",
        "STEP   114 / 266 (thread    3)d"
       ]
      },
      {
       "output_type": "stream",
       "stream": "stdout",
       "text": [
        "f\r",
        "STEP   115 / 266 (thread    1)f\r",
        "STEP   116 / 266 (thread    2)f\r",
        "STEP   117 / 266 (thread    1)f"
       ]
      },
      {
       "output_type": "stream",
       "stream": "stdout",
       "text": [
        "\r",
        "STEP   118 / 266 (thread    3)d\r",
        "STEP   119 / 266 (thread    2)d\r",
        "STEP   120 / 266 (thread    1)d"
       ]
      },
      {
       "output_type": "stream",
       "stream": "stdout",
       "text": [
        "\r",
        "STEP   121 / 266 (thread    3)d\r",
        "STEP   122 / 266 (thread    0)d\r",
        "STEP   123 / 266 (thread    2)f\r",
        "STEP   124 / 266 (thread    1)f\r",
        "STEP   125 / 266 (thread    2)d"
       ]
      },
      {
       "output_type": "stream",
       "stream": "stdout",
       "text": [
        "\r",
        "STEP   126 / 266 (thread    0)f\r",
        "STEP   127 / 266 (thread    3)f\r",
        "STEP   128 / 266 (thread    1)d\r",
        "STEP   129 / 266 (thread    0)d\r",
        "STEP   130 / 266 (thread    3)d"
       ]
      },
      {
       "output_type": "stream",
       "stream": "stdout",
       "text": [
        "\r",
        "STEP   131 / 266 (thread    2)d\r",
        "STEP   132 / 266 (thread    0)f\r",
        "STEP   133 / 266 (thread    0)d"
       ]
      },
      {
       "output_type": "stream",
       "stream": "stdout",
       "text": [
        "\r",
        "STEP   134 / 266 (thread    3)d\r",
        "STEP   135 / 266 (thread    2)d\r",
        "STEP   136 / 266 (thread    1)f\r",
        "STEP   137 / 266 (thread    1)d"
       ]
      },
      {
       "output_type": "stream",
       "stream": "stdout",
       "text": [
        "\r",
        "STEP   138 / 266 (thread    3)f\r",
        "STEP   139 / 266 (thread    0)f\r",
        "STEP   140 / 266 (thread    2)d\r",
        "STEP   141 / 266 (thread    0)d\r",
        "STEP   142 / 266 (thread    1)d\r",
        "STEP   143 / 266 (thread    3)d"
       ]
      },
      {
       "output_type": "stream",
       "stream": "stdout",
       "text": [
        "\r",
        "STEP   144 / 266 (thread    2)d\r",
        "STEP   145 / 266 (thread    3)d\r",
        "STEP   146 / 266 (thread    0)f\r",
        "STEP   147 / 266 (thread    1)d"
       ]
      },
      {
       "output_type": "stream",
       "stream": "stdout",
       "text": [
        "\r",
        "STEP   148 / 266 (thread    0)d\r",
        "STEP   149 / 266 (thread    2)d\r",
        "STEP   150 / 266 (thread    3)d\r",
        "STEP   151 / 266 (thread    1)d"
       ]
      },
      {
       "output_type": "stream",
       "stream": "stdout",
       "text": [
        "\r",
        "STEP   152 / 266 (thread    0)d\r",
        "STEP   153 / 266 (thread    2)d\r",
        "STEP   154 / 266 (thread    3)d"
       ]
      },
      {
       "output_type": "stream",
       "stream": "stdout",
       "text": [
        "\r",
        "STEP   155 / 266 (thread    1)d\r",
        "STEP   156 / 266 (thread    0)d\r",
        "STEP   157 / 266 (thread    2)f\r",
        "STEP   158 / 266 (thread    3)d"
       ]
      },
      {
       "output_type": "stream",
       "stream": "stdout",
       "text": [
        "\r",
        "STEP   159 / 266 (thread    2)d\r",
        "STEP   160 / 266 (thread    1)d\r",
        "STEP   161 / 266 (thread    0)d"
       ]
      },
      {
       "output_type": "stream",
       "stream": "stdout",
       "text": [
        "\r",
        "STEP   162 / 266 (thread    3)f\r",
        "STEP   163 / 266 (thread    2)d\r",
        "STEP   164 / 266 (thread    1)d\r",
        "STEP   165 / 266 (thread    0)d"
       ]
      },
      {
       "output_type": "stream",
       "stream": "stdout",
       "text": [
        "\r",
        "STEP   166 / 266 (thread    2)d\r",
        "STEP   167 / 266 (thread    3)d\r",
        "STEP   168 / 266 (thread    0)d"
       ]
      },
      {
       "output_type": "stream",
       "stream": "stdout",
       "text": [
        "\r",
        "STEP   169 / 266 (thread    2)d\r",
        "STEP   170 / 266 (thread    1)d\r",
        "STEP   171 / 266 (thread    3)d"
       ]
      },
      {
       "output_type": "stream",
       "stream": "stdout",
       "text": [
        "\r",
        "STEP   172 / 266 (thread    0)d\r",
        "STEP   173 / 266 (thread    1)d"
       ]
      },
      {
       "output_type": "stream",
       "stream": "stdout",
       "text": [
        "\r",
        "STEP   175 / 266 (thread    2)f\r",
        "STEP   174 / 266 (thread    3)d\r",
        "STEP   176 / 266 (thread    0)d"
       ]
      },
      {
       "output_type": "stream",
       "stream": "stdout",
       "text": [
        "\r",
        "STEP   177 / 266 (thread    2)f\r",
        "STEP   178 / 266 (thread    2)f\r",
        "STEP   179 / 266 (thread    2)d"
       ]
      },
      {
       "output_type": "stream",
       "stream": "stdout",
       "text": [
        "\r",
        "STEP   180 / 266 (thread    1)f\r",
        "STEP   183 / 266 (thread    0)d\r\n",
        "Reallocating..done. *alloclen = 5680\r\n",
        "\r",
        "STEP   182 / 266 (thread    1)d"
       ]
      },
      {
       "output_type": "stream",
       "stream": "stdout",
       "text": [
        "\r",
        "STEP   184 / 266 (thread    2)d\r",
        "STEP   181 / 266 (thread    3)d\r",
        "STEP   185 / 266 (thread    0)d"
       ]
      },
      {
       "output_type": "stream",
       "stream": "stdout",
       "text": [
        "\r",
        "STEP   186 / 266 (thread    3)d"
       ]
      },
      {
       "output_type": "stream",
       "stream": "stdout",
       "text": [
        "\r",
        "STEP   187 / 266 (thread    1)d\r",
        "STEP   188 / 266 (thread    0)d\r",
        "STEP   189 / 266 (thread    2)f"
       ]
      },
      {
       "output_type": "stream",
       "stream": "stdout",
       "text": [
        "\r",
        "STEP   191 / 266 (thread    3)f"
       ]
      },
      {
       "output_type": "stream",
       "stream": "stdout",
       "text": [
        "\r",
        "STEP   192 / 266 (thread    1)d\r",
        "STEP   190 / 266 (thread    2)d\r",
        "STEP   194 / 266 (thread    0)f"
       ]
      },
      {
       "output_type": "stream",
       "stream": "stdout",
       "text": [
        "\r",
        "STEP   195 / 266 (thread    1)d"
       ]
      },
      {
       "output_type": "stream",
       "stream": "stdout",
       "text": [
        "\r",
        "STEP   197 / 266 (thread    1)d\r",
        "STEP   193 / 266 (thread    3)d\r",
        "STEP   198 / 266 (thread    2)d"
       ]
      },
      {
       "output_type": "stream",
       "stream": "stdout",
       "text": [
        "\r",
        "STEP   199 / 266 (thread    1)d\r",
        "STEP   200 / 266 (thread    2)f"
       ]
      },
      {
       "output_type": "stream",
       "stream": "stdout",
       "text": [
        "\r",
        "STEP   196 / 266 (thread    0)d"
       ]
      },
      {
       "output_type": "stream",
       "stream": "stdout",
       "text": [
        "\r",
        "STEP   202 / 266 (thread    3)d"
       ]
      },
      {
       "output_type": "stream",
       "stream": "stdout",
       "text": [
        "\r",
        "STEP   201 / 266 (thread    2)d\r\n",
        "Reallocating..done. *alloclen = 6703\r\n",
        "\r",
        "STEP   203 / 266 (thread    1)d\r",
        "STEP   205 / 266 (thread    3)f"
       ]
      },
      {
       "output_type": "stream",
       "stream": "stdout",
       "text": [
        "\r",
        "STEP   204 / 266 (thread    0)d\r",
        "STEP   207 / 266 (thread    2)f"
       ]
      },
      {
       "output_type": "stream",
       "stream": "stdout",
       "text": [
        "\r",
        "STEP   208 / 266 (thread    2)f\r",
        "STEP   209 / 266 (thread    1)f\r",
        "STEP   211 / 266 (thread    1)f"
       ]
      },
      {
       "output_type": "stream",
       "stream": "stdout",
       "text": [
        "\r",
        "STEP   206 / 266 (thread    3)\r",
        "STEP   213 / 266 (thread    0)df"
       ]
      },
      {
       "output_type": "stream",
       "stream": "stdout",
       "text": [
        "\r",
        "STEP   214 / 266 (thread    0)d"
       ]
      },
      {
       "output_type": "stream",
       "stream": "stdout",
       "text": [
        "\r",
        "STEP   210 / 266 (thread    2)d\r",
        "STEP   215 / 266 (thread    3)d"
       ]
      },
      {
       "output_type": "stream",
       "stream": "stdout",
       "text": [
        "\r",
        "STEP   217 / 266 (thread    3)d"
       ]
      },
      {
       "output_type": "stream",
       "stream": "stdout",
       "text": [
        "\r",
        "STEP   218 / 266 (thread    3)d\r",
        "STEP   212 / 266 (thread    1)d"
       ]
      },
      {
       "output_type": "stream",
       "stream": "stdout",
       "text": [
        "\r",
        "STEP   219 / 266 (thread    2)d"
       ]
      },
      {
       "output_type": "stream",
       "stream": "stdout",
       "text": [
        "\r",
        "STEP   216 / 266 (thread    0)\r",
        "STEP   221 / 266 (thread    1)dd"
       ]
      },
      {
       "output_type": "stream",
       "stream": "stdout",
       "text": [
        "\r",
        "STEP   220 / 266 (thread    3)d\r",
        "STEP   224 / 266 (thread    0)d"
       ]
      },
      {
       "output_type": "stream",
       "stream": "stdout",
       "text": [
        "\r",
        "STEP   226 / 266 (thread    3)d\r",
        "STEP   222 / 266 (thread    2)d"
       ]
      },
      {
       "output_type": "stream",
       "stream": "stdout",
       "text": [
        "\r",
        "STEP   227 / 266 (thread    3)d\r",
        "STEP   223 / 266 (thread    1)d"
       ]
      },
      {
       "output_type": "stream",
       "stream": "stdout",
       "text": [
        "\r",
        "STEP   225 / 266 (thread    0)d\r",
        "STEP   230 / 266 (thread    1)d\r",
        "STEP   231 / 266 (thread    1)d"
       ]
      },
      {
       "output_type": "stream",
       "stream": "stdout",
       "text": [
        "\r",
        "STEP   228 / 266 (thread    2)d"
       ]
      },
      {
       "output_type": "stream",
       "stream": "stdout",
       "text": [
        "\r",
        "STEP   229 / 266 (thread    3)d\r",
        "STEP   234 / 266 (thread    2)d"
       ]
      },
      {
       "output_type": "stream",
       "stream": "stdout",
       "text": [
        "\r\n",
        "Reallocating..done. *alloclen = 9258\r\n",
        "\r",
        "STEP   232 / 266 (thread    1)d"
       ]
      },
      {
       "output_type": "stream",
       "stream": "stdout",
       "text": [
        "\r",
        "STEP   233 / 266 (thread    0)d\r",
        "STEP   237 / 266 (thread    1)d"
       ]
      },
      {
       "output_type": "stream",
       "stream": "stdout",
       "text": [
        "\r",
        "STEP   235 / 266 (thread    2)d"
       ]
      },
      {
       "output_type": "stream",
       "stream": "stdout",
       "text": [
        "\r",
        "STEP   236 / 266 (thread    3)d"
       ]
      },
      {
       "output_type": "stream",
       "stream": "stdout",
       "text": [
        "\r",
        "STEP   238 / 266 (thread    1)d\r",
        "STEP   241 / 266 (thread    3)d"
       ]
      },
      {
       "output_type": "stream",
       "stream": "stdout",
       "text": [
        "\r",
        "STEP   239 / 266 (thread    0)d"
       ]
      },
      {
       "output_type": "stream",
       "stream": "stdout",
       "text": [
        "\r",
        "STEP   240 / 266 (thread    2)d\r",
        "STEP   244 / 266 (thread    0)d"
       ]
      },
      {
       "output_type": "stream",
       "stream": "stdout",
       "text": [
        "\r",
        "STEP   242 / 266 (thread    3)\r",
        "STEP   246 / 266 (thread    2)df"
       ]
      },
      {
       "output_type": "stream",
       "stream": "stdout",
       "text": [
        "\r",
        "STEP   243 / 266 (thread    1)d"
       ]
      },
      {
       "output_type": "stream",
       "stream": "stdout",
       "text": [
        "\r",
        "STEP   245 / 266 (thread    0)d"
       ]
      },
      {
       "output_type": "stream",
       "stream": "stdout",
       "text": [
        "\r",
        "STEP   247 / 266 (thread    2)\r",
        "STEP   250 / 266 (thread    0)dd"
       ]
      },
      {
       "output_type": "stream",
       "stream": "stdout",
       "text": [
        "\r",
        "STEP   248 / 266 (thread    3)d"
       ]
      },
      {
       "output_type": "stream",
       "stream": "stdout",
       "text": [
        "\r",
        "STEP   249 / 266 (thread    1)d"
       ]
      },
      {
       "output_type": "stream",
       "stream": "stdout",
       "text": [
        "\r",
        "STEP   251 / 266 (thread    0)d"
       ]
      },
      {
       "output_type": "stream",
       "stream": "stdout",
       "text": [
        "\r",
        "STEP   252 / 266 (thread    2)d\r",
        "STEP   255 / 266 (thread    0)d"
       ]
      },
      {
       "output_type": "stream",
       "stream": "stdout",
       "text": [
        "\r",
        "STEP   256 / 266 (thread    0)d"
       ]
      },
      {
       "output_type": "stream",
       "stream": "stdout",
       "text": [
        "\r",
        "STEP   253 / 266 (thread    3)d"
       ]
      },
      {
       "output_type": "stream",
       "stream": "stdout",
       "text": [
        "\r",
        "STEP   254 / 266 (thread    1)d"
       ]
      },
      {
       "output_type": "stream",
       "stream": "stdout",
       "text": [
        "\r",
        "STEP   257 / 266 (thread    0)d"
       ]
      },
      {
       "output_type": "stream",
       "stream": "stdout",
       "text": [
        "\r",
        "STEP   258 / 266 (thread    2)d"
       ]
      },
      {
       "output_type": "stream",
       "stream": "stdout",
       "text": [
        "\r",
        "STEP   259 / 266 (thread    3)d"
       ]
      },
      {
       "output_type": "stream",
       "stream": "stdout",
       "text": [
        "\r",
        "STEP   260 / 266 (thread    1)d"
       ]
      },
      {
       "output_type": "stream",
       "stream": "stdout",
       "text": [
        "\r",
        "STEP   261 / 266 (thread    0)d"
       ]
      },
      {
       "output_type": "stream",
       "stream": "stdout",
       "text": [
        "\r",
        "STEP   262 / 266 (thread    2)d\r",
        "STEP   265 / 266 (thread    0)d"
       ]
      },
      {
       "output_type": "stream",
       "stream": "stdout",
       "text": [
        "\r",
        "STEP   263 / 266 (thread    3)d"
       ]
      },
      {
       "output_type": "stream",
       "stream": "stdout",
       "text": [
        "\r",
        "STEP   264 / 266 (thread    1)d"
       ]
      },
      {
       "output_type": "stream",
       "stream": "stdout",
       "text": [
        "\r\n",
        "Reallocating..done. *alloclen = 11212\r\n",
        "\r",
        "STEP   266 / 266 (thread    0)d"
       ]
      },
      {
       "output_type": "stream",
       "stream": "stdout",
       "text": [
        "\r\n",
        "done.\r\n",
        "\r\n",
        "disttbfast (nuc) Version 7.187 alg=A, model=DNA200 (2), 1.53 (4.59), -0.00 (-0.00), noshift, amax=0.0\r\n",
        "4 thread(s)\r\n"
       ]
      },
      {
       "output_type": "stream",
       "stream": "stdout",
       "text": [
        "\r\n",
        "\r\n",
        "Strategy:\r\n",
        " FFT-NS-2 (Fast but rough)\r\n",
        " Progressive method (guide trees were built 2 times.)\r\n",
        "\r\n",
        "If unsure which option to use, try 'mafft --auto input > output'.\r\n",
        "For more information, see 'mafft --help', 'mafft --man' and the mafft page.\r\n",
        "\r\n",
        "The default gap scoring scheme has been changed in version 7.110 (2013 Oct).\r\n",
        "It tends to insert more gaps into gap-rich regions than previous versions.\r\n",
        "To disable this change, add the --legacygappenalty option.\r\n",
        "\r\n"
       ]
      },
      {
       "output_type": "stream",
       "stream": "stdout",
       "text": [
        "1 loops, best of 3: 17.3 s per loop\n"
       ]
      }
     ],
     "prompt_number": 8
    },
    {
     "cell_type": "heading",
     "level": 2,
     "metadata": {},
     "source": [
      "Results from experiment on bacon"
     ]
    },
    {
     "cell_type": "markdown",
     "metadata": {},
     "source": [
      "```\n",
      "$ time /usr/bin/mafft --thread 30 /data/gg_13_5_otus/rep_set/97_otus.fasta > temp/out.fna\n",
      "\n",
      "real    734m20.494s\n",
      "user    4651m19.761s\n",
      "sys     219m24.048s\n",
      "\n",
      "$ count_seqs.py -i temp/out.fna\n",
      "\n",
      "99322  : temp/out.fna (Sequence lengths (mean +/- std): 49071.0000 +/- 0.0000)\n",
      "99322  : Total\n",
      "```"
     ]
    },
    {
     "cell_type": "markdown",
     "metadata": {},
     "source": [
      "moved the above output file to ``2014.10-mafft-experiments/97_otus.mafft_aligned.fna``"
     ]
    },
    {
     "cell_type": "code",
     "collapsed": false,
     "input": [],
     "language": "python",
     "metadata": {},
     "outputs": []
    }
   ],
   "metadata": {}
  }
 ]
}