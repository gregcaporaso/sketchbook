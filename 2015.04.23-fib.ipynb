{
 "cells": [
  {
   "cell_type": "code",
   "execution_count": 1,
   "metadata": {
    "collapsed": false
   },
   "outputs": [],
   "source": [
    "import numpy as np\n",
    "\n",
    "n = 100"
   ]
  },
  {
   "cell_type": "code",
   "execution_count": 2,
   "metadata": {
    "collapsed": true
   },
   "outputs": [],
   "source": [
    "def fib1(n):\n",
    "    \"\"\" dynamic programming based Fibonacci computation (with np.array, (O(n)  memory)) \"\"\"\n",
    "    a = np.zeros(n)\n",
    "    a[0] = a[1] = 1\n",
    "    for i in range(2,n):\n",
    "        a[i] = a[i-1] + a[i-2]\n",
    "    return a[-1]"
   ]
  },
  {
   "cell_type": "code",
   "execution_count": 3,
   "metadata": {
    "collapsed": false
   },
   "outputs": [
    {
     "name": "stdout",
     "output_type": "stream",
     "text": [
      "The slowest run took 16.65 times longer than the fastest. This could mean that an intermediate result is being cached \n",
      "10000 loops, best of 3: 29.2 µs per loop\n"
     ]
    }
   ],
   "source": [
    "%%timeit\n",
    "fib1(n)"
   ]
  },
  {
   "cell_type": "code",
   "execution_count": 4,
   "metadata": {
    "collapsed": true
   },
   "outputs": [],
   "source": [
    "def fib2(n):\n",
    "    \"\"\" dynamic programming based Fibonacci computation (with list, (O(n) memory)) \"\"\"\n",
    "    a = [1, 1]\n",
    "    for i in range(2,n):\n",
    "        a.append(a[i-1] + a[i-2])\n",
    "    return a[-1]"
   ]
  },
  {
   "cell_type": "code",
   "execution_count": 5,
   "metadata": {
    "collapsed": false
   },
   "outputs": [
    {
     "name": "stdout",
     "output_type": "stream",
     "text": [
      "100000 loops, best of 3: 17 µs per loop\n"
     ]
    }
   ],
   "source": [
    "%%timeit\n",
    "fib2(n)"
   ]
  },
  {
   "cell_type": "code",
   "execution_count": 6,
   "metadata": {
    "collapsed": true
   },
   "outputs": [],
   "source": [
    "def fib3(n):\n",
    "    \"\"\" recursive Fibonacci computation \"\"\"\n",
    "    if n == 1 or n == 2:\n",
    "        return 1.\n",
    "    else:\n",
    "        return fib2(n-1) + fib2(n-2)"
   ]
  },
  {
   "cell_type": "code",
   "execution_count": 7,
   "metadata": {
    "collapsed": false
   },
   "outputs": [
    {
     "name": "stdout",
     "output_type": "stream",
     "text": [
      "10000 loops, best of 3: 33.1 µs per loop\n"
     ]
    }
   ],
   "source": [
    "%%timeit\n",
    "fib3(n)"
   ]
  },
  {
   "cell_type": "code",
   "execution_count": 8,
   "metadata": {
    "collapsed": true
   },
   "outputs": [],
   "source": [
    "def fib4(n):\n",
    "    \"\"\" dynamic programming based Fibonacci computation (O(1) memory) \"\"\"\n",
    "    m1 = 1\n",
    "    m2 = 1\n",
    "    i = 3\n",
    "    while i < (n + 1):\n",
    "        curr = m1 + m2\n",
    "        m1 = m2\n",
    "        m2 = curr\n",
    "        i += 1\n",
    "    return curr"
   ]
  },
  {
   "cell_type": "code",
   "execution_count": 9,
   "metadata": {
    "collapsed": false
   },
   "outputs": [
    {
     "name": "stdout",
     "output_type": "stream",
     "text": [
      "100000 loops, best of 3: 9.64 µs per loop\n"
     ]
    }
   ],
   "source": [
    "%%timeit\n",
    "fib4(n)"
   ]
  },
  {
   "cell_type": "code",
   "execution_count": null,
   "metadata": {
    "collapsed": true
   },
   "outputs": [],
   "source": []
  }
 ],
 "metadata": {
  "kernelspec": {
   "display_name": "Python 2",
   "language": "python",
   "name": "python2"
  },
  "language_info": {
   "codemirror_mode": {
    "name": "ipython",
    "version": 2
   },
   "file_extension": ".py",
   "mimetype": "text/x-python",
   "name": "python",
   "nbconvert_exporter": "python",
   "pygments_lexer": "ipython2",
   "version": "2.7.5"
  }
 },
 "nbformat": 4,
 "nbformat_minor": 0
}
