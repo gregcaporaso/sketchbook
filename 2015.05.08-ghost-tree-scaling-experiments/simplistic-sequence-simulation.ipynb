{
 "cells": [
  {
   "cell_type": "markdown",
   "metadata": {},
   "source": [
    "Import some functions from the python standard library, numpy, and ipython. This will set up our computing environment."
   ]
  },
  {
   "cell_type": "code",
   "execution_count": 1,
   "metadata": {
    "collapsed": false
   },
   "outputs": [
    {
     "name": "stdout",
     "output_type": "stream",
     "text": [
      "Populating the interactive namespace from numpy and matplotlib\n"
     ]
    }
   ],
   "source": [
    "%pylab inline\n",
    "# import some functions from python's random module - these will\n",
    "# be used in the modeling process\n",
    "from random import choice, random\n",
    "# import some math functions from the numpy library (note that this\n",
    "# isn't part of the python standard library)\n",
    "from numpy import log10, average\n",
    "\n",
    "from skbio import DNA, Alignment"
   ]
  },
  {
   "cell_type": "code",
   "execution_count": 2,
   "metadata": {
    "collapsed": false
   },
   "outputs": [],
   "source": [
    "# Define an ``evolve_seq`` function. This takes a parent sequence, and returns two child \n",
    "# sequences to simulate a possible speciation event, where each input sequence (representing \n",
    "# a parent's genetic sequence) has diverged into two child sequences (representing the new \n",
    "# species, and incurring point mutations along the way). \n",
    "\n",
    "def evolve_seq(sequence,\n",
    "               substitution_probability,\n",
    "               mutation_choices=['A','C','G','T']):\n",
    "    \"\"\"Return two child sequences simulating point mutations\n",
    "\n",
    "       An error occurs with probability substitution_probability\n",
    "        independently at each position of each child sequence.\n",
    "    \"\"\"\n",
    "    # Generate two lists for storing the resulting sequences\n",
    "    r1 = []\n",
    "    r2 = []\n",
    "\n",
    "    for base in sequence:\n",
    "        if random() < substitution_probability:\n",
    "            # a point mutation will occur at this position\n",
    "            # what's wrong with the following statement?\n",
    "            r1.append(choice(mutation_choices))\n",
    "        else:\n",
    "            # no point mutation at this position\n",
    "            r1.append(base)\n",
    "        if random() < substitution_probability:\n",
    "            # a point mutation will occur at this position\n",
    "            # what's wrong with the following statement?\n",
    "            r2.append(choice(mutation_choices))\n",
    "        else:\n",
    "            # no point mutation at this position\n",
    "            r2.append(base)\n",
    "    # convert the lists to strings and return them\n",
    "    return DNA(''.join(r1), id='%s;1' % sequence.id), DNA(''.join(r2), id='%s;2' % sequence.id)\n",
    "\n",
    "def simplistic_sequence_simulation(root_sequence, generations, substitution_probability=0.01, verbose=False):\n",
    "    # initial some values and perform some basic error checking\n",
    "    assert generations > 0, \"Must simulate one or more generations.\"\n",
    "    # can you simplify the following test?\n",
    "    for base in root_sequence:\n",
    "        assert base != 'A' or base != 'C' or base != 'G' or base != 'T',\\\n",
    "         \"Invalid base identified: %s. Only A, C, G, or T are allowed.\" % base\n",
    "    # initialize a list of the previous generation's sequences - this gets used\n",
    "    # in the for loop below. since we'll start with the first generation of\n",
    "    # children, root_sequence is the previous generation's sequence\n",
    "    previous_generation_sequences = [root_sequence]\n",
    "\n",
    "    # iterate over each generation\n",
    "    for i in range(1,generations+1):\n",
    "        # create a list to store the current generation of sequences\n",
    "        current_generation_sequences = []\n",
    "        # iterate over the sequences of the previous generation\n",
    "        for parent_sequence in previous_generation_sequences:\n",
    "            # evolve two child sequences\n",
    "            r1, r2 = evolve_seq(parent_sequence,\n",
    "                                substitution_probability=substitution_probability)\n",
    "            # add the new sequence to the list of this generation's sequences\n",
    "            current_generation_sequences.append(r1)\n",
    "            current_generation_sequences.append(r2)\n",
    "        previous_generation_sequences = current_generation_sequences\n",
    "\n",
    "    # upon completion of all generations, return the last generation's sequences\n",
    "    return Alignment(previous_generation_sequences)\n"
   ]
  },
  {
   "cell_type": "code",
   "execution_count": 7,
   "metadata": {
    "collapsed": false
   },
   "outputs": [],
   "source": [
    "sequence_length = 100\n",
    "\n",
    "root_sequence = []\n",
    "for i in range(int(sequence_length)):\n",
    "    root_sequence.append(choice(list('ACGT')))\n",
    "root_sequence = DNA(''.join(root_sequence), id='root')\n",
    "\n",
    "sc_foundation = simplistic_sequence_simulation(root_sequence, generations=3, substitution_probability=0.05)\n",
    "\n",
    "root_sequence = []\n",
    "for i in range(int(sequence_length)):\n",
    "    root_sequence.append(choice(list('ACGT')))\n",
    "root_sequence = DNA(''.join(root_sequence), id='root')\n",
    "sc_extension1 = simplistic_sequence_simulation(root_sequence, generations=3, substitution_probability=0.35)\n",
    "sc_extension2 = simplistic_sequence_simulation(root_sequence, generations=3, substitution_probability=0.35)"
   ]
  },
  {
   "cell_type": "code",
   "execution_count": 13,
   "metadata": {
    "collapsed": false
   },
   "outputs": [
    {
     "data": {
      "image/png": "[encoded data removed]",
      "text/plain": [
       "<matplotlib.figure.Figure at 0x10c7de750>"
      ]
     },
     "metadata": {},
     "output_type": "display_data"
    }
   ],
   "source": [
    "_ = sc_foundation.distances().plot(cmap='Reds')"
   ]
  },
  {
   "cell_type": "code",
   "execution_count": 20,
   "metadata": {
    "collapsed": false
   },
   "outputs": [
    {
     "data": {
      "text/plain": [
       "('root;1;1;1',\n",
       " 'root;1;1;2',\n",
       " 'root;1;2;1',\n",
       " 'root;1;2;2',\n",
       " 'root;2;1;1',\n",
       " 'root;2;1;2',\n",
       " 'root;2;2;1',\n",
       " 'root;2;2;2')"
      ]
     },
     "execution_count": 20,
     "metadata": {},
     "output_type": "execute_result"
    }
   ],
   "source": [
    "sc_foundation_distances = sc_foundation.distances()\n",
    "sc_foundation_distances.ids"
   ]
  },
  {
   "cell_type": "code",
   "execution_count": null,
   "metadata": {
    "collapsed": true
   },
   "outputs": [],
   "source": []
  }
 ],
 "metadata": {
  "kernelspec": {
   "display_name": "Python 2",
   "language": "python",
   "name": "python2"
  },
  "language_info": {
   "codemirror_mode": {
    "name": "ipython",
    "version": 2
   },
   "file_extension": ".py",
   "mimetype": "text/x-python",
   "name": "python",
   "nbconvert_exporter": "python",
   "pygments_lexer": "ipython2",
   "version": "2.7.5"
  }
 },
 "nbformat": 4,
 "nbformat_minor": 0
}
