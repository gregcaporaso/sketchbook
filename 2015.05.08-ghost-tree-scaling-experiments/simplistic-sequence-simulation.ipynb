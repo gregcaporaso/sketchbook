{
 "cells": [
  {
   "cell_type": "markdown",
   "metadata": {},
   "source": [
    "Import some functions from the python standard library, numpy, and ipython. This will set up our computing environment."
   ]
  },
  {
   "cell_type": "code",
   "execution_count": 12,
   "metadata": {
    "collapsed": false
   },
   "outputs": [],
   "source": [
    "# import some functions from python's random module - these will\n",
    "# be used in the modeling process\n",
    "from random import choice, random\n",
    "# import some math functions from the numpy library (note that this\n",
    "# isn't part of the python standard library)\n",
    "from numpy import log10, average\n",
    "\n",
    "from skbio import DNA, SequenceCollection"
   ]
  },
  {
   "cell_type": "code",
   "execution_count": 17,
   "metadata": {
    "collapsed": false
   },
   "outputs": [],
   "source": [
    "# Define an ``evolve_seq`` function. This takes a parent sequence, and returns two child \n",
    "# sequences to simulate a possible speciation event, where each input sequence (representing \n",
    "# a parent's genetic sequence) has diverged into two child sequences (representing the new \n",
    "# species, and incurring point mutations along the way). \n",
    "\n",
    "def evolve_seq(sequence,\n",
    "               substitution_probability,\n",
    "               mutation_choices=['A','C','G','T']):\n",
    "    \"\"\"Return two child sequences simulating point mutations\n",
    "\n",
    "       An error occurs with probability substitution_probability\n",
    "        independently at each position of each child sequence.\n",
    "    \"\"\"\n",
    "    # Generate two lists for storing the resulting sequences\n",
    "    r1 = []\n",
    "    r2 = []\n",
    "\n",
    "    for base in sequence:\n",
    "        if random() < substitution_probability:\n",
    "            # a point mutation will occur at this position\n",
    "            # what's wrong with the following statement?\n",
    "            r1.append(choice(mutation_choices))\n",
    "        else:\n",
    "            # no point mutation at this position\n",
    "            r1.append(base)\n",
    "        if random() < substitution_probability:\n",
    "            # a point mutation will occur at this position\n",
    "            # what's wrong with the following statement?\n",
    "            r2.append(choice(mutation_choices))\n",
    "        else:\n",
    "            # no point mutation at this position\n",
    "            r2.append(base)\n",
    "    # convert the lists to strings and return them\n",
    "    return ''.join(r1), ''.join(r2)\n",
    "\n",
    "def simplistic_sequence_simulation(root_sequence, generations, substitution_probability=0.01, verbose=False):\n",
    "    # initial some values and perform some basic error checking\n",
    "    assert generations > 0, \"Must simulate one or more generations.\"\n",
    "    # can you simplify the following test?\n",
    "    for base in root_sequence:\n",
    "        assert base != 'A' or base != 'C' or base != 'G' or base != 'T',\\\n",
    "         \"Invalid base identified: %s. Only A, C, G, or T are allowed.\" % base\n",
    "    # initialize a list of the previous generation's sequences - this gets used\n",
    "    # in the for loop below. since we'll start with the first generation of\n",
    "    # children, root_sequence is the previous generation's sequence\n",
    "    previous_generation_sequences = [root_sequence]\n",
    "\n",
    "    # iterate over each generation (why do we add one to generations?)\n",
    "    for i in range(1,generations+1):\n",
    "        # print the generation number and the current number of sequences\n",
    "        print \"Generation: %d (Number of child sequences: %d)\" % (i,2**i)\n",
    "        # create a list to store the current generation of sequences\n",
    "        current_generation_sequences = []\n",
    "        # create a list to store the differences in each current generation\n",
    "        # sequence from the root sequence\n",
    "        difference_counts = []\n",
    "        # iterate over the sequences of the previous generation\n",
    "        for parent_sequence in previous_generation_sequences:\n",
    "            # evolve two child sequences\n",
    "            r1, r2 = evolve_seq(parent_sequence, substitution_probability=substitution_probability)\n",
    "            # count the differences in the first sequence (from root_sequence)\n",
    "            r1_diffs = count_differences(root_sequence,r1)\n",
    "            # append the count of differences to the list of difference counts\n",
    "            difference_counts.append(r1_diffs)\n",
    "            # add the new sequence to the list of this generation's sequences\n",
    "            current_generation_sequences.append(r1)\n",
    "            # count the differences in the second sequence (from root_sequence)\n",
    "            r2_diffs = count_differences(root_sequence,r2)\n",
    "            # append the count of differences to the list of difference counts\n",
    "            difference_counts.append(r2_diffs)\n",
    "            # add the new sequence to the list of this generation's sequences\n",
    "            current_generation_sequences.append(r2)\n",
    "            if verbose:\n",
    "                # if the caller specified verbose output, print the actual sequences\n",
    "                print \"  %s %d\" % (r1, r1_diffs)\n",
    "                print \"  %s %d\" % (r2, r2_diffs)\n",
    "        # print summary information: the average number of differences in the current\n",
    "        # generation from root_sequence\n",
    "        print \"Mean differences %1.3f\\n\" % average(difference_counts)\n",
    "        # current_generation_sequences becomes the next generation's\n",
    "        # previous_generation_sequences\n",
    "        previous_generation_sequences = current_generation_sequences\n",
    "\n",
    "    # upon completion of all generations, return the last generation's sequences\n",
    "    return previous_generation_sequences\n"
   ]
  },
  {
   "cell_type": "code",
   "execution_count": 20,
   "metadata": {
    "collapsed": false
   },
   "outputs": [
    {
     "name": "stdout",
     "output_type": "stream",
     "text": [
      "Generation: 1 (Number of child sequences: 2)\n",
      "Mean differences 4.000\n",
      "\n",
      "Generation: 2 (Number of child sequences: 4)\n",
      "Mean differences 10.750\n",
      "\n",
      "Generation: 3 (Number of child sequences: 8)\n",
      "Mean differences 16.500\n",
      "\n",
      "Generation: 4 (Number of child sequences: 16)\n",
      "Mean differences 22.938\n",
      "\n",
      "Generation: 5 (Number of child sequences: 32)\n",
      "Mean differences 28.438\n",
      "\n"
     ]
    },
    {
     "data": {
      "text/plain": [
       "['AAACTCCAAATGCAACTAACACATCGTGAAAGTCATCATTGATGTGCAGCACCGACCTATGCATGATGTCGGGAAGGCGCAAACTGCTAACCGATTTCAT',\n",
       " 'CACCTCCACATGCCACTAACAGGTCGTTAAAATCATCATTGATGTGCAGCACCGACGCAAGCATGGTGCCTACAGGGCGAAAACTGCAAACCGATGTCAT',\n",
       " 'CAAGTCGATATACTACTAACTGGTCGTGAAAGTCCTTGCGCATGTGCAACACCGACGCAAGCATGGAACCGCAGTCGCGCAAATTGCAAGCCGATTGCGT',\n",
       " 'CAAGTCGATATACAACTAACTGGTCGTGAAAGTCATGGGGCATGTGCACCACCTTCGCAAACATGGAGTCCCAATGGCGCAAACTGCAAACGGATGCCAA',\n",
       " 'CAAGTTCATAAGAGAGTAAATGGTCGTGTCACAAATTGCGCGCGGGCAACACCGCTGCAATCAGGGTGTAGGCGTCGCGTAAACTGGAAAGCGATTTGGC',\n",
       " 'CAACTGCATAAGAGAGTAAATCGTCGTGTCAGTCATTGCGCGCGTGCAACACCGCCGCAAGCATGGTGTCGGCGTCGCGTATACTTGAAAGTGATTTGGC',\n",
       " 'AAATTACATACAAGAGTAAATCGTCGTGTCAGTCATAACGGGTTTGCAACACCCTAGCTATTATGGTGTCGGAGTCGCTCTAACTGGAAAGCGATTTGGC',\n",
       " 'CAACTACATACGAGAGTAAATAATCGTATCAGTCATTACGCGTTTGCAACACCCTAGCTTTCATGGTGTCGGAGTCTCTCTAATGGGAAAGCGATTAGGC',\n",
       " 'TCACTCCATATTCGCGTAACCCGTCGTCAGCGTCAACACGCATGGGCCGCACTGATGCAATCACTATGTCTGACCGCCGCGCAATTCAAACCGGTTTGGG',\n",
       " 'TCACTCTATATTCGCGTAACCCGTCGTCAGCGTCCACACGCATTGGCAGCACTGATGCAATCACTATGTCTGACCGCCCCGCAATTCAAACCGGTTTGGG',\n",
       " 'TAACTCGATATTCAAGTAACCCGTTGTCACCTGCAATACGCATGGGCAGCTCTGATGGGATCCGGGTGTCGTACCTCCGTGCCCTTGAAACCGGTTTGGG',\n",
       " 'TAACTCCATCCACGAGTAACCCTTCGACACCGTCAATGCGCATGGACATCTCTGATGAGAACAGGGTGTCGTACCTCCGCGCCCTTGAAACCGCTTTGGG',\n",
       " 'GTACTCCGTATTCGTGTAAACCGTGGTCATCCTCAATGCGCACGGGCACCACTCAAGCAATCAAGGTGTCGGTCCGGCACGCAATTCAAATCGGTTTAGA',\n",
       " 'GAACTCCGTATTCGTGTAAACTGTGGTCATCGTCAATGCGCACGGGCACCACTCAAGCAATCAAGGTGTCGGTCCGGCACGCAATTCAACTCTGTAAGGA',\n",
       " 'TAACTCCGTATTCGAGCAACGCGTCGTCACCGTCAATGCGCAGGGGCAGCATTAATGGAAGCATGGTCTCGGGCCGGCGCGCAGTTGAAACCGGTTTGGA',\n",
       " 'GAACTCCGTATTCGAGTAACGCATCGTCACCGTCAATGCGCTGGGCCAGTACTAACGCAAGCATGGTGTCGGGCCGGCGCGCACTTGAAACCGGTTTGGA',\n",
       " 'GTTGTCAAAATTTGAGTGATGCATAGAGAGCGTGATTCCGCATGGCCTGCATGGGTGCGCTCTTGGAGTCTGAATGCCGCATAAACCAAAAAGATTTGGT',\n",
       " 'GATTTCAACAATGGAGTGATGCATTGAGAGCGTGATTGCGCATGGCGTGCATGGGTGCGCTCAGGGAGTTGGAATGTCGCATAAACCAGAACGATTTGGT',\n",
       " 'GATCTCAACATTCTAGTCATCCGTCGAGACCGCCATTACGCATGGCCTGCACGTAGGCACTCAGGGTGGCGGAATCTCGTAAAATGCAAAACTATTTGGT',\n",
       " 'GATCTCAACGTTCGGGTCATCCATCGAGACCGTCATTACGCATGGCCTGCACGGAGGCACTTAGGGGGGCGTAATATCGCAAATTGCAAAACGATTTGGG',\n",
       " 'CCACTCACCATTCGAGTTACCCATCGCGGCCGTGATTGCGCATGGCCTGTACGGTTGCCCCCGTGTTGTCGGAATATCACAAAATGCAACACGATGTGGT',\n",
       " 'CCACTGTACGATTGAGTTGCCCTTCGCGGCCGTGACTTCTCAGGGCCTGCACGGGTCCCCTCGTGGTGTCGGAATATCACAAAATGCAACACGATGTGCT',\n",
       " 'GAACTCAACGTCCGAGTTACCCATCGCGACCGTGGTAGCGCATGGACTGCACGAATGCACTCGTGGTGTCGGATTGTCGCAAAATGCAACACGATATCGT',\n",
       " 'GAACTCAATGTTCCAGTTACGCATCGCGACCGCGATAGCGCGTGGACCGCACGGATGCACTCGTGCTGTCGGATTGTCGCCAAATGCAATACGATATCGT',\n",
       " 'GTGCTCAACAATCGAGTAACCGGTGAAGACCGTAAATGCGCATGCCGAACTTGGATGCAAACTTGGTGGCGGAATGTAGCAATCTCCTAACCGGTCTGAT',\n",
       " 'GTGCTCAACAAGCGAGTAACCGGTGGAGACCGTGTATGCGCATGCCTAGCTGTGAGGCAAAATTGGCTGCGGACTGTAGCAAACTCCTAACCGATCTGAT',\n",
       " 'TAGTTCAAGCAACGTGTAACGGGGTGAGACCGTAATTGCGTATGCCCAGTTGTGATGCAAACTTGGTATCCGAATGTAGCAAACCACTAACCGATCTGGT',\n",
       " 'GAGCTCAACGAACGAGTAACCGGGTGAGCCCGTGATTGCGCATGCCCAGCTGGGATGCCATCTTTGTATCCGAATGTAGCAAACTACTTACCGATTTGGG',\n",
       " 'AAACTCAACATTCGATTGACGGGTCCAGACCATGGTTGCGCACGGCTAGCGCCGTTTGAACCTTAGTGTAGTATTATCGCATACTACTAACCGATATGTT',\n",
       " 'GAACTCAACATTCGAGTAACCCGTCCGGACCATCGTTGCGGCCGGCTAGTAGCGTTTGAACCTTAGTGTCGTATTATCGCAAACGACTAACCGATAAGTT',\n",
       " 'GAGCACAACATTCGAGTAACCTGTCGCAGCCATGATTGCGCACGGTCATCGGCGCTGGAACCTTTGAGTCGGATTCTAGCAGGCTACTAACCGATTAGTT',\n",
       " 'GGGCACAATATTCGAGTAACCTGTCGCGACCATCATTGCGCACGGTCAGCGGAGCTGGAACCTATGTGTCGGATTCTAGCAGACTACTAACCGATTAGTT']"
      ]
     },
     "execution_count": 20,
     "metadata": {},
     "output_type": "execute_result"
    }
   ],
   "source": [
    "sequence_length = 100\n",
    "num_generations = 5\n",
    "verbose = False\n",
    "substitution_probability = 0.1\n",
    "\n",
    "root_sequence = []\n",
    "for i in range(int(sequence_length)):\n",
    "    root_sequence.append(choice(list('ACGT')))\n",
    "root_sequence = ''.join(root_sequence)\n",
    "\n",
    "simplistic_sequence_simulation(root_sequence, num_generations, substitution_probability=substitution_probability, verbose=verbose)"
   ]
  },
  {
   "cell_type": "code",
   "execution_count": null,
   "metadata": {
    "collapsed": false
   },
   "outputs": [],
   "source": []
  }
 ],
 "metadata": {
  "kernelspec": {
   "display_name": "Python 2",
   "language": "python",
   "name": "python2"
  },
  "language_info": {
   "codemirror_mode": {
    "name": "ipython",
    "version": 2
   },
   "file_extension": ".py",
   "mimetype": "text/x-python",
   "name": "python",
   "nbconvert_exporter": "python",
   "pygments_lexer": "ipython2",
   "version": "2.7.5"
  }
 },
 "nbformat": 4,
 "nbformat_minor": 0
}
