{
 "cells": [
  {
   "cell_type": "markdown",
   "metadata": {},
   "source": [
    "Next steps:\n",
    " * How does numpydoc format deprecation warnings?\n",
    " * ``UserWarning`` to ``DeprecationWarning``\n",
    " * experimental ``until`` to ``as-of``\n",
    " * deprecated should also take ``as-of`` in addition to ``until``\n",
    " * force naming of kwargs for readability\n",
    " * update ``deprecated``'s ``wrapped_f.__name__``, etc (see [link from Evan](http://stackoverflow.com/questions/147816/preserving-signatures-of-decorated-functions))"
   ]
  },
  {
   "cell_type": "code",
   "execution_count": 1,
   "metadata": {
    "collapsed": false
   },
   "outputs": [],
   "source": [
    "from warnings import warn\n",
    "from textwrap import wrap\n",
    "\n",
    "class state_decorator(object):\n",
    "    \n",
    "    _line_header = '\\n        '\n",
    "    \n",
    "    def _update_doc_string(self, func, state_desc):\n",
    "        doc_lines = func.__doc__.split('\\n')\n",
    "        state_desc_lines = wrap('State: ' + state_desc, 79 - len(self._line_header))\n",
    "        doc_lines.insert(1, self._line_header + self._line_header.join(state_desc_lines))\n",
    "        return '\\n'.join(doc_lines)\n",
    "        \n",
    "class stable(state_decorator):\n",
    "    \n",
    "    def __init__(self, as_of):\n",
    "        self.as_of = as_of\n",
    "    \n",
    "    def __call__(self, func):\n",
    "        state_desc = 'Stable as of %s.' % self.as_of\n",
    "        func.__doc__ = self._update_doc_string(func, state_desc)\n",
    "        return func\n",
    "\n",
    "class experimental(state_decorator):\n",
    "    \n",
    "    def __init__(self, until):\n",
    "        self.until = until\n",
    "    \n",
    "    def __call__(self, func):\n",
    "        state_desc = 'Experimental until %s.' % self.until\n",
    "        func.__doc__ = self._update_doc_string(func, state_desc)\n",
    "        return func\n",
    "\n",
    "class deprecated(state_decorator):\n",
    "    \n",
    "    def __init__(self, until, reason):\n",
    "        self.until = until\n",
    "        self.reason = reason\n",
    "    \n",
    "    def __call__(self, func, *args, **kwargs):\n",
    "        state_desc = 'Deprecated until %s. %s' % (self.until, self.reason)\n",
    "        func.__doc__ = self._update_doc_string(func, state_desc)\n",
    "        def wrapped_f(*args, **kwargs):\n",
    "            warn('%s is deprecated and will be removed in scikit-bio version %s. %s' %\n",
    "                 (func.__name__, self.until, self.reason)) \n",
    "            return func(*args, **kwargs)\n",
    "        wrapped_f.__doc__ = func.__doc__\n",
    "        return wrapped_f\n",
    "\n",
    "class A(object):\n",
    "    \n",
    "    @stable('0.3.1')\n",
    "    def return_x(self, x):\n",
    "        \"\"\"This method returns its input.\n",
    "        \n",
    "        Probably not the most useful function ever.\n",
    "        \n",
    "        Parameters\n",
    "        ----------\n",
    "        x : the value to be returned\n",
    "        \n",
    "        Returns\n",
    "        -------\n",
    "        whatever was passed in\n",
    "        \"\"\"\n",
    "        return x\n",
    "\n",
    "    @experimental('0.3.4')\n",
    "    def return_y(self, y):\n",
    "        \"\"\"This method returns its input.\n",
    "        \n",
    "        Probably not the most useful function ever.\n",
    "        \n",
    "        Parameters\n",
    "        ----------\n",
    "        y : the value to be returned\n",
    "        \n",
    "        Returns\n",
    "        -------\n",
    "        whatever was passed in\n",
    "        \"\"\"\n",
    "        return y\n",
    "\n",
    "    @deprecated('0.3.4', 'You should now be using B.return_z1.')\n",
    "    def return_z1(self, z1):\n",
    "        \"\"\"This method returns its input.\n",
    "        \n",
    "        Probably not the most useful function ever.\n",
    "        \n",
    "        Parameters\n",
    "        ----------\n",
    "        z1 : the value to be returned\n",
    "        \n",
    "        Returns\n",
    "        -------\n",
    "        whatever was passed in\n",
    "        \"\"\"\n",
    "        return z1\n",
    "\n",
    "    @deprecated('0.3.4', 'This method was shown to be error-prone by [Foo et al. 2015](www.pubmed.gov/12345)')\n",
    "    def return_z2(self, z2):\n",
    "        \"\"\"This method returns its input.\n",
    "        \n",
    "        Probably not the most useful function ever.\n",
    "        \n",
    "        Parameters\n",
    "        ----------\n",
    "        z2 : the value to be returned\n",
    "        \n",
    "        Returns\n",
    "        -------\n",
    "        whatever was passed in\n",
    "        \"\"\"\n",
    "        return z2"
   ]
  },
  {
   "cell_type": "code",
   "execution_count": 2,
   "metadata": {
    "collapsed": false
   },
   "outputs": [
    {
     "name": "stdout",
     "output_type": "stream",
     "text": [
      "Help on method return_x in module __main__:\n",
      "\n",
      "return_x(self, x) method of __main__.A instance\n",
      "    This method returns its input.\n",
      "    \n",
      "    State: Stable as of 0.3.1.\n",
      "    \n",
      "    Probably not the most useful function ever.\n",
      "    \n",
      "    Parameters\n",
      "    ----------\n",
      "    x : the value to be returned\n",
      "    \n",
      "    Returns\n",
      "    -------\n",
      "    whatever was passed in\n",
      "\n"
     ]
    }
   ],
   "source": [
    "help(A().return_x)"
   ]
  },
  {
   "cell_type": "code",
   "execution_count": 3,
   "metadata": {
    "collapsed": false
   },
   "outputs": [
    {
     "name": "stdout",
     "output_type": "stream",
     "text": [
      "Help on method return_y in module __main__:\n",
      "\n",
      "return_y(self, y) method of __main__.A instance\n",
      "    This method returns its input.\n",
      "    \n",
      "    State: Experimental until 0.3.4.\n",
      "    \n",
      "    Probably not the most useful function ever.\n",
      "    \n",
      "    Parameters\n",
      "    ----------\n",
      "    y : the value to be returned\n",
      "    \n",
      "    Returns\n",
      "    -------\n",
      "    whatever was passed in\n",
      "\n"
     ]
    }
   ],
   "source": [
    "help(A().return_y)"
   ]
  },
  {
   "cell_type": "code",
   "execution_count": 4,
   "metadata": {
    "collapsed": false
   },
   "outputs": [
    {
     "name": "stdout",
     "output_type": "stream",
     "text": [
      "42\n"
     ]
    },
    {
     "name": "stderr",
     "output_type": "stream",
     "text": [
      "/Users/caporaso/.virtualenvs/marisa-trie/lib/python2.7/site-packages/IPython/kernel/__main__.py:45: UserWarning: return_z1 is deprecated and will be removed in scikit-bio version 0.3.4. You should now be using B.return_z1.\n"
     ]
    }
   ],
   "source": [
    "print A().return_z1(42)"
   ]
  },
  {
   "cell_type": "code",
   "execution_count": 5,
   "metadata": {
    "collapsed": false
   },
   "outputs": [
    {
     "name": "stdout",
     "output_type": "stream",
     "text": [
      "42\n"
     ]
    },
    {
     "name": "stderr",
     "output_type": "stream",
     "text": [
      "/Users/caporaso/.virtualenvs/marisa-trie/lib/python2.7/site-packages/IPython/kernel/__main__.py:45: UserWarning: return_z2 is deprecated and will be removed in scikit-bio version 0.3.4. This method was shown to be error-prone by [Foo et al. 2015](www.pubmed.gov/12345)\n"
     ]
    }
   ],
   "source": [
    "print A().return_z2(42)"
   ]
  },
  {
   "cell_type": "code",
   "execution_count": 6,
   "metadata": {
    "collapsed": false
   },
   "outputs": [
    {
     "name": "stdout",
     "output_type": "stream",
     "text": [
      "Help on method wrapped_f in module __main__:\n",
      "\n",
      "wrapped_f(*args, **kwargs) method of __main__.A instance\n",
      "    This method returns its input.\n",
      "    \n",
      "    State: Deprecated until 0.3.4. You should now be using B.return_z1.\n",
      "    \n",
      "    Probably not the most useful function ever.\n",
      "    \n",
      "    Parameters\n",
      "    ----------\n",
      "    z1 : the value to be returned\n",
      "    \n",
      "    Returns\n",
      "    -------\n",
      "    whatever was passed in\n",
      "\n"
     ]
    }
   ],
   "source": [
    "help(A().return_z1)"
   ]
  },
  {
   "cell_type": "code",
   "execution_count": 7,
   "metadata": {
    "collapsed": false
   },
   "outputs": [
    {
     "name": "stdout",
     "output_type": "stream",
     "text": [
      "Help on method wrapped_f in module __main__:\n",
      "\n",
      "wrapped_f(*args, **kwargs) method of __main__.A instance\n",
      "    This method returns its input.\n",
      "    \n",
      "    State: Deprecated until 0.3.4. This method was shown to be error-prone\n",
      "    by [Foo et al. 2015](www.pubmed.gov/12345)\n",
      "    \n",
      "    Probably not the most useful function ever.\n",
      "    \n",
      "    Parameters\n",
      "    ----------\n",
      "    z2 : the value to be returned\n",
      "    \n",
      "    Returns\n",
      "    -------\n",
      "    whatever was passed in\n",
      "\n"
     ]
    }
   ],
   "source": [
    "help(A().return_z2)"
   ]
  }
 ],
 "metadata": {
  "kernelspec": {
   "display_name": "Python 2",
   "language": "python",
   "name": "python2"
  },
  "language_info": {
   "codemirror_mode": {
    "name": "ipython",
    "version": 2
   },
   "file_extension": ".py",
   "mimetype": "text/x-python",
   "name": "python",
   "nbconvert_exporter": "python",
   "pygments_lexer": "ipython2",
   "version": "2.7.5"
  }
 },
 "nbformat": 4,
 "nbformat_minor": 0
}
