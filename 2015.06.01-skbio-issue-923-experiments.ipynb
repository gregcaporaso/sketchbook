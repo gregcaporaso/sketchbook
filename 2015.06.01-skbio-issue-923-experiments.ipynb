{
 "cells": [
  {
   "cell_type": "markdown",
   "metadata": {},
   "source": [
    "Next steps:\n",
    " - [ ] How does numpydoc format deprecation warnings?\n",
    " - [x] ``UserWarning`` to ``DeprecationWarning``\n",
    " - [x] experimental ``until`` to ``as-of``\n",
    " - [x] deprecated should also take ``as-of`` in addition to ``until``\n",
    " - [x] force naming of kwargs for readability\n",
    " - [ ] update ``deprecated``'s ``wrapped_f.__name__``, etc (see [link from Evan](http://stackoverflow.com/questions/147816/preserving-signatures-of-decorated-functions))\n",
    "\n",
    "Longer term:\n",
    " - [ ] ``deprecated_parameter``\n",
    " - [ ] plan for deprecating full modules and subpackages"
   ]
  },
  {
   "cell_type": "code",
   "execution_count": 16,
   "metadata": {
    "collapsed": false
   },
   "outputs": [
    {
     "ename": "TypeError",
     "evalue": "deprecated() got an unexpected keyword argument 'as_of'",
     "output_type": "error",
     "traceback": [
      "\u001b[0;31m---------------------------------------------------------------------------\u001b[0m",
      "\u001b[0;31mTypeError\u001b[0m                                 Traceback (most recent call last)",
      "\u001b[0;32m<ipython-input-16-ccb79b155327>\u001b[0m in \u001b[0;36m<module>\u001b[0;34m()\u001b[0m\n\u001b[1;32m    107\u001b[0m     \u001b[0;32mreturn\u001b[0m \u001b[0mwrapped_f\u001b[0m\u001b[0;34m\u001b[0m\u001b[0m\n\u001b[1;32m    108\u001b[0m \u001b[0;34m\u001b[0m\u001b[0m\n\u001b[0;32m--> 109\u001b[0;31m \u001b[0;32mclass\u001b[0m \u001b[0mA\u001b[0m\u001b[0;34m(\u001b[0m\u001b[0mobject\u001b[0m\u001b[0;34m)\u001b[0m\u001b[0;34m:\u001b[0m\u001b[0;34m\u001b[0m\u001b[0m\n\u001b[0m\u001b[1;32m    110\u001b[0m \u001b[0;34m\u001b[0m\u001b[0m\n\u001b[1;32m    111\u001b[0m \u001b[0;31m#     @stable(as_of='0.3.1')\u001b[0m\u001b[0;34m\u001b[0m\u001b[0;34m\u001b[0m\u001b[0m\n",
      "\u001b[0;32m<ipython-input-16-ccb79b155327>\u001b[0m in \u001b[0;36mA\u001b[0;34m()\u001b[0m\n\u001b[1;32m    141\u001b[0m \u001b[0;31m#         return y\u001b[0m\u001b[0;34m\u001b[0m\u001b[0;34m\u001b[0m\u001b[0m\n\u001b[1;32m    142\u001b[0m \u001b[0;34m\u001b[0m\u001b[0m\n\u001b[0;32m--> 143\u001b[0;31m     \u001b[0;34m@\u001b[0m\u001b[0mdeprecated\u001b[0m\u001b[0;34m(\u001b[0m\u001b[0mas_of\u001b[0m\u001b[0;34m=\u001b[0m\u001b[0;34m'0.3.1'\u001b[0m\u001b[0;34m,\u001b[0m \u001b[0muntil\u001b[0m\u001b[0;34m=\u001b[0m\u001b[0;34m'0.3.4'\u001b[0m\u001b[0;34m,\u001b[0m \u001b[0mreason\u001b[0m\u001b[0;34m=\u001b[0m\u001b[0;34m'You should now be using B.return_z1.'\u001b[0m\u001b[0;34m)\u001b[0m\u001b[0;34m\u001b[0m\u001b[0m\n\u001b[0m\u001b[1;32m    144\u001b[0m     \u001b[0;32mdef\u001b[0m \u001b[0mreturn_z1\u001b[0m\u001b[0;34m(\u001b[0m\u001b[0mself\u001b[0m\u001b[0;34m,\u001b[0m \u001b[0mz1\u001b[0m\u001b[0;34m)\u001b[0m\u001b[0;34m:\u001b[0m\u001b[0;34m\u001b[0m\u001b[0m\n\u001b[1;32m    145\u001b[0m         \"\"\"This method returns its input.\n",
      "\u001b[0;31mTypeError\u001b[0m: deprecated() got an unexpected keyword argument 'as_of'"
     ]
    }
   ],
   "source": [
    "from skbio.util import stable, experimental, deprecated\n",
    "from warnings import warn\n",
    "from textwrap import wrap\n",
    "import decorator\n",
    "\n",
    "# class state_decorator(object):\n",
    "    \n",
    "#     _line_header = '\\n        '\n",
    "    \n",
    "#     def _update_doc_string(self, func, state_desc):\n",
    "#         doc_lines = func.__doc__.split('\\n')\n",
    "#         state_desc_lines = wrap('State: ' + state_desc, 79 - len(self._line_header))\n",
    "#         doc_lines.insert(1, self._line_header + self._line_header.join(state_desc_lines))\n",
    "#         return '\\n'.join(doc_lines)\n",
    "        \n",
    "# class stable(state_decorator):\n",
    "    \n",
    "#     def __init__(self, **kwargs):\n",
    "#         print kwargs\n",
    "#         self.as_of = kwargs['as_of']\n",
    "    \n",
    "#     def __call__(self, func):\n",
    "#         state_desc = 'Stable as of %s.' % self.as_of\n",
    "#         func.__doc__ = self._update_doc_string(func, state_desc)\n",
    "#         return func\n",
    "\n",
    "# class experimental(state_decorator):\n",
    "    \n",
    "#     def __init__(self, as_of):\n",
    "#         self.as_of = as_of\n",
    "\n",
    "#     def __call__(self, func):\n",
    "#         state_desc = 'Experimental as of %s.' % self.as_of\n",
    "#         func.__doc__ = self._update_doc_string(func, state_desc)\n",
    "#         return func\n",
    "\n",
    "    \n",
    "    \n",
    "def _update_doc_string(func, state_desc):\n",
    "    _line_header = '\\n        '\n",
    "    doc_lines = func.__doc__.split('\\n')\n",
    "    state_desc_lines = wrap('State: ' + state_desc, 79 - len(self._line_header))\n",
    "    doc_lines.insert(1, self._line_header + self._line_header.join(state_desc_lines))\n",
    "    return '\\n'.join(doc_lines)\n",
    "\n",
    "        \n",
    "\n",
    "@decorator.decorator\n",
    "def deprecated(func, *args, **kwargs):\n",
    "    \"\"\" State decorator indicating deprecated functionality.\n",
    "\n",
    "    Used to indicate that a public class or function is deprecated, meaning\n",
    "    that its API will be removed in a future version of scikit-bio. Decorating\n",
    "    functionality as experimental will update its doc string to indicate the\n",
    "    first version of scikit-bio when the functionality was deprecated, the\n",
    "    first version of scikit-bio when the functionality will no longer exist,\n",
    "    and the reason for deprecation of the API. It will also cause calls to the\n",
    "    API to raise a ``DeprecationWarning``.\n",
    "\n",
    "    Parameters\n",
    "    ----------\n",
    "    as_of : str\n",
    "        First development version where feature is considered to be deprecated.\n",
    "    until : str\n",
    "        First release version where feature will no longer exist.\n",
    "    reason : str\n",
    "        Brief description of why the API is deprecated.\n",
    "\n",
    "    See Also\n",
    "    --------\n",
    "    stable\n",
    "    experimental\n",
    "\n",
    "    Examples\n",
    "    --------\n",
    "    >>> @deprecated(as_of='0.3.0', until='0.3.3',\n",
    "    ...             reason='Users should now use skbio.g().')\n",
    "    ... def f_deprecated():\n",
    "    ...     \\\"\\\"\\\" An example deprecated function.\n",
    "    ...     \\\"\\\"\\\"\n",
    "    ...     pass\n",
    "    >>> help(f_deprecated)\n",
    "    Help on function f_deprecated in module skbio.util._decorator:\n",
    "    <BLANKLINE>\n",
    "    f_deprecated()\n",
    "        An example deprecated function.\n",
    "    <BLANKLINE>\n",
    "        State: Deprecated as of 0.3.0 for removal in 0.3.3. Users should now\n",
    "        use skbio.g().\n",
    "    <BLANKLINE>\n",
    "\n",
    "    \"\"\"\n",
    "    as_of = kwargs['as_of']\n",
    "    until = kwargs['until']\n",
    "    reason = kwargs['reason']\n",
    "    \n",
    "    state_desc = 'Deprecated as of %s for removal in %s. %s' %\\\n",
    "     (as_of, until, reason)\n",
    "    func.__doc__ = _update_doc_string(func, state_desc)\n",
    "\n",
    "    def wrapped_f(*args, **kwargs):\n",
    "        warn('%s is deprecated as of scikit-bio version %s, and will be'\n",
    "             ' removed in version %s. %s' %\n",
    "             (func.__name__, as_of, until, reason),\n",
    "             DeprecationWarning)\n",
    "        return func(*args, **kwargs)\n",
    "\n",
    "    return wrapped_f\n",
    "\n",
    "class A(object):\n",
    "    \n",
    "#     @stable(as_of='0.3.1')\n",
    "#     def return_x(self, x):\n",
    "#         \"\"\"This method returns its input.\n",
    "        \n",
    "#         Probably not the most useful function ever.\n",
    "        \n",
    "#         Parameters\n",
    "#         ----------\n",
    "#         x : the value to be returned\n",
    "        \n",
    "#         Returns\n",
    "#         -------\n",
    "#         whatever was passed in\n",
    "#         \"\"\"\n",
    "#         return x\n",
    "\n",
    "#     @experimental(as_of='0.3.4')\n",
    "#     def return_y(self, y):\n",
    "#         \"\"\"This method returns its input.\n",
    "        \n",
    "#         Probably not the most useful function ever.\n",
    "        \n",
    "#         Parameters\n",
    "#         ----------\n",
    "#         y : the value to be returned\n",
    "        \n",
    "#         Returns\n",
    "#         -------\n",
    "#         whatever was passed in\n",
    "#         \"\"\"\n",
    "#         return y\n",
    "\n",
    "    @deprecated(as_of='0.3.1', until='0.3.4', reason='You should now be using B.return_z1.')\n",
    "    def return_z1(self, z1):\n",
    "        \"\"\"This method returns its input.\n",
    "        \n",
    "        Probably not the most useful function ever.\n",
    "        \n",
    "        Parameters\n",
    "        ----------\n",
    "        z1 : the value to be returned\n",
    "        \n",
    "        Returns\n",
    "        -------\n",
    "        whatever was passed in\n",
    "        \"\"\"\n",
    "        return z1\n",
    "\n",
    "    @deprecated(as_of='0.3.1', until='0.3.4', reason='This method was shown to be error-prone by [Foo et al. 2015](www.pubmed.gov/12345)')\n",
    "    def return_z2(self, z2):\n",
    "        \"\"\"This method returns its input.\n",
    "        \n",
    "        Probably not the most useful function ever.\n",
    "        \n",
    "        Parameters\n",
    "        ----------\n",
    "        z2 : the value to be returned\n",
    "        \n",
    "        Returns\n",
    "        -------\n",
    "        whatever was passed in\n",
    "        \"\"\"\n",
    "        return z2"
   ]
  },
  {
   "cell_type": "code",
   "execution_count": 3,
   "metadata": {
    "collapsed": false
   },
   "outputs": [
    {
     "name": "stdout",
     "output_type": "stream",
     "text": [
      "Help on method return_x in module __main__:\n",
      "\n",
      "return_x(self, x) method of __main__.A instance\n",
      "    This method returns its input.\n",
      "    \n",
      "    State: Stable as of 0.3.1.\n",
      "    \n",
      "    Probably not the most useful function ever.\n",
      "    \n",
      "    Parameters\n",
      "    ----------\n",
      "    x : the value to be returned\n",
      "    \n",
      "    Returns\n",
      "    -------\n",
      "    whatever was passed in\n",
      "\n"
     ]
    }
   ],
   "source": [
    "help(A().return_x)"
   ]
  },
  {
   "cell_type": "code",
   "execution_count": 4,
   "metadata": {
    "collapsed": false
   },
   "outputs": [
    {
     "name": "stdout",
     "output_type": "stream",
     "text": [
      "Help on method return_y in module __main__:\n",
      "\n",
      "return_y(self, y) method of __main__.A instance\n",
      "    This method returns its input.\n",
      "    \n",
      "    State: Experimental as of 0.3.4.\n",
      "    \n",
      "    Probably not the most useful function ever.\n",
      "    \n",
      "    Parameters\n",
      "    ----------\n",
      "    y : the value to be returned\n",
      "    \n",
      "    Returns\n",
      "    -------\n",
      "    whatever was passed in\n",
      "\n"
     ]
    }
   ],
   "source": [
    "help(A().return_y)"
   ]
  },
  {
   "cell_type": "code",
   "execution_count": 5,
   "metadata": {
    "collapsed": false
   },
   "outputs": [
    {
     "name": "stdout",
     "output_type": "stream",
     "text": [
      "42\n"
     ]
    }
   ],
   "source": [
    "print A().return_z1(42)"
   ]
  },
  {
   "cell_type": "code",
   "execution_count": 6,
   "metadata": {
    "collapsed": false
   },
   "outputs": [
    {
     "name": "stdout",
     "output_type": "stream",
     "text": [
      "42\n"
     ]
    }
   ],
   "source": [
    "print A().return_z2(42)"
   ]
  },
  {
   "cell_type": "code",
   "execution_count": 7,
   "metadata": {
    "collapsed": false
   },
   "outputs": [
    {
     "name": "stdout",
     "output_type": "stream",
     "text": [
      "Help on method wrapped_f in module skbio.util._decorator:\n",
      "\n",
      "wrapped_f(*args, **kwargs) method of __main__.A instance\n",
      "    This method returns its input.\n",
      "    \n",
      "    State: Deprecated as of 0.3.1 for removal in 0.3.4. You should now be\n",
      "    using B.return_z1.\n",
      "    \n",
      "    Probably not the most useful function ever.\n",
      "    \n",
      "    Parameters\n",
      "    ----------\n",
      "    z1 : the value to be returned\n",
      "    \n",
      "    Returns\n",
      "    -------\n",
      "    whatever was passed in\n",
      "\n"
     ]
    }
   ],
   "source": [
    "help(A().return_z1)"
   ]
  },
  {
   "cell_type": "code",
   "execution_count": 8,
   "metadata": {
    "collapsed": false
   },
   "outputs": [
    {
     "name": "stdout",
     "output_type": "stream",
     "text": [
      "Help on method wrapped_f in module skbio.util._decorator:\n",
      "\n",
      "wrapped_f(*args, **kwargs) method of __main__.A instance\n",
      "    This method returns its input.\n",
      "    \n",
      "    State: Deprecated as of 0.3.1 for removal in 0.3.4. This method was\n",
      "    shown to be error-prone by [Foo et al. 2015](www.pubmed.gov/12345)\n",
      "    \n",
      "    Probably not the most useful function ever.\n",
      "    \n",
      "    Parameters\n",
      "    ----------\n",
      "    z2 : the value to be returned\n",
      "    \n",
      "    Returns\n",
      "    -------\n",
      "    whatever was passed in\n",
      "\n"
     ]
    }
   ],
   "source": [
    "help(A().return_z2)"
   ]
  },
  {
   "cell_type": "code",
   "execution_count": 11,
   "metadata": {
    "collapsed": false
   },
   "outputs": [
    {
     "data": {
      "text/plain": [
       "ArgSpec(args=[], varargs='args', keywords='kwargs', defaults=None)"
      ]
     },
     "execution_count": 11,
     "metadata": {},
     "output_type": "execute_result"
    }
   ],
   "source": [
    "from inspect import getargspec\n",
    "getargspec(A().return_z2)"
   ]
  },
  {
   "cell_type": "code",
   "execution_count": 20,
   "metadata": {
    "collapsed": false
   },
   "outputs": [
    {
     "name": "stdout",
     "output_type": "stream",
     "text": [
      "hello\n",
      "42\n"
     ]
    }
   ],
   "source": [
    "def d(f):\n",
    "    def \n",
    "    return f\n",
    "\n",
    "@d\n",
    "def (x):\n",
    "    print x\n",
    "\n",
    "e(42)"
   ]
  },
  {
   "cell_type": "code",
   "execution_count": 21,
   "metadata": {
    "collapsed": false
   },
   "outputs": [
    {
     "data": {
      "text/plain": [
       "ArgSpec(args=['x'], varargs=None, keywords=None, defaults=None)"
      ]
     },
     "execution_count": 21,
     "metadata": {},
     "output_type": "execute_result"
    }
   ],
   "source": [
    "getargspec(e)"
   ]
  },
  {
   "cell_type": "code",
   "execution_count": null,
   "metadata": {
    "collapsed": true
   },
   "outputs": [],
   "source": []
  }
 ],
 "metadata": {
  "kernelspec": {
   "display_name": "Python 2",
   "language": "python",
   "name": "python2"
  },
  "language_info": {
   "codemirror_mode": {
    "name": "ipython",
    "version": 2
   },
   "file_extension": ".py",
   "mimetype": "text/x-python",
   "name": "python",
   "nbconvert_exporter": "python",
   "pygments_lexer": "ipython2",
   "version": "2.7.5"
  }
 },
 "nbformat": 4,
 "nbformat_minor": 0
}
