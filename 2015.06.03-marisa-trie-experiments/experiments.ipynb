{
 "cells": [
  {
   "cell_type": "markdown",
   "metadata": {},
   "source": [
    "Some experiments with using [marisa-trie](https://github.com/kmike/marisa-trie) to collapse biological sequences. "
   ]
  },
  {
   "cell_type": "code",
   "execution_count": 1,
   "metadata": {
    "collapsed": false
   },
   "outputs": [],
   "source": [
    "import skbio\n",
    "import marisa_trie\n",
    "from collections import defaultdict\n",
    "import numpy as np\n",
    "import pandas as pd\n",
    "import random\n",
    "%matplotlib inline\n",
    "\n",
    "sids = {}\n",
    "seq_d = defaultdict(list)\n",
    "\n",
    "def unpacker(seq):\n",
    "    sid = seq.metadata['id'].split('_', maxsplit=1)[0]\n",
    "    if not sid in sids:\n",
    "        sids[sid] = len(sids)\n",
    "    # all of this is unnecessary, just compiling information in the \"usual\" ways to \n",
    "    # make sure that I have what I think I have in the trie\n",
    "    seq_d[(str(seq))].append(sid)\n",
    "    return str(seq)\n",
    "\n",
    "sample_md = df = pd.read_csv('tiny-test/map', sep='\\t', index_col=0)\n",
    "seq_gen = skbio.io.read('tiny-test/seqs', format='fasta',)\n",
    "trie = marisa_trie.Trie(map(unpacker, seq_gen))"
   ]
  },
  {
   "cell_type": "code",
   "execution_count": 2,
   "metadata": {
    "collapsed": false
   },
   "outputs": [],
   "source": [
    "def exact(trie, seq):\n",
    "    return [(trie[str(seq)], 1.)]\n",
    "\n",
    "def split_count(trie, seq):\n",
    "    oids = trie.items(str(seq))\n",
    "    oid_count = 1./len(oids)\n",
    "    return [(oid[1], oid_count) for oid in oids]\n",
    "\n",
    "def random_oid(trie, seq):\n",
    "    oids = trie.items(str(seq))\n",
    "    return [(random.choice(oids)[1], 1.)]\n",
    "\n",
    "def last_oid(trie, seq):\n",
    "    oids = trie.items(str(seq))\n",
    "    return [(oids[-1][1], 1.)]\n",
    "\n",
    "def all_count(trie, seq):\n",
    "    oids = trie.items(str(seq))\n",
    "    return [(oid[1], 1.) for oid in oids]\n",
    "        \n",
    "def table_summary(df):\n",
    "    print(\"Samples: \", len(df.index))\n",
    "    print(\"Observations: \", len(df.columns))\n",
    "    print(\"Sequence/sample counts: \")\n",
    "    print(df.T.sum())\n",
    "\n",
    "def table_from_trie(trie, sids, seq_iter, cluster_f=exact):\n",
    "    \"\"\"\n",
    "    \"\"\"\n",
    "    data = np.zeros((len(sids), len(trie)+25))\n",
    "    result = pd.DataFrame(data, columns=range(len(trie)+25), index=sids)\n",
    "\n",
    "    for seq in seq_iter:\n",
    "        sid = seq.metadata['id'].split('_', maxsplit=1)[0]\n",
    "        for oid, count in cluster_f(trie, seq):\n",
    "            result[oid][sid] += count\n",
    "    # this requires two passes, there must be a better way to drop columns with zero count in place\n",
    "    result.drop([i for i,e in enumerate(result.sum()) if e == 0], axis=1, inplace=True)\n",
    "    return result"
   ]
  },
  {
   "cell_type": "code",
   "execution_count": 3,
   "metadata": {
    "collapsed": false
   },
   "outputs": [
    {
     "name": "stdout",
     "output_type": "stream",
     "text": [
      "Samples:  9\n",
      "Observations:  43\n",
      "Sequence/sample counts: \n",
      "f1          22\n",
      "f2          22\n",
      "f3          22\n",
      "t1          23\n",
      "f4          22\n",
      "p2          22\n",
      "t2          22\n",
      "not16S.1    22\n",
      "p1          23\n",
      "dtype: float64\n"
     ]
    }
   ],
   "source": [
    "seq_iter = skbio.io.read('tiny-test/seqs', format='fasta')\n",
    "table_summary(table_from_trie(trie, sids, seq_iter, exact))"
   ]
  },
  {
   "cell_type": "code",
   "execution_count": 4,
   "metadata": {
    "collapsed": false
   },
   "outputs": [
    {
     "name": "stdout",
     "output_type": "stream",
     "text": [
      "Samples:  9\n",
      "Observations:  43\n",
      "Sequence/sample counts: \n",
      "f1          22\n",
      "f2          22\n",
      "f3          22\n",
      "t1          23\n",
      "f4          22\n",
      "p2          22\n",
      "t2          22\n",
      "not16S.1    22\n",
      "p1          23\n",
      "dtype: float64\n"
     ]
    }
   ],
   "source": [
    "seq_iter = skbio.io.read('tiny-test/seqs', format='fasta', )\n",
    "table_summary(table_from_trie(trie, sids, seq_iter, split_count))"
   ]
  },
  {
   "cell_type": "code",
   "execution_count": 5,
   "metadata": {
    "collapsed": false
   },
   "outputs": [
    {
     "name": "stdout",
     "output_type": "stream",
     "text": [
      "Samples:  9\n",
      "Observations:  38\n",
      "Sequence/sample counts: \n",
      "f1          22\n",
      "f2          22\n",
      "f3          22\n",
      "t1          23\n",
      "f4          22\n",
      "p2          22\n",
      "t2          22\n",
      "not16S.1    22\n",
      "p1          23\n",
      "dtype: float64\n"
     ]
    }
   ],
   "source": [
    "seq_iter = skbio.io.read('tiny-test/seqs', format='fasta', )\n",
    "table_summary(table_from_trie(trie, sids, seq_iter, random_oid))"
   ]
  },
  {
   "cell_type": "code",
   "execution_count": 6,
   "metadata": {
    "collapsed": false
   },
   "outputs": [
    {
     "name": "stdout",
     "output_type": "stream",
     "text": [
      "Samples:  9\n",
      "Observations:  43\n",
      "Sequence/sample counts: \n",
      "f1           87\n",
      "f2           93\n",
      "f3           87\n",
      "t1          124\n",
      "f4          110\n",
      "p2           51\n",
      "t2           80\n",
      "not16S.1     22\n",
      "p1           24\n",
      "dtype: float64\n"
     ]
    }
   ],
   "source": [
    "seq_iter = skbio.io.read('tiny-test/seqs', format='fasta', )\n",
    "table_summary(table_from_trie(trie, sids, seq_iter, all_count))"
   ]
  },
  {
   "cell_type": "code",
   "execution_count": 7,
   "metadata": {
    "collapsed": false
   },
   "outputs": [
    {
     "name": "stdout",
     "output_type": "stream",
     "text": [
      "Samples:  9\n",
      "Observations:  23\n",
      "Sequence/sample counts: \n",
      "f1          22\n",
      "f2          22\n",
      "f3          22\n",
      "t1          23\n",
      "f4          22\n",
      "p2          22\n",
      "t2          22\n",
      "not16S.1    22\n",
      "p1          23\n",
      "dtype: float64\n"
     ]
    }
   ],
   "source": [
    "seq_iter = skbio.io.read('tiny-test/seqs', format='fasta', )\n",
    "table_summary(table_from_trie(trie, sids, seq_iter, last_oid))"
   ]
  },
  {
   "cell_type": "code",
   "execution_count": 11,
   "metadata": {
    "collapsed": false
   },
   "outputs": [
    {
     "data": {
      "image/png": "[encoded data removed]",
      "text/plain": [
       "<matplotlib.figure.Figure at 0x10b730ba8>"
      ]
     },
     "metadata": {},
     "output_type": "display_data"
    }
   ],
   "source": [
    "from skbio.diversity.beta import pw_distances\n",
    "from skbio.stats.ordination import PCoA\n",
    "\n",
    "seq_iter = skbio.io.read('tiny-test/seqs', format='fasta', )\n",
    "otu_table = table_from_trie(trie, sids, seq_iter, exact)\n",
    "\n",
    "dm = pw_distances(otu_table, otu_table.index)\n",
    "dm\n",
    "pcoa_results = PCoA(dm).scores()\n",
    "_ = pcoa_results.plot(df=df,\n",
    "                        column='SampleType',\n",
    "                        axis_labels=['PC 1', 'PC 2', 'PC 3'],\n",
    "                        title='Samples colored by type',\n",
    "                        s=35)\n"
   ]
  },
  {
   "cell_type": "code",
   "execution_count": null,
   "metadata": {
    "collapsed": true
   },
   "outputs": [],
   "source": []
  }
 ],
 "metadata": {
  "kernelspec": {
   "display_name": "Python 3",
   "language": "python",
   "name": "python3"
  },
  "language_info": {
   "codemirror_mode": {
    "name": "ipython",
    "version": 3
   },
   "file_extension": ".py",
   "mimetype": "text/x-python",
   "name": "python",
   "nbconvert_exporter": "python",
   "pygments_lexer": "ipython3",
   "version": "3.4.3"
  }
 },
 "nbformat": 4,
 "nbformat_minor": 0
}
