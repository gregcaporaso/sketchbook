{
 "cells": [
  {
   "cell_type": "markdown",
   "metadata": {},
   "source": [
    "# Forensics"
   ]
  },
  {
   "cell_type": "code",
   "execution_count": 2,
   "metadata": {
    "collapsed": true
   },
   "outputs": [],
   "source": [
    "import skbio"
   ]
  },
  {
   "cell_type": "markdown",
   "metadata": {},
   "source": [
    "We have samples of bacterial DNA from three people's hands and three peoples keyboards. Can we figure out which individual belongs to which keyboard by seeing which keyboards and which hands have the most bacterial DNA sequences in common?\n",
    "\n",
    "First, we'll download some gzipped sequence file. Let's find out what type of file it is... "
   ]
  },
  {
   "cell_type": "code",
   "execution_count": 3,
   "metadata": {
    "collapsed": true
   },
   "outputs": [],
   "source": [
    "fp = \"forensic-seqs.fna\""
   ]
  },
  {
   "cell_type": "code",
   "execution_count": 4,
   "metadata": {
    "collapsed": false
   },
   "outputs": [
    {
     "data": {
      "text/plain": [
       "('fasta', {})"
      ]
     },
     "execution_count": 4,
     "metadata": {},
     "output_type": "execute_result"
    }
   ],
   "source": [
    "skbio.io.sniff(fp)"
   ]
  },
  {
   "cell_type": "markdown",
   "metadata": {},
   "source": [
    "Ok, it's fasta. But there is a lot of metadata embedded in the sample ids. Let's be a little more sane, and propagate that to sequence metadata. "
   ]
  },
  {
   "cell_type": "code",
   "execution_count": 5,
   "metadata": {
    "collapsed": false
   },
   "outputs": [
    {
     "data": {
      "text/plain": [
       "('fasta', {})"
      ]
     },
     "execution_count": 5,
     "metadata": {},
     "output_type": "execute_result"
    }
   ],
   "source": [
    "skbio.io.sniff(fp)\n"
   ]
  },
  {
   "cell_type": "markdown",
   "metadata": {},
   "source": [
    "Do some fancy sequence exploration to show off the repr..."
   ]
  },
  {
   "cell_type": "code",
   "execution_count": 6,
   "metadata": {
    "collapsed": false
   },
   "outputs": [
    {
     "name": "stdout",
     "output_type": "stream",
     "text": [
      "(<BiologicalSequence: CTGGACCGTG... (length: 229)>, 'M2.Thumb.R_1')\n"
     ]
    }
   ],
   "source": [
    "for rec in skbio.io.read(fp, format='fasta'):\n",
    "    print(rec, rec.id)    \n",
    "    break"
   ]
  },
  {
   "cell_type": "markdown",
   "metadata": {},
   "source": [
    "Hash the sequences on a per subject basis"
   ]
  },
  {
   "cell_type": "code",
   "execution_count": 7,
   "metadata": {
    "collapsed": true
   },
   "outputs": [],
   "source": [
    "from collections import defaultdict\n",
    "data = defaultdict(list)\n",
    "for rec in skbio.io.read(fp, format='fasta'):\n",
    "    subject = rec.id.split('.')[0]\n",
    "    data[subject].append(rec)"
   ]
  },
  {
   "cell_type": "markdown",
   "metadata": {},
   "source": [
    "Figure out how many sequences we have for each subject, and then how many unique sequences we have for each subject"
   ]
  },
  {
   "cell_type": "code",
   "execution_count": 8,
   "metadata": {
    "collapsed": false
   },
   "outputs": [
    {
     "name": "stdout",
     "output_type": "stream",
     "text": [
      "K3 9597 4019\n",
      "K2 6477 1366\n",
      "K1 6636 1732\n",
      "M3 3945 1264\n",
      "M2 3127 1413\n",
      "M9 4432 1079\n"
     ]
    }
   ],
   "source": [
    "for k, v in data.items():\n",
    "    print k, len(v), len(set(v))"
   ]
  },
  {
   "cell_type": "code",
   "execution_count": 9,
   "metadata": {
    "collapsed": false
   },
   "outputs": [
    {
     "name": "stdout",
     "output_type": "stream",
     "text": [
      "K3 4019\n",
      "K2 1366\n",
      "K1 1732\n",
      "M3 1264\n",
      "M2 1413\n",
      "M9 1079\n"
     ]
    }
   ],
   "source": [
    "for k, v in data.items():\n",
    "    data[k] = set(v)\n",
    "    print k, len(data[k])"
   ]
  },
  {
   "cell_type": "markdown",
   "metadata": {},
   "source": [
    "The largest union of sequences always provides the best match of subject to keyboard."
   ]
  },
  {
   "cell_type": "code",
   "execution_count": 10,
   "metadata": {
    "collapsed": false
   },
   "outputs": [
    {
     "name": "stdout",
     "output_type": "stream",
     "text": [
      "M2 K1 88\n",
      "M2 K2 77\n",
      "M2 K3 391\n",
      "\n",
      "M3 K1 297\n",
      "M3 K2 214\n",
      "M3 K3 191\n",
      "\n",
      "M9 K1 221\n",
      "M9 K2 268\n",
      "M9 K3 200\n",
      "\n"
     ]
    }
   ],
   "source": [
    "# maybe load these data into a distance matrix to show that repr?\n",
    "for i in ['M2', 'M3', 'M9']:\n",
    "    for j in ['K1', 'K2', 'K3']:\n",
    "        print i, j, len(data[i] & data[j])\n",
    "    print ''"
   ]
  },
  {
   "cell_type": "code",
   "execution_count": null,
   "metadata": {
    "collapsed": true
   },
   "outputs": [],
   "source": [
    "\n"
   ]
  },
  {
   "cell_type": "code",
   "execution_count": null,
   "metadata": {
    "collapsed": true
   },
   "outputs": [],
   "source": []
  }
 ],
 "metadata": {
  "kernelspec": {
   "display_name": "Python 2",
   "language": "python",
   "name": "python2"
  },
  "language_info": {
   "codemirror_mode": {
    "name": "ipython",
    "version": 2
   },
   "file_extension": ".py",
   "mimetype": "text/x-python",
   "name": "python",
   "nbconvert_exporter": "python",
   "pygments_lexer": "ipython2",
   "version": "2.7.5"
  }
 },
 "nbformat": 4,
 "nbformat_minor": 0
}
