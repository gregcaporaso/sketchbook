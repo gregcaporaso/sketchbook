{
 "cells": [
  {
   "cell_type": "markdown",
   "metadata": {},
   "source": [
    "This demo would do the following:\n",
    " 1. Get some human genome reference data for a specific region of the human genome. This will show off I/O, sniffing, and loading remote gzipped files. \n",
    " 2. Load Greg's 23andme SNP profile data for the same region. \n",
    " 3. Determine how Greg's SNP profile compares to the reference genome. This can show off some skbio.sequence API stuff maybe? \n",
    " 4. Load the 1000 genomes variant data for this region into sequence objects. Build a sklearn classifier to classify population (``pop`` in their metadata file) based on characters present at specific positions. \n",
    " 5. Apply the classifier to classify Greg's population using his SNP data, which will be a subset of the 1000 genomes data. \n",
    " \n",
    "- [x] reference human assembly build 37 (also known as Annotation Release 104) exported from 1000 Genomes; working below with ``chr21:33,177,777-33,708,621``\n",
    "- [x] Greg's 23andme data relatable to the reference genome\n",
    "- [x] variant data from 1000 genomes as vcf\n",
    "- [x] host metadata from 1000 genomes\n",
    "- [ ] vcf to fasta (in progress, just not working right)\n",
    "- [ ] classifiers"
   ]
  },
  {
   "cell_type": "markdown",
   "metadata": {},
   "source": [
    "# Step 1"
   ]
  },
  {
   "cell_type": "markdown",
   "metadata": {},
   "source": [
    "Targetting this region of the human genome (a basically random choice):\n",
    "chr21:33,177,777-33,708,621\n",
    "\n",
    "\n",
    "This URL looks promising for auto-generating, relevant variables are defined below.\n",
    "http://browser.1000genomes.org/Homo_sapiens/Export/Output/Location?db=core;flank3_display=0;flank5_display=0;output=fasta;r=21:33177777-33708621;strand=feature;coding=yes;cdna=yes;peptide=yes;utr3=yes;exon=yes;intron=yes;genomic=hard_masked;utr5=yes;_format=TextGz"
   ]
  },
  {
   "cell_type": "code",
   "execution_count": 1,
   "metadata": {
    "collapsed": false
   },
   "outputs": [],
   "source": [
    "from __future__ import division\n",
    "\n",
    "# variables defining the targeted region\n",
    "chromosome = 21\n",
    "start_pos = 33177777\n",
    "end_pos = 33708621"
   ]
  },
  {
   "cell_type": "code",
   "execution_count": 2,
   "metadata": {
    "collapsed": false
   },
   "outputs": [
    {
     "name": "stdout",
     "output_type": "stream",
     "text": [
      ">21 dna:chromosome chromosome:GRCh37:21:33177777:33708621:1\r",
      "\r\n",
      "NNNNNNNNNNNNNNNNNNNNNNATACCAAAANNNNNNNNNNNNNNNNNNNNNNNNNNNNN\r",
      "\r\n",
      "NNNNNNNNNNNNNNNNNNNNNNNNNNNNNNNNNNNNNNNNNNNNNNNNNNNNNNNNNNNN\r",
      "\r\n",
      "NNNNNNNNNNNNNNNNNNNNNNNNNNNNNNNNNNNNNNNNNNNNNNNNNNNNNNNNNNNN\r",
      "\r\n",
      "NNNNNNNNNNNNNNNNNNNNNNNNNNNNNNNNNNNNNNNNNNNNNNNNNNNNNNNNNNNN\r",
      "\r\n",
      "NNNNNNNNNNNNNNNNNNNNNNNNNNNNNNNNNNNNNNNNNNNNNNNNNNNNNNNATCAG\r",
      "\r\n",
      "GGAGAGGGTCAAGGCAATGTGTGTTGAGGTCAGTGTTGATACATTGGGTTGTGGGATTAG\r",
      "\r\n",
      "AAATGATGGATGGGGTAGGGTAGGTAGGCAGGAGATGACATGCAGAGGCAGGCTGGGGGT\r",
      "\r\n",
      "GGAAGAAGGGCTAAATGTGTCATATTAAGGAATTTGAACCTGATCCCAAAGGAAATGGGG\r",
      "\r\n",
      "AGTCTGAGGGCTCTGGAAATGTTTTAACCAGGAAAGTGTGCCGATTTATGTGCAGGAAGC\r",
      "\r\n"
     ]
    }
   ],
   "source": [
    "# The file comes down as ``ensembl.txt`` - we can sniff that this is fasta, and then load into a sequence. \n",
    "\n",
    "## The Ns in this sequence, I believe, are masked repeats or low-complexity regions.\n",
    "## Confirm that there are not lowercase characters in here...\n",
    "\n",
    "reference_fasta_fp = \"ensembl.txt\"\n",
    "!head $reference_fasta_fp"
   ]
  },
  {
   "cell_type": "code",
   "execution_count": 3,
   "metadata": {
    "collapsed": true
   },
   "outputs": [],
   "source": [
    "import skbio\n",
    "ref = skbio.io.read(reference_fasta_fp, into=skbio.DNA)"
   ]
  },
  {
   "cell_type": "markdown",
   "metadata": {},
   "source": [
    "# Step 2 (no skbio here)"
   ]
  },
  {
   "cell_type": "code",
   "execution_count": 4,
   "metadata": {
    "collapsed": false
   },
   "outputs": [
    {
     "name": "stderr",
     "output_type": "stream",
     "text": [
      "/Users/caporaso/.virtualenvs/skbio023/lib/python2.7/site-packages/pandas/io/parsers.py:1164: DtypeWarning: Columns (1) have mixed types. Specify dtype option on import or set low_memory=False.\n",
      "  data = self._reader.read(nrows)\n"
     ]
    },
    {
     "data": {
      "text/html": [
       "<div style=\"max-height:1000px;max-width:1500px;overflow:auto;\">\n",
       "<table border=\"1\" class=\"dataframe\">\n",
       "  <thead>\n",
       "    <tr style=\"text-align: right;\">\n",
       "      <th></th>\n",
       "      <th>rsid</th>\n",
       "      <th>chromosome</th>\n",
       "      <th>position</th>\n",
       "      <th>genotype</th>\n",
       "    </tr>\n",
       "  </thead>\n",
       "  <tbody>\n",
       "    <tr>\n",
       "      <th>909696</th>\n",
       "      <td>rs2833521</td>\n",
       "      <td>21</td>\n",
       "      <td>33179293</td>\n",
       "      <td>AA</td>\n",
       "    </tr>\n",
       "    <tr>\n",
       "      <th>909697</th>\n",
       "      <td>rs2833522</td>\n",
       "      <td>21</td>\n",
       "      <td>33179371</td>\n",
       "      <td>AG</td>\n",
       "    </tr>\n",
       "    <tr>\n",
       "      <th>909698</th>\n",
       "      <td>rs2833524</td>\n",
       "      <td>21</td>\n",
       "      <td>33182304</td>\n",
       "      <td>--</td>\n",
       "    </tr>\n",
       "    <tr>\n",
       "      <th>909699</th>\n",
       "      <td>rs1012482</td>\n",
       "      <td>21</td>\n",
       "      <td>33182482</td>\n",
       "      <td>AG</td>\n",
       "    </tr>\n",
       "    <tr>\n",
       "      <th>909700</th>\n",
       "      <td>rs7275656</td>\n",
       "      <td>21</td>\n",
       "      <td>33186188</td>\n",
       "      <td>TT</td>\n",
       "    </tr>\n",
       "    <tr>\n",
       "      <th>909701</th>\n",
       "      <td>rs2833527</td>\n",
       "      <td>21</td>\n",
       "      <td>33186415</td>\n",
       "      <td>AG</td>\n",
       "    </tr>\n",
       "    <tr>\n",
       "      <th>909702</th>\n",
       "      <td>rs7283466</td>\n",
       "      <td>21</td>\n",
       "      <td>33193131</td>\n",
       "      <td>GG</td>\n",
       "    </tr>\n",
       "    <tr>\n",
       "      <th>909703</th>\n",
       "      <td>rs2833530</td>\n",
       "      <td>21</td>\n",
       "      <td>33200096</td>\n",
       "      <td>AA</td>\n",
       "    </tr>\n",
       "    <tr>\n",
       "      <th>909704</th>\n",
       "      <td>rs8133196</td>\n",
       "      <td>21</td>\n",
       "      <td>33206932</td>\n",
       "      <td>CC</td>\n",
       "    </tr>\n",
       "    <tr>\n",
       "      <th>909705</th>\n",
       "      <td>rs2833536</td>\n",
       "      <td>21</td>\n",
       "      <td>33212509</td>\n",
       "      <td>TT</td>\n",
       "    </tr>\n",
       "  </tbody>\n",
       "</table>\n",
       "</div>"
      ],
      "text/plain": [
       "             rsid chromosome  position genotype\n",
       "909696  rs2833521         21  33179293       AA\n",
       "909697  rs2833522         21  33179371       AG\n",
       "909698  rs2833524         21  33182304       --\n",
       "909699  rs1012482         21  33182482       AG\n",
       "909700  rs7275656         21  33186188       TT\n",
       "909701  rs2833527         21  33186415       AG\n",
       "909702  rs7283466         21  33193131       GG\n",
       "909703  rs2833530         21  33200096       AA\n",
       "909704  rs8133196         21  33206932       CC\n",
       "909705  rs2833536         21  33212509       TT"
      ]
     },
     "execution_count": 4,
     "metadata": {},
     "output_type": "execute_result"
    }
   ],
   "source": [
    "import pandas as pd\n",
    "import numpy as np\n",
    "\n",
    "# this file isn't public b/c I'm not sure that I want it to be. Greg will share the link...\n",
    "greg_data_fp = \"genome_Gregory_Caporaso_Full_20150702133442.txt\"\n",
    "df = pd.read_table(greg_data_fp,\n",
    "                   comment='#',\n",
    "                   names=[\"rsid\", \"chromosome\", \"position\", \"genotype\"])\n",
    "chromosome_in_range = df['chromosome'] == chromosome\n",
    "position_in_range = np.logical_and(start_pos <= df['position'], end_pos >= df['position'])\n",
    "\n",
    "gregs_data = df[np.logical_and(chromosome_in_range, position_in_range)]\n",
    "gregs_data[:10]"
   ]
  },
  {
   "cell_type": "markdown",
   "metadata": {},
   "source": [
    "## Step 3"
   ]
  },
  {
   "cell_type": "code",
   "execution_count": 5,
   "metadata": {
    "collapsed": false
   },
   "outputs": [
    {
     "data": {
      "text/plain": [
       "<DNASequence: NNNNNNNNNN... (length: 530845)>"
      ]
     },
     "execution_count": 5,
     "metadata": {},
     "output_type": "execute_result"
    }
   ],
   "source": [
    "ref"
   ]
  },
  {
   "cell_type": "code",
   "execution_count": 6,
   "metadata": {
    "collapsed": false
   },
   "outputs": [
    {
     "data": {
      "text/plain": [
       "<DNASequence: G (length: 1)>"
      ]
     },
     "execution_count": 6,
     "metadata": {},
     "output_type": "execute_result"
    }
   ],
   "source": [
    "# Find out what base is in the reference for one of my SNPs. In this case, \n",
    "# I'm heterozygous for A/G at this position, and the reference has a G.\n",
    "ref[33179371 - start_pos]"
   ]
  },
  {
   "cell_type": "code",
   "execution_count": 59,
   "metadata": {
    "collapsed": false
   },
   "outputs": [
    {
     "name": "stdout",
     "output_type": "stream",
     "text": [
      "0.515555555556 225\n"
     ]
    }
   ],
   "source": [
    "# Find out how many times I'm the same as the reference.\n",
    "\n",
    "count_same = 0\n",
    "count = 0\n",
    "for e in gregs_data.iterrows():\n",
    "    count += 1\n",
    "    if str(ref[e[1].position - start_pos]) in e[1].genotype:\n",
    "        count_same += 1\n",
    "\n",
    "print count_same / count, count"
   ]
  },
  {
   "cell_type": "markdown",
   "metadata": {},
   "source": [
    "## Step 4"
   ]
  },
  {
   "cell_type": "markdown",
   "metadata": {},
   "source": [
    "Building fasta from vcf files\n",
    " - trying this with GATK (requires java 1.7.0 or greater) based on the Biostars discussion [here](https://www.biostars.org/p/17705/#17739).\n"
   ]
  },
  {
   "cell_type": "code",
   "execution_count": 75,
   "metadata": {
    "collapsed": false
   },
   "outputs": [
    {
     "name": "stdout",
     "output_type": "stream",
     "text": [
      "[Thu Jul 02 16:36:39 MST 2015] picard.sam.CreateSequenceDictionary REFERENCE=ensembl.txt OUTPUT=ensembl.txt.dict    TRUNCATE_NAMES_AT_WHITESPACE=true NUM_SEQUENCES=2147483647 VERBOSITY=INFO QUIET=false VALIDATION_STRINGENCY=STRICT COMPRESSION_LEVEL=5 MAX_RECORDS_IN_RAM=500000 CREATE_INDEX=false CREATE_MD5_FILE=false GA4GH_CLIENT_SECRETS=client_secrets.json\n",
      "[Thu Jul 02 16:36:39 MST 2015] Executing as caporaso@egr18.egr.nau.edu on Mac OS X 10.9.5 x86_64; Java HotSpot(TM) 64-Bit Server VM 1.8.0_45-b14; Picard version: 1.135(83ec44e03ec8d07ef180ef86b7a62d59a80dedd3_1435607037) JdkDeflater\n",
      "[Thu Jul 02 16:36:39 MST 2015] picard.sam.CreateSequenceDictionary done. Elapsed time: 0.00 minutes.\n",
      "Runtime.totalMemory()=257425408\n"
     ]
    }
   ],
   "source": [
    "# First we need to create the index and dict files, as described here:\n",
    "# https://www.broadinstitute.org/gatk/guide/article?id=2798\n",
    "\n",
    "reference_dict_fp = '%s.dict' % reference_fasta_fp\n",
    "!java -jar /Applications/picard-tools-1.135/picard.jar CreateSequenceDictionary R= $reference_fasta_fp O= $reference_dict_fp\n",
    "\n",
    "reference_idx_fp = '%s.fai' % reference_fasta_fp\n",
    "!samtools faidx $reference_fasta_fp"
   ]
  },
  {
   "cell_type": "code",
   "execution_count": 67,
   "metadata": {
    "collapsed": false
   },
   "outputs": [
    {
     "name": "stdout",
     "output_type": "stream",
     "text": [
      "--2015-07-02 16:13:09--  http://browser.1000genomes.org/tmp/slicer/filtered_21.33177777-33708621.ALL.chr21.phase3_shapeit2_mvncall_integrated_v5a.20130502.genotypes.vcf.gz\n",
      "Resolving browser.1000genomes.org... 193.62.193.83\n",
      "Connecting to browser.1000genomes.org|193.62.193.83|:80... connected.\n",
      "HTTP request sent, awaiting response... 200 OK\n",
      "Length: 404118 (395K) [application/gzip]\n",
      "Saving to: 'filtered_21.33177777-33708621.ALL.chr21.phase3_shapeit2_mvncall_integrated_v5a.20130502.genotypes.vcf.gz'\n",
      "\n",
      "100%[======================================>] 404,118      328KB/s   in 1.2s   \n",
      "\n",
      "2015-07-02 16:13:11 (328 KB/s) - 'filtered_21.33177777-33708621.ALL.chr21.phase3_shapeit2_mvncall_integrated_v5a.20130502.genotypes.vcf.gz' saved [404118/404118]\n",
      "\n"
     ]
    }
   ],
   "source": [
    "# Then, get the vcf file corresponding to this region - I don't think we can change this URL,\n",
    "# it points to a file that I initiated creation of on the web server.\n",
    "\n",
    "!wget http://browser.1000genomes.org/tmp/slicer/filtered_21.33177777-33708621.ALL.chr21.phase3_shapeit2_mvncall_integrated_v5a.20130502.genotypes.vcf.gz\n",
    "!gunzip filtered_21.33177777-33708621.ALL.chr21.phase3_shapeit2_mvncall_integrated_v5a.20130502.genotypes.vcf.gz\n",
    "!head filtered_21.33177777-33708621.ALL.chr21.phase3_shapeit2_mvncall_integrated_v5a.20130502.genotypes.vcf"
   ]
  },
  {
   "cell_type": "code",
   "execution_count": 76,
   "metadata": {
    "collapsed": false
   },
   "outputs": [
    {
     "name": "stdout",
     "output_type": "stream",
     "text": [
      "INFO  16:36:51,460 HelpFormatter - -------------------------------------------------------------------------------- \n",
      "INFO  16:36:51,462 HelpFormatter - The Genome Analysis Toolkit (GATK) v3.4-0-g7e26428, Compiled 2015/05/15 03:25:41 \n",
      "INFO  16:36:51,462 HelpFormatter - Copyright (c) 2010 The Broad Institute \n",
      "INFO  16:36:51,462 HelpFormatter - For support and documentation go to http://www.broadinstitute.org/gatk \n",
      "INFO  16:36:51,466 HelpFormatter - Program Args: -R ensembl.txt -T FastaAlternateReferenceMaker -o MY_REFERENCE_WITH_SNPS_FROM_VCF.fa --variant filtered_21.33177777-33708621.ALL.chr21.phase3_shapeit2_mvncall_integrated_v5a.20130502.genotypes.vcf \n",
      "INFO  16:36:51,470 HelpFormatter - Executing as caporaso@egr18.egr.nau.edu on Mac OS X 10.9.5 x86_64; Java HotSpot(TM) 64-Bit Server VM 1.8.0_45-b14. \n",
      "INFO  16:36:51,470 HelpFormatter - Date/Time: 2015/07/02 16:36:51 \n",
      "INFO  16:36:51,470 HelpFormatter - -------------------------------------------------------------------------------- \n",
      "INFO  16:36:51,470 HelpFormatter - -------------------------------------------------------------------------------- \n",
      "INFO  16:36:51,754 GenomeAnalysisEngine - Strictness is SILENT \n",
      "INFO  16:36:51,850 GenomeAnalysisEngine - Downsampling Settings: Method: BY_SAMPLE, Target Coverage: 1000 \n",
      "INFO  16:36:52,212 RMDTrackBuilder - Writing Tribble index to disk for file /Users/caporaso/Dropbox/code/sketchbook/2015.07.02-scipy2015-experiments/filtered_21.33177777-33708621.ALL.chr21.phase3_shapeit2_mvncall_integrated_v5a.20130502.genotypes.vcf.idx \n",
      "INFO  16:36:52,484 GenomeAnalysisEngine - Preparing for traversal \n",
      "INFO  16:36:52,485 GenomeAnalysisEngine - Done preparing for traversal \n",
      "INFO  16:36:52,486 ProgressMeter - [INITIALIZATION COMPLETE; STARTING PROCESSING] \n",
      "INFO  16:36:52,486 ProgressMeter -                 | processed |    time |    per 1M |           |   total | remaining \n",
      "INFO  16:36:52,486 ProgressMeter -        Location |     sites | elapsed |     sites | completed | runtime |   runtime \n",
      "INFO  16:36:52,909 ProgressMeter -            done    530845.0     0.0 s       0.0 s      100.0%     0.0 s       0.0 s \n",
      "INFO  16:36:52,909 ProgressMeter - Total runtime 0.42 secs, 0.01 min, 0.00 hours \n",
      "INFO  16:36:53,582 GATKRunReport - Uploaded run statistics report to AWS S3 \n"
     ]
    }
   ],
   "source": [
    "!java -Xmx2g -jar /Applications/GenomeAnalysisTK.jar -R ensembl.txt -T FastaAlternateReferenceMaker -o MY_REFERENCE_WITH_SNPS_FROM_VCF.fa --variant filtered_21.33177777-33708621.ALL.chr21.phase3_shapeit2_mvncall_integrated_v5a.20130502.genotypes.vcf "
   ]
  },
  {
   "cell_type": "code",
   "execution_count": 9,
   "metadata": {
    "collapsed": false
   },
   "outputs": [
    {
     "data": {
      "text/plain": [
       "0.0"
      ]
     },
     "execution_count": 9,
     "metadata": {},
     "output_type": "execute_result"
    }
   ],
   "source": [
    "## For some reason, the result is the same as my reference sequence... Is this a problem with how I'm \n",
    "## using GATK, or with my VCF file (i.e., there really is no variation from the reference). Also, \n",
    "## this is only generating one sequence. I want one per subject... \n",
    "\n",
    "## Looking at the vcf file, I see a lot of \"0|0\" in the first column of subject variant data, \n",
    "## so it may really be that there is no variation in this region and I should pick another. Puzzling though\n",
    "## that I have so much variation if that's the case - am I doing something wrong there??\n",
    "\n",
    "vcp_snped_ref = skbio.io.read('MY_REFERENCE_WITH_SNPS_FROM_VCF.fa', into=skbio.DNA)\n",
    "len(vcp_snped_ref), len(ref)\n",
    "vcp_snped_ref.fraction_diff(ref)"
   ]
  },
  {
   "cell_type": "markdown",
   "metadata": {},
   "source": [
    "## Step 5 (not really started yet)"
   ]
  },
  {
   "cell_type": "code",
   "execution_count": 8,
   "metadata": {
    "collapsed": false
   },
   "outputs": [
    {
     "name": "stdout",
     "output_type": "stream",
     "text": [
      "--2015-07-02 17:10:41--  ftp://ftp.1000genomes.ebi.ac.uk/vol1/ftp/release/20130502/integrated_call_samples_v3.20130502.ALL.panel\n",
      "           => 'integrated_call_samples_v3.20130502.ALL.panel.2'\n",
      "Resolving ftp.1000genomes.ebi.ac.uk... 193.62.192.8\n",
      "Connecting to ftp.1000genomes.ebi.ac.uk|193.62.192.8|:21... connected.\n",
      "Logging in as anonymous ... Logged in!\n",
      "==> SYST ... done.    ==> PWD ... done.\n",
      "==> TYPE I ... done.  ==> CWD (1) /vol1/ftp/release/20130502 ... done.\n",
      "==> SIZE integrated_call_samples_v3.20130502.ALL.panel ... 55156\n",
      "==> PASV ... done.    ==> RETR integrated_call_samples_v3.20130502.ALL.panel ... done.\n",
      "Length: 55156 (54K) (unauthoritative)\n",
      "\n",
      "100%[======================================>] 55,156       154KB/s   in 0.4s   \n",
      "\n",
      "2015-07-02 17:10:45 (154 KB/s) - 'integrated_call_samples_v3.20130502.ALL.panel.2' saved [55156]\n",
      "\n",
      "sample\tpop\tsuper_pop\tgender\t\t\n",
      "HG00096\tGBR\tEUR\tmale\n",
      "HG00097\tGBR\tEUR\tfemale\n",
      "HG00099\tGBR\tEUR\tfemale\n",
      "HG00100\tGBR\tEUR\tfemale\n",
      "HG00101\tGBR\tEUR\tmale\n",
      "HG00102\tGBR\tEUR\tfemale\n",
      "HG00103\tGBR\tEUR\tmale\n",
      "HG00105\tGBR\tEUR\tmale\n",
      "HG00106\tGBR\tEUR\tfemale\n",
      "HG00107\tGBR\tEUR\tmale\n",
      "HG00108\tGBR\tEUR\tmale\n",
      "HG00109\tGBR\tEUR\tmale\n",
      "HG00110\tGBR\tEUR\tfemale\n",
      "HG00111\tGBR\tEUR\tfemale\n",
      "HG00112\tGBR\tEUR\tmale\n",
      "HG00113\tGBR\tEUR\tmale\n",
      "HG00114\tGBR\tEUR\tmale\n",
      "HG00115\tGBR\tEUR\tmale\n",
      "HG00116\tGBR\tEUR\tmale\n",
      "HG00117\tGBR\tEUR\tmale\n",
      "HG00118\tGBR\tEUR\tfemale\n",
      "HG00119\tGBR\tEUR\tmale\n",
      "HG00120\tGBR\tEUR\tfemale\n",
      "HG00121\tGBR\tEUR\tfemale\n",
      "HG00122\tGBR\tEUR\tfemale\n",
      "HG00123\tGBR\tEUR\tfemale\n",
      "HG00125\tGBR\tEUR\tfemale\n",
      "HG00126\tGBR\tEUR\tmale\n",
      "HG00127\tGBR\tEUR\tfemale\n",
      "HG00128\tGBR\tEUR\tfemale\n",
      "HG00129\tGBR\tEUR\tmale\n",
      "HG00130\tGBR\tEUR\tfemale\n",
      "HG00131\tGBR\tEUR\tmale\n",
      "HG00132\tGBR\tEUR\tfemale\n",
      "HG00133\tGBR\tEUR\tfemale\n",
      "HG00136\tGBR\tEUR\tmale\n",
      "HG00137\tGBR\tEUR\tfemale\n",
      "HG00138\tGBR\tEUR\tmale\n",
      "HG00139\tGBR\tEUR\tmale\n",
      "HG00140\tGBR\tEUR\tmale\n",
      "HG00141\tGBR\tEUR\tmale\n",
      "HG00142\tGBR\tEUR\tmale\n",
      "HG00143\tGBR\tEUR\tmale\n",
      "HG00145\tGBR\tEUR\tmale\n",
      "HG00146\tGBR\tEUR\tfemale\n",
      "HG00148\tGBR\tEUR\tmale\n",
      "HG00149\tGBR\tEUR\tmale\n",
      "HG00150\tGBR\tEUR\tfemale\n",
      "HG00151\tGBR\tEUR\tmale\n"
     ]
    }
   ],
   "source": [
    "# This is the 1000 genomes sample (i.e., host) metadata (John, do you know where the lookup is for the \"pop\" field?)\n",
    "\n",
    "!wget ftp://ftp.1000genomes.ebi.ac.uk/vol1/ftp/release/20130502/integrated_call_samples_v3.20130502.ALL.panel\n",
    "!head -n 50 integrated_call_samples_v3.20130502.ALL.panel"
   ]
  },
  {
   "cell_type": "code",
   "execution_count": null,
   "metadata": {
    "collapsed": true
   },
   "outputs": [],
   "source": []
  }
 ],
 "metadata": {
  "kernelspec": {
   "display_name": "Python 2",
   "language": "python",
   "name": "python2"
  },
  "language_info": {
   "codemirror_mode": {
    "name": "ipython",
    "version": 2
   },
   "file_extension": ".py",
   "mimetype": "text/x-python",
   "name": "python",
   "nbconvert_exporter": "python",
   "pygments_lexer": "ipython2",
   "version": "2.7.5"
  }
 },
 "nbformat": 4,
 "nbformat_minor": 0
}
