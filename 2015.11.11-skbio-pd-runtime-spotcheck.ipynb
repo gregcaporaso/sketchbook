{
 "cells": [
  {
   "cell_type": "code",
   "execution_count": 7,
   "metadata": {
    "collapsed": false
   },
   "outputs": [],
   "source": [
    "from biom import load_table\n",
    "from skbio import TreeNode\n",
    "from io import StringIO\n",
    "import numpy as np\n",
    "from skbio.diversity.alpha._base import alpha_diversity, observed_otus, faith_pd"
   ]
  },
  {
   "cell_type": "code",
   "execution_count": 13,
   "metadata": {
    "collapsed": false
   },
   "outputs": [],
   "source": [
    "t = load_table('/Users/caporaso/code/q2d2/example-data/keyboard/q191/otu-table.tsv')\n",
    "d = t.matrix_data.toarray().astype('int').T\n",
    "tree = TreeNode.read('/Users/caporaso/code/q2d2/example-data/keyboard/q191/rep-set.tre')"
   ]
  },
  {
   "cell_type": "code",
   "execution_count": 14,
   "metadata": {
    "collapsed": false
   },
   "outputs": [
    {
     "name": "stdout",
     "output_type": "stream",
     "text": [
      "100 loops, best of 3: 9.44 ms per loop\n"
     ]
    }
   ],
   "source": [
    "%%timeit\n",
    "alpha_diversity('faith_pd', d, ids=t.ids('sample'), otu_ids=t.ids('observation'), tree=tree)"
   ]
  },
  {
   "cell_type": "code",
   "execution_count": 15,
   "metadata": {
    "collapsed": false
   },
   "outputs": [
    {
     "name": "stdout",
     "output_type": "stream",
     "text": [
      "1 loops, best of 3: 840 ms per loop\n"
     ]
    }
   ],
   "source": [
    "%%timeit\n",
    "alpha_diversity(faith_pd, d, ids=t.ids('sample'), otu_ids=t.ids('observation'), tree=tree)"
   ]
  },
  {
   "cell_type": "code",
   "execution_count": 16,
   "metadata": {
    "collapsed": false
   },
   "outputs": [
    {
     "data": {
      "text/plain": [
       "88.98305084745763"
      ]
     },
     "execution_count": 16,
     "metadata": {},
     "output_type": "execute_result"
    }
   ],
   "source": [
    "840./9.44"
   ]
  },
  {
   "cell_type": "code",
   "execution_count": null,
   "metadata": {
    "collapsed": true
   },
   "outputs": [],
   "source": []
  }
 ],
 "metadata": {
  "kernelspec": {
   "display_name": "Python 3",
   "language": "python",
   "name": "python3"
  },
  "language_info": {
   "codemirror_mode": {
    "name": "ipython",
    "version": 3
   },
   "file_extension": ".py",
   "mimetype": "text/x-python",
   "name": "python",
   "nbconvert_exporter": "python",
   "pygments_lexer": "ipython3",
   "version": "3.4.3"
  }
 },
 "nbformat": 4,
 "nbformat_minor": 0
}
