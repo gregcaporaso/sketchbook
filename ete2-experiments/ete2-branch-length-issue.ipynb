{
 "cells": [
  {
   "cell_type": "code",
   "execution_count": 1,
   "metadata": {
    "collapsed": false
   },
   "outputs": [
    {
     "name": "stdout",
     "output_type": "stream",
     "text": [
      "No module named MySQLdb\n",
      "No module named PyQt4.QtGui\n",
      "Populating the interactive namespace from numpy and matplotlib\n"
     ]
    },
    {
     "name": "stderr",
     "output_type": "stream",
     "text": [
      " MySQLdb module could not be loaded\n",
      "Treeview module could not be loaded\n"
     ]
    }
   ],
   "source": [
    "import ete2\n",
    "import numpy as np\n",
    "import matplotlib.pyplot as plt\n",
    "import re\n",
    "%pylab inline"
   ]
  },
  {
   "cell_type": "code",
   "execution_count": 2,
   "metadata": {
    "collapsed": false
   },
   "outputs": [],
   "source": [
    "nw = (\"((((((801940:0.16748,3825327:0.36897):0.07831,1928988:0.27799)'p__Crenarchaeota':0.04405,\"\n",
    "      \"(4455990:0.14403,1128285:0.14461):0.16704):0.01855,823009:0.3881):0.01587,\"\n",
    "      \"(3770699:0.60035,426860:0.28962)'c__[Parvarchaea]':0.07841)'k__Archaea':0.31772,\"\n",
    "      \"((3761685:0.18326,4423155:0.5605):0.07543,(((((4391683:0.26125,(4336814:0.35428,\"\n",
    "      \"(((3190878:0.36049,4452949:0.08994):0.12795,4251079:0.19473):0.02384,\"\n",
    "      \"(2107103:0.54203,4363563:0.46236):0.06044):0.20722):0.05703):0.08253,229854:0.24026):0.02393,\"\n",
    "      \"4459468:0.37727):0.01293,696036:0.63811):0.0212,\"\n",
    "      \"(3779572:0.1464,4363260:0.11356)0.081:0.30451):0.09868):0.15861);\")"
   ]
  },
  {
   "cell_type": "markdown",
   "metadata": {},
   "source": [
    "First, here are the branch lengths, which we pull out with a regular expression."
   ]
  },
  {
   "cell_type": "code",
   "execution_count": 3,
   "metadata": {
    "collapsed": false
   },
   "outputs": [
    {
     "name": "stdout",
     "output_type": "stream",
     "text": [
      "[0.01293, 0.01587, 0.01855, 0.0212, 0.02384, 0.02393, 0.04405, 0.05703, 0.06044, 0.07543, 0.07831, 0.07841, 0.08253, 0.08994, 0.09868, 0.11356, 0.12795, 0.14403, 0.14461, 0.1464, 0.15861, 0.16704, 0.16748, 0.18326, 0.19473, 0.20722, 0.24026, 0.26125, 0.27799, 0.28962, 0.30451, 0.31772, 0.35428, 0.36049, 0.36897, 0.37727, 0.3881, 0.46236, 0.54203, 0.5605, 0.60035, 0.63811]\n",
      "42 0.01293 0.162825 0.63811\n"
     ]
    },
    {
     "data": {
      "image/png": "[encoded data removed]",
      "text/plain": [
       "<matplotlib.figure.Figure at 0x10d49df10>"
      ]
     },
     "metadata": {},
     "output_type": "display_data"
    }
   ],
   "source": [
    "lengths = map(float,[e[1:] for e in re.findall(':\\d\\.\\d+', nw)])\n",
    "lengths.sort()\n",
    "print lengths\n",
    "print len(lengths), np.min(lengths), np.median(lengths), np.max(lengths)\n",
    "_ = plt.hist(lengths)"
   ]
  },
  {
   "cell_type": "markdown",
   "metadata": {},
   "source": [
    "Next, let's parse the newick file. Note that I'm purposefully using the default format here, because this is what I did in [my experiment](./experiments.ipynb) and it gave me misleading results."
   ]
  },
  {
   "cell_type": "code",
   "execution_count": 4,
   "metadata": {
    "collapsed": false
   },
   "outputs": [
    {
     "name": "stdout",
     "output_type": "stream",
     "text": [
      "Number of leaf nodes:\t22\n",
      "Number of internal nodes:\t43\n",
      "Rooted:\tYes\n",
      "Most distant node:\t3770699\n",
      "Max. distance:\t2.600350\n"
     ]
    },
    {
     "data": {
      "text/plain": [
       "[Tree node '801940' (0x10f1dd11),\n",
       " Tree node '3825327' (0x10f1dd19),\n",
       " Tree node 'NoName' (0x10f1dd21),\n",
       " Tree node '1928988' (0x10f1b629),\n",
       " Tree node 'NoName' (0x10f1dd71),\n",
       " Tree node '4455990' (0x10f1b611),\n",
       " Tree node '1128285' (0x10f1b619),\n",
       " Tree node 'NoName' (0x10f1dd2d),\n",
       " Tree node 'NoName' (0x10f1dd6d),\n",
       " Tree node '823009' (0x10f1b621),\n",
       " Tree node 'NoName' (0x10f1dd8d),\n",
       " Tree node '3770699' (0x10f1b105),\n",
       " Tree node '426860' (0x10f1b1a9),\n",
       " Tree node 'NoName' (0x10f1dd29),\n",
       " Tree node 'NoName' (0x10f1dd85),\n",
       " Tree node '3761685' (0x10f1b1f9),\n",
       " Tree node '4423155' (0x10f1b165),\n",
       " Tree node 'NoName' (0x10f1b1b1),\n",
       " Tree node '4391683' (0x10f1b13d),\n",
       " Tree node '4336814' (0x10f1b019),\n",
       " Tree node '3190878' (0x10f1abf1),\n",
       " Tree node '4452949' (0x10f1abf9),\n",
       " Tree node 'NoName' (0x10f1ab51),\n",
       " Tree node '4251079' (0x10f1abbd),\n",
       " Tree node 'NoName' (0x10f1b01d),\n",
       " Tree node '2107103' (0x10f1abe1),\n",
       " Tree node '4363563' (0x10f1ab15),\n",
       " Tree node 'NoName' (0x10f1ab65),\n",
       " Tree node 'NoName' (0x10f1b015),\n",
       " Tree node 'NoName' (0x10f1b139),\n",
       " Tree node 'NoName' (0x10f1b151),\n",
       " Tree node '229854' (0x10f1ab31),\n",
       " Tree node 'NoName' (0x10f1b1a5),\n",
       " Tree node '4459468' (0x10f1ab05),\n",
       " Tree node 'NoName' (0x10f1b149),\n",
       " Tree node '696036' (0x10f1ab21),\n",
       " Tree node 'NoName' (0x10f1b159),\n",
       " Tree node '3779572' (0x10f1ab41),\n",
       " Tree node '4363260' (0x10f1ab45),\n",
       " Tree node 'NoName' (0x10f1ab71),\n",
       " Tree node 'NoName' (0x10f1b161),\n",
       " Tree node 'NoName' (0x10f1b62d),\n",
       " Tree node 'NoName' (0x10f22749)]"
      ]
     },
     "execution_count": 4,
     "metadata": {},
     "output_type": "execute_result"
    }
   ],
   "source": [
    "t = ete2.Tree(nw)\n",
    "t.describe()\n",
    "list(t.traverse(\"postorder\"))"
   ]
  },
  {
   "cell_type": "markdown",
   "metadata": {},
   "source": [
    "There are four \"branch lengths\" that ete2 can't interpret. These are the ones that contain named internal nodes such as ``'p__Crenarchaeota':0.04405``. **Note that ``0.04405`` isn't in the list of branch lengths below - it's instead replaced by ``1.0``. This is a silent failure that can give very misleading results.**"
   ]
  },
  {
   "cell_type": "code",
   "execution_count": 5,
   "metadata": {
    "collapsed": false
   },
   "outputs": [
    {
     "name": "stdout",
     "output_type": "stream",
     "text": [
      "[0.01293, 0.01587, 0.01855, 0.0212, 0.02384, 0.02393, 0.05703, 0.06044, 0.07543, 0.07831, 0.08253, 0.08994, 0.09868, 0.11356, 0.12795, 0.14403, 0.14461, 0.1464, 0.15861, 0.16704, 0.16748, 0.18326, 0.19473, 0.20722, 0.24026, 0.26125, 0.27799, 0.28962, 0.30451, 0.35428, 0.36049, 0.36897, 0.37727, 0.3881, 0.46236, 0.54203, 0.5605, 0.60035, 0.63811, 1.0, 1.0, 1.0, 1.0]\n",
      "43 0.01293 0.18326 1.0\n"
     ]
    },
    {
     "data": {
      "image/png": "[encoded data removed]",
      "text/plain": [
       "<matplotlib.figure.Figure at 0x10f240e50>"
      ]
     },
     "metadata": {},
     "output_type": "display_data"
    }
   ],
   "source": [
    "lengths = [n.dist for n in t.traverse(\"postorder\")]\n",
    "lengths.sort()\n",
    "print lengths\n",
    "print len(lengths), np.min(lengths), np.median(lengths), np.max(lengths)\n",
    "_ = plt.hist(lengths)"
   ]
  },
  {
   "cell_type": "markdown",
   "metadata": {},
   "source": [
    "If we instead use the correct format, the results are somewhat better..."
   ]
  },
  {
   "cell_type": "code",
   "execution_count": 6,
   "metadata": {
    "collapsed": false
   },
   "outputs": [
    {
     "data": {
      "text/plain": [
       "[Tree node '801940' (0x10f7ee1d),\n",
       " Tree node '3825327' (0x10f7ee19),\n",
       " Tree node 'NoName' (0x10f7eebd),\n",
       " Tree node '1928988' (0x10f7ee09),\n",
       " Tree node ''p__Crenarchaeota'' (0x10f7f031),\n",
       " Tree node '4455990' (0x10f7eedd),\n",
       " Tree node '1128285' (0x10f7eee1),\n",
       " Tree node 'NoName' (0x10f7ee25),\n",
       " Tree node 'NoName' (0x10f7f029),\n",
       " Tree node '823009' (0x10f7eec5),\n",
       " Tree node 'NoName' (0x10f7f025),\n",
       " Tree node '3770699' (0x10f7ee0d),\n",
       " Tree node '426860' (0x10f7eeb9),\n",
       " Tree node ''c__' (0x10f7eed1),\n",
       " Tree node ''k__Archaea'' (0x10f7f079),\n",
       " Tree node '3761685' (0x10f7eecd),\n",
       " Tree node '4423155' (0x10f7ec7d),\n",
       " Tree node 'NoName' (0x10f1d5ad),\n",
       " Tree node '4391683' (0x10f7ec9d),\n",
       " Tree node '4336814' (0x10f7ec05),\n",
       " Tree node '3190878' (0x10f7e8bd),\n",
       " Tree node '4452949' (0x10f7e899),\n",
       " Tree node 'NoName' (0x10f7ec71),\n",
       " Tree node '4251079' (0x10f7e875),\n",
       " Tree node 'NoName' (0x10f7ec79),\n",
       " Tree node '2107103' (0x10f7e8cd),\n",
       " Tree node '4363563' (0x10f7e889),\n",
       " Tree node 'NoName' (0x10f7e891),\n",
       " Tree node 'NoName' (0x10f7ec19),\n",
       " Tree node 'NoName' (0x10f7ec99),\n",
       " Tree node 'NoName' (0x10f7ec91),\n",
       " Tree node '229854' (0x10f7e8a1),\n",
       " Tree node 'NoName' (0x10f7ec5d),\n",
       " Tree node '4459468' (0x10f7e861),\n",
       " Tree node 'NoName' (0x10f7ec8d),\n",
       " Tree node '696036' (0x10f7e8b1),\n",
       " Tree node 'NoName' (0x10f1d53d),\n",
       " Tree node '3779572' (0x10f7e8c5),\n",
       " Tree node '4363260' (0x10f7e85d),\n",
       " Tree node '0.081' (0x10f7e885),\n",
       " Tree node 'NoName' (0x10f7eeb5),\n",
       " Tree node 'NoName' (0x10f7eed5),\n",
       " Tree node 'NoName' (0x10f1e059)]"
      ]
     },
     "execution_count": 6,
     "metadata": {},
     "output_type": "execute_result"
    }
   ],
   "source": [
    "t = ete2.Tree(nw, format=1)\n",
    "list(t.traverse(\"postorder\"))"
   ]
  },
  {
   "cell_type": "code",
   "execution_count": 7,
   "metadata": {
    "collapsed": false
   },
   "outputs": [
    {
     "name": "stdout",
     "output_type": "stream",
     "text": [
      "[0.01293, 0.01587, 0.01855, 0.0212, 0.02384, 0.02393, 0.04405, 0.05703, 0.06044, 0.07543, 0.07831, 0.08253, 0.08994, 0.09868, 0.11356, 0.12795, 0.14403, 0.14461, 0.1464, 0.15861, 0.16704, 0.16748, 0.18326, 0.19473, 0.20722, 0.24026, 0.26125, 0.27799, 0.28962, 0.30451, 0.31772, 0.35428, 0.36049, 0.36897, 0.37727, 0.3881, 0.46236, 0.54203, 0.5605, 0.60035, 0.63811, 1.0, 1.0]\n",
      "43 0.01293 0.16748 1.0\n"
     ]
    },
    {
     "data": {
      "image/png": "[encoded data removed]",
      "text/plain": [
       "<matplotlib.figure.Figure at 0x10f1e05d0>"
      ]
     },
     "metadata": {},
     "output_type": "display_data"
    }
   ],
   "source": [
    "lengths = [n.dist for n in t.traverse(\"postorder\")]\n",
    "lengths.sort()\n",
    "print lengths\n",
    "print len(lengths), np.min(lengths), np.median(lengths), np.max(lengths)\n",
    "_ = plt.hist(lengths)"
   ]
  },
  {
   "cell_type": "markdown",
   "metadata": {},
   "source": [
    "But note that there are still two 1.0 branch lengths that are not in the input tree. There is a weird node name (``0.081:0.30451``) but ete2 does seem to be getting those right. Again, the ``1.0`` branch lengths can give very misleading results."
   ]
  }
 ],
 "metadata": {
  "kernelspec": {
   "display_name": "Python 2",
   "language": "python",
   "name": "python2"
  },
  "language_info": {
   "codemirror_mode": {
    "name": "ipython",
    "version": 2
   },
   "file_extension": ".py",
   "mimetype": "text/x-python",
   "name": "python",
   "nbconvert_exporter": "python",
   "pygments_lexer": "ipython2",
   "version": "2.7.5"
  }
 },
 "nbformat": 4,
 "nbformat_minor": 0
}
