{
 "cells": [
  {
   "cell_type": "code",
   "execution_count": 1,
   "metadata": {
    "collapsed": false
   },
   "outputs": [
    {
     "name": "stdout",
     "output_type": "stream",
     "text": [
      "No module named MySQLdb\n",
      "No module named PyQt4.QtGui\n",
      "Populating the interactive namespace from numpy and matplotlib\n"
     ]
    },
    {
     "name": "stderr",
     "output_type": "stream",
     "text": [
      " MySQLdb module could not be loaded\n",
      "Treeview module could not be loaded\n"
     ]
    }
   ],
   "source": [
    "import ete2\n",
    "import skbio\n",
    "import numpy as np\n",
    "import matplotlib.pyplot as plt\n",
    "\n",
    "%pylab inline"
   ]
  },
  {
   "cell_type": "markdown",
   "metadata": {},
   "source": [
    "## Load a tree"
   ]
  },
  {
   "cell_type": "code",
   "execution_count": 2,
   "metadata": {
    "collapsed": false
   },
   "outputs": [],
   "source": [
    "# it'd be nice if this expandvars call happened interally\n",
    "from os.path import expandvars\n",
    "et = ete2.Tree(expandvars('$HOME/data/gg_13_8_otus/trees/61_otus.tree'))\n",
    "st = skbio.TreeNode.read(expandvars('$HOME/data/gg_13_8_otus/trees/61_otus.tree'))"
   ]
  },
  {
   "cell_type": "markdown",
   "metadata": {},
   "source": [
    "## repr the tree"
   ]
  },
  {
   "cell_type": "code",
   "execution_count": 3,
   "metadata": {
    "collapsed": false
   },
   "outputs": [
    {
     "data": {
      "text/plain": [
       "Tree node 'NoName' (0x10a9e7b1)"
      ]
     },
     "execution_count": 3,
     "metadata": {},
     "output_type": "execute_result"
    }
   ],
   "source": [
    "et"
   ]
  },
  {
   "cell_type": "code",
   "execution_count": 4,
   "metadata": {
    "collapsed": false
   },
   "outputs": [
    {
     "data": {
      "text/plain": [
       "<TreeNode, name: unnamed, internal node count: 20, tips count: 22>"
      ]
     },
     "execution_count": 4,
     "metadata": {},
     "output_type": "execute_result"
    }
   ],
   "source": [
    "st"
   ]
  },
  {
   "cell_type": "code",
   "execution_count": 5,
   "metadata": {
    "collapsed": false
   },
   "outputs": [
    {
     "name": "stdout",
     "output_type": "stream",
     "text": [
      "\n",
      "                  /-801940\n",
      "               /-|\n",
      "            /-|   \\-3825327\n",
      "           |  |\n",
      "         /-|   \\-1928988\n",
      "        |  |\n",
      "        |  |   /-4455990\n",
      "      /-|   \\-|\n",
      "     |  |      \\-1128285\n",
      "     |  |\n",
      "   /-|   \\-823009\n",
      "  |  |\n",
      "  |  |   /-3770699\n",
      "  |   \\-|\n",
      "  |      \\-426860\n",
      "  |\n",
      "  |      /-3761685\n",
      "  |   /-|\n",
      "--|  |   \\-4423155\n",
      "  |  |\n",
      "  |  |               /-4391683\n",
      "  |  |              |\n",
      "  |  |            /-|   /-4336814\n",
      "  |  |           |  |  |\n",
      "  |  |           |  |  |         /-3190878\n",
      "  |  |           |   \\-|      /-|\n",
      "  |  |           |     |   /-|   \\-4452949\n",
      "   \\-|           |     |  |  |\n",
      "     |         /-|      \\-|   \\-4251079\n",
      "     |        |  |        |\n",
      "     |        |  |        |   /-2107103\n",
      "     |        |  |         \\-|\n",
      "     |      /-|  |            \\-4363563\n",
      "     |     |  |  |\n",
      "     |     |  |   \\-229854\n",
      "     |   /-|  |\n",
      "     |  |  |   \\-4459468\n",
      "     |  |  |\n",
      "      \\-|   \\-696036\n",
      "        |\n",
      "        |   /-3779572\n",
      "         \\-|\n",
      "            \\-4363260\n"
     ]
    }
   ],
   "source": [
    "print et"
   ]
  },
  {
   "cell_type": "code",
   "execution_count": 6,
   "metadata": {
    "collapsed": false
   },
   "outputs": [
    {
     "name": "stdout",
     "output_type": "stream",
     "text": [
      "Number of leaf nodes:\t22\n",
      "Number of internal nodes:\t43\n",
      "Rooted:\tYes\n",
      "Most distant node:\t3770699\n",
      "Max. distance:\t2.600350\n"
     ]
    }
   ],
   "source": [
    "et.describe()"
   ]
  },
  {
   "cell_type": "code",
   "execution_count": 7,
   "metadata": {
    "collapsed": false
   },
   "outputs": [
    {
     "name": "stdout",
     "output_type": "stream",
     "text": [
      "((((((801940:0.16748,3825327:0.36897):0.07831,1928988:0.27799)'p__Crenarchaeota':0.04405,(4455990:0.14403,1128285:0.14461):0.16704):0.01855,823009:0.3881):0.01587,(3770699:0.60035,426860:0.28962)'c__[Parvarchaea]':0.07841)'k__Archaea':0.31772,((3761685:0.18326,4423155:0.5605):0.07543,(((((4391683:0.26125,(4336814:0.35428,(((3190878:0.36049,4452949:0.08994):0.12795,4251079:0.19473):0.02384,(2107103:0.54203,4363563:0.46236):0.06044):0.20722):0.05703):0.08253,229854:0.24026):0.02393,4459468:0.37727):0.01293,696036:0.63811):0.0212,(3779572:0.1464,4363260:0.11356)0.081:0.30451):0.09868):0.15861);\n",
      "\n"
     ]
    }
   ],
   "source": [
    "print st"
   ]
  },
  {
   "cell_type": "markdown",
   "metadata": {},
   "source": [
    "## Traversing the tree and time it"
   ]
  },
  {
   "cell_type": "code",
   "execution_count": 8,
   "metadata": {
    "collapsed": false
   },
   "outputs": [
    {
     "name": "stdout",
     "output_type": "stream",
     "text": [
      "10 loops, best of 3: 105 ms per loop\n"
     ]
    }
   ],
   "source": [
    "%%timeit \n",
    "# load the tree on each loop to avoid caching of results\n",
    "ete2.Tree(expandvars('$HOME/data/gg_13_8_otus/trees/85_otus.tree')).traverse(\"postorder\")"
   ]
  },
  {
   "cell_type": "code",
   "execution_count": 9,
   "metadata": {
    "collapsed": false
   },
   "outputs": [
    {
     "name": "stdout",
     "output_type": "stream",
     "text": [
      "10 loops, best of 3: 108 ms per loop\n"
     ]
    }
   ],
   "source": [
    "%%timeit \n",
    "# load the tree on each loop to avoid caching of results\n",
    "skbio.TreeNode.read(expandvars('$HOME/data/gg_13_8_otus/trees/85_otus.tree')).postorder()"
   ]
  },
  {
   "cell_type": "markdown",
   "metadata": {},
   "source": [
    "## Implement and compute PD"
   ]
  },
  {
   "cell_type": "markdown",
   "metadata": {},
   "source": [
    "Phylogenetic Diversity (PD) is the amount of branch length in a phylogenetic tree that is observed in a given biological community. It is a phylogenetic estimator of community richness. I describe it in some more detail in [IAB](http://nbviewer.ipython.org/github/gregcaporaso/An-Introduction-To-Applied-Bioinformatics/blob/0.1.0/applications/biological-diversity.ipynb#Phylogenetic-Diversity-(PD))."
   ]
  },
  {
   "cell_type": "code",
   "execution_count": 10,
   "metadata": {
    "collapsed": true
   },
   "outputs": [],
   "source": [
    "from random import shuffle\n",
    "tip_names = [t.name for t in st.tips()]\n",
    "shuffle(tip_names)\n",
    "observed_tips = tip_names[:10]"
   ]
  },
  {
   "cell_type": "code",
   "execution_count": 11,
   "metadata": {
    "collapsed": false
   },
   "outputs": [
    {
     "name": "stdout",
     "output_type": "stream",
     "text": [
      "10000 loops, best of 3: 70.2 µs per loop\n"
     ]
    }
   ],
   "source": [
    "%timeit et.get_leaves_by_name('801940')[0]"
   ]
  },
  {
   "cell_type": "code",
   "execution_count": 12,
   "metadata": {
    "collapsed": false
   },
   "outputs": [
    {
     "name": "stdout",
     "output_type": "stream",
     "text": [
      "The slowest run took 47.37 times longer than the fastest. This could mean that an intermediate result is being cached \n",
      "100000 loops, best of 3: 2.68 µs per loop\n"
     ]
    }
   ],
   "source": [
    "%timeit st.find('801940')"
   ]
  },
  {
   "cell_type": "code",
   "execution_count": 13,
   "metadata": {
    "collapsed": false
   },
   "outputs": [
    {
     "name": "stdout",
     "output_type": "stream",
     "text": [
      "10000 loops, best of 3: 74.3 µs per loop\n"
     ]
    }
   ],
   "source": [
    "%timeit et.get_leaves_by_name('801940')[0].get_ancestors()"
   ]
  },
  {
   "cell_type": "code",
   "execution_count": 14,
   "metadata": {
    "collapsed": false
   },
   "outputs": [
    {
     "name": "stdout",
     "output_type": "stream",
     "text": [
      "The slowest run took 4.45 times longer than the fastest. This could mean that an intermediate result is being cached \n",
      "100000 loops, best of 3: 5.19 µs per loop\n"
     ]
    }
   ],
   "source": [
    "%timeit st.find('801940').ancestors()"
   ]
  },
  {
   "cell_type": "code",
   "execution_count": 15,
   "metadata": {
    "collapsed": false
   },
   "outputs": [
    {
     "name": "stdout",
     "output_type": "stream",
     "text": [
      "20\n",
      "5.45864\n"
     ]
    },
    {
     "data": {
      "image/png": "[encoded data removed]",
      "text/plain": [
       "<matplotlib.figure.Figure at 0x10aa4db10>"
      ]
     },
     "metadata": {},
     "output_type": "display_data"
    }
   ],
   "source": [
    "def et_pd(tree, observed_tips):\n",
    "    observed_nodes = set()\n",
    "    for tip_name in observed_tips:\n",
    "        observed_nodes |= set(tree.get_leaves_by_name(tip_name)[0].get_ancestors())\n",
    "    pd = sum([o.dist for o in observed_nodes])\n",
    "    ds = [(o.dist, o.name) for o in observed_nodes]\n",
    "    ds.sort()\n",
    "    print len(ds)\n",
    "    return ds, pd\n",
    "ds, pd = et_pd(et, observed_tips)\n",
    "print pd\n",
    "_ = plt.hist([e[0] for e in ds])"
   ]
  },
  {
   "cell_type": "code",
   "execution_count": 16,
   "metadata": {
    "collapsed": false
   },
   "outputs": [
    {
     "name": "stdout",
     "output_type": "stream",
     "text": [
      "19\n",
      "1.89882\n"
     ]
    },
    {
     "data": {
      "image/png": "[encoded data removed]",
      "text/plain": [
       "<matplotlib.figure.Figure at 0x10aa17990>"
      ]
     },
     "metadata": {},
     "output_type": "display_data"
    }
   ],
   "source": [
    "def sk_pd(tree, observed_tips):\n",
    "    observed_nodes = set()\n",
    "    for tip_name in observed_tips:\n",
    "        observed_nodes |= set(tree.find(tip_name).ancestors())\n",
    "    pd = sum([o.length for o in observed_nodes if o.length != None])\n",
    "    ds = [(o.length, o.name) for o in observed_nodes if o.length != None]\n",
    "    print len(ds)\n",
    "    return ds, pd\n",
    "ds, pd = sk_pd(st, observed_tips)\n",
    "print pd\n",
    "_ = plt.hist([e[0] for e in ds])"
   ]
  },
  {
   "cell_type": "markdown",
   "metadata": {},
   "source": [
    "## **Question**: where are all of the branch lengths of 1.0 coming from in the ete2 tree??"
   ]
  },
  {
   "cell_type": "code",
   "execution_count": 17,
   "metadata": {
    "collapsed": false
   },
   "outputs": [
    {
     "name": "stdout",
     "output_type": "stream",
     "text": [
      "((((((801940:0.16748,3825327:0.36897):0.07831,1928988:0.27799)'p__Crenarchaeota':0.04405,(4455990:0.14403,1128285:0.14461):0.16704):0.01855,823009:0.3881):0.01587,(3770699:0.60035,426860:0.28962)'c__[Parvarchaea]':0.07841)'k__Archaea':0.31772,((3761685:0.18326,4423155:0.5605):0.07543,(((((4391683:0.26125,(4336814:0.35428,(((3190878:0.36049,4452949:0.08994):0.12795,4251079:0.19473):0.02384,(2107103:0.54203,4363563:0.46236):0.06044):0.20722):0.05703):0.08253,229854:0.24026):0.02393,4459468:0.37727):0.01293,696036:0.63811):0.0212,(3779572:0.1464,4363260:0.11356)0.081:0.30451):0.09868):0.15861);\n"
     ]
    }
   ],
   "source": [
    "# let's just parse the floats from the newick tree now and see what we get...\n",
    "import re\n",
    "s = open(expandvars(\"$HOME/data/gg_13_8_otus/trees/61_otus.tree\")).read()\n",
    "print s"
   ]
  },
  {
   "cell_type": "code",
   "execution_count": 18,
   "metadata": {
    "collapsed": false
   },
   "outputs": [
    {
     "name": "stdout",
     "output_type": "stream",
     "text": [
      "[0.01293, 0.01587, 0.01855, 0.0212, 0.02384, 0.02393, 0.04405, 0.05703, 0.06044, 0.07543, 0.07831, 0.07841, 0.08253, 0.08994, 0.09868, 0.11356, 0.12795, 0.14403, 0.14461, 0.1464, 0.15861, 0.16704, 0.16748, 0.18326, 0.19473, 0.20722, 0.24026, 0.26125, 0.27799, 0.28962, 0.30451, 0.31772, 0.35428, 0.36049, 0.36897, 0.37727, 0.3881, 0.46236, 0.54203, 0.5605, 0.60035, 0.63811]\n",
      "42 0.01293 0.162825 0.63811\n"
     ]
    },
    {
     "data": {
      "image/png": "[encoded data removed]",
      "text/plain": [
       "<matplotlib.figure.Figure at 0x104f25c50>"
      ]
     },
     "metadata": {},
     "output_type": "display_data"
    }
   ],
   "source": [
    "lengths = map(float,[e[1:] for e in re.findall(':\\d\\.\\d+', s)])\n",
    "lengths.sort()\n",
    "print lengths\n",
    "print len(lengths), np.min(lengths), np.median(lengths), np.max(lengths)\n",
    "_ = plt.hist(lengths)"
   ]
  },
  {
   "cell_type": "code",
   "execution_count": 19,
   "metadata": {
    "collapsed": false
   },
   "outputs": [
    {
     "name": "stdout",
     "output_type": "stream",
     "text": [
      "[0.01293, 0.01587, 0.01855, 0.0212, 0.02384, 0.02393, 0.04405, 0.05703, 0.06044, 0.07543, 0.07831, 0.07841, 0.08253, 0.08994, 0.09868, 0.11356, 0.12795, 0.14403, 0.14461, 0.1464, 0.15861, 0.16704, 0.16748, 0.18326, 0.19473, 0.20722, 0.24026, 0.26125, 0.27799, 0.28962, 0.30451, 0.31772, 0.35428, 0.36049, 0.36897, 0.37727, 0.3881, 0.46236, 0.54203, 0.5605, 0.60035, 0.63811]\n",
      "42 0.01293 0.162825 0.63811\n"
     ]
    },
    {
     "data": {
      "image/png": "[encoded data removed]",
      "text/plain": [
       "<matplotlib.figure.Figure at 0x10a9e7b90>"
      ]
     },
     "metadata": {},
     "output_type": "display_data"
    }
   ],
   "source": [
    "# and compare that with the skbio lengths\n",
    "lengths = [n.length for n in st.postorder() if n.length is not None]\n",
    "lengths.sort()\n",
    "print lengths\n",
    "print len(lengths), np.min(lengths), np.median(lengths), np.max(lengths)\n",
    "_ = plt.hist(lengths)"
   ]
  },
  {
   "cell_type": "code",
   "execution_count": 20,
   "metadata": {
    "collapsed": false
   },
   "outputs": [
    {
     "name": "stdout",
     "output_type": "stream",
     "text": [
      "[0.01293, 0.01587, 0.01855, 0.0212, 0.02384, 0.02393, 0.05703, 0.06044, 0.07543, 0.07831, 0.08253, 0.08994, 0.09868, 0.11356, 0.12795, 0.14403, 0.14461, 0.1464, 0.15861, 0.16704, 0.16748, 0.18326, 0.19473, 0.20722, 0.24026, 0.26125, 0.27799, 0.28962, 0.30451, 0.35428, 0.36049, 0.36897, 0.37727, 0.3881, 0.46236, 0.54203, 0.5605, 0.60035, 0.63811, 1.0, 1.0, 1.0, 1.0]\n",
      "43 0.01293 0.18326 1.0\n"
     ]
    },
    {
     "data": {
      "image/png": "[encoded data removed]",
      "text/plain": [
       "<matplotlib.figure.Figure at 0x10c9b9990>"
      ]
     },
     "metadata": {},
     "output_type": "display_data"
    }
   ],
   "source": [
    "# and the ete2 lengths\n",
    "lengths = [n.dist for n in et.traverse(\"postorder\")]\n",
    "lengths.sort()\n",
    "print lengths\n",
    "print len(lengths), np.min(lengths), np.median(lengths), np.max(lengths)\n",
    "_ = plt.hist(lengths)"
   ]
  },
  {
   "cell_type": "markdown",
   "metadata": {},
   "source": [
    "This is bad... it looks like ete2 is not recognizing the node names, but silently converting them to ``1.0``. This should raise an exception as it can give very misleading results (as is the case here).\n",
    "\n",
    "Loading with ``format=1`` gets us closer, but there is one label that is still being converted to ``1.0``. This is still very bad, but there also may be an issue with that node in the tree... Is the name of the node really supposed to be ``0.081``?"
   ]
  },
  {
   "cell_type": "code",
   "execution_count": 21,
   "metadata": {
    "collapsed": false
   },
   "outputs": [],
   "source": [
    "et1 = ete2.Tree(expandvars('$HOME/data/gg_13_8_otus/trees/61_otus.tree'), format=1)"
   ]
  },
  {
   "cell_type": "code",
   "execution_count": 22,
   "metadata": {
    "collapsed": false
   },
   "outputs": [
    {
     "name": "stdout",
     "output_type": "stream",
     "text": [
      "20\n",
      "3.82041\n"
     ]
    },
    {
     "data": {
      "image/png": "[encoded data removed]",
      "text/plain": [
       "<matplotlib.figure.Figure at 0x104f25150>"
      ]
     },
     "metadata": {},
     "output_type": "display_data"
    }
   ],
   "source": [
    "ds, pd = et_pd(et1, observed_tips)\n",
    "print pd\n",
    "_ = plt.hist([e[0] for e in ds])"
   ]
  }
 ],
 "metadata": {
  "kernelspec": {
   "display_name": "Python 2",
   "language": "python",
   "name": "python2"
  },
  "language_info": {
   "codemirror_mode": {
    "name": "ipython",
    "version": 2
   },
   "file_extension": ".py",
   "mimetype": "text/x-python",
   "name": "python",
   "nbconvert_exporter": "python",
   "pygments_lexer": "ipython2",
   "version": "2.7.5"
  }
 },
 "nbformat": 4,
 "nbformat_minor": 0
}
